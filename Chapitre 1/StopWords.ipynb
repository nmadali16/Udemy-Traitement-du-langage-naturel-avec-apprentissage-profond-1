{
 "cells": [
  {
   "cell_type": "markdown",
   "metadata": {
    "id": "S5v33WyRCR2S"
   },
   "source": [
    "# Stop Words\n",
    "Les \"stop words\" en traitement automatique du langage naturel (NLP) sont des mots très courants qui sont souvent filtrés ou ignorés lors de l'analyse textuelle car ils ne portent généralement pas beaucoup de sens propre. En français, les \"stop words\" incluent des mots comme \"le\", \"la\", \"de\", \"du\", \"et\", \"à\", \"un\", \"une\", \"des\", etc. Ces mots sont souvent supprimés des textes afin de réduire la dimensionnalité du jeu de données et de se concentrer sur les mots qui sont plus informatifs pour la tâche spécifique en cours."
   ]
  },
  {
   "cell_type": "code",
   "execution_count": 1,
   "metadata": {
    "id": "M1ehwqoXCR2T"
   },
   "outputs": [],
   "source": [
    "# Effectuer des importations standards :\n",
    "import spacy\n",
    "nlp = spacy.load('en_core_web_sm')"
   ]
  },
  {
   "cell_type": "code",
   "execution_count": null,
   "metadata": {
    "colab": {
     "base_uri": "https://localhost:8080/"
    },
    "id": "0PZAtJwgCVNo",
    "outputId": "d93ae062-eaf5-42aa-b87a-49983aee59ff"
   },
   "outputs": [],
   "source": [
    "import nltk\n",
    "nltk.download('stopwords')"
   ]
  },
  {
   "cell_type": "code",
   "execution_count": null,
   "metadata": {
    "colab": {
     "base_uri": "https://localhost:8080/",
     "height": 54
    },
    "id": "O3drpJkBCR2Z",
    "outputId": "164d75d1-7e89-4b18-f9b5-f607d7abc6aa"
   },
   "outputs": [],
   "source": [
    "# Imprimez l'ensemble des mots vides par défaut de spaCy (rappelez-vous que les ensembles ne sont pas ordonnés) :\n",
    "print(nlp.Defaults.stop_words)"
   ]
  },
  {
   "cell_type": "code",
   "execution_count": null,
   "metadata": {
    "colab": {
     "base_uri": "https://localhost:8080/"
    },
    "id": "85IEPdtYn2pu",
    "outputId": "cd397af0-58b1-447d-cf9b-02b6f0088829"
   },
   "outputs": [],
   "source": [
    "from nltk.corpus import stopwords \n",
    "stopwords.words('english') # tous les mots vides en anglais"
   ]
  },
  {
   "cell_type": "code",
   "execution_count": null,
   "metadata": {
    "colab": {
     "base_uri": "https://localhost:8080/",
     "height": 34
    },
    "id": "diWTTaRICR2g",
    "outputId": "ec779a00-2e5b-43e9-b526-721cfa755ad1"
   },
   "outputs": [],
   "source": [
    "len(nlp.Defaults.stop_words)"
   ]
  },
  {
   "cell_type": "markdown",
   "metadata": {
    "id": "tWu19KsbCR2k"
   },
   "source": [
    "### **Vérifiez si un mot est un mot vide ou non (utilisez la méthode \"vocab\")**"
   ]
  },
  {
   "cell_type": "code",
   "execution_count": null,
   "metadata": {
    "colab": {
     "base_uri": "https://localhost:8080/",
     "height": 34
    },
    "id": "Sxj_JjAdCR2k",
    "outputId": "2fbdde00-9d43-42d9-b438-83dbf1040055"
   },
   "outputs": [],
   "source": [
    "# Nous pouvons vérifier un mot qui est un mot vide ou non en utilisant la méthode du vocabulaire\n",
    "nlp.vocab['myself'].is_stop # vérifiez que \"moi-même\" est un mot vide ou non"
   ]
  },
  {
   "cell_type": "code",
   "execution_count": null,
   "metadata": {
    "colab": {
     "base_uri": "https://localhost:8080/",
     "height": 34
    },
    "id": "Ep_V7bnOCR2o",
    "outputId": "aee5a5df-1185-4533-cda7-44dccdcddb8f"
   },
   "outputs": [],
   "source": [
    "nlp.vocab['mystery'].is_stop"
   ]
  },
  {
   "cell_type": "markdown",
   "metadata": {
    "id": "Qm11dlyqkKoA"
   },
   "source": [
    "### **Faire un mot comme mot vide**"
   ]
  },
  {
   "cell_type": "code",
   "execution_count": null,
   "metadata": {
    "id": "U1vIs64dCR2t"
   },
   "outputs": [],
   "source": [
    "# étape 1 : Ajoutez le mot à l'ensemble des mots vides. Utilisez des minuscules !\n",
    "nlp.Defaults.stop_words.add('mystery')"
   ]
  },
  {
   "cell_type": "code",
   "execution_count": null,
   "metadata": {
    "id": "SQnVv6JEiqHC"
   },
   "outputs": [],
   "source": [
    "# étape 2 : Définir la balise stop_word sur le lexème\n",
    "nlp.vocab['mystery'].is_stop = True"
   ]
  },
  {
   "cell_type": "code",
   "execution_count": null,
   "metadata": {
    "colab": {
     "base_uri": "https://localhost:8080/",
     "height": 34
    },
    "id": "IO-WF_1mCR2x",
    "outputId": "5182d797-f8b1-47b4-c384-2d823b415699"
   },
   "outputs": [],
   "source": [
    "len(nlp.Defaults.stop_words)"
   ]
  },
  {
   "cell_type": "code",
   "execution_count": null,
   "metadata": {
    "colab": {
     "base_uri": "https://localhost:8080/",
     "height": 34
    },
    "id": "oMMCzOUACR21",
    "outputId": "8e8ae166-3a1f-46b9-b60c-d5a13f4deca4"
   },
   "outputs": [],
   "source": [
    "nlp.vocab['mystery'].is_stop"
   ]
  },
  {
   "cell_type": "markdown",
   "metadata": {
    "id": "p58rPB42CR24"
   },
   "source": [
    "### **Pour supprimer un mot vide**\n",
    "Alternativement, vous pouvez décider que `'beyond'` ne doit pas être considéré comme un mot vide."
   ]
  },
  {
   "cell_type": "code",
   "execution_count": null,
   "metadata": {
    "id": "0KEtYBNRCR25"
   },
   "outputs": [],
   "source": [
    "# étape 1 : Supprimez le mot de l'ensemble des mots vides\n",
    "nlp.Defaults.stop_words.remove('and')\n",
    "\n",
    "# étape 2 : Supprimez la balise stop_word du lexème\n",
    "nlp.vocab['and'].is_stop = False"
   ]
  },
  {
   "cell_type": "code",
   "execution_count": null,
   "metadata": {
    "colab": {
     "base_uri": "https://localhost:8080/",
     "height": 34
    },
    "id": "iQr5IK3CCR28",
    "outputId": "a4f3f68a-6268-4ed1-c262-f870b2bd369c"
   },
   "outputs": [],
   "source": [
    "len(nlp.Defaults.stop_words)"
   ]
  },
  {
   "cell_type": "code",
   "execution_count": null,
   "metadata": {
    "colab": {
     "base_uri": "https://localhost:8080/",
     "height": 34
    },
    "id": "ZLnWlnDQCR2_",
    "outputId": "019a669d-b077-4289-f567-5df00fbcb4d3"
   },
   "outputs": [],
   "source": [
    "nlp.vocab['and'].is_stop"
   ]
  },
  {
   "cell_type": "markdown",
   "metadata": {
    "id": "TkNNj4SwkKoE"
   },
   "source": [
    "### **Imprimer tous les mots vides d'une ligne**"
   ]
  },
  {
   "cell_type": "code",
   "execution_count": null,
   "metadata": {
    "colab": {
     "base_uri": "https://localhost:8080/",
     "height": 51
    },
    "id": "TCyp1UmXCxgJ",
    "outputId": "3ea34f16-1f46-4b5a-b25e-d9d720a9debc"
   },
   "outputs": [],
   "source": [
    "import string\n",
    "import re\n",
    "import nltk\n",
    "nltk.download('punkt')\n",
    "from nltk import word_tokenize,sent_tokenize\n",
    "from nltk.corpus import stopwords\n",
    "# charger des données\n"
   ]
  },
  {
   "cell_type": "code",
   "execution_count": null,
   "metadata": {},
   "outputs": [],
   "source": [
    "text = 'The Quick brown fox jump over the lazy dog!'"
   ]
  },
  {
   "cell_type": "code",
   "execution_count": null,
   "metadata": {
    "colab": {
     "base_uri": "https://localhost:8080/",
     "height": 34
    },
    "id": "pehkONOeDPd-",
    "outputId": "f65a8bd5-7adf-4f49-b4e5-a191f4378f16"
   },
   "outputs": [],
   "source": [
    "# divisé en mots\n",
    "tokens = word_tokenize(text)\n",
    "print(tokens)"
   ]
  },
  {
   "cell_type": "code",
   "execution_count": null,
   "metadata": {
    "colab": {
     "base_uri": "https://localhost:8080/",
     "height": 34
    },
    "id": "K0zTYJKID--l",
    "outputId": "2aadf62e-6504-43d6-f9db-a62d16c59c00"
   },
   "outputs": [],
   "source": [
    "# convertir en minuscule\n",
    "tokens = [w.lower() for w in tokens]\n",
    "print(tokens)"
   ]
  },
  {
   "cell_type": "code",
   "execution_count": null,
   "metadata": {
    "colab": {
     "base_uri": "https://localhost:8080/",
     "height": 34
    },
    "id": "PXAJpO5hEEcj",
    "outputId": "2f5afa33-d27f-4a47-8112-770cd7a2da8d"
   },
   "outputs": [],
   "source": [
    "# préparer l'expression régulière pour le filtrage des caractères\n",
    "re_punc = re.compile('[%s]' % re.escape(string.punctuation))\n",
    "print(re_punc)"
   ]
  },
  {
   "cell_type": "code",
   "execution_count": null,
   "metadata": {
    "colab": {
     "base_uri": "https://localhost:8080/",
     "height": 34
    },
    "id": "IRupmyA-EF7z",
    "outputId": "57187a4f-2fb1-4500-e194-227f377a05f3"
   },
   "outputs": [],
   "source": [
    "# supprimer la ponctuation de chaque mot\n",
    "stripped = [re_punc.sub('', w) for w in tokens]\n",
    "print(stripped)"
   ]
  },
  {
   "cell_type": "code",
   "execution_count": null,
   "metadata": {
    "colab": {
     "base_uri": "https://localhost:8080/",
     "height": 34
    },
    "id": "c0__AkhWEHPT",
    "outputId": "5d8bf427-19e9-47a0-c269-31d4ce85f49e"
   },
   "outputs": [],
   "source": [
    "# supprimer les jetons restants qui ne sont pas alphabétiques\n",
    "words = [word for word in stripped if word.isalpha()]\n",
    "print(words)"
   ]
  },
  {
   "cell_type": "code",
   "execution_count": null,
   "metadata": {
    "colab": {
     "base_uri": "https://localhost:8080/",
     "height": 34
    },
    "id": "6WYqyINsEIhD",
    "outputId": "1917537b-051f-43e8-bb76-6d741163eecf"
   },
   "outputs": [],
   "source": [
    "# filtrer les mots non-stop\n",
    "stop_words = set(stopwords.words('english'))\n",
    "words = [w for w in words if not w in stop_words]\n",
    "print(words)"
   ]
  },
  {
   "cell_type": "code",
   "execution_count": null,
   "metadata": {
    "colab": {
     "base_uri": "https://localhost:8080/",
     "height": 34
    },
    "id": "2DdtvLMggo4P",
    "outputId": "e32cca62-64b8-4b6a-8479-330e2b485d90"
   },
   "outputs": [],
   "source": [
    "# Vérifiez que les jetons restants sont des mots vides ou non\n",
    "nlp.vocab['dog'].is_stop"
   ]
  },
  {
   "cell_type": "code",
   "execution_count": null,
   "metadata": {
    "id": "khKxrWYhgp1P"
   },
   "outputs": [],
   "source": []
  }
 ],
 "metadata": {
  "colab": {
   "collapsed_sections": [],
   "include_colab_link": true,
   "name": "3_StopWords.ipynb",
   "provenance": []
  },
  "kernelspec": {
   "display_name": "Python 3 (ipykernel)",
   "language": "python",
   "name": "python3"
  },
  "language_info": {
   "codemirror_mode": {
    "name": "ipython",
    "version": 3
   },
   "file_extension": ".py",
   "mimetype": "text/x-python",
   "name": "python",
   "nbconvert_exporter": "python",
   "pygments_lexer": "ipython3",
   "version": "3.11.5"
  }
 },
 "nbformat": 4,
 "nbformat_minor": 4
}
