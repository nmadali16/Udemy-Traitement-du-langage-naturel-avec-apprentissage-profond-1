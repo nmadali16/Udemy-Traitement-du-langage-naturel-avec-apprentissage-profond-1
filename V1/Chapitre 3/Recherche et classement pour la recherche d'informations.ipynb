{
 "cells": [
  {
   "cell_type": "code",
   "execution_count": 1,
   "metadata": {
    "ExecuteTime": {
     "end_time": "2020-02-19T05:25:07.062403Z",
     "start_time": "2020-02-19T05:24:53.299058Z"
    },
    "colab": {
     "base_uri": "https://localhost:8080/"
    },
    "executionInfo": {
     "elapsed": 314,
     "status": "ok",
     "timestamp": 1697984795761,
     "user": {
      "displayName": "nabil bcom",
      "userId": "04169804032469069549"
     },
     "user_tz": -120
    },
    "id": "bsF-tP8a4JEw",
    "lines_to_next_cell": 2,
    "outputId": "b30f91e2-8568-49f0-cc55-ffeadae9c823"
   },
   "outputs": [
    {
     "name": "stderr",
     "output_type": "stream",
     "text": [
      "[nltk_data] Downloading package stopwords to\n",
      "[nltk_data]     C:\\Users\\nmadali\\AppData\\Roaming\\nltk_data...\n",
      "[nltk_data]   Package stopwords is already up-to-date!\n"
     ]
    }
   ],
   "source": [
    "\n",
    "import os\n",
    "import pandas as pd\n",
    "import numpy as np\n",
    "import re\n",
    "import math as m\n",
    "from collections import Counter\n",
    "from bs4 import BeautifulSoup\n",
    "import nltk\n",
    "nltk.download('stopwords')\n",
    "from nltk.stem import PorterStemmer\n",
    "from nltk.corpus import stopwords\n",
    "\n"
   ]
  },
  {
   "cell_type": "code",
   "execution_count": 2,
   "metadata": {
    "executionInfo": {
     "elapsed": 11,
     "status": "ok",
     "timestamp": 1697984795762,
     "user": {
      "displayName": "nabil bcom",
      "userId": "04169804032469069549"
     },
     "user_tz": -120
    },
    "id": "X371mXpt4SDg"
   },
   "outputs": [],
   "source": [
    "stop_list = stopwords.words('english')"
   ]
  },
  {
   "cell_type": "markdown",
   "metadata": {
    "id": "t51cAvvf4JEx"
   },
   "source": [
    "## Prétraitement des documents et du fichier de requêtes"
   ]
  },
  {
   "cell_type": "code",
   "execution_count": 3,
   "metadata": {
    "ExecuteTime": {
     "end_time": "2020-02-19T05:25:07.518038Z",
     "start_time": "2020-02-19T05:25:07.237798Z"
    },
    "executionInfo": {
     "elapsed": 11,
     "status": "ok",
     "timestamp": 1697984795762,
     "user": {
      "displayName": "nabil bcom",
      "userId": "04169804032469069549"
     },
     "user_tz": -120
    },
    "id": "kzadolqC4JEx"
   },
   "outputs": [],
   "source": [
    "def extractTokens(beautSoup, tag):\n",
    "    \"\"\"Extraire des jetons du texte entre un <tag> SGML spécifique. La fonction\n",
    "    appelle la fonction tokenize() pour générer des tokens à partir du texte.\n",
    "\n",
    "    Arguments :\n",
    "        beautSoup {bs4.BeautifulSoup} -- objet soupe bs formé à partir du texte d'un fichier\n",
    "        tag {chaîne} -- <tag> SGML cible\n",
    "\n",
    "    Retourne :\n",
    "        string -- chaîne de mots extraits du texte entre le <tag> SGML cible\n",
    "    \"\"\"\n",
    "\n",
    "    # extraire le texte d'un <tag> SGML particulier\n",
    "    textData = beautSoup.findAll(tag)\n",
    "\n",
    "    # conversion en chaîne de caractères\n",
    "    textData = ''.join(map(str, textData))\n",
    "    # supprimer le <tag> SGML du texte\n",
    "    textData = textData.replace(tag, '')\n",
    "\n",
    "\n",
    "\n",
    "    return textData"
   ]
  },
  {
   "cell_type": "code",
   "execution_count": 4,
   "metadata": {
    "ExecuteTime": {
     "end_time": "2020-02-19T05:25:07.235552Z",
     "start_time": "2020-02-19T05:25:07.080947Z"
    },
    "executionInfo": {
     "elapsed": 10,
     "status": "ok",
     "timestamp": 1697984795762,
     "user": {
      "displayName": "nabil bcom",
      "userId": "04169804032469069549"
     },
     "user_tz": -120
    },
    "id": "pOEnE_lJ4JEx"
   },
   "outputs": [],
   "source": [
    "# Initialisation de l'objet Porter Stemmer\n",
    "st = PorterStemmer()\n",
    "\n",
    "# Initialisation de l'expression rationnelle pour supprimer les mots d'une longueur d'un ou deux caractères\n",
    "shortword = re.compile(r'\\W*\\b\\w{1,2}\\b')\n",
    "\n",
    "def tokenize(data):\n",
    "    \"\"\"Prétraite la chaîne donnée en entrée. Convertit en minuscules,\n",
    "    supprime les ponctuations et les chiffres, sépare les espaces blancs,\n",
    "    supprime les mots vides, effectue un stemming et supprime les mots d'une longueur d'un ou deux caractères.\n",
    "    deux caractères.\n",
    "\n",
    "    Arguments :\n",
    "        data {string} -- chaine de caractères à transformer en jeton\n",
    "\n",
    "    Retourne :\n",
    "        string -- chaîne de tokens générée\n",
    "    \"\"\"\n",
    "\n",
    "    # conversion en minuscules\n",
    "    lines = data.lower()\n",
    "\n",
    "    # suppression des ponctuations à l'aide d'une expression régulière\n",
    "    lines = re.sub('[^A-Za-z]+', ' ', lines)\n",
    "\n",
    "    # séparation des espaces blancs pour générer des tokens\n",
    "    tokens = lines.split()\n",
    "\n",
    "    # supprimer les mots vides des tokens\n",
    "    clean_tokens = [word for word in tokens if word not in stop_list]\n",
    "\n",
    "    # stemming the tokens\n",
    "    stem_tokens = [st.stem(word) for word in clean_tokens]\n",
    "\n",
    "    # vérification des mots vides à nouveau\n",
    "    clean_stem_tokens = [word for word in stem_tokens if word not in stop_list]\n",
    "\n",
    "    # conversion d'une liste de tokens en chaîne de caractères\n",
    "    clean_stem_tokens = ' '.join(map(str,  clean_stem_tokens))\n",
    "\n",
    "    # supprimer les tokens d'une longueur d'un ou deux caractères\n",
    "    clean_stem_tokens = shortword.sub('', clean_stem_tokens)\n",
    "\n",
    "    return clean_stem_tokens"
   ]
  },
  {
   "cell_type": "markdown",
   "metadata": {
    "id": "996BAhR05ta7"
   },
   "source": [
    "* Prétraitement de tous les documents du répertoire"
   ]
  },
  {
   "cell_type": "code",
   "execution_count": 5,
   "metadata": {
    "executionInfo": {
     "elapsed": 10,
     "status": "ok",
     "timestamp": 1697984795762,
     "user": {
      "displayName": "nabil bcom",
      "userId": "04169804032469069549"
     },
     "user_tz": -120
    },
    "id": "oQn0eUR26I-h"
   },
   "outputs": [],
   "source": [
    "# Déclaration des variables pour le chemin d'accès au fichier\n",
    "in_path = '../data/Cranfield/cranfieldDocs'\n",
    "\n",
    "# Récupérer tous les noms de fichiers du dossier docs\n",
    "filenames = os.listdir(in_path)\n",
    "\n"
   ]
  },
  {
   "cell_type": "code",
   "execution_count": 6,
   "metadata": {
    "colab": {
     "base_uri": "https://localhost:8080/"
    },
    "executionInfo": {
     "elapsed": 10,
     "status": "ok",
     "timestamp": 1697984795762,
     "user": {
      "displayName": "nabil bcom",
      "userId": "04169804032469069549"
     },
     "user_tz": -120
    },
    "id": "BqnsgW6r7nf6",
    "outputId": "f0c124e7-a870-45bd-96e3-a4963d080ef9"
   },
   "outputs": [
    {
     "name": "stdout",
     "output_type": "stream",
     "text": [
      "['cranfield0001', 'cranfield0002', 'cranfield0003', 'cranfield0004', 'cranfield0005', 'cranfield0006', 'cranfield0007', 'cranfield0008', 'cranfield0009', 'cranfield0010', 'cranfield0011', 'cranfield0012', 'cranfield0013', 'cranfield0014', 'cranfield0015', 'cranfield0016', 'cranfield0017', 'cranfield0018', 'cranfield0019', 'cranfield0020', 'cranfield0021', 'cranfield0022', 'cranfield0023', 'cranfield0024', 'cranfield0025', 'cranfield0026', 'cranfield0027', 'cranfield0028', 'cranfield0029', 'cranfield0030', 'cranfield0031', 'cranfield0032', 'cranfield0033', 'cranfield0034', 'cranfield0035', 'cranfield0036', 'cranfield0037', 'cranfield0038', 'cranfield0039', 'cranfield0040', 'cranfield0041', 'cranfield0042', 'cranfield0043', 'cranfield0044', 'cranfield0045', 'cranfield0046', 'cranfield0047', 'cranfield0048', 'cranfield0049', 'cranfield0050', 'cranfield0051', 'cranfield0052', 'cranfield0053', 'cranfield0054', 'cranfield0055', 'cranfield0056', 'cranfield0057', 'cranfield0058', 'cranfield0059', 'cranfield0060', 'cranfield0061', 'cranfield0062', 'cranfield0063', 'cranfield0064', 'cranfield0065', 'cranfield0066', 'cranfield0067', 'cranfield0068', 'cranfield0069', 'cranfield0070', 'cranfield0071', 'cranfield0072', 'cranfield0073', 'cranfield0074', 'cranfield0075', 'cranfield0076', 'cranfield0077', 'cranfield0078', 'cranfield0079', 'cranfield0080', 'cranfield0081', 'cranfield0082', 'cranfield0083', 'cranfield0084', 'cranfield0085', 'cranfield0086', 'cranfield0087', 'cranfield0088', 'cranfield0089', 'cranfield0090', 'cranfield0091', 'cranfield0092', 'cranfield0093', 'cranfield0094', 'cranfield0095', 'cranfield0096', 'cranfield0097', 'cranfield0098', 'cranfield0099', 'cranfield0100', 'cranfield0101', 'cranfield0102', 'cranfield0103', 'cranfield0104', 'cranfield0105', 'cranfield0106', 'cranfield0107', 'cranfield0108', 'cranfield0109', 'cranfield0110', 'cranfield0111', 'cranfield0112', 'cranfield0113', 'cranfield0114', 'cranfield0115', 'cranfield0116', 'cranfield0117', 'cranfield0118', 'cranfield0119', 'cranfield0120', 'cranfield0121', 'cranfield0122', 'cranfield0123', 'cranfield0124', 'cranfield0125', 'cranfield0126', 'cranfield0127', 'cranfield0128', 'cranfield0129', 'cranfield0130', 'cranfield0131', 'cranfield0132', 'cranfield0133', 'cranfield0134', 'cranfield0135', 'cranfield0136', 'cranfield0137', 'cranfield0138', 'cranfield0139', 'cranfield0140', 'cranfield0141', 'cranfield0142', 'cranfield0143', 'cranfield0144', 'cranfield0145', 'cranfield0146', 'cranfield0147', 'cranfield0148', 'cranfield0149', 'cranfield0150', 'cranfield0151', 'cranfield0152', 'cranfield0153', 'cranfield0154', 'cranfield0155', 'cranfield0156', 'cranfield0157', 'cranfield0158', 'cranfield0159', 'cranfield0160', 'cranfield0161', 'cranfield0162', 'cranfield0163', 'cranfield0164', 'cranfield0165', 'cranfield0166', 'cranfield0167', 'cranfield0168', 'cranfield0169', 'cranfield0170', 'cranfield0171', 'cranfield0172', 'cranfield0173', 'cranfield0174', 'cranfield0175', 'cranfield0176', 'cranfield0177', 'cranfield0178', 'cranfield0179', 'cranfield0180', 'cranfield0181', 'cranfield0182', 'cranfield0183', 'cranfield0184', 'cranfield0185', 'cranfield0186', 'cranfield0187', 'cranfield0188', 'cranfield0189', 'cranfield0190', 'cranfield0191', 'cranfield0192', 'cranfield0193', 'cranfield0194', 'cranfield0195', 'cranfield0196', 'cranfield0197', 'cranfield0198', 'cranfield0199', 'cranfield0200', 'cranfield0201', 'cranfield0202', 'cranfield0203', 'cranfield0204', 'cranfield0205', 'cranfield0206', 'cranfield0207', 'cranfield0208', 'cranfield0209', 'cranfield0210', 'cranfield0211', 'cranfield0212', 'cranfield0213', 'cranfield0214', 'cranfield0215', 'cranfield0216', 'cranfield0217', 'cranfield0218', 'cranfield0219', 'cranfield0220', 'cranfield0221', 'cranfield0222', 'cranfield0223', 'cranfield0224', 'cranfield0225', 'cranfield0226', 'cranfield0227', 'cranfield0228', 'cranfield0229', 'cranfield0230', 'cranfield0231', 'cranfield0232', 'cranfield0233', 'cranfield0234', 'cranfield0235', 'cranfield0236', 'cranfield0237', 'cranfield0238', 'cranfield0239', 'cranfield0240', 'cranfield0241', 'cranfield0242', 'cranfield0243', 'cranfield0244', 'cranfield0245', 'cranfield0246', 'cranfield0247', 'cranfield0248', 'cranfield0249', 'cranfield0250', 'cranfield0251', 'cranfield0252', 'cranfield0253', 'cranfield0254', 'cranfield0255', 'cranfield0256', 'cranfield0257', 'cranfield0258', 'cranfield0259', 'cranfield0260', 'cranfield0261', 'cranfield0262', 'cranfield0263', 'cranfield0264', 'cranfield0265', 'cranfield0266', 'cranfield0267', 'cranfield0268', 'cranfield0269', 'cranfield0270', 'cranfield0271', 'cranfield0272', 'cranfield0273', 'cranfield0274', 'cranfield0275', 'cranfield0276', 'cranfield0277', 'cranfield0278', 'cranfield0279', 'cranfield0280', 'cranfield0281', 'cranfield0282', 'cranfield0283', 'cranfield0284', 'cranfield0285', 'cranfield0286', 'cranfield0287', 'cranfield0288', 'cranfield0289', 'cranfield0290', 'cranfield0291', 'cranfield0292', 'cranfield0293', 'cranfield0294', 'cranfield0295', 'cranfield0296', 'cranfield0297', 'cranfield0298', 'cranfield0299', 'cranfield0300', 'cranfield0301', 'cranfield0302', 'cranfield0303', 'cranfield0304', 'cranfield0305', 'cranfield0306', 'cranfield0307', 'cranfield0308', 'cranfield0309', 'cranfield0310', 'cranfield0311', 'cranfield0312', 'cranfield0313', 'cranfield0314', 'cranfield0315', 'cranfield0316', 'cranfield0317', 'cranfield0318', 'cranfield0319', 'cranfield0320', 'cranfield0321', 'cranfield0322', 'cranfield0323', 'cranfield0324', 'cranfield0325', 'cranfield0326', 'cranfield0327', 'cranfield0328', 'cranfield0329', 'cranfield0330', 'cranfield0331', 'cranfield0332', 'cranfield0333', 'cranfield0334', 'cranfield0335', 'cranfield0336', 'cranfield0337', 'cranfield0338', 'cranfield0339', 'cranfield0340', 'cranfield0341', 'cranfield0342', 'cranfield0343', 'cranfield0344', 'cranfield0345', 'cranfield0346', 'cranfield0347', 'cranfield0348', 'cranfield0349', 'cranfield0350', 'cranfield0351', 'cranfield0352', 'cranfield0353', 'cranfield0354', 'cranfield0355', 'cranfield0356', 'cranfield0357', 'cranfield0358', 'cranfield0359', 'cranfield0360', 'cranfield0361', 'cranfield0362', 'cranfield0363', 'cranfield0364', 'cranfield0365', 'cranfield0366', 'cranfield0367', 'cranfield0368', 'cranfield0369', 'cranfield0370', 'cranfield0371', 'cranfield0372', 'cranfield0373', 'cranfield0374', 'cranfield0375', 'cranfield0376', 'cranfield0377', 'cranfield0378', 'cranfield0379', 'cranfield0380', 'cranfield0381', 'cranfield0382', 'cranfield0383', 'cranfield0384', 'cranfield0385', 'cranfield0386', 'cranfield0387', 'cranfield0388', 'cranfield0389', 'cranfield0390', 'cranfield0391', 'cranfield0392', 'cranfield0393', 'cranfield0394', 'cranfield0395', 'cranfield0396', 'cranfield0397', 'cranfield0398', 'cranfield0399', 'cranfield0400', 'cranfield0401', 'cranfield0402', 'cranfield0403', 'cranfield0404', 'cranfield0405', 'cranfield0406', 'cranfield0407', 'cranfield0408', 'cranfield0409', 'cranfield0410', 'cranfield0411', 'cranfield0412', 'cranfield0413', 'cranfield0414', 'cranfield0415', 'cranfield0416', 'cranfield0417', 'cranfield0418', 'cranfield0419', 'cranfield0420', 'cranfield0421', 'cranfield0422', 'cranfield0423', 'cranfield0424', 'cranfield0425', 'cranfield0426', 'cranfield0427', 'cranfield0428', 'cranfield0429', 'cranfield0430', 'cranfield0431', 'cranfield0432', 'cranfield0433', 'cranfield0434', 'cranfield0435', 'cranfield0436', 'cranfield0437', 'cranfield0438', 'cranfield0439', 'cranfield0440', 'cranfield0441', 'cranfield0442', 'cranfield0443', 'cranfield0444', 'cranfield0445', 'cranfield0446', 'cranfield0447', 'cranfield0448', 'cranfield0449', 'cranfield0450', 'cranfield0451', 'cranfield0452', 'cranfield0453', 'cranfield0454', 'cranfield0455', 'cranfield0456', 'cranfield0457', 'cranfield0458', 'cranfield0459', 'cranfield0460', 'cranfield0461', 'cranfield0462', 'cranfield0463', 'cranfield0464', 'cranfield0465', 'cranfield0466', 'cranfield0467', 'cranfield0468', 'cranfield0469', 'cranfield0470', 'cranfield0471', 'cranfield0472', 'cranfield0473', 'cranfield0474', 'cranfield0475', 'cranfield0476', 'cranfield0477', 'cranfield0478', 'cranfield0479', 'cranfield0480', 'cranfield0481', 'cranfield0482', 'cranfield0483', 'cranfield0484', 'cranfield0485', 'cranfield0486', 'cranfield0487', 'cranfield0488', 'cranfield0489', 'cranfield0490', 'cranfield0491', 'cranfield0492', 'cranfield0493', 'cranfield0494', 'cranfield0495', 'cranfield0496', 'cranfield0497', 'cranfield0498', 'cranfield0499', 'cranfield0500', 'cranfield0501', 'cranfield0502', 'cranfield0503', 'cranfield0504', 'cranfield0505', 'cranfield0506', 'cranfield0507', 'cranfield0508', 'cranfield0509', 'cranfield0510', 'cranfield0511', 'cranfield0512', 'cranfield0513', 'cranfield0514', 'cranfield0515', 'cranfield0516', 'cranfield0517', 'cranfield0518', 'cranfield0519', 'cranfield0520', 'cranfield0521', 'cranfield0522', 'cranfield0523', 'cranfield0524', 'cranfield0525', 'cranfield0526', 'cranfield0527', 'cranfield0528', 'cranfield0529', 'cranfield0530', 'cranfield0531', 'cranfield0532', 'cranfield0533', 'cranfield0534', 'cranfield0535', 'cranfield0536', 'cranfield0537', 'cranfield0538', 'cranfield0539', 'cranfield0540', 'cranfield0541', 'cranfield0542', 'cranfield0543', 'cranfield0544', 'cranfield0545', 'cranfield0546', 'cranfield0547', 'cranfield0548', 'cranfield0549', 'cranfield0550', 'cranfield0551', 'cranfield0552', 'cranfield0553', 'cranfield0554', 'cranfield0555', 'cranfield0556', 'cranfield0557', 'cranfield0558', 'cranfield0559', 'cranfield0560', 'cranfield0561', 'cranfield0562', 'cranfield0563', 'cranfield0564', 'cranfield0565', 'cranfield0566', 'cranfield0567', 'cranfield0568', 'cranfield0569', 'cranfield0570', 'cranfield0571', 'cranfield0572', 'cranfield0573', 'cranfield0574', 'cranfield0575', 'cranfield0576', 'cranfield0577', 'cranfield0578', 'cranfield0579', 'cranfield0580', 'cranfield0581', 'cranfield0582', 'cranfield0583', 'cranfield0584', 'cranfield0585', 'cranfield0586', 'cranfield0587', 'cranfield0588', 'cranfield0589', 'cranfield0590', 'cranfield0591', 'cranfield0592', 'cranfield0593', 'cranfield0594', 'cranfield0595', 'cranfield0596', 'cranfield0597', 'cranfield0598', 'cranfield0599', 'cranfield0600', 'cranfield0601', 'cranfield0602', 'cranfield0603', 'cranfield0604', 'cranfield0605', 'cranfield0606', 'cranfield0607', 'cranfield0608', 'cranfield0609', 'cranfield0610', 'cranfield0611', 'cranfield0612', 'cranfield0613', 'cranfield0614', 'cranfield0615', 'cranfield0616', 'cranfield0617', 'cranfield0618', 'cranfield0619', 'cranfield0620', 'cranfield0621', 'cranfield0622', 'cranfield0623', 'cranfield0624', 'cranfield0625', 'cranfield0626', 'cranfield0627', 'cranfield0628', 'cranfield0629', 'cranfield0630', 'cranfield0631', 'cranfield0632', 'cranfield0633', 'cranfield0634', 'cranfield0635', 'cranfield0636', 'cranfield0637', 'cranfield0638', 'cranfield0639', 'cranfield0640', 'cranfield0641', 'cranfield0642', 'cranfield0643', 'cranfield0644', 'cranfield0645', 'cranfield0646', 'cranfield0647', 'cranfield0648', 'cranfield0649', 'cranfield0650', 'cranfield0651', 'cranfield0652', 'cranfield0653', 'cranfield0654', 'cranfield0655', 'cranfield0656', 'cranfield0657', 'cranfield0658', 'cranfield0659', 'cranfield0660', 'cranfield0661', 'cranfield0662', 'cranfield0663', 'cranfield0664', 'cranfield0665', 'cranfield0666', 'cranfield0667', 'cranfield0668', 'cranfield0669', 'cranfield0670', 'cranfield0671', 'cranfield0672', 'cranfield0673', 'cranfield0674', 'cranfield0675', 'cranfield0676', 'cranfield0677', 'cranfield0678', 'cranfield0679', 'cranfield0680', 'cranfield0681', 'cranfield0682', 'cranfield0683', 'cranfield0684', 'cranfield0685', 'cranfield0686', 'cranfield0687', 'cranfield0688', 'cranfield0689', 'cranfield0690', 'cranfield0691', 'cranfield0692', 'cranfield0693', 'cranfield0694', 'cranfield0695', 'cranfield0696', 'cranfield0697', 'cranfield0698', 'cranfield0699', 'cranfield0700', 'cranfield0701', 'cranfield0702', 'cranfield0703', 'cranfield0704', 'cranfield0705', 'cranfield0706', 'cranfield0707', 'cranfield0708', 'cranfield0709', 'cranfield0710', 'cranfield0711', 'cranfield0712', 'cranfield0713', 'cranfield0714', 'cranfield0715', 'cranfield0716', 'cranfield0717', 'cranfield0718', 'cranfield0719', 'cranfield0720', 'cranfield0721', 'cranfield0722', 'cranfield0723', 'cranfield0724', 'cranfield0725', 'cranfield0726', 'cranfield0727', 'cranfield0728', 'cranfield0729', 'cranfield0730', 'cranfield0731', 'cranfield0732', 'cranfield0733', 'cranfield0734', 'cranfield0735', 'cranfield0736', 'cranfield0737', 'cranfield0738', 'cranfield0739', 'cranfield0740', 'cranfield0741', 'cranfield0742', 'cranfield0743', 'cranfield0744', 'cranfield0745', 'cranfield0746', 'cranfield0747', 'cranfield0748', 'cranfield0749', 'cranfield0750', 'cranfield0751', 'cranfield0752', 'cranfield0753', 'cranfield0754', 'cranfield0755', 'cranfield0756', 'cranfield0757', 'cranfield0758', 'cranfield0759', 'cranfield0760', 'cranfield0761', 'cranfield0762', 'cranfield0763', 'cranfield0764', 'cranfield0765', 'cranfield0766', 'cranfield0767', 'cranfield0768', 'cranfield0769', 'cranfield0770', 'cranfield0771', 'cranfield0772', 'cranfield0773', 'cranfield0774', 'cranfield0775', 'cranfield0776', 'cranfield0777', 'cranfield0778', 'cranfield0779', 'cranfield0780', 'cranfield0781', 'cranfield0782', 'cranfield0783', 'cranfield0784', 'cranfield0785', 'cranfield0786', 'cranfield0787', 'cranfield0788', 'cranfield0789', 'cranfield0790', 'cranfield0791', 'cranfield0792', 'cranfield0793', 'cranfield0794', 'cranfield0795', 'cranfield0796', 'cranfield0797', 'cranfield0798', 'cranfield0799', 'cranfield0800', 'cranfield0801', 'cranfield0802', 'cranfield0803', 'cranfield0804', 'cranfield0805', 'cranfield0806', 'cranfield0807', 'cranfield0808', 'cranfield0809', 'cranfield0810', 'cranfield0811', 'cranfield0812', 'cranfield0813', 'cranfield0814', 'cranfield0815', 'cranfield0816', 'cranfield0817', 'cranfield0818', 'cranfield0819', 'cranfield0820', 'cranfield0821', 'cranfield0822', 'cranfield0823', 'cranfield0824', 'cranfield0825', 'cranfield0826', 'cranfield0827', 'cranfield0828', 'cranfield0829', 'cranfield0830', 'cranfield0831', 'cranfield0832', 'cranfield0833', 'cranfield0834', 'cranfield0835', 'cranfield0836', 'cranfield0837', 'cranfield0838', 'cranfield0839', 'cranfield0840', 'cranfield0841', 'cranfield0842', 'cranfield0843', 'cranfield0844', 'cranfield0845', 'cranfield0846', 'cranfield0847', 'cranfield0848', 'cranfield0849', 'cranfield0850', 'cranfield0851', 'cranfield0852', 'cranfield0853', 'cranfield0854', 'cranfield0855', 'cranfield0856', 'cranfield0857', 'cranfield0858', 'cranfield0859', 'cranfield0860', 'cranfield0861', 'cranfield0862', 'cranfield0863', 'cranfield0864', 'cranfield0865', 'cranfield0866', 'cranfield0867', 'cranfield0868', 'cranfield0869', 'cranfield0870', 'cranfield0871', 'cranfield0872', 'cranfield0873', 'cranfield0874', 'cranfield0875', 'cranfield0876', 'cranfield0877', 'cranfield0878', 'cranfield0879', 'cranfield0880', 'cranfield0881', 'cranfield0882', 'cranfield0883', 'cranfield0884', 'cranfield0885', 'cranfield0886', 'cranfield0887', 'cranfield0888', 'cranfield0889', 'cranfield0890', 'cranfield0891', 'cranfield0892', 'cranfield0893', 'cranfield0894', 'cranfield0895', 'cranfield0896', 'cranfield0897', 'cranfield0898', 'cranfield0899', 'cranfield0900', 'cranfield0901', 'cranfield0902', 'cranfield0903', 'cranfield0904', 'cranfield0905', 'cranfield0906', 'cranfield0907', 'cranfield0908', 'cranfield0909', 'cranfield0910', 'cranfield0911', 'cranfield0912', 'cranfield0913', 'cranfield0914', 'cranfield0915', 'cranfield0916', 'cranfield0917', 'cranfield0918', 'cranfield0919', 'cranfield0920', 'cranfield0921', 'cranfield0922', 'cranfield0923', 'cranfield0924', 'cranfield0925', 'cranfield0926', 'cranfield0927', 'cranfield0928', 'cranfield0929', 'cranfield0930', 'cranfield0931', 'cranfield0932', 'cranfield0933', 'cranfield0934', 'cranfield0935', 'cranfield0936', 'cranfield0937', 'cranfield0938', 'cranfield0939', 'cranfield0940', 'cranfield0941', 'cranfield0942', 'cranfield0943', 'cranfield0944', 'cranfield0945', 'cranfield0946', 'cranfield0947', 'cranfield0948', 'cranfield0949', 'cranfield0950', 'cranfield0951', 'cranfield0952', 'cranfield0953', 'cranfield0954', 'cranfield0955', 'cranfield0956', 'cranfield0957', 'cranfield0958', 'cranfield0959', 'cranfield0960', 'cranfield0961', 'cranfield0962', 'cranfield0963', 'cranfield0964', 'cranfield0965', 'cranfield0966', 'cranfield0967', 'cranfield0968', 'cranfield0969', 'cranfield0970', 'cranfield0971', 'cranfield0972', 'cranfield0973', 'cranfield0974', 'cranfield0975', 'cranfield0976', 'cranfield0977', 'cranfield0978', 'cranfield0979', 'cranfield0980', 'cranfield0981', 'cranfield0982', 'cranfield0983', 'cranfield0984', 'cranfield0985', 'cranfield0986', 'cranfield0987', 'cranfield0988', 'cranfield0989', 'cranfield0990', 'cranfield0991', 'cranfield0992', 'cranfield0993', 'cranfield0994', 'cranfield0995', 'cranfield0996', 'cranfield0997', 'cranfield0998', 'cranfield0999', 'cranfield1000', 'cranfield1001', 'cranfield1002', 'cranfield1003', 'cranfield1004', 'cranfield1005', 'cranfield1006', 'cranfield1007', 'cranfield1008', 'cranfield1009', 'cranfield1010', 'cranfield1011', 'cranfield1012', 'cranfield1013', 'cranfield1014', 'cranfield1015', 'cranfield1016', 'cranfield1017', 'cranfield1018', 'cranfield1019', 'cranfield1020', 'cranfield1021', 'cranfield1022', 'cranfield1023', 'cranfield1024', 'cranfield1025', 'cranfield1026', 'cranfield1027', 'cranfield1028', 'cranfield1029', 'cranfield1030', 'cranfield1031', 'cranfield1032', 'cranfield1033', 'cranfield1034', 'cranfield1035', 'cranfield1036', 'cranfield1037', 'cranfield1038', 'cranfield1039', 'cranfield1040', 'cranfield1041', 'cranfield1042', 'cranfield1043', 'cranfield1044', 'cranfield1045', 'cranfield1046', 'cranfield1047', 'cranfield1048', 'cranfield1049', 'cranfield1050', 'cranfield1051', 'cranfield1052', 'cranfield1053', 'cranfield1054', 'cranfield1055', 'cranfield1056', 'cranfield1057', 'cranfield1058', 'cranfield1059', 'cranfield1060', 'cranfield1061', 'cranfield1062', 'cranfield1063', 'cranfield1064', 'cranfield1065', 'cranfield1066', 'cranfield1067', 'cranfield1068', 'cranfield1069', 'cranfield1070', 'cranfield1071', 'cranfield1072', 'cranfield1073', 'cranfield1074', 'cranfield1075', 'cranfield1076', 'cranfield1077', 'cranfield1078', 'cranfield1079', 'cranfield1080', 'cranfield1081', 'cranfield1082', 'cranfield1083', 'cranfield1084', 'cranfield1085', 'cranfield1086', 'cranfield1087', 'cranfield1088', 'cranfield1089', 'cranfield1090', 'cranfield1091', 'cranfield1092', 'cranfield1093', 'cranfield1094', 'cranfield1095', 'cranfield1096', 'cranfield1097', 'cranfield1098', 'cranfield1099', 'cranfield1100', 'cranfield1101', 'cranfield1102', 'cranfield1103', 'cranfield1104', 'cranfield1105', 'cranfield1106', 'cranfield1107', 'cranfield1108', 'cranfield1109', 'cranfield1110', 'cranfield1111', 'cranfield1112', 'cranfield1113', 'cranfield1114', 'cranfield1115', 'cranfield1116', 'cranfield1117', 'cranfield1118', 'cranfield1119', 'cranfield1120', 'cranfield1121', 'cranfield1122', 'cranfield1123', 'cranfield1124', 'cranfield1125', 'cranfield1126', 'cranfield1127', 'cranfield1128', 'cranfield1129', 'cranfield1130', 'cranfield1131', 'cranfield1132', 'cranfield1133', 'cranfield1134', 'cranfield1135', 'cranfield1136', 'cranfield1137', 'cranfield1138', 'cranfield1139', 'cranfield1140', 'cranfield1141', 'cranfield1142', 'cranfield1143', 'cranfield1144', 'cranfield1145', 'cranfield1146', 'cranfield1147', 'cranfield1148', 'cranfield1149', 'cranfield1150', 'cranfield1151', 'cranfield1152', 'cranfield1153', 'cranfield1154', 'cranfield1155', 'cranfield1156', 'cranfield1157', 'cranfield1158', 'cranfield1159', 'cranfield1160', 'cranfield1161', 'cranfield1162', 'cranfield1163', 'cranfield1164', 'cranfield1165', 'cranfield1166', 'cranfield1167', 'cranfield1168', 'cranfield1169', 'cranfield1170', 'cranfield1171', 'cranfield1172', 'cranfield1173', 'cranfield1174', 'cranfield1175', 'cranfield1176', 'cranfield1177', 'cranfield1178', 'cranfield1179', 'cranfield1180', 'cranfield1181', 'cranfield1182', 'cranfield1183', 'cranfield1184', 'cranfield1185', 'cranfield1186', 'cranfield1187', 'cranfield1188', 'cranfield1189', 'cranfield1190', 'cranfield1191', 'cranfield1192', 'cranfield1193', 'cranfield1194', 'cranfield1195', 'cranfield1196', 'cranfield1197', 'cranfield1198', 'cranfield1199', 'cranfield1200', 'cranfield1201', 'cranfield1202', 'cranfield1203', 'cranfield1204', 'cranfield1205', 'cranfield1206', 'cranfield1207', 'cranfield1208', 'cranfield1209', 'cranfield1210', 'cranfield1211', 'cranfield1212', 'cranfield1213', 'cranfield1214', 'cranfield1215', 'cranfield1216', 'cranfield1217', 'cranfield1218', 'cranfield1219', 'cranfield1220', 'cranfield1221', 'cranfield1222', 'cranfield1223', 'cranfield1224', 'cranfield1225', 'cranfield1226', 'cranfield1227', 'cranfield1228', 'cranfield1229', 'cranfield1230', 'cranfield1231', 'cranfield1232', 'cranfield1233', 'cranfield1234', 'cranfield1235', 'cranfield1236', 'cranfield1237', 'cranfield1238', 'cranfield1239', 'cranfield1240', 'cranfield1241', 'cranfield1242', 'cranfield1243', 'cranfield1244', 'cranfield1245', 'cranfield1246', 'cranfield1247', 'cranfield1248', 'cranfield1249', 'cranfield1250', 'cranfield1251', 'cranfield1252', 'cranfield1253', 'cranfield1254', 'cranfield1255', 'cranfield1256', 'cranfield1257', 'cranfield1258', 'cranfield1259', 'cranfield1260', 'cranfield1261', 'cranfield1262', 'cranfield1263', 'cranfield1264', 'cranfield1265', 'cranfield1266', 'cranfield1267', 'cranfield1268', 'cranfield1269', 'cranfield1270', 'cranfield1271', 'cranfield1272', 'cranfield1273', 'cranfield1274', 'cranfield1275', 'cranfield1276', 'cranfield1277', 'cranfield1278', 'cranfield1279', 'cranfield1280', 'cranfield1281', 'cranfield1282', 'cranfield1283', 'cranfield1284', 'cranfield1285', 'cranfield1286', 'cranfield1287', 'cranfield1288', 'cranfield1289', 'cranfield1290', 'cranfield1291', 'cranfield1292', 'cranfield1293', 'cranfield1294', 'cranfield1295', 'cranfield1296', 'cranfield1297', 'cranfield1298', 'cranfield1299', 'cranfield1300', 'cranfield1301', 'cranfield1302', 'cranfield1303', 'cranfield1304', 'cranfield1305', 'cranfield1306', 'cranfield1307', 'cranfield1308', 'cranfield1309', 'cranfield1310', 'cranfield1311', 'cranfield1312', 'cranfield1313', 'cranfield1314', 'cranfield1315', 'cranfield1316', 'cranfield1317', 'cranfield1318', 'cranfield1319', 'cranfield1320', 'cranfield1321', 'cranfield1322', 'cranfield1323', 'cranfield1324', 'cranfield1325', 'cranfield1326', 'cranfield1327', 'cranfield1328', 'cranfield1329', 'cranfield1330', 'cranfield1331', 'cranfield1332', 'cranfield1333', 'cranfield1334', 'cranfield1335', 'cranfield1336', 'cranfield1337', 'cranfield1338', 'cranfield1339', 'cranfield1340', 'cranfield1341', 'cranfield1342', 'cranfield1343', 'cranfield1344', 'cranfield1345', 'cranfield1346', 'cranfield1347', 'cranfield1348', 'cranfield1349', 'cranfield1350', 'cranfield1351', 'cranfield1352', 'cranfield1353', 'cranfield1354', 'cranfield1355', 'cranfield1356', 'cranfield1357', 'cranfield1358', 'cranfield1359', 'cranfield1360', 'cranfield1361', 'cranfield1362', 'cranfield1363', 'cranfield1364', 'cranfield1365', 'cranfield1366', 'cranfield1367', 'cranfield1368', 'cranfield1369', 'cranfield1370', 'cranfield1371', 'cranfield1372', 'cranfield1373', 'cranfield1374', 'cranfield1375', 'cranfield1376', 'cranfield1377', 'cranfield1378', 'cranfield1379', 'cranfield1380', 'cranfield1381', 'cranfield1382', 'cranfield1383', 'cranfield1384', 'cranfield1385', 'cranfield1386', 'cranfield1387', 'cranfield1388', 'cranfield1389', 'cranfield1390', 'cranfield1391', 'cranfield1392', 'cranfield1393', 'cranfield1394', 'cranfield1395', 'cranfield1396', 'cranfield1397', 'cranfield1398', 'cranfield1399', 'cranfield1400']\n"
     ]
    }
   ],
   "source": [
    "print(filenames)"
   ]
  },
  {
   "cell_type": "code",
   "execution_count": 7,
   "metadata": {
    "executionInfo": {
     "elapsed": 3,
     "status": "ok",
     "timestamp": 1697984795762,
     "user": {
      "displayName": "nabil bcom",
      "userId": "04169804032469069549"
     },
     "user_tz": -120
    },
    "id": "fIePf6NE6JHX"
   },
   "outputs": [],
   "source": [
    "out_path = '../data/Cranfield/preprocessed_cranfieldDocs'\n",
    "# Vérifier si le dossier docs pré-traité existe déjà\n",
    "if not os.path.isdir(out_path):\n",
    "    os.mkdir(out_path)"
   ]
  },
  {
   "cell_type": "code",
   "execution_count": 8,
   "metadata": {
    "ExecuteTime": {
     "end_time": "2020-02-19T05:25:52.294915Z",
     "start_time": "2020-02-19T05:25:07.520120Z"
    },
    "executionInfo": {
     "elapsed": 3424,
     "status": "ok",
     "timestamp": 1697984799183,
     "user": {
      "displayName": "nabil bcom",
      "userId": "04169804032469069549"
     },
     "user_tz": -120
    },
    "id": "qXHRRq014JEx"
   },
   "outputs": [],
   "source": [
    "\n",
    "all_docs = []\n",
    "\n",
    "\n",
    "for fname in filenames:\n",
    "\n",
    "    # générer des noms de fichiers\n",
    "    infilepath = in_path + '/' + fname\n",
    "    outfilepath = out_path + '/' + fname\n",
    "\n",
    "    with open(infilepath) as infile:\n",
    "        with open(outfilepath, 'w') as outfile:\n",
    "\n",
    "            # lire tout le texte d'un fichier\n",
    "            fileData = infile.read()\n",
    "\n",
    "            # création d'un objet BeautifulSoup pour extraire le texte entre les balises SGML\n",
    "            soup = BeautifulSoup(fileData)\n",
    "\n",
    "            # extraire les tokens pour <title>\n",
    "            title = extractTokens(soup, 'title')\n",
    "            title = tokenize(title)\n",
    "\n",
    "            # extraire les tokens pour <text>\n",
    "            text = extractTokens(soup, 'text')\n",
    "            text = tokenize(text)\n",
    "\n",
    "            # écrire les tokens pour <title> dans un nouveau fichier\n",
    "            outfile.write(title)\n",
    "            outfile.write(\" \")\n",
    "\n",
    "            # écrire les tokens pour <texte> dans un nouveau fichier\n",
    "            outfile.write(text)\n",
    "        outfile.close()\n",
    "    infile.close()"
   ]
  },
  {
   "cell_type": "markdown",
   "metadata": {
    "id": "ZLX54jea5ys9"
   },
   "source": [
    "*  Prétraitement du fichier queries.txt"
   ]
  },
  {
   "cell_type": "code",
   "execution_count": 9,
   "metadata": {
    "executionInfo": {
     "elapsed": 37,
     "status": "ok",
     "timestamp": 1697984799183,
     "user": {
      "displayName": "nabil bcom",
      "userId": "04169804032469069549"
     },
     "user_tz": -120
    },
    "id": "ErSM2dYh723Q"
   },
   "outputs": [],
   "source": [
    "\n",
    "# Déclaration des variables pour les fichiers de requête\n",
    "query = '../data/Cranfield/queries.txt'\n",
    "preproc_query = '../data/Cranfield/preprocessed_queries.txt'\n",
    "\n",
    "\n",
    "q = open(query)"
   ]
  },
  {
   "cell_type": "code",
   "execution_count": 10,
   "metadata": {
    "ExecuteTime": {
     "end_time": "2020-02-19T05:27:50.918274Z",
     "start_time": "2020-02-19T05:27:50.890275Z"
    },
    "colab": {
     "base_uri": "https://localhost:8080/"
    },
    "executionInfo": {
     "elapsed": 36,
     "status": "ok",
     "timestamp": 1697984799183,
     "user": {
      "displayName": "nabil bcom",
      "userId": "04169804032469069549"
     },
     "user_tz": -120
    },
    "id": "oJukZlVO4JEy",
    "outputId": "9663a642-c22c-44bf-fb66-a570ef3c8633"
   },
   "outputs": [
    {
     "name": "stdout",
     "output_type": "stream",
     "text": [
      "what investigations have been made of the wave system created by a static pressure distribution over a liquid surface .\n",
      "\n",
      "has anyone investigated the effect of shock generated vorticity on heat transfer to a blunt body .\n",
      "\n",
      "what is the heat transfer to a blunt body in the absence of vorticity .\n",
      "\n",
      "what are the general effects on flow fields when the reynolds number is small .\n",
      "\n",
      "find a calculation procedure applicable to all incompressible laminar boundary layer flow problems having good accuracy and reasonable computation time .\n",
      "\n",
      "papers applicable to this problem (calculation procedures for laminar incompressible flow with arbitrary pressure gradient) .\n",
      "\n",
      "has anyone investigated the shear buckling of stiffened plates .\n",
      "\n",
      "papers on shear buckling of unstiffened rectangular plates under shear .\n",
      "\n",
      "in practice, how close to reality are the assumptions that the flow in a hypersonic shock tube using nitrogen is non-viscous and in thermodynamic equilibrium .\n",
      "\n",
      "what design factors can be used to control lift-drag ratios at mach numbers above 5 .\n"
     ]
    }
   ],
   "source": [
    "\n",
    "\n",
    "# ouverture d'un nouveau fichier pour y écrire les tokens prétraités\n",
    "new_q = open(preproc_query, 'w')\n",
    "\n",
    "# lire chaque ligne du fichier séparément\n",
    "text = q.readlines()\n",
    "for line in text:\n",
    "    print(line)\n",
    "    # si condition pour éviter le caractère de nouvelle ligne à la fin du fichier\n",
    "    if(line != text[-1]):\n",
    "        query_tokens = tokenize(line)\n",
    "        new_q.write(query_tokens + '\\n')\n",
    "    else:\n",
    "        query_tokens = tokenize(line)\n",
    "        new_q.write(query_tokens)\n",
    "new_q.close()"
   ]
  },
  {
   "cell_type": "markdown",
   "metadata": {
    "id": "80wWa6No8JBT"
   },
   "source": [
    "## Calculation of df values for each vocabulary term"
   ]
  },
  {
   "cell_type": "markdown",
   "metadata": {
    "id": "-ON-jrma6lzp"
   },
   "source": [
    "* Générer une liste unique de tous les documents prétraités"
   ]
  },
  {
   "cell_type": "code",
   "execution_count": 11,
   "metadata": {
    "ExecuteTime": {
     "end_time": "2020-02-19T05:27:59.198392Z",
     "start_time": "2020-02-19T05:27:58.846856Z"
    },
    "executionInfo": {
     "elapsed": 34,
     "status": "ok",
     "timestamp": 1697984799183,
     "user": {
      "displayName": "nabil bcom",
      "userId": "04169804032469069549"
     },
     "user_tz": -120
    },
    "id": "-nhGG5jb4JEy"
   },
   "outputs": [],
   "source": [
    "\n",
    "all_docs = []\n",
    "\n",
    "for fname in filenames:\n",
    "    outfilepath = out_path + '/' + fname\n",
    "    with open(outfilepath) as file:\n",
    "        fileData = file.read()\n",
    "\n",
    "        # ajouter les données du fichier à la liste\n",
    "        all_docs.append(fileData)\n",
    "\n"
   ]
  },
  {
   "cell_type": "code",
   "execution_count": 12,
   "metadata": {
    "colab": {
     "base_uri": "https://localhost:8080/"
    },
    "executionInfo": {
     "elapsed": 33,
     "status": "ok",
     "timestamp": 1697984799183,
     "user": {
      "displayName": "nabil bcom",
      "userId": "04169804032469069549"
     },
     "user_tz": -120
    },
    "id": "Bvnk_5Fh63EV",
    "outputId": "28b024bc-5980-407b-9a22-46f94dfaacf1"
   },
   "outputs": [
    {
     "name": "stdout",
     "output_type": "stream",
     "text": [
      "experiment investig aerodynam wing slipstream experiment studi wing propel slipstream made order determin spanwis distribut lift increas due slipstream differ angl attack wing differ free stream slipstream veloc ratio result intend part evalu basi differ theoret treatment problem compar span load curv togeth support evid show substanti part lift increment produc slipstream due destal boundari layer control effect integr remain lift increment subtract destal lift found agre well potenti flow theori empir evalu destal effect made specif configur experi\n"
     ]
    }
   ],
   "source": [
    "print(all_docs[0])"
   ]
  },
  {
   "cell_type": "code",
   "execution_count": 13,
   "metadata": {
    "ExecuteTime": {
     "end_time": "2020-02-19T05:28:02.276274Z",
     "start_time": "2020-02-19T05:28:02.263274Z"
    },
    "colab": {
     "base_uri": "https://localhost:8080/"
    },
    "executionInfo": {
     "elapsed": 32,
     "status": "ok",
     "timestamp": 1697984799183,
     "user": {
      "displayName": "nabil bcom",
      "userId": "04169804032469069549"
     },
     "user_tz": -120
    },
    "id": "d4sCLmC_4JEy",
    "outputId": "e0ff2b91-d065-4c7e-8e8f-3834d1d3bb5e"
   },
   "outputs": [
    {
     "data": {
      "text/plain": [
       "1400"
      ]
     },
     "execution_count": 13,
     "metadata": {},
     "output_type": "execute_result"
    }
   ],
   "source": [
    "# Le nombre total de documents\n",
    "no_of_docs = len(all_docs)\n",
    "no_of_docs"
   ]
  },
  {
   "cell_type": "code",
   "execution_count": 14,
   "metadata": {
    "ExecuteTime": {
     "end_time": "2020-02-19T05:28:05.366336Z",
     "start_time": "2020-02-19T05:28:05.273279Z"
    },
    "executionInfo": {
     "elapsed": 31,
     "status": "ok",
     "timestamp": 1697984799184,
     "user": {
      "displayName": "nabil bcom",
      "userId": "04169804032469069549"
     },
     "user_tz": -120
    },
    "id": "eVsCj-uW4JEz"
   },
   "outputs": [],
   "source": [
    "# créer un dictionnaire de paires clé-valeur où les tokens sont les clés et leur occurrence dans le corpus la valeur\n",
    "DF = {}\n",
    "\n",
    "for i in range(no_of_docs):\n",
    "    tokens = all_docs[i].split()\n",
    "    for w in tokens:\n",
    "        try:\n",
    "            # l'ajout d'un jeton comme clé et d'un numéro de document comme valeur est enchaîné\n",
    "            DF[w].add(i)\n",
    "        except:\n",
    "            # à gérer lorsqu'un nouveau jeton est rencontré\n",
    "            DF[w] = {i}\n",
    "\n"
   ]
  },
  {
   "cell_type": "code",
   "execution_count": 15,
   "metadata": {
    "executionInfo": {
     "elapsed": 31,
     "status": "ok",
     "timestamp": 1697984799184,
     "user": {
      "displayName": "nabil bcom",
      "userId": "04169804032469069549"
     },
     "user_tz": -120
    },
    "id": "iLhtypD38X2x"
   },
   "outputs": [],
   "source": [
    "for i in DF:\n",
    "    # convertir en nombre d'occurrences du jeton à partir de la liste des documents où le jeton apparaît\n",
    "    DF[i] = len(DF[i])"
   ]
  },
  {
   "cell_type": "code",
   "execution_count": 16,
   "metadata": {
    "ExecuteTime": {
     "end_time": "2020-02-19T05:50:39.496812Z",
     "start_time": "2020-02-19T05:50:39.481809Z"
    },
    "colab": {
     "base_uri": "https://localhost:8080/"
    },
    "executionInfo": {
     "elapsed": 30,
     "status": "ok",
     "timestamp": 1697984799184,
     "user": {
      "displayName": "nabil bcom",
      "userId": "04169804032469069549"
     },
     "user_tz": -120
    },
    "id": "x4eu88WN4JEz",
    "outputId": "37ae6acb-6062-432c-e3a1-07e25700d572"
   },
   "outputs": [
    {
     "name": "stdout",
     "output_type": "stream",
     "text": [
      "{'experiment': 339, 'investig': 361, 'aerodynam': 178, 'wing': 226, 'slipstream': 15, 'studi': 240, 'propel': 35, 'made': 352, 'order': 193, 'determin': 299, 'spanwis': 27, 'distribut': 360, 'lift': 158, 'increas': 206, 'due': 143, 'differ': 192, 'angl': 210, 'attack': 114, 'free': 213, 'stream': 230, 'veloc': 314, 'ratio': 296, 'result': 692, 'intend': 12, 'part': 106, 'evalu': 70, 'basi': 68, 'theoret': 235, 'treatment': 41, 'problem': 323, 'compar': 247, 'span': 40, 'load': 200, 'curv': 123, 'togeth': 40, 'support': 70, 'evid': 34, 'show': 202, 'substanti': 41, 'increment': 17, 'produc': 78, 'destal': 2, 'boundari': 467, 'layer': 411, 'control': 61, 'effect': 541, 'integr': 147, 'remain': 50, 'subtract': 2, 'found': 322, 'agre': 59, 'well': 163, 'potenti': 58, 'flow': 729, 'theori': 455, 'empir': 32, 'specif': 63, 'configur': 81, 'experi': 152, 'simpl': 184, 'shear': 99, 'past': 84, 'flat': 187, 'plate': 227, 'incompress': 132, 'fluid': 160, 'small': 239, 'viscos': 63, 'high': 233, 'speed': 289, 'viscou': 122, 'two': 421, 'dimension': 224, 'bodi': 291, 'usual': 63, 'necessari': 59, 'consid': 249, 'shock': 239, 'wave': 210, 'emit': 6, 'nose': 111, 'lead': 172, 'edg': 187, 'consequ': 22, 'exist': 117, 'inviscid': 79, 'rotat': 52, 'region': 173, 'situat': 22, 'aris': 40, 'instanc': 11, 'hyperson': 170, 'somewhat': 23, 'prandtl': 63, 'classic': 41, 'origin': 48, 'outsid': 31, 'irrot': 6, 'must': 49, 'possibl': 154, 'vortic': 51, 'recent': 92, 'discuss': 271, 'ferri': 7, 'libbi': 1, 'present': 507, 'paper': 200, 'shown': 285, 'treat': 79, 'approxim': 377, 'novel': 4, 'featur': 49, 'constant': 181, 'restrict': 43, 'steadi': 104, 'equat': 401, 'pressur': 551, 'gradient': 111, 'solut': 407, 'laminar': 234, 'boundarylay': 27, 'thick': 185, 'skin': 91, 'friction': 85, 'obtain': 464, 'karman': 38, 'pohlhausen': 23, 'techniqu': 99, 'comparison': 140, 'uniform': 124, 'also': 308, 'one': 264, 'transient': 35, 'heat': 303, 'conduct': 158, 'doubl': 24, 'slab': 14, 'subject': 98, 'linear': 146, 'input': 10, 'time': 152, 'intern': 44, 'analyt': 106, 'composit': 23, 'expos': 11, 'surfac': 329, 'triangular': 19, 'rate': 145, 'type': 185, 'may': 232, 'occur': 124, 'exampl': 127, 'multilay': 2, 'contribut': 27, 'reader': 6, 'forum': 2, 'wassermann': 1, 'gave': 15, 'temperatur': 267, 'face': 26, 'insul': 24, 'thermal': 90, 'resist': 25, 'interfac': 9, 'three': 138, 'particular': 109, 'case': 365, 'propos': 46, 'give': 144, 'gener': 331, 'indic': 214, 'briefli': 39, 'use': 514, 'method': 455, 'refer': 58, 'point': 233, 'given': 386, 'incomplet': 2, 'longer': 8, 'durat': 9, 'rough': 28, 'transit': 93, 'superson': 270, 'perform': 81, 'wind': 126, 'tunnel': 179, 'jet': 96, 'propuls': 19, 'laboratori': 28, 'california': 6, 'institut': 8, 'technolog': 8, 'element': 28, 'sphere': 39, 'tain': 3, 'local': 124, 'mach': 387, 'number': 571, 'vari': 144, 'trip': 5, 'size': 41, 'posit': 83, 'space': 34, 'reynold': 199, 'per': 82, 'inch': 29, 'turbul': 143, 'induc': 72, 'begin': 14, 'row': 12, 'spiral': 4, 'trail': 44, 'contamin': 3, 'break': 9, 'surround': 12, 'field': 168, 'appear': 95, 'rather': 34, 'suddenli': 7, 'becom': 52, 'violent': 2, 'height': 34, 'rel': 85, 'breakdown': 5, 'strength': 64, 'still': 23, 'persist': 3, 'sublay': 10, 'ensu': 1, 'later': 46, 'littl': 26, 'upon': 74, 'initi': 109, 'kinemat': 10, 'outer': 42, 'fourth': 17, 'power': 91, 'viz': 3, 'measur': 252, 'dryden': 2, 'avail': 81, 'data': 217, 'wire': 20, 'could': 62, 'repres': 97, 'reason': 72, 'term': 158, 'function': 188, 'relat': 151, 'base': 230, 'distanc': 116, 'displac': 76, 'suggest': 73, 'addit': 96, 'primarili': 17, 'extend': 91, 'rang': 298, 'higher': 105, 'valu': 317, 'cours': 14, 'nation': 10, 'bureau': 4, 'standard': 21, 'twodimension': 17, 'desir': 27, 'see': 10, 'whether': 12, 'would': 64, 'behav': 10, 'way': 36, 'galcit': 5, 'nomin': 17, 'phosphoresc': 1, 'lacquer': 1, 'detect': 8, 'good': 136, 'agreement': 181, 'total': 87, 'head': 20, 'rake': 1, 'along': 137, 'pitot': 18, 'survey': 40, 'least': 30, 'transvers': 61, 'caus': 70, 'sidewal': 2, 'far': 40, 'downstream': 70, 'spread': 16, 'degre': 78, 'low': 151, 'disturb': 59, 'air': 184, 'inject': 41, 'mean': 149, 'hasten': 1, 'extens': 78, 'although': 62, 'onset': 12, 'fulli': 30, 'develop': 264, 'much': 66, 'regardless': 2, 'amount': 43, 'qualit': 37, 'emphasi': 13, 'greater': 68, 'stabil': 120, 'lower': 76, 'direct': 122, 'float': 4, 'verifi': 16, 'complet': 87, 'earlier': 22, 'coeffici': 224, 'impact': 18, 'tube': 69, 'analysi': 277, 'densiti': 86, 'extrem': 25, 'appreci': 39, 'correspond': 110, 'continuum': 11, 'similar': 148, 'compress': 198, 'mix': 53, 'mani': 41, 'practic': 100, 'interest': 65, 'wherein': 7, 'stagnat': 134, 'anoth': 24, 'major': 35, 'interact': 90, 'take': 64, 'place': 33, 'presenc': 68, 'axial': 145, 'characterist': 184, 'influenc': 101, 'significantli': 18, 'devic': 9, 'phenomena': 32, 'cite': 4, 'program': 23, 'research': 56, 'carri': 75, 'polytechn': 1, 'brooklyn': 1, 'structur': 107, 'aerelast': 1, 'consider': 159, 'flight': 135, 'domin': 9, 'factor': 80, 'design': 144, 'aircraft': 71, 'aeroelast': 18, 'matter': 3, 'concern': 65, 'larg': 210, 'interrel': 2, 'summari': 15, 'tool': 10, 'aeronaut': 16, 'engin': 36, 'meet': 6, 'demand': 3, 'state': 71, 'art': 3, 'respect': 92, 'transfer': 206, 'mode': 59, 'failur': 34, 'combin': 111, 'acrothermoelast': 1, 'allevi': 7, 'summar': 16, 'final': 61, 'avenu': 2, 'fundament': 31, 'law': 53, 'stress': 153, 'differenti': 105, 'proper': 8, 'modif': 35, 'isotherm': 12, 'fact': 31, 'calcul': 328, 'strain': 39, 'unheat': 5, 'seri': 85, 'call': 17, 'applic': 219, 'analog': 53, 'solid': 40, 'detail': 105, 'howev': 110, 'complic': 12, 'involv': 101, 'concept': 52, 'feedback': 2, 'forc': 168, 'box': 3, 'solv': 82, 'piston': 11, 'new': 78, 'aeroelastician': 1, 'describ': 154, 'illustr': 72, 'extent': 26, 'simplif': 17, 'unsteadi': 46, 'achiev': 35, 'certain': 118, 'known': 88, 'collect': 10, 'physic': 64, 'model': 177, 'hay': 5, 'lighthil': 14, 'airfoil': 66, 'finit': 83, 'systemat': 16, 'landahl': 4, 'util': 36, 'expans': 76, 'invers': 24, 'neglig': 36, 'predict': 193, 'relationship': 27, 'normal': 126, 'compon': 60, 'motion': 120, 'comput': 124, 'flutter': 56, 'alway': 20, 'reduc': 130, 'elementari': 10, 'assum': 158, 'essenti': 60, 'close': 94, 'form': 237, 'bendingtors': 1, 'properti': 110, 'typic': 38, 'section': 146, 'exact': 106, 'wherev': 1, 'fairli': 19, 'moreov': 9, 'demonstr': 41, 'increasingli': 6, 'import': 110, 'profil': 109, 'shape': 193, 'grow': 6, 'larger': 39, 'discoveri': 3, 'almost': 22, 'imposs': 5, 'complex': 25, 'analys': 34, 'panel': 45, 'iter': 25, 'procedur': 88, 'outlin': 22, 'improv': 44, 'eigenvalu': 6, 'success': 42, 'introduct': 21, 'review': 52, 'includ': 225, 'gust': 12, 'respons': 23, 'rapid': 33, 'maneuv': 8, 'elast': 82, 'slight': 15, 'ackeret': 4, 'formula': 102, 'regard': 34, 'futur': 15, 'area': 59, 'labor': 4, 'minimum': 43, 'loss': 23, 'precis': 5, 'zone': 13, 'nonlinear': 44, 'neglect': 45, 'logic': 4, 'estim': 106, 'analyz': 62, 'thermoelast': 5, 'buckl': 127, 'deviat': 26, 'static': 94, 'across': 45, 'rais': 5, 'critic': 75, 'galerkin': 8, 'unbuckl': 2, 'question': 21, 'sever': 131, 'author': 88, 'condit': 335, 'formul': 52, 'numer': 200, 'matrix': 10, 'thu': 77, 'avoid': 25, 'constraint': 11, 'bend': 68, 'rigid': 33, 'confirm': 16, 'limit': 136, 'amplitud': 22, 'transform': 62, 'equival': 45, 'first': 171, 'stewartson': 6, 'except': 63, 'explicit': 19, 'requir': 146, 'key': 3, 'fluctuat': 24, 'postul': 6, 'appar': 34, 'associ': 68, 'mass': 70, 'invari': 6, 'rise': 43, 'separ': 151, 'independ': 55, 'report': 103, 'self': 14, 'preserv': 3, 'remark': 13, 'eddi': 11, 'connect': 33, 'wake': 46, 'behind': 68, 'missil': 32, 'vehicl': 64, 'divis': 4, 'electr': 44, 'compani': 1, 'axisymmetr': 53, 'lack': 10, 'make': 50, 'ration': 7, 'appli': 205, 'infinitesim': 11, 'mager': 3, 'partial': 40, 'valid': 70, 'assumpt': 108, 'establish': 50, 'diffus': 40, 'radial': 36, 'compressor': 20, 'note': 118, 'impel': 8, 'wheel': 1, 'guid': 17, 'vane': 6, 'arrang': 12, 'circular': 137, 'radiu': 51, 'fig': 11, 'start': 26, 'circl': 7, 'vector': 12, 'prescrib': 25, 'zero': 137, 'infin': 17, 'fulfil': 4, 'conic': 67, 'work': 112, 'without': 76, 'symmetri': 26, 'yet': 16, 'deriv': 213, 'ellipt': 37, 'cone': 119, 'approach': 96, 'generalis': 9, 'newtonian': 45, 'lee': 11, 'amr': 5, 'rev': 6, 'blunt': 140, 'pointednos': 1, 'express': 134, 'sin': 2, 'inclin': 15, 'subscript': 3, 'max': 2, 'maximum': 115, 'revert': 2, 'superior': 6, 'correl': 85, 'figur': 14, 'variat': 141, 'paramet': 155, 'believ': 20, 'engag': 2, 'hardwar': 1, 'slip': 17, 'perturb': 24, 'dash': 13, 'impuls': 8, 'infinit': 86, 'energi': 98, 'account': 82, 'jump': 7, 'move': 59, 'rarefi': 9, 'path': 31, 'appropri': 44, 'maslen': 1, 'aero': 3, 'sci': 1, 'june': 3, 'behavior': 62, 'knudsen': 4, 'cylind': 176, 'exterior': 7, 'parallel': 66, 'axi': 50, 'blasiu': 16, 'curvatur': 48, 'plane': 96, 'magnitud': 73, 'signific': 77, 'recoveri': 26, 'quantiti': 37, 'insensit': 5, 'dissoci': 40, 'extern': 74, 'atom': 16, 'recombin': 11, 'exactli': 11, 'set': 67, 'ordinari': 39, 'even': 48, 'chemic': 39, 'reaction': 31, 'proceed': 5, 'slowli': 13, 'thermochem': 3, 'equilibrium': 81, 'nonequilibrium': 18, 'enter': 29, 'depend': 125, 'catalyt': 2, 'noncatalyt': 3, 'wall': 190, 'frozen': 12, 'slow': 10, 'fast': 8, 'introduc': 64, 'interpret': 35, 'scale': 51, 'conclud': 46, 'accur': 75, 'unaffect': 7, 'provid': 123, 'lewi': 6, 'near': 110, 'uniti': 35, 'slender': 96, 'drag': 138, 'afterbodi': 29, 'contain': 41, 'right': 8, 'nearli': 31, 'dimens': 24, 'exhibit': 19, 'directli': 34, 'intens': 28, 'blast': 15, 'taylor': 16, 'lin': 1, 'sakurai': 1, 'hammitt': 2, 'bogdonoff': 2, 'helium': 39, 'less': 81, 'satisfactori': 49, 'hemispher': 30, 'junction': 11, 'class': 28, 'revolut': 77, 'entir': 44, 'geometri': 50, 'find': 33, 'growth': 25, 'diamet': 79, 'replac': 27, 'forward': 46, 'portion': 56, 'bluntnos': 3, 'taken': 59, 'current': 32, 'led': 9, 'realiz': 9, 'purpos': 76, 'aid': 21, 'aerodynamieist': 1, 'frame': 8, 'faster': 5, 'examin': 62, 'view': 29, 'dynam': 77, 'basic': 41, 'name': 18, 'fall': 12, 'whose': 42, 'explos': 4, 'sedov': 1, 'probstein': 5, 'inquir': 2, 'einbind': 1, 'variou': 160, 'mention': 17, 'converg': 46, 'nonuniform': 18, 'difficult': 16, 'expect': 40, 'simul': 35, 'whole': 20, 'builtup': 1, 'varieti': 22, 'convect': 45, 'side': 33, 'restraint': 8, 'environ': 9, 'linearli': 21, 'period': 29, 'acceler': 28, 'inform': 44, 'second': 106, 'wide': 51, 'flang': 6, 'beam': 17, 'length': 101, 'photo': 4, 'multiweb': 3, 'photothermoelast': 4, 'long': 59, 'literatur': 12, 'dimensionless': 18, 'biot': 7, 'reveal': 13, 'observ': 97, 'center': 40, 'web': 6, 'sourc': 34, 'discrep': 16, 'trace': 11, 'employ': 70, 'multicellular': 1, 'criterion': 21, 'cover': 55, 'descend': 3, 'atmospher': 77, 'rapidli': 37, 'ballist': 22, 'trajectori': 15, 'oscillatori': 21, 'graviti': 12, 'allow': 39, 'written': 14, 'manner': 59, 'undamp': 1, 'oscil': 58, 'spring': 6, 'system': 84, 'equal': 56, 'variabl': 85, 'envelop': 6, 'damp': 43, 'prospect': 1, 'magneto': 4, 'magnet': 39, 'probabl': 23, 'pure': 31, 'seed': 1, 'hydrodynam': 17, 'magnetogasdynam': 2, 'poiscuil': 1, 'liquid': 21, 'quasi': 20, 'last': 5, 'attract': 3, 'deceler': 18, 'subson': 113, 'channel': 17, 'regim': 30, 'chart': 31, 'construct': 40, 'advantag': 25, 'accru': 1, 'suffici': 47, 'justifi': 11, 'among': 7, 'unsolv': 2, 'reduct': 55, 'electrod': 1, 'contact': 12, 'provis': 1, 'gasdynam': 9, 'continu': 56, 'plasma': 7, 'cross': 68, 'hand': 19, 'duct': 13, 'serv': 11, 'nontrivi': 1, 'sort': 3, 'resler': 2, 'sear': 3, 'sought': 3, 'possess': 5, 'algebra': 11, 'simplic': 12, 'sinc': 49, 'cool': 65, 'like': 19, 'gaseou': 7, 'follow': 77, 'paragraph': 2, 'devis': 10, 'yield': 74, 'symmetr': 83, 'slightli': 39, 'henc': 25, 'detach': 27, 'herein': 18, 'better': 23, 'conclus': 53, 'refin': 15, 'around': 55, 'familiar': 7, 'nonvisc': 9, 'perhap': 7, 'open': 18, 'seem': 21, 'therefor': 37, 'inevit': 3, 'proce': 5, 'need': 35, 'either': 71, 'happen': 2, 'unfamiliar': 1, 'extrapol': 12, 'test': 274, 'forebodi': 8, 'sonic': 55, 'line': 71, 'furthermor': 16, 'materi': 69, 'conjunct': 19, 'convent': 37, 'suppli': 10, 'semiempir': 12, 'scheme': 9, 'transon': 63, 'link': 4, 'mechan': 46, 'pattern': 51, 'domain': 7, 'reflect': 35, 'chang': 122, 'slope': 38, 'quantit': 22, 'uncamb': 3, 'superimpos': 2, 'smooth': 26, 'level': 43, 'cent': 41, 'singl': 59, 'fix': 41, 'locat': 80, 'optic': 10, 'magnifi': 2, 'schlieren': 23, 'definit': 16, 'delay': 9, 'promot': 5, 'advers': 23, 'decreas': 89, 'moder': 39, 'hot': 27, 'anemomet': 8, 'princip': 24, 'natur': 55, 'light': 27, 'overal': 22, 'fruit': 3, 'drawn': 15, 'gyroscop': 1, 'vibrat': 57, 'flexibl': 22, 'mount': 20, 'ask': 1, 'vibratori': 4, 'whirl': 3, 'thought': 6, 'horizont': 15, 'cantilev': 17, 'vertic': 43, 'moment': 95, 'pitch': 65, 'yaw': 37, 'stiff': 23, 'tical': 1, 'play': 12, 'role': 13, 'undergo': 6, 'tip': 25, 'disc': 7, 'divid': 21, 'four': 43, 'deal': 34, 'photograph': 21, 'end': 38, 'coupl': 21, 'airplan': 30, 'consist': 77, 'affect': 45, 'frequenc': 56, 'subsequ': 22, 'toambient': 1, 'argu': 3, 'explain': 23, 'revers': 23, 'phenomenon': 29, 'eter': 1, 'undisturb': 12, 'station': 24, 'submit': 2, 'opposit': 16, 'characteristi': 1, 'standpoint': 4, 'contempl': 1, 'mainli': 21, 'actual': 41, 'benefici': 4, 'receiv': 9, 'necessarili': 13, 'tangent': 17, 'let': 4, 'say': 11, 'quit': 30, 'blunter': 2, 'spheric': 37, 'conceiv': 4, 'heattransf': 11, 'porou': 29, 'suction': 20, 'gupta': 2, 'unit': 23, 'act': 23, 'neg': 28, 'semi': 35, 'obviou': 6, 'sens': 12, 'magnetohydrodynam': 25, 'electromagnet': 5, 'freedom': 19, 'excess': 13, 'charg': 13, 'caviti': 4, 'notch': 3, 'visual': 8, 'sparkschlieren': 1, 'pictur': 13, 'depth': 9, 'oncom': 5, 'tomomentum': 1, 'comment': 11, 'matric': 7, 'publish': 33, 'journal': 3, 'statement': 6, 'bring': 8, 'attent': 36, 'shed': 4, 'hopeless': 2, 'abovement': 1, 'intim': 4, 'aspect': 75, 'lowaspect': 1, 'arbitrari': 87, 'orient': 9, 'member': 8, 'permit': 39, 'ideal': 37, 'network': 2, 'flexur': 12, 'interconnect': 3, 'torsion': 31, 'deflect': 85, 'compat': 6, 'product': 25, 'column': 36, 'assembl': 3, 'step': 32, 'bystep': 2, 'fashion': 5, 'accomplish': 11, 'multipl': 15, 'squar': 53, 'compos': 12, 'oper': 67, 'unknown': 23, 'favor': 24, 'tabl': 36, 'entropi': 14, 'windward': 8, 'meridian': 5, 'tend': 28, 'enabl': 16, 'veiociti': 1, 'special': 75, 'crocco': 16, 'infer': 3, 'within': 107, 'effort': 9, 'readili': 14, 'mathemat': 40, 'polynomi': 14, 'surfacetemperatur': 1, 'anomali': 2, 'attribut': 20, 'customari': 4, 'inappropri': 1, 'net': 9, 'incorrect': 4, 'brief': 30, 'facilit': 6, 'entitl': 1, 'thin': 136, 'simultan': 36, 'momentum': 55, 'held': 13, 'sutherland': 3, 'ambient': 14, 'main': 55, 'skinfrict': 6, 'abil': 3, 'withstand': 2, 'correctli': 6, 'angular': 4, 'flux': 17, 'deform': 47, 'camber': 22, 'chord': 42, 'store': 5, 'previous': 56, 'delta': 35, 'untap': 4, 'sweptback': 15, 'cylindr': 99, 'ogiv': 13, 'shadowgraph': 9, 'scope': 14, 'encompass': 4, 'adiabat': 21, 'great': 18, 'attach': 33, 'upstream': 38, 'reattach': 14, 'otherwis': 11, 'reson': 6, 'accompani': 13, 'sixth': 2, 'accuraci': 75, 'short': 37, 'seventh': 2, 'adequ': 20, 'proport': 38, 'throughout': 28, 'tsien': 8, 'fine': 21, 'wider': 11, 'might': 15, 'similarli': 4, 'defin': 48, 'rule': 16, 'technic': 13, 'error': 34, 'ignor': 7, 'percent': 65, 'sharp': 52, 'half': 50, 'modifi': 76, 'attain': 10, 'immedi': 18, 'orific': 8, 'true': 10, 'width': 22, 'onetenth': 1, 'falkner': 8, 'skan': 8, 'picard': 1, 'euler': 10, 'nondimension': 20, 'imperm': 5, 'five': 22, 'uncool': 5, 'ture': 3, 'weight': 39, 'tabul': 26, 'nusselt': 9, 'roll': 26, 'tail': 22, 'conformaltransform': 1, 'often': 16, 'interfer': 46, 'quot': 4, 'admit': 5, 'absolut': 11, 'twice': 5, 'uniqu': 10, 'famili': 15, 'identifi': 10, 'viscid': 1, 'remaind': 2, 'exceed': 22, 'semivertex': 8, 'talbot': 1, 'ramet': 1, 'maccol': 4, 'chapman': 12, 'rubesin': 8, 'obliqu': 17, 'imping': 9, 'weak': 21, 'sound': 37, 'refract': 4, 'isentrop': 13, 'attenu': 6, 'incid': 59, 'stationari': 28, 'spatial': 5, 'sinusoid': 16, 'fourier': 16, 'passag': 7, 'acoust': 15, 'nois': 29, 'joint': 9, 'stiffen': 36, 'winglik': 2, 'electron': 19, 'interior': 13, 'averag': 41, 'peak': 21, 'greatli': 25, 'travers': 11, 'ascend': 5, 'skip': 4, 'recur': 1, 'distinguish': 4, 'bessel': 3, 'trigonometr': 6, 'medium': 19, 'imperfect': 24, 'compil': 5, 'gase': 38, 'suitabl': 45, 'chosen': 23, 'volum': 24, 'entri': 39, 'capsul': 1, 'capabl': 12, 'realga': 1, 'supercrit': 3, 'diverg': 37, 'crest': 1, 'chordwis': 19, 'satisfactorili': 11, 'glauert': 8, 'wherebi': 8, 'divers': 1, 'advanc': 19, 'bound': 16, 'ident': 18, 'progress': 17, 'strong': 39, 'seventhpow': 1, 'chief': 3, 'govern': 45, 'encount': 29, 'inde': 4, 'latter': 41, 'simplifi': 59, 'tietjen': 2, 'emphas': 15, 'gain': 7, 'sign': 1, 'rayleigh': 17, 'tollmien': 6, 'vanish': 16, 'turbulen': 3, 'coundari': 1, 'interferometr': 4, 'cold': 14, 'fatigu': 22, 'pertain': 9, 'powerpl': 1, 'common': 17, 'random': 18, 'discret': 8, 'life': 13, 'particularli': 28, 'fighter': 4, 'fli': 16, 'altitud': 45, 'apparatu': 12, 'record': 19, 'output': 6, 'microphon': 2, 'fuselag': 21, 'root': 22, 'longitudin': 49, 'fuselagesect': 1, 'unduli': 1, 'hyperveloc': 9, 'unpow': 1, 'day': 7, 'rocket': 34, 'motor': 8, 'character': 20, 'return': 5, 'earth': 21, 'glide': 6, 'senior': 1, 'naca': 27, 'radiant': 2, 'effici': 26, 'highest': 12, 'disadvantag': 2, 'offset': 1, 'artific': 2, 'kinet': 25, 'minim': 20, 'coolant': 15, 'neighborhood': 7, 'convert': 7, 'compens': 3, 'radiat': 28, 'back': 17, 'kept': 5, 'precess': 1, 'instabl': 38, 'compris': 7, 'plant': 4, 'backup': 1, 'neutral': 15, 'sensit': 16, 'asymmetri': 2, 'airspe': 2, 'thrust': 33, 'axe': 10, 'strongli': 7, 'trend': 25, 'add': 4, 'finish': 1, 'foot': 25, 'previou': 51, 'microinch': 2, 'disappear': 6, 'langley': 25, 'granular': 1, 'particl': 15, 'trigger': 1, 'threedimension': 5, 'spot': 1, 'top': 8, 'disk': 14, 'reexamin': 3, 'dissip': 19, 'inaccuraci': 3, 'correct': 67, 'distort': 20, 'coordin': 36, 'torqu': 5, 'ablat': 14, 'glass': 5, 'protect': 7, 'shield': 4, 'irbm': 1, 'melt': 6, 'homogen': 9, 'opaqu': 1, 'nondecompos': 1, 'corollari': 1, 'realist': 3, 'hypothet': 4, 'radi': 9, 'steep': 5, 'penetr': 11, 'monoton': 4, 'emiss': 9, 'supposedli': 2, 'exert': 7, 'disregard': 2, 'solar': 6, 'proton': 1, 'event': 3, 'man': 7, 'geophys': 1, 'year': 17, 'igi': 1, 'cooper': 3, 'igc': 1, 'fraction': 19, 'flare': 7, 'reach': 36, 'arriv': 8, 'lie': 15, 'spectrum': 14, 'mev': 1, 'activ': 12, 'owe': 12, 'releas': 6, 'began': 3, 'august': 2, 'toward': 21, 'understand': 17, 'terrestri': 1, 'sequenc': 5, 'identif': 2, 'recogn': 5, 'hazard': 1, 'juli': 1, 'becam': 3, 'human': 5, 'forecast': 2, 'clearli': 12, 'scientif': 3, 'preliminari': 33, 'unlik': 6, 'plug': 3, 'coaxial': 4, 'centerlin': 3, 'psia': 3, 'prevail': 6, 'efficaci': 1, 'left': 2, 'ioniz': 17, 'process': 73, 'decay': 17, 'away': 10, 'core': 25, 'thermodynam': 31, 'map': 11, 'conductioncontrol': 1, 'widen': 1, 'sec': 22, 'peripher': 3, 'proxim': 8, 'ground': 32, 'issu': 6, 'hover': 10, 'aerial': 1, 'insofar': 3, 'augment': 4, 'pipe': 8, 'metal': 13, 'freeconvect': 2, 'hartmann': 4, 'grashof': 1, 'buoyant': 2, 'submerg': 3, 'volumetr': 1, 'articl': 7, 'cutout': 2, 'ahead': 21, 'depress': 1, 'beyond': 26, 'collaps': 10, 'leav': 9, 'mutual': 2, 'protrus': 1, 'pertin': 10, 'inner': 17, 'recompress': 3, 'thicken': 4, 'inward': 3, 'gradual': 7, 'floor': 2, 'pronounc': 3, 'throat': 13, 'reli': 1, 'principl': 33, 'conserv': 20, 'feasibl': 12, 'barrier': 2, 'environment': 3, 'grober': 1, 'titl': 5, 'stonecyph': 1, 'perfect': 29, 'ago': 2, 'drew': 2, 'page': 3, 'puls': 3, 'transmiss': 6, 'capacit': 2, 'redund': 2, 'digit': 20, 'modern': 7, 'opportun': 2, 'urgent': 1, 'hopelessli': 1, 'capac': 12, 'desk': 1, 'difficulti': 21, 'shift': 8, 'tediou': 5, 'peculiar': 4, 'irregular': 8, 'geometr': 26, 'handl': 9, 'organ': 1, 'subroutin': 1, 'format': 12, 'plastic': 30, 'philosophi': 3, 'cut': 3, 'shell': 106, 'intersect': 11, 'none': 4, 'plausibl': 5, 'simpler': 17, 'forth': 5, 'full': 31, 'busemann': 6, 'mangler': 5, 'asymptot': 42, 'zeroth': 1, 'expon': 10, 'satisfi': 34, 'hoff': 4, 'torda': 1, 'cap': 8, 'spar': 3, 'graph': 9, 'especi': 20, 'attempt': 36, 'reanalyz': 1, 'reanalysi': 1, 'represent': 15, 'rogh': 1, 'plot': 24, 'airstream': 9, 'foil': 3, 'properli': 9, 'transport': 23, 'shockwav': 4, 'overexpand': 5, 'nozzl': 80, 'etc': 15, 'von': 29, 'explicitli': 10, 'statist': 9, 'object': 25, 'paramount': 3, 'late': 1, 'friedman': 1, 'tri': 1, 'isotrop': 11, 'abl': 10, 'windstream': 1, 'done': 14, 'countri': 3, 'fage': 1, 'townend': 1, 'simmon': 1, 'england': 1, 'isol': 10, 'transmit': 4, 'action': 10, 'adjac': 23, 'unbalanc': 1, 'preponder': 1, 'occasion': 1, 'shorten': 5, 'psycholog': 1, 'physiolog': 1, 'attend': 5, 'passeng': 1, 'crew': 1, 'drastic': 3, 'hardli': 2, 'easili': 16, 'streamlin': 33, 'enthalpi': 35, 'unyaw': 8, 'segment': 13, 'speci': 7, 'schmidt': 2, 'alon': 16, 'molecul': 23, 'collis': 5, 'accept': 17, 'classif': 3, 'oppos': 4, 'flame': 6, 'potter': 1, 'butler': 1, 'burn': 6, 'extinct': 1, 'premix': 1, 'heimel': 1, 'nonconduct': 7, 'perpendicular': 13, 'retard': 7, 'induct': 5, 'log': 3, 'azimuth': 2, 'round': 14, 'third': 22, 'commonli': 7, 'adopt': 7, 'balanc': 16, 'confluent': 2, 'hypergeometr': 3, 'prove': 16, 'branch': 6, 'sediment': 1, 'isotop': 1, 'protein': 1, 'molecular': 16, 'ultracentrifug': 1, 'discharg': 7, 'frequent': 8, 'six': 13, 'insert': 3, 'grid': 2, 'rod': 1, 'impos': 17, 'grade': 3, 'strictli': 5, 'weakli': 1, 'secondari': 16, 'danger': 2, 'inher': 5, 'tendenc': 5, 'lucid': 1, 'bluff': 10, 'departur': 6, 'promis': 9, 'diatom': 6, 'excit': 23, 'deduc': 20, 'eleg': 1, 'bow': 24, 'typifi': 3, 'dismiss': 1, 'sometim': 9, 'accord': 37, 'concentr': 31, 'freeman': 2, 'plu': 6, 'centrifug': 10, 'automat': 12, 'hartre': 6, 'womersley': 2, 'choleski': 1, 'neighbourhood': 3, 'goldstein': 3, 'rectangular': 55, 'degener': 2, 'charact': 20, 'signal': 2, 'airflow': 8, 'mask': 2, 'background': 6, 'autocorrel': 2, 'crosscorrel': 1, 'filter': 2, 'greatest': 10, 'turn': 28, 'scan': 1, 'randon': 1, 'lyon': 1, 'exponenti': 15, 'smaller': 25, 'hysteret': 1, 'lubric': 2, 'film': 6, 'hypothesi': 8, 'bear': 12, 'smith': 2, 'fuller': 5, 'hyperbol': 11, 'mathieu': 2, 'non': 55, 'minor': 14, 'paraboloid': 5, 'stoke': 23, 'substitut': 8, 'navier': 17, 'tomotika': 1, 'tamada': 2, 'quart': 2, 'appl': 2, 'math': 5, 'vicin': 23, 'reject': 2, 'singular': 14, 'meyer': 7, 'asymmetr': 7, 'van': 11, 'gorcum': 1, 'passiv': 2, 'pole': 1, 'stratiform': 2, 'idea': 17, 'draw': 4, 'preston': 4, 'furnac': 1, 'stabl': 18, 'best': 16, 'suit': 5, 'merit': 10, 'isoenerget': 2, 'nonaxisymmetr': 4, 'felt': 7, 'arbitrarili': 10, 'lockhe': 1, 'abbrevi': 1, 'inconsist': 2, 'nitrogen': 16, 'subtend': 1, 'machnumb': 1, 'pibal': 2, 'stand': 10, 'alter': 23, 'earli': 14, 'apprais': 3, 'inadequ': 8, 'boattail': 7, 'foreign': 9, 'freon': 7, 'mark': 11, 'fair': 18, 'wedg': 40, 'exploratori': 8, 'vortex': 33, 'gross': 8, 'twenti': 3, 'exit': 29, 'ten': 5, 'eniac': 1, 'shortest': 1, 'group': 10, 'sampl': 13, 'elabor': 3, 'contour': 17, 'interpol': 6, 'behaviour': 27, 'uniformli': 29, 'regular': 7, 'enclos': 5, 'distinct': 9, 'descript': 34, 'match': 15, 'artifici': 13, 'laplac': 4, 'resort': 2, 'worth': 3, 'band': 11, 'cycl': 14, 'octav': 1, 'farther': 6, 'diagram': 10, 'quadrupol': 2, 'doppler': 1, 'predominantli': 4, 'orthogon': 5, 'monopol': 1, 'predomin': 7, 'world': 1, 'scienc': 4, 'hinder': 1, 'exhaust': 29, 'reichardt': 1, 'instead': 9, 'conflict': 4, 'propag': 17, 'relax': 27, 'sir': 1, 'geoffrey': 1, 'topic': 9, 'clear': 8, 'valuabl': 4, 'burger': 2, 'hopf': 1, 'cole': 2, 'discontinu': 21, 'whitham': 5, 'union': 2, 'finest': 1, 'tribut': 1, 'inspir': 1, 'convex': 7, 'concav': 7, 'ludwieg': 1, 'instrument': 12, 'embed': 3, 'ludweig': 1, 'bell': 2, 'annular': 11, 'belltyp': 1, 'outward': 7, 'central': 14, 'expand': 20, 'fed': 1, 'stage': 26, 'blade': 33, 'implicit': 7, 'think': 1, 'peopl': 1, 'outlet': 5, 'intak': 3, 'disagr': 7, 'hurd': 1, 'cheski': 1, 'shapiro': 2, 'closer': 4, 'utilis': 2, 'rest': 18, 'relev': 8, 'univers': 12, 'truth': 2, 'doubt': 10, 'alreadi': 6, 'fell': 2, 'centr': 13, 'hold': 13, 'remot': 2, 'born': 2, 'launch': 7, 'airborn': 1, 'telemet': 2, 'track': 3, 'calibr': 12, 'bang': 1, 'knowledg': 30, 'date': 5, 'unswept': 13, 'conveni': 12, 'nomograph': 1, 'graphic': 18, 'interplanetari': 2, 'orbit': 17, 'voyag': 2, 'planet': 5, 'unlimit': 5, 'sum': 8, 'refractori': 3, 'movement': 14, 'ward': 2, 'spillag': 1, 'former': 12, 'unchang': 5, 'resembl': 6, 'seen': 10, 'ordin': 14, 'plan': 28, 'straight': 31, 'diamond': 3, 'parabol': 21, 'biconvex': 3, 'though': 16, 'aim': 8, 'serious': 2, 'instruct': 4, 'altern': 17, 'specifi': 20, 'choos': 5, 'oseen': 11, 'obstacl': 5, 'polar': 12, 'cannot': 18, 'steepest': 1, 'descent': 6, 'check': 24, 'strike': 6, 'labori': 4, 'schubauer': 3, 'occupi': 1, 'gaussian': 3, 'heisenberg': 2, 'frictionless': 1, 'exercis': 2, 'immers': 2, 'helmholtz': 3, 'someth': 2, 'absenc': 9, 'assert': 1, 'suppos': 9, 'water': 14, 'amen': 5, 'discov': 5, 'belong': 3, 'abstract': 2, 'experienc': 12, 'truli': 2, 'edgewis': 2, 'superpos': 1, 'denot': 7, 'seven': 6, 'eighth': 6, 'ninth': 1, 'roughli': 8, 'unfortun': 3, 'eight': 6, 'prohibit': 2, 'circumscrib': 2, 'polygon': 5, 'preced': 7, 'therebi': 9, 'shallow': 20, 'ship': 2, 'deep': 2, 'vessel': 8, 'diminish': 14, 'ultim': 10, 'treatis': 4, 'quotat': 1, 'trochoid': 1, 'travel': 15, 'translat': 7, 'weitbrecht': 1, 'hodograph': 3, 'steadili': 4, 'pass': 20, 'tripl': 3, 'valued': 1, 'exclud': 6, 'invert': 4, 'histor': 2, 'elimin': 17, 'trial': 2, 'criteria': 13, 'choic': 17, 'modulu': 13, 'insur': 2, 'comprehens': 4, 'appendix': 18, 'streamwis': 21, 'nonvanish': 2, 'framework': 11, 'riolat': 1, 'write': 4, 'satellit': 32, 'nonrot': 3, 'miss': 2, 'misalin': 1, 'largest': 4, 'stem': 5, 'retroveloc': 1, 'mile': 6, 'guidanc': 5, 'corridor': 5, 'supercircular': 1, 'planetari': 6, 'spacecraft': 3, 'perige': 10, 'venu': 2, 'mar': 3, 'jupit': 2, 'titan': 1, 'nonlift': 8, 'absorb': 9, 'overshoot': 2, 'undershoot': 4, 'broaden': 2, 'markedli': 5, 'singlepass': 1, 'termin': 8, 'put': 12, 'hit': 2, 'moon': 2, 'icbm': 2, 'fuel': 9, 'heliocentr': 1, 'planetocentr': 1, 'target': 2, 'save': 5, 'impli': 5, 'atospher': 1, 'pair': 11, 'introdur': 1, 'allen': 1, 'egger': 1, 'truncat': 8, 'sanger': 1, 'toler': 9, 'trim': 8, 'brake': 3, 'escap': 4, 'virtual': 8, 'obtainec': 1, 'million': 7, 'schultz': 1, 'grunow': 1, 'kempf': 1, 'schoenherr': 1, 'univer': 1, 'appraoch': 1, 'wherea': 20, 'uncorrect': 1, 'inexpens': 1, 'slighlti': 1, 'react': 6, 'mixtur': 22, 'nonheat': 1, 'amongst': 1, 'convergentdiverg': 1, 'reservoir': 6, 'absorpt': 6, 'dispers': 2, 'concis': 2, 'harmon': 15, 'planar': 5, 'corner': 17, 'oxygen': 12, 'inert': 3, 'stagnant': 2, 'polyatom': 3, 'via': 4, 'eucken': 1, 'hirschfeld': 1, 'cell': 2, 'reciproc': 9, 'versu': 6, 'accommod': 6, 'sudden': 13, 'front': 33, 'whilst': 5, 'real': 32, 'onedimension': 6, 'afterflow': 1, 'tent': 10, 'bulk': 6, 'instal': 2, 'vital': 1, 'turbojet': 8, 'goal': 1, 'compromis': 6, 'unsatisfactori': 2, 'devot': 9, 'jetstream': 1, 'shockboundari': 1, 'enlighten': 1, 'interchang': 1, 'programm': 7, 'insid': 7, 'supplement': 5, 'read': 9, 'photographi': 3, 'bleed': 5, 'annulu': 3, 'hole': 8, 'shadow': 1, 'entrain': 2, 'carbon': 8, 'dioxid': 4, 'adjust': 11, 'excel': 15, 'axiallysymmetr': 2, 'sting': 6, 'accordingli': 8, 'partli': 8, 'inviscidflow': 1, 'deduct': 3, 'lowest': 9, 'apex': 9, 'probe': 5, 'maxwellian': 3, 'arm': 2, 'utia': 1, 'thermo': 3, 'thermoaeroelast': 1, 'layout': 2, 'compressibleflow': 1, 'heavi': 4, 'toxic': 1, 'monatom': 2, 'nontox': 1, 'nonflamm': 1, 'commerci': 4, 'argon': 9, 'krypton': 1, 'xenon': 1, 'fire': 4, 'select': 21, 'categori': 2, 'concoct': 1, 'inasmuch': 1, 'sizeabl': 1, 'conecylind': 3, 'thoroughli': 2, 'accumul': 3, 'oil': 8, 'classificaiton': 1, 'liter': 3, 'dead': 7, 'explan': 9, 'tni': 1, 'incident': 1, 'anh': 1, 'numger': 1, 'blunttrail': 1, 'trailingedg': 2, 'unusu': 3, 'hysteresi': 3, 'stroboscop': 2, 'hydromagnet': 4, 'help': 8, 'thoma': 1, 'everi': 9, 'rearrang': 1, 'sub': 6, 'tabular': 5, 'keep': 9, 'lengthwis': 3, 'invalid': 5, 'analytici': 1, 'verif': 9, 'calor': 5, 'manifest': 5, 'verfi': 1, 'rankin': 5, 'counterpart': 5, 'duplic': 2, 'fring': 4, 'lotz': 1, 'cavit': 3, 'normalforc': 2, 'subcrit': 4, 'rear': 19, 'cowl': 2, 'spinner': 1, 'propellerresearch': 1, 'inlet': 13, 'ellipsoid': 7, 'lip': 1, 'oval': 5, 'shank': 1, 'aileron': 9, 'tab': 4, 'sheet': 17, 'approx': 2, 'seal': 2, 'hing': 8, 'gap': 7, 'ailcron': 1, 'minu': 2, 'deg': 7, 'suffix': 1, 'crop': 3, 'plung': 1, 'linearis': 15, 'taper': 21, 'avalu': 1, 'enlarg': 2, 'destabil': 8, 'actur': 1, 'kink': 2, 'stratagem': 1, 'maintain': 22, 'inerti': 1, 'embrac': 4, 'buffet': 9, 'airscrew': 1, 'monograph': 1, 'elsewher': 6, 'bibliographi': 3, 'prevent': 14, 'omit': 3, 'airload': 1, 'aerofoil': 30, 'british': 3, 'sake': 2, 'notat': 4, 'wood': 4, 'swept': 31, 'sweep': 20, 'afford': 4, 'certainti': 1, 'freestream': 18, 'quarterchord': 1, 'infiniteaspect': 1, 'inboard': 1, 'qualiti': 9, 'semispan': 6, 'junctur': 4, 'constrain': 3, 'screen': 4, 'german': 2, 'hall': 4, 'anisotrop': 2, 'tensor': 2, 'ohm': 1, 'anisotropi': 1, 'wash': 1, 'run': 15, 'rippl': 2, 'underneath': 1, 'adapt': 9, 'stringer': 7, 'kind': 7, 'provision': 1, 'fin': 11, 'harri': 1, 'incorpor': 11, 'project': 5, 'inflow': 2, 'fixedpitch': 1, 'spin': 6, 'dual': 4, 'lever': 1, 'therefrom': 1, 'manufactur': 2, 'rotor': 11, 'turbin': 14, 'circumst': 6, 'inter': 2, 'concurr': 3, 'steam': 2, 'suffer': 2, 'focus': 2, 'favour': 2, 'contract': 8, 'liquidinject': 1, 'bubbl': 3, 'optimum': 28, 'cascad': 9, 'uncertainti': 4, 'overrid': 1, 'convers': 9, 'nevertheless': 5, 'reliabl': 12, 'highli': 27, 'build': 2, 'explor': 4, 'phase': 20, 'acr': 1, 'ineffici': 1, 'encourag': 4, 'singlestag': 1, 'stator': 2, 'spectra': 7, 'inchdiamet': 2, 'diam': 1, 'mum': 1, 'correlogram': 1, 'easier': 1, 'slice': 2, 'muffler': 1, 'fat': 1, 'powel': 2, 'corrug': 6, 'quiet': 1, 'emerg': 1, 'seriou': 8, 'shroud': 11, 'analogu': 6, 'depart': 5, 'astronaut': 1, 'decid': 4, 'bandwidth': 2, 'ampli': 1, 'decis': 2, 'ensur': 3, 'outstand': 2, 'ascertain': 4, 'smoke': 3, 'upper': 41, 'outboard': 7, 'stanton': 4, 'circularcylindr': 2, 'ring': 20, 'fill': 7, 'intermedi': 23, 'bank': 3, 'crossflow': 8, 'inhibit': 2, 'zerolift': 1, 'dyke': 8, 'rep': 2, 'strip': 13, 'display': 4, 'ridg': 1, 'render': 4, 'shall': 9, 'cruciform': 8, 'stagger': 1, 'angularli': 2, 'owen': 1, 'maskel': 1, 'sideforc': 1, 'upwash': 5, 'sidewash': 4, 'tailplan': 3, 'weapon': 2, 'equip': 16, 'downwash': 20, 'para': 1, 'routin': 9, 'tangenc': 3, 'theorem': 9, 'arc': 16, 'noninclin': 1, 'mehtod': 1, 'radian': 1, 'referenc': 3, 'secondord': 3, 'minimis': 6, 'crosssect': 5, 'evolv': 2, 'enough': 18, 'percentag': 7, 'choke': 11, 'laval': 4, 'code': 2, 'multi': 7, 'outcom': 2, 'endors': 1, 'committe': 5, 'collabor': 2, 'recommend': 7, 'appendic': 2, 'enquiri': 1, 'strut': 3, 'slot': 13, 'transfn': 1, 'pai': 2, 'asimplifi': 1, 'boat': 1, 'interferomet': 4, 'fit': 9, 'visualis': 3, 'visibl': 3, 'royal': 1, 'societi': 1, 'denser': 1, 'troublesom': 2, 'deposit': 3, 'staff': 1, 'director': 1, 'ministri': 2, 'contrast': 10, 'compact': 3, 'minut': 9, 'prematur': 3, 'bluish': 1, 'white': 1, 'colour': 1, 'dens': 2, 'retain': 9, 'noncorros': 1, 'irrit': 1, 'smell': 1, 'condens': 6, 'precaut': 2, 'troubl': 2, 'dri': 2, 'hard': 2, 'wax': 1, 'floccul': 1, 'bore': 1, 'eventu': 3, 'blockag': 8, 'filament': 3, 'said': 3, 'assist': 5, 'educ': 1, 'flap': 18, 'conform': 10, 'trefitz': 1, 'unequ': 2, 'circul': 13, 'theta': 1, 'ref': 17, 'quickli': 1, 'thwait': 3, 'rhombic': 2, 'deuc': 2, 'hope': 5, 'sweptw': 2, 'perfor': 3, 'walkden': 2, 'civil': 2, 'aeroplan': 4, 'climb': 6, 'afterburn': 4, 'penalti': 6, 'cost': 2, 'summaris': 2, 'mainstream': 7, 'townsend': 1, 'dispos': 1, 'glanc': 1, 'waist': 1, 'poiseuil': 2, 'couett': 10, 'laufer': 1, 'logarithm': 9, 'rigor': 10, 'slider': 1, 'interv': 12, 'equilibria': 1, 'intermolecular': 2, 'affin': 2, 'individu': 8, 'richmond': 1, 'defenc': 2, 'home': 2, 'secur': 2, 'writer': 8, 'told': 1, 'bomb': 1, 'nuclear': 3, 'fission': 1, 'confin': 5, 'answer': 4, 'unaccompani': 1, 'declassifi': 1, 'supersed': 1, 'omiss': 2, 'worker': 6, 'till': 1, 'atm': 2, 'ceas': 4, 'degrad': 1, 'radii': 12, 'instantan': 8, 'meteor': 2, 'neumann': 1, 'circulatori': 2, 'lowspe': 2, 'eas': 2, 'fredholm': 1, 'seidel': 2, 'ibm': 8, 'edpm': 1, 'hour': 3, 'selfpreserv': 1, 'gershuni': 1, 'zhukhovitskii': 1, 'ostrach': 1, 'tao': 1, 'mat': 2, 'unifi': 10, 'polish': 2, 'pyrex': 1, 'ellips': 2, 'occurr': 6, 'towal': 1, 'nasa': 8, 'histori': 23, 'hemispherecylind': 4, 'defici': 5, 'quartz': 2, 'teflon': 7, 'mission': 3, 'weigh': 1, 'reenter': 1, 'evapor': 3, 'molten': 1, 'detriment': 2, 'lunar': 1, 'exposur': 2, 'mid': 2, 'machin': 20, 'whenev': 5, 'staticpressur': 5, 'tangenti': 7, 'took': 1, 'entail': 3, 'overcom': 3, 'hadamard': 1, 'semicircular': 1, 'lomax': 1, 'heaslet': 1, 'kingdom': 1, 'version': 7, 'haag': 1, 'korst': 1, 'child': 1, 'fay': 3, 'riddel': 3, 'underestim': 3, 'twist': 12, 'curl': 1, 'poisson': 2, 'arisen': 2, 'neater': 1, 'sideslip': 9, 'weissing': 4, 'aspectratio': 1, 'centroid': 1, 'tank': 6, 'coast': 1, 'intent': 2, 'unintent': 1, 'cant': 1, 'magnu': 2, 'misalign': 2, 'sweepback': 10, 'understood': 5, 'piec': 3, 'wise': 2, 'recours': 2, 'coars': 1, 'fail': 16, 'quadratur': 7, 'velocitydistribut': 1, 'slide': 1, 'advent': 1, 'necessit': 4, 'contrari': 5, 'ninefold': 1, 'persh': 1, 'alfven': 2, 'beta': 1, 'unidirect': 1, 'ionospher': 6, 'electrostat': 1, 'anomal': 2, 'radar': 2, 'echo': 1, 'magnetoaerodynam': 2, 'fluiddynam': 1, 'magnetoacoust': 1, 'constitut': 6, 'orgin': 1, 'surpris': 1, 'partit': 1, 'mol': 1, 'transpar': 2, 'join': 8, 'erickson': 1, 'dealt': 7, 'nagamatsu': 2, 'deficit': 2, 'thn': 1, 'interanl': 1, 'hpyerson': 1, 'warn': 1, 'prefer': 6, 'advisori': 2, 'excresc': 3, 'care': 12, 'thinner': 5, 'inconveni': 2, 'spuriou': 1, 'underli': 7, 'hugoniot': 4, 'undissoci': 4, 'variant': 1, 'telegraph': 2, 'wavi': 4, 'univac': 4, 'meksyn': 1, 'surprisingli': 3, 'kemp': 1, 'perfectli': 6, 'repetit': 1, 'schuh': 1, 'resolut': 2, 'thereof': 2, 'forst': 1, 'invok': 1, 'flatplat': 1, 'homann': 1, 'zamm': 1, 'oversimplif': 1, 'merg': 4, 'rarefact': 4, 'incipi': 3, 'obey': 5, 'methanol': 1, 'tetrachlorid': 1, 'overst': 1, 'disclos': 2, 'competit': 1, 'drop': 12, 'tension': 8, 'sine': 3, 'fifth': 4, 'similitud': 9, 'remov': 10, 'inspect': 3, 'howorth': 1, 'distinctli': 2, 'discern': 2, 'certainli': 3, 'mil': 1, 'whatev': 2, 'pore': 2, 'transpir': 13, 'entranc': 4, 'offer': 6, 'undetermin': 1, 'influx': 2, 'ingeni': 2, 'terminolog': 1, 'enjoy': 1, 'usag': 1, 'inaccur': 2, 'threaten': 1, 'academ': 1, 'seren': 1, 'broken': 2, 'frustrat': 1, 'excus': 1, 'poetic': 1, 'licens': 1, 'press': 2, 'eros': 5, 'aerothermochem': 1, 'effus': 1, 'blow': 8, 'overstat': 1, 'overlook': 1, 'berger': 1, 'etud': 1, 'parietal': 1, 'doctor': 1, 'thesi': 1, 'pari': 1, 'memori': 1, 'poudr': 1, 'annex': 1, 'imprimeri': 1, 'national': 1, 'stimulu': 1, 'constantdens': 1, 'bulent': 1, 'nine': 2, 'wilson': 1, 'brought': 7, 'recurs': 1, 'isovel': 4, 'jeffrey': 1, 'hamel': 1, 'nonparallel': 2, 'jacobian': 1, 'jefferi': 1, 'sweat': 2, 'dorodnitsyn': 1, 'closedform': 3, 'lightweight': 2, 'secondli': 3, 'facil': 14, 'eratur': 1, 'speric': 1, 'binari': 7, 'super': 4, 'carter': 1, 'unnecessari': 2, 'prior': 8, 'superaerodynam': 2, 'specular': 2, 'calculu': 7, 'likewis': 4, 'kopal': 2, 'corpuscular': 1, 'repeat': 4, 'pierci': 1, 'winni': 1, 'proc': 2, 'roy': 1, 'soc': 3, 'london': 1, 'ser': 2, 'reissner': 5, 'largeaspect': 1, 'stall': 17, 'pinkerton': 1, 'kutta': 6, 'joukowski': 6, 'fictiti': 2, 'spenc': 1, 'potentialflow': 1, 'window': 3, 'radom': 1, 'twopoint': 2, 'lyapunov': 2, 'exposit': 2, 'nonslationari': 1, 'optim': 4, 'relay': 1, 'servo': 1, 'thorough': 1, 'companion': 1, 'manoeuvr': 3, 'cartesian': 2, 'resolv': 5, 'suscept': 7, 'belotserkovskii': 3, 'scarc': 2, 'letter': 1, 'bertram': 1, 'demarc': 1, 'gies': 1, 'bergdolt': 1, 'halfangl': 1, 'charter': 1, 'stein': 3, 'zehnder': 1, 'memorandum': 3, 'met': 2, 'geodes': 2, 'ame': 2, 'exce': 10, 'leeward': 4, 'affirm': 1, 'zoom': 1, 'mayer': 3, 'lagrang': 6, 'blowout': 1, 'pilot': 4, 'unless': 3, 'mise': 7, 'tsion': 1, 'drift': 1, 'howarth': 4, 'rott': 1, 'crabtre': 1, 'illingworth': 1, 'unspecifi': 1, 'constantproperti': 2, 'nonstationari': 2, 'nonsteadi': 6, 'adjoint': 1, 'theodorsen': 3, 'diagon': 1, 'garrick': 1, 'seban': 4, 'bond': 6, 'kelli': 4, 'neither': 5, 'defect': 4, 'frustum': 4, 'booster': 2, 'tacitli': 1, 'semiinfinit': 2, 'murray': 1, 'unbound': 2, 'obscur': 1, 'anyway': 1, 'advoc': 2, 'stimul': 3, 'simpli': 39, 'clamp': 31, 'justif': 4, 'midplan': 5, 'restrain': 6, 'heavier': 1, 'nomenclatur': 1, 'dana': 1, 'young': 4, 'controversi': 2, 'worthwhil': 1, 'lend': 4, 'lagrangian': 7, 'simplest': 7, 'shortcom': 4, 'irrevers': 4, 'onsag': 2, 'narrow': 7, 'antisymmetr': 2, 'multipli': 7, 'dissociationrecombin': 1, 'bimolecular': 1, 'exchang': 5, 'post': 5, 'freez': 6, 'relativist': 1, 'unrelativist': 1, 'hoffman': 1, 'teller': 1, 'interstellar': 1, 'cloud': 2, 'amplifi': 4, 'compression': 1, 'promin': 1, 'gauss': 3, 'necess': 7, 'sink': 10, 'monoxid': 1, 'hydrogen': 9, 'implic': 8, 'dashthat': 1, 'enthalp': 1, 'nonrigor': 1, 'notic': 5, 'grasshof': 1, 'fore': 2, 'concur': 2, 'decidedli': 1, 'const': 1, 'intrins': 3, 'lock': 3, 'roger': 1, 'industri': 1, 'cruis': 7, 'shockinduc': 1, 'unpublish': 1, 'bagley': 1, 'postpon': 1, 'margin': 5, 'impair': 1, 'land': 7, 'emphasis': 1, 'highveloc': 1, 'neighbour': 1, 'imag': 5, 'counter': 2, 'lose': 1, 'windtunnel': 4, 'assess': 14, 'proof': 5, 'unstabl': 8, 'inflect': 3, 'flex': 1, 'syng': 1, 'schlicht': 3, 'hitherto': 1, 'singleand': 1, 'soon': 2, 'inducedpressur': 1, 'biharmon': 3, 'enforc': 2, 'pli': 1, 'list': 7, 'intract': 1, 'foredrag': 2, 'nearest': 2, 'circuit': 1, 'cal': 3, 'tech': 3, 'lattic': 3, 'chap': 1, 'book': 2, 'electro': 1, 'overhang': 1, 'inadmiss': 1, 'nullifi': 1, 'rae': 8, 'bedford': 3, 'humid': 3, 'flown': 4, 'assign': 2, 'denc': 1, 'stepwis': 2, 'indetermin': 1, 'hirshfeld': 1, 'chem': 1, 'phi': 3, 'feb': 1, 'tion': 2, 'fourcompon': 1, 'iii': 7, 'lindsey': 1, 'daley': 1, 'humphrey': 1, 'abruptli': 3, 'various': 2, 'unsepar': 1, 'reaffirm': 1, 'translatori': 1, 'assort': 1, 'midspan': 1, 'offreedom': 3, 'formal': 5, 'deby': 2, 'ion': 8, 'electrohydrodynam': 1, 'boltzmann': 2, 'dielectr': 1, 'inapplic': 1, 'jastrow': 2, 'pears': 2, 'permeabl': 2, 'sole': 2, 'socal': 1, 'liapunov': 1, 'routhhurwitz': 1, 'eulerian': 1, 'doublet': 3, 'quadruplet': 1, 'cornel': 1, 'stol': 3, 'vtol': 13, 'seek': 3, 'exploit': 2, 'enhanc': 2, 'driven': 6, 'colloc': 1, 'finitediffer': 1, 'fewer': 1, 'improp': 1, 'languag': 2, 'thirteen': 3, 'nonspher': 2, 'parabola': 1, 'aforement': 4, 'delimit': 1, 'succeed': 2, 'adequaci': 2, 'word': 2, 'gortler': 1, 'stratford': 3, 'photoelast': 1, 'paraplex': 2, 'room': 4, 'inclus': 8, 'castolit': 1, 'epoxi': 1, 'resin': 3, 'hysol': 1, 'vapor': 6, 'pressuredistribut': 2, 'ink': 1, 'semiapex': 3, 'planform': 23, 'normalpressur': 1, 'vapour': 1, 'fog': 1, 'latent': 1, 'everywher': 6, 'oswatitsch': 2, 'maeder': 1, 'keun': 1, 'easi': 5, 'placehold': 2, 'chapter': 1, 'indirect': 2, 'chester': 1, 'proportion': 2, 'hightemperatur': 2, 'complementari': 3, 'erfc': 1, 'jmin': 1, 'recurr': 1, 'dashn': 1, 'jmjn': 1, 'keulegan': 1, 'sextic': 1, 'umer': 1, 'quartic': 1, 'cuss': 1, 'insuffici': 2, 'combust': 15, 'sutton': 1, 'laminari': 1, 'admixtur': 1, 'reliev': 1, 'smallshear': 2, 'hypothes': 4, 'aerothermoelast': 1, 'primari': 13, 'look': 1, 'facet': 1, 'incom': 1, 'basetyp': 1, 'backward': 1, 'announc': 1, 'prepar': 8, 'msvo': 1, 'annual': 1, 'york': 4, 'jan': 1, 'thenc': 2, 'feel': 2, 'unhappi': 1, 'ber': 1, 'sure': 2, 'warrant': 2, 'typographi': 1, 'confus': 2, 'typograph': 1, 'firmer': 1, 'btu': 6, 'slug': 1, 'johnson': 1, 'perfectga': 1, 'plast': 1, 'paid': 3, 'nonsimilar': 3, 'newton': 3, 'buzz': 1, 'usaf': 3, 'sponsor': 3, 'coincid': 8, 'arithmet': 2, 'constanc': 1, 'condamp': 1, 'coefstant': 1, 'exponentiallyfici': 1, 'spoken': 1, 'wkb': 2, 'essenc': 2, 'commun': 1, 'gamma': 3, 'laguerr': 1, 'nice': 1, 'heretofor': 2, 'puzzl': 1, 'compet': 1, 'afresh': 1, 'joul': 1, 'openend': 1, 'gravalo': 1, 'edelfelt': 1, 'emmon': 2, 'gordon': 1, 'geiger': 1, 'serbin': 1, 'squir': 2, 'nonzero': 2, 'redefinit': 1, 'navi': 3, 'aeroballist': 1, 'havelock': 1, 'quest': 1, 'terrain': 3, 'cushion': 3, 'hise': 1, 'aft': 7, 'chernyi': 1, 'sublim': 3, 'expenditur': 2, 'apoge': 1, 'graze': 1, 'swirl': 2, 'sustain': 5, 'restor': 2, 'vanishingli': 2, 'know': 5, 'storag': 5, 'platinum': 1, 'movabl': 4, 'wingtail': 1, 'spreiter': 1, 'hosokawa': 1, 'smoothli': 3, 'blend': 1, 'shoulder': 3, 'overestim': 5, 'acquir': 2, 'frontal': 1, 'shockdetach': 1, 'peng': 1, 'pindroh': 1, 'hansen': 1, 'pressureinteract': 1, 'liabl': 1, 'closest': 1, 'wellknown': 2, 'elliott': 1, 'firstord': 1, 'highspe': 3, 'flowmet': 2, 'thermocoupl': 2, 'potentiomet': 1, 'tap': 2, 'micromanomet': 1, 'vacuum': 3, 'manomet': 1, 'overlap': 3, 'nylon': 3, 'distant': 1, 'reimping': 1, 'particledens': 1, 'popular': 1, 'bar': 6, 'nonun': 1, 'gun': 4, 'projectil': 4, 'lumin': 5, 'enc': 1, 'streak': 1, 'drum': 1, 'camera': 1, 'photomultipli': 3, 'conpress': 1, 'dorodnitzyn': 1, 'eckert': 3, 'shearstress': 1, 'referenceenthalpi': 1, 'infit': 1, 'stack': 4, 'gothic': 1, 'oge': 3, 'electroform': 1, 'nickel': 2, 'caret': 1, 'undersurfac': 1, 'eccentr': 10, 'lifetim': 4, 'extra': 1, 'pursu': 1, 'minnesota': 1, 'creep': 35, 'equilibr': 1, 'glassi': 1, 'today': 1, 'repli': 1, 'detra': 1, 'hidalgo': 1, 'radic': 2, 'feldman': 1, 'nonpor': 2, 'loos': 5, 'mountain': 1, 'radon': 1, 'cope': 1, 'inertia': 5, 'chiefli': 2, 'scalar': 2, 'viscositytemperatur': 1, 'dropoff': 1, 'grimming': 1, 'william': 2, 'friedrich': 4, 'leadingedg': 4, 'ultra': 2, 'noninsul': 1, 'dashin': 1, 'thermomet': 2, 'degreek': 5, 'forego': 4, 'begun': 2, 'middl': 9, 'abrupt': 3, 'multistag': 4, 'chemistri': 2, 'deterior': 5, 'inst': 1, 'notion': 1, 'poor': 7, 'surg': 4, 'content': 4, 'dirac': 1, 'green': 4, 'thermomechan': 1, 'viscoelast': 4, 'castigliano': 1, 'handicap': 1, 'volterra': 1, 'stefan': 1, 'adsorpt': 1, 'chemisorpt': 1, 'claim': 2, 'sensibl': 1, 'public': 5, 'rememb': 1, 'severli': 1, 'instig': 1, 'cyclic': 5, 'inletmass': 1, 'tangentwedg': 2, 'barrel': 1, 'oversw': 1, 'microwav': 1, 'drive': 4, 'chamber': 4, 'pivot': 5, 'scruton': 1, 'woodgat': 1, 'anhedr': 1, 'rotari': 5, 'norman': 1, 'brown': 1, 'michael': 1, 'farnborough': 3, 'lay': 2, 'workingsect': 1, 'heater': 2, 'centigrad': 1, 'realis': 1, 'quickact': 1, 'valv': 1, 'cure': 1, 'preheat': 1, 'quick': 2, 'fibrou': 1, 'hotter': 1, 'bottom': 2, 'hog': 1, 'fuse': 1, 'silica': 1, 'centrelin': 1, 'rose': 1, 'shercliff': 1, 'dashth': 1, 'soundsourc': 1, 'braunschweig': 1, 'oblat': 3, 'spheroid': 2, 'worst': 2, 'sphericalatmospher': 1, 'quadrat': 2, 'gram': 1, 'kilometr': 1, 'bracket': 1, 'equatori': 1, 'belt': 1, 'latitud': 2, 'season': 3, 'night': 3, 'consolid': 1, 'kallmann': 1, 'violet': 1, 'ray': 3, 'diurnal': 2, 'sputnik': 1, 'vanguard': 1, 'octob': 2, 'physcal': 1, 'fllayer': 1, 'discover': 1, 'apart': 3, 'declin': 1, 'supposit': 1, 'shortlifetim': 1, 'constitu': 2, 'migrat': 1, 'spontan': 1, 'warmer': 1, 'colder': 1, 'soret': 1, 'dufour': 1, 'multicompon': 1, 'priori': 2, 'rearward': 7, 'fan': 5, 'mound': 1, 'overexpans': 1, 'underexpans': 1, 'touch': 3, 'genuin': 1, 'influenti': 1, 'smalldeflect': 2, 'allround': 1, 'naval': 2, 'absent': 1, 'shocklay': 2, 'split': 4, 'shaft': 2, 'uncoupl': 5, 'methan': 2, 'combut': 1, 'beneath': 4, 'tumbl': 5, 'arrest': 1, 'painlev': 1, 'transcend': 1, 'tne': 1, 'lectur': 1, 'dicsov': 1, 'board': 1, 'prototyp': 2, 'deisgn': 1, 'rib': 1, 'consier': 1, 'uncertain': 1, 'guarante': 2, 'membran': 10, 'sector': 3, 'extension': 4, 'traction': 2, 'kempner': 1, 'massbalanc': 1, 'scatter': 7, 'ritz': 7, 'bernoulli': 1, 'gridwork': 1, 'antielast': 1, 'gather': 1, 'reproduc': 5, 'media': 2, 'prime': 1, 'despit': 2, 'fabric': 7, 'woven': 1, 'align': 1, 'vice': 2, 'versa': 2, 'superposit': 6, 'prismat': 1, 'equilater': 1, 'triangl': 2, 'hexagon': 2, 'hovercraft': 2, 'maritim': 1, 'search': 2, 'servic': 1, 'craft': 1, 'saunder': 1, 'roe': 1, 'american': 2, 'person': 1, 'undertaken': 4, 'econom': 4, 'downward': 4, 'focu': 1, 'salient': 3, 'convolut': 1, 'japan': 1, 'imai': 1, 'interferogram': 1, 'entireti': 1, 'unretard': 1, 'conjectur': 4, 'whitehead': 1, 'paradox': 3, 'hankel': 2, 'wedgetyp': 1, 'variabletemperatur': 1, 'aerodynamich': 1, 'foreknowledg': 1, 'adjoin': 1, 'supplementari': 2, 'navierstok': 2, 'cheng': 3, 'classifi': 1, 'bridg': 2, 'zakkay': 2, 'ting': 1, 'caplan': 1, 'octagon': 1, 'parasol': 1, 'monoplan': 2, 'hingeaxi': 1, 'attitud': 5, 'irrespect': 3, 'counteract': 1, 'dive': 3, 'isobar': 2, 'get': 3, 'predigest': 1, 'proposit': 1, 'vii': 1, 'endplat': 1, 'mostli': 1, 'sgn': 1, 'anti': 1, 'cubic': 4, 'droop': 2, 'localis': 2, 'legendr': 2, 'prone': 2, 'unconserv': 2, 'bevel': 1, 'thicker': 2, 'nonisotherm': 1, 'stine': 1, 'wanlass': 1, 'sibulkin': 1, 'investigaion': 1, 'spike': 2, 'hydrocarbon': 1, 'ethylen': 3, 'compound': 1, 'nacel': 4, 'blowdown': 5, 'nacelleexit': 1, 'degreer': 1, 'incrementalnorm': 1, 'sharpedg': 1, 'corrobor': 2, 'indici': 5, 'kirchhoff': 4, 'pitchingmo': 2, 'noncirculatori': 1, 'apparentmass': 1, 'acquisit': 1, 'possio': 2, 'birnbaum': 1, 'lastli': 2, 'kernel': 6, 'allmov': 1, 'nonsingular': 1, 'som': 1, 'wagner': 2, 'broad': 6, 'notabl': 1, 'glider': 5, 'steadyst': 1, 'redistribut': 2, 'reentri': 8, 'fold': 4, 'wingtip': 3, 'duce': 1, 'smallest': 2, 'sandpap': 1, 'unfold': 1, 'ofattack': 1, 'untrim': 1, 'angleof': 2, 'dihedr': 3, 'unif': 1, 'accident': 1, 'martian': 2, 'feet': 10, 'rpm': 1, 'ampl': 1, 'franc': 1, 'onera': 1, 'cosmonaut': 1, 'forefront': 1, 'news': 1, 'occas': 2, 'denomin': 1, 'aerocosmonaut': 1, 'abundantli': 1, 'built': 2, 'circumlunar': 1, 'akin': 1, 'illustri': 1, 'mind': 1, 'resourc': 1, 'librat': 1, 'commenc': 1, 'precipit': 3, 'massachusett': 1, 'sandwich': 13, 'honeycomb': 2, 'uni': 1, 'modal': 2, 'meansquar': 1, 'tensil': 4, 'pound': 8, 'strouhal': 1, 'nozzleexit': 1, 'thereaft': 2, 'specimen': 10, 'loudspeak': 1, 'respond': 2, 'spacewis': 1, 'cumul': 4, 'damag': 9, 'eye': 1, 'endeavour': 1, 'siren': 2, 'convict': 1, 'assur': 1, 'airlin': 1, 'pod': 1, 'gage': 5, 'elev': 6, 'aircrafttyp': 1, 'throw': 1, 'aluminium': 4, 'aluminumalloy': 2, 'discretefrequ': 1, 'shorter': 1, 'dictat': 1, 'preval': 1, 'chain': 1, 'schwarz': 1, 'inequ': 2, 'bent': 1, 'edgedisplac': 1, 'propound': 1, 'sectori': 2, 'reinforc': 6, 'deflexion': 2, 'semicircl': 1, 'weinstein': 1, 'judg': 2, 'connexion': 1, 'bisector': 1, 'laplacian': 1, 'muller': 1, 'transcendent': 1, 'inadequaci': 3, 'donnel': 19, 'flugg': 6, 'unten': 1, 'belief': 1, 'southwel': 3, 'america': 1, 'lundquist': 3, 'quarter': 5, 'circumferenti': 26, 'postbuckl': 7, 'michielsen': 1, 'leggett': 1, 'jone': 6, 'next': 3, 'dvl': 1, 'orthotrop': 12, 'rsult': 1, 'mercuri': 2, 'massbal': 1, 'efflux': 1, 'bodt': 1, 'gyrat': 1, 'canard': 1, 'branchlin': 1, 'lag': 5, 'kernelfunct': 1, 'sophist': 1, 'perimet': 5, 'klein': 1, 'anov': 1, 'disagre': 2, 'pessimist': 1, 'noteworthi': 1, 'boom': 12, 'overpressur': 3, 'inelast': 10, 'aluminum': 14, 'alloy': 16, 'monocoqu': 2, 'beyween': 1, 'breath': 3, 'node': 4, 'slosh': 1, 'highfrequ': 1, 'beat': 1, 'yarymovych': 1, 'hydrostat': 13, 'bay': 3, 'twomod': 1, 'transtabl': 2, 'riccati': 1, 'solubl': 2, 'endur': 1, 'con': 1, 'cater': 1, 'meter': 2, 'hoop': 3, 'janzen': 1, 'raleigh': 1, 'philo': 1, 'mag': 1, 'app': 1, 'spark': 1, 'stainless': 3, 'steel': 8, 'micron': 1, 'psig': 1, 'nonperm': 1, 'noninject': 1, 'dodecagon': 1, 'permiss': 4, 'valueless': 2, 'longest': 1, 'astrophys': 1, 'quantum': 1, 'decim': 2, 'imaginari': 1, 'bump': 1, 'liftingsurfac': 1, 'horsesho': 2, 'lmethod': 1, 'tailless': 1, 'buoyanc': 1, 'davi': 2, 'bourn': 2, 'hasimoto': 1, 'linder': 1, 'ambigu': 2, 'onto': 1, 'batchelor': 1, 'atlarg': 1, 'entrant': 1, 'ovalu': 1, 'unfavor': 2, 'circuitri': 1, 'kuchemann': 1, 'congress': 2, 'zurich': 2, 'wingbodi': 4, 'slew': 1, 'knee': 1, 'blown': 1, 'clarifi': 3, 'want': 2, 'avro': 1, 'worsen': 1, 'task': 1, 'expens': 2, 'phugoid': 1, 'statu': 4, 'warren': 1, 'gaug': 4, 'npl': 1, 'liner': 2, 'carborundum': 1, 'grain': 2, 'undroop': 1, 'sweptforward': 2, 'hero': 1, 'aerfoil': 1, 'repercuss': 1, 'roar': 1, 'risk': 2, 'incur': 4, 'insignific': 4, 'popularli': 1, 'widespread': 1, 'wright': 1, 'edward': 1, 'command': 1, 'radartrack': 1, 'tailwind': 1, 'objection': 1, 'crack': 2, 'bomber': 3, 'amplif': 5, 'cutoff': 1, 'bypass': 1, 'insight': 5, 'lesser': 2, 'whichev': 1, 'ratiobeen': 1, 'tran': 2, 'onic': 1, 'skirt': 2, 'clamshel': 1, 'dissimilar': 1, 'harden': 3, 'prager': 1, 'meant': 1, 'hollow': 2, 'reuss': 1, 'hencki': 1, 'budianski': 1, 'wellestablish': 1, 'uniaxi': 5, 'correspondingli': 3, 'hamper': 1, 'nonexist': 1, 'polyaxi': 1, 'legitim': 1, 'contradict': 1, 'crucial': 2, 'allud': 1, 'engess': 1, 'reducedmodulu': 1, 'turbanc': 1, 'uneven': 1, 'nonconserv': 3, 'realli': 2, 'complement': 3, 'impress': 1, 'overli': 1, 'unavoid': 1, 'stretch': 3, 'mere': 3, 'dome': 1, 'surpass': 1, 'item': 1, 'ascrib': 1, 'chien': 1, 'stoker': 1, 'aec': 2, 'safeti': 2, 'trick': 1, 'park': 1, 'spragu': 1, 'huang': 1, 'lingitudin': 1, 'coupon': 1, 'multiaxi': 1, 'inplan': 1, 'perman': 2, 'ruptur': 3, 'pressuris': 2, 'unstiffen': 5, 'unpressur': 2, 'wrinkl': 3, 'batdorf': 1, 'wavelength': 6, 'median': 5, 'viewpoint': 2, 'freeli': 2, 'timoshenko': 3, 'love': 4, 'nodal': 3, 'aural': 1, 'lineal': 1, 'noncircular': 3, 'doubli': 1, 'magnesium': 1, 'brass': 3, 'psf': 2, 'multibay': 1, 'unsupport': 1, 'unload': 2, 'unstress': 2, 'unanticip': 1, 'driest': 1, 'fluidiz': 1, 'bed': 1, 'thermalfatigu': 1, 'intercrystallin': 1, 'oxid': 3, 'intergranular': 1, 'previouslygiven': 1, 'nimon': 1, 'rheolog': 2, 'graham': 1, 'loop': 1, 'fractur': 2, 'eigenvector': 1, 'reactor': 1, 'unreal': 1, 'residu': 2, 'disloc': 1, 'immobil': 1, 'peclet': 1, 'worthi': 1, 'mckinnon': 1, 'gravit': 2, 'addendum': 3, 'envisag': 1, 'clearanc': 1, 'expend': 1, 'count': 1, 'acceleromet': 1, 'undoubtedli': 1, 'tubular': 1, 'unrestrain': 1, 'cooler': 1, 'bulkhead': 1, 'zuk': 1, 'pneumat': 1, 'encircl': 1, 'laid': 1, 'coverag': 2, 'unexplain': 1, 'airforc': 1, 'economi': 1, 'hybrid': 1, 'majorminor': 1, 'manocuvr': 1, 'counterclockwis': 1, 'feed': 2, 'kelvin': 2, 'zbrozek': 1, 'septemb': 1, 'auspic': 1, 'council': 1, 'iowa': 1, 'hydraul': 2, 'undertook': 1, 'request': 1, 'stochast': 1, 'exagger': 1, 'hash': 1, 'burst': 2, 'sea': 3, 'firm': 1, 'dramat': 1, 'pose': 1, 'spectacular': 1, 'malfunct': 1, 'confid': 1, 'caravel': 1, 'takeoff': 3, 'bare': 1, 'tungsten': 2, 'fifti': 2, 'indirectli': 1, 'spectral': 3, 'negat': 1, 'defi': 1, 'tractabl': 1, 'preclud': 1, 'premis': 1, 'beg': 1, 'ban': 1, 'forcibl': 1, 'pin': 1, 'conidt': 1, 'adam': 2, 'heav': 1, 'easiest': 1, 'broke': 1, 'recognis': 1, 'munk': 1, 'breadth': 2, 'nielsen': 1, 'katzen': 1, 'tang': 1, 'trapezoid': 2, 'higherord': 1, 'unbank': 1, 'speak': 3, 'cylinder': 1, 'mild': 1, 'duralumin': 1, 'proposel': 1, 'hundr': 1, 'ellipselik': 1, 'unsymmetr': 1, 'rewrit': 2, 'vlasov': 1, 'prikl': 1, 'meh': 1, 'placement': 1, 'insect': 1, 'mainten': 1, 'rivet': 1, 'lap': 1, 'roughen': 1, 'drosophila': 1, 'housefli': 1, 'mistak': 1, 'circumfer': 2, 'synthesi': 1, 'temp': 1, 'magnetoga': 1, 'asid': 1, 'tan': 1, 'pre': 2, 'kirk': 1, 'transduc': 1, 'decompos': 1, 'pump': 3, 'hub': 7, 'block': 4, 'forwardfac': 3, 'jetexit': 1, 'sharpli': 2, 'vertex': 3, 'shanley': 3, 'gerard': 1, 'rabotnov': 1, 'shesterikov': 1, 'herrmann': 1, 'armenaka': 2, 'cylinderhemispher': 1, 'toru': 2, 'mismatch': 1, 'nonconcurr': 1, 'closur': 1, 'sand': 3, 'wich': 1, 'snap': 2, 'bellevil': 1, 'bifurc': 2, 'scoop': 2, 'furnish': 2, 'longtim': 1, 'bornel': 1, 'kernal': 1, 'mitig': 1, 'stoni': 1, 'meteorit': 1, 'solidif': 1, 'venturi': 1, 'tional': 1, 'asm': 2, 'untest': 1, 'magnetofluidmechan': 1, 'magnetoplasma': 1, 'sail': 1, 'sizabl': 4, 'usabl': 2, 'obvious': 1, 'bonu': 1, 'perpendicularli': 2, 'arrow': 1, 'reentrytyp': 1, 'tobodi': 1, 'berthelot': 1, 'planck': 1, 'coalesc': 1, 'swallow': 1, 'spite': 1, 'uhf': 1, 'requenc': 1, 'inafinit': 1, 'ordnanc': 1, 'diversifi': 1, 'modest': 2, 'kay': 1, 'yeh': 1, 'copper': 1, 'graphit': 3, 'molybdenum': 1, 'deffer': 1, 'meridion': 5, 'streamtub': 3, 'viii': 1, 'redesign': 1, 'skewedparabol': 1, 'skew': 2, 'turbo': 1, 'turbomachin': 1, 'somewher': 2, 'prewhirl': 1, 'splitter': 1, 'impart': 1, 'mixedflow': 1, 'prolat': 1, 'never': 2, 'unexpectedli': 1, 'gardless': 1, 'benefit': 3, 'hous': 1, 'halv': 2, 'retrocket': 1, 'retrorocket': 1, 'plateau': 1, 'revis': 3, 'ofgrav': 2, 'princeton': 3, 'protrud': 2, 'poind': 1, 'marin': 1, 'unimport': 1, 'palt': 1, 'concret': 1, 'tangentmodulu': 2, 'librov': 1, 'isochronousstress': 1, 'columnmateri': 1, 'creepbuckl': 1, 'forti': 1, 'oven': 1, 'elaps': 2, 'crook': 1, 'phenomenolog': 2, 'polycrystallin': 1, 'equicohes': 1, 'iron': 1, 'adjacentequilibrium': 1, 'trefftz': 1, 'levi': 2, 'nongyroscop': 1, 'lobe': 2, 'uncontrol': 1, 'crinolin': 1, 'drape': 1, 'fourwav': 1, 'nearer': 1, 'marguerr': 2, 'internat': 1, 'mech': 2, 'cambridg': 1, 'wiley': 1, 'orderof': 1, 'stepdown': 1, 'creat': 5, 'judici': 1, 'meissner': 1, 'argument': 2, 'geckel': 1, 'cabin': 1, 'undeform': 2, 'nth': 2, 'mth': 1, 'russian': 1, 'inaccess': 1, 'grossman': 1, 'lyskov': 1, 'specialis': 1, 'satisfact': 2, 'attaindd': 1, 'indefinit': 1, 'labour': 1, 'fasten': 1, 'evidenc': 2, 'symposium': 2, 'delft': 1, 'holland': 1, 'atten': 1, 'scientist': 2, 'bimetal': 1, 'tradit': 1, 'keller': 1, 'reiss': 1, 'immov': 1, 'versatil': 1, 'corpor': 2, 'almen': 1, 'laszlo': 1, 'violat': 1, 'arrheniu': 3, 'crank': 1, 'nicolson': 1, 'bean': 2, 'largescal': 1, 'tilt': 11, 'researchvehicl': 1, 'sensor': 2, 'administr': 1, 'ablatedlength': 1, 'hammerhead': 1, 'reflex': 1, 'reducedfrequ': 1, 'packard': 1, 'torispher': 3, 'toroid': 5, 'prebuckl': 1, 'ignit': 4, 'quench': 2, 'come': 2, 'decomposit': 1, 'enorm': 1, 'ardc': 1, 'goe': 1, 'orlfic': 1, 'hemispheroid': 1, 'mesh': 1, 'old': 1, 'skill': 1, 'practition': 1, 'superscript': 1, 'newli': 1, 'dirichlet': 1, 'twin': 2, 'profound': 1, 'tractor': 1, 'buri': 1, 'redirect': 1, 'regain': 2, 'largechord': 1, 'mph': 1, 'upward': 1, 'auxiliari': 2, 'plain': 2, 'lucit': 2, 'polystyren': 1, 'inorgan': 2, 'salt': 2, 'ammonium': 2, 'chlorid': 2, 'sodium': 4, 'phenol': 2, 'melamin': 1, 'fiber': 4, 'lamin': 1, 'unman': 1, 'haveg': 1, 'rocketon': 1, 'stagnationpoint': 2, 'unabl': 1, 'nonabl': 1, 'inconel': 1, 'polym': 1, 'boost': 1, 'payload': 2, 'nautic': 1, 'creas': 1, 'access': 1, 'index': 2, 'unblunt': 1, 'decrement': 2, 'moor': 2, 'audio': 1, 'subaudio': 1, 'cathod': 1, 'dampomet': 1, 'centaur': 1, 'midchord': 1, 'percentthick': 1, 'whisker': 1, 'tailor': 3, 'secant': 1, 'octahedr': 1, 'perplex': 1, 'thinwal': 1, 'basin': 1, 'repair': 1, 'sequel': 1, 'conceptu': 2, 'foundat': 1, 'groov': 1, 'papreg': 1, 'cellular': 2, 'cellulos': 1, 'acet': 1, 'bulg': 1, 'admiss': 2, 'handbook': 1, 'kendrick': 1, 'nash': 2, 'embryon': 1, 'threshold': 1, 'weaken': 2, 'caution': 1, 'edit': 1, 'unfir': 2, 'psi': 1, 'undergon': 1, 'safe': 2, 'interim': 1, 'prism': 1, 'knuckl': 2, 'rigidli': 1, 'unflang': 1, 'toricon': 1, 'nonhomogen': 1, 'langer': 1, 'amer': 1, 'wissler': 1, 'dissert': 1, 'jointli': 1, 'beskin': 1, 'randomli': 1, 'satelit': 1, 'standoff': 2, 'shockstandoff': 1, 'apropri': 1, 'millisecond': 5, 'combustionh': 1, 'driver': 5, 'tuft': 2, 'gravel': 3, 'stronger': 1, 'deeper': 1, 'intensif': 1, 'intensifi': 1, 'erod': 2, 'thrown': 2, 'struck': 1, 'errat': 1, 'recircul': 3, 'soft': 5, 'nocturn': 1, 'daytim': 1, 'lost': 1, 'capillari': 1, 'claus': 1, 'reinvestig': 1, 'tempratur': 1, 'singli': 1, 'morn': 1, 'waveveloc': 1, 'millimet': 1, 'devreas': 1, 'deton': 2, 'jouguet': 1, 'periment': 1, 'verticaltak': 1, 'forwardflight': 1, 'forwardacceler': 1, 'wingpropel': 1, 'halfway': 1, 'helicopt': 2, 'upflow': 1, 'slower': 1, 'andland': 1, 'dirt': 2, 'soak': 1, 'spray': 1, 'snow': 1, 'obliter': 1, 'vision': 1, 'dent': 1, 'punctur': 2, 'superfici': 1, 'multipropel': 1, 'inadvert': 1, 'taxi': 1, 'macadam': 1, 'crush': 1, 'stone': 2, 'chase': 1, 'hangl': 1, 'accentu': 1, 'rudimentari': 1, 'undesir': 1, 'airfram': 2, 'radialband': 1, 'strengthen': 1, 'unfil': 1, 'expound': 1, 'bleich': 1, 'salmon': 1, 'goodier': 1, 'append': 2, 'readi': 1, 'yuan': 1, 'rectangl': 1, 'garabedian': 1, 'wet': 2, 'dorodnitzinhowarth': 1, 'heterogen': 2, 'nonreact': 2, 'reactiv': 2, 'deflagr': 1, 'vent': 1, 'boiloff': 1, 'nonalign': 1, 'superfast': 1, 'unexpect': 1, 'millikan': 1, 'heimenz': 1, 'conductionexpans': 1, 'wakelik': 1, 'jetlik': 1, 'frozenflow': 1, 'singletyp': 1, 'enskog': 1, 'bakanov': 1, 'deryagin': 1, 'curvilinear': 3, 'synthes': 1, 'locu': 1, 'unperturb': 1, 'hyperlipt': 1, 'grad': 1, 'mccune': 1, 'underexpand': 1, 'calib': 1, 'hroma': 1, 'iodin': 1, 'gibb': 1, 'dalton': 1, 'dilut': 1, 'lennard': 1, 'centripet': 1, 'nonneg': 1, 'erdmann': 1, 'weierstrass': 1, 'switch': 1, 'subarc': 1, 'vertexcent': 1, 'pyramid': 1, 'weaker': 1, 'nonisentrop': 1, 'totalangl': 1, 'paint': 1, 'hemi': 1, 'dewpoint': 1, 'utilz': 1, 'dust': 1, 'cusp': 3, 'wavefront': 1, 'mhd': 1, 'acrodynam': 1, 'shockless': 1, 'sesir': 1, 'consumpt': 1, 'motionless': 1, 'coher': 1, 'subsidiari': 1, 'speedsthre': 1, 'veociti': 1, 'aerothermodynam': 1, 'reshotko': 1, 'elong': 1, 'hydroballist': 1, 'glycerin': 1, 'laminarturbul': 1, 'oversimplifi': 1, 'unrealist': 1, 'unconstrain': 1, 'semiballist': 1, 'balsa': 1, 'isofoam': 1, 'modul': 5, 'kelley': 1, 'ribbon': 1, 'dipol': 1, 'maximuin': 1, 'plk': 1, 'portiou': 1, 'spirit': 1, 'poincar': 1, 'kuo': 1, 'annul': 1, 'termperatur': 1, 'hypersoul': 1, 'summat': 1, 'avov': 1, 'cosin': 1, 'curtain': 1, 'undersid': 1, 'steamlin': 1, 'sturm': 1, 'liouvil': 1, 'bounari': 1, 'murphi': 1, 'nonmagnet': 2, 'ponderomot': 1, 'implement': 1, 'cancel': 2, 'scarshaack': 1, 'injectioncool': 1, 'laminarboundari': 1, 'integrodifferenti': 1, 'integrand': 1, 'rung': 1, 'momentari': 1, 'instant': 1, 'longitudinalvortic': 1, 'overshadow': 1, 'fale': 1, 'reserv': 1, 'suppress': 2, 'schemat': 1, 'silenc': 1, 'teeth': 1, 'nonplanar': 1, 'termwis': 1, 'shockexpans': 1, 'mahoni': 1, 'conductor': 1, 'coulomb': 1, 'loitsianskii': 1, 'bolshakov': 1, 'merger': 1, 'outermost': 1, 'dilat': 1, 'ifer': 1, 'localsimilar': 1, 'acrothermochemistri': 1, 'maxwel': 1, 'mirel': 1, 'martin': 1, 'inhomogen': 1, 'unresolv': 1, 'ari': 1, 'boundwel': 1, 'depict': 1, 'cast': 1, 'pseudo': 1, 'semidiamet': 1, 'nonslend': 1, 'holder': 1, 'calcualt': 2, 'sugar': 1, 'hypass': 1, 'lightli': 1, 'helic': 1, 'evvard': 1, 'krasilshchikova': 1, 'nonorthogon': 1, 'noncommun': 1, 'complimentari': 1, 'unsteadili': 1, 'recov': 1, 'tollmienschlicht': 1, 'aerotherm': 1, 'age': 1, 'cumbersom': 1, 'sigular': 1, 'withdraw': 1, 'tubul': 1, 'shyperson': 1, 'constantli': 1, 'inconclus': 1, 'sobson': 1, 'stripanalysi': 1, 'unmodul': 2, 'resultantforc': 1, 'plume': 2, 'user': 1, 'nitric': 1, 'shuffl': 1, 'deplet': 1, 'deioniz': 1, 'sheath': 1, 'decad': 1, 'hollowcylind': 1, 'hantzsch': 1, 'wendt': 1, 'bullet': 1, 'spindl': 1, 'colston': 1, 'fort': 1, 'halstead': 1, 'climin': 1, 'origint': 1, 'twoand': 1, 'ogivecylind': 1, 'diaphragm': 2, 'sight': 1, 'oscillograph': 1, 'spectrograph': 1, 'mirror': 1, 'interpos': 1, 'bright': 1, 'degreec': 1, 'disequilibrium': 1, 'indium': 1, 'blue': 1, 'flash': 1, 'thirdli': 1, 'coat': 1, 'orr': 1, 'sommerfeld': 1, 'nondissip': 2, 'sketchi': 1, 'resili': 1, 'altogeth': 1, 'unfavour': 1, 'china': 1, 'clay': 1, 'pimpl': 1, 'protuber': 1, 'drill': 2, 'throttl': 1, 'handley': 1, 'ltd': 1, 'suck': 1, 'ejector': 1, 'gascou': 1, 'injector': 1, 'axialthrust': 1, 'hick': 1, 'chu': 1, 'turbojetpow': 1, 'kussner': 1, 'nineteen': 1, 'stipul': 1, 'untwist': 2, 'lowturbul': 1, 'solidconstruct': 1, 'centerof': 1, 'rectilinear': 1, 'linearizedtheori': 1, 'price': 1, 'deepest': 1, 'researchtyp': 1, 'pressureratio': 1, 'jetboundari': 1, 'billow': 1, 'unitari': 1, 'inop': 1, 'ramp': 1, 'thing': 1, 'largeangl': 1, 'supplort': 1, 'dispar': 1, 'rand': 1, 'warp': 1, 'velocityprofil': 1, 'velocitycompon': 1, 'yeild': 1, 'interdepend': 1, 'agenc': 1, 'provok': 1, 'osoen': 1, 'globul': 1, 'lengthen': 1, 'eddyviscos': 1, 'lowsubson': 1, 'warhead': 1, 'carrier': 1, 'ofr': 1, 'debat': 1, 'breguet': 1, 'highenergi': 1, 'grand': 1, 'exot': 1, 'unrestrict': 1, 'thermopropuls': 1, 'strang': 1, 'unorthodox': 1, 'outweight': 1, 'shelter': 1, 'shortli': 1, 'financi': 1, 'midway': 1, 'fourthord': 1, 'regist': 1, 'cauchi': 2, 'reformul': 1, 'delin': 1, 'aeolotrop': 1, 'determinant': 1, 'intuit': 1, 'sharpnos': 1, 'hoshizaki': 1, 'recover': 1, 'fralich': 1, 'ing': 1}\n"
     ]
    }
   ],
   "source": [
    "print(DF)"
   ]
  },
  {
   "cell_type": "code",
   "execution_count": 17,
   "metadata": {
    "ExecuteTime": {
     "end_time": "2020-02-19T05:28:11.441300Z",
     "start_time": "2020-02-19T05:28:11.428273Z"
    },
    "colab": {
     "base_uri": "https://localhost:8080/"
    },
    "executionInfo": {
     "elapsed": 20,
     "status": "ok",
     "timestamp": 1697984799184,
     "user": {
      "displayName": "nabil bcom",
      "userId": "04169804032469069549"
     },
     "user_tz": -120
    },
    "id": "2abUakXo4JEz",
    "outputId": "110beb8e-b03b-4b8b-f641-092caee6b641"
   },
   "outputs": [
    {
     "name": "stdout",
     "output_type": "stream",
     "text": [
      "4394\n"
     ]
    }
   ],
   "source": [
    "# compter le nombre de mots uniques dans le corpus\n",
    "vocab_size = len(DF)\n",
    "print(vocab_size)"
   ]
  },
  {
   "cell_type": "code",
   "execution_count": 18,
   "metadata": {
    "ExecuteTime": {
     "end_time": "2020-02-19T05:28:14.501249Z",
     "start_time": "2020-02-19T05:28:14.490259Z"
    },
    "colab": {
     "base_uri": "https://localhost:8080/"
    },
    "executionInfo": {
     "elapsed": 287,
     "status": "ok",
     "timestamp": 1697984799467,
     "user": {
      "displayName": "nabil bcom",
      "userId": "04169804032469069549"
     },
     "user_tz": -120
    },
    "id": "uRO4nZYy4JEz",
    "outputId": "4c474f00-9704-4438-c521-36d902726bd8"
   },
   "outputs": [
    {
     "name": "stdout",
     "output_type": "stream",
     "text": [
      "['experiment', 'investig', 'aerodynam', 'wing', 'slipstream', 'studi', 'propel', 'made', 'order', 'determin', 'spanwis', 'distribut', 'lift', 'increas', 'due', 'differ', 'angl', 'attack', 'free', 'stream', 'veloc', 'ratio', 'result', 'intend', 'part', 'evalu', 'basi', 'theoret', 'treatment', 'problem', 'compar', 'span', 'load', 'curv', 'togeth', 'support', 'evid', 'show', 'substanti', 'increment', 'produc', 'destal', 'boundari', 'layer', 'control', 'effect', 'integr', 'remain', 'subtract', 'found', 'agre', 'well', 'potenti', 'flow', 'theori', 'empir', 'specif', 'configur', 'experi', 'simpl', 'shear', 'past', 'flat', 'plate', 'incompress', 'fluid', 'small', 'viscos', 'high', 'speed', 'viscou', 'two', 'dimension', 'bodi', 'usual', 'necessari', 'consid', 'shock', 'wave', 'emit', 'nose', 'lead', 'edg', 'consequ', 'exist', 'inviscid', 'rotat', 'region', 'situat', 'aris', 'instanc', 'hyperson', 'somewhat', 'prandtl', 'classic', 'origin', 'outsid', 'irrot', 'must', 'possibl', 'vortic', 'recent', 'discuss', 'ferri', 'libbi', 'present', 'paper', 'shown', 'treat', 'approxim', 'novel', 'featur', 'constant', 'restrict', 'steadi', 'equat', 'pressur', 'gradient', 'solut', 'laminar', 'boundarylay', 'thick', 'skin', 'friction', 'obtain', 'karman', 'pohlhausen', 'techniqu', 'comparison', 'uniform', 'also', 'one', 'transient', 'heat', 'conduct', 'doubl', 'slab', 'subject', 'linear', 'input', 'time', 'intern', 'analyt', 'composit', 'expos', 'surfac', 'triangular', 'rate', 'type', 'may', 'occur', 'exampl', 'multilay', 'contribut', 'reader', 'forum', 'wassermann', 'gave', 'temperatur', 'face', 'insul', 'thermal', 'resist', 'interfac', 'three', 'particular', 'case', 'propos', 'give', 'gener', 'indic', 'briefli', 'use', 'method', 'refer', 'point', 'given', 'incomplet', 'longer', 'durat', 'rough', 'transit', 'superson', 'perform', 'wind', 'tunnel', 'jet', 'propuls', 'laboratori', 'california', 'institut', 'technolog', 'element', 'sphere', 'tain', 'local', 'mach', 'number', 'vari', 'trip', 'size', 'posit', 'space', 'reynold', 'per', 'inch', 'turbul', 'induc', 'begin', 'row', 'spiral', 'trail', 'contamin', 'break', 'surround', 'field', 'appear', 'rather', 'suddenli', 'becom', 'violent', 'height', 'rel', 'breakdown', 'strength', 'still', 'persist', 'sublay', 'ensu', 'later', 'littl', 'upon', 'initi', 'kinemat', 'outer', 'fourth', 'power', 'viz', 'measur', 'dryden', 'avail', 'data', 'wire', 'could', 'repres', 'reason', 'term', 'function', 'relat', 'base', 'distanc', 'displac', 'suggest', 'addit', 'primarili', 'extend', 'rang', 'higher', 'valu', 'cours', 'nation', 'bureau', 'standard', 'twodimension', 'desir', 'see', 'whether', 'would', 'behav', 'way', 'galcit', 'nomin', 'phosphoresc', 'lacquer', 'detect', 'good', 'agreement', 'total', 'head', 'rake', 'along', 'pitot', 'survey', 'least', 'transvers', 'caus', 'sidewal', 'far', 'downstream', 'spread', 'degre', 'low', 'disturb', 'air', 'inject', 'mean', 'hasten', 'extens', 'although', 'onset', 'fulli', 'develop', 'much', 'regardless', 'amount', 'qualit', 'emphasi', 'greater', 'stabil', 'lower', 'direct', 'float', 'verifi', 'complet', 'earlier', 'coeffici', 'impact', 'tube', 'analysi', 'densiti', 'extrem', 'appreci', 'correspond', 'continuum', 'similar', 'compress', 'mix', 'mani', 'practic', 'interest', 'wherein', 'stagnat', 'anoth', 'major', 'interact', 'take', 'place', 'presenc', 'axial', 'characterist', 'influenc', 'significantli', 'devic', 'phenomena', 'cite', 'program', 'research', 'carri', 'polytechn', 'brooklyn', 'structur', 'aerelast', 'consider', 'flight', 'domin', 'factor', 'design', 'aircraft', 'aeroelast', 'matter', 'concern', 'larg', 'interrel', 'summari', 'tool', 'aeronaut', 'engin', 'meet', 'demand', 'state', 'art', 'respect', 'transfer', 'mode', 'failur', 'combin', 'acrothermoelast', 'allevi', 'summar', 'final', 'avenu', 'fundament', 'law', 'stress', 'differenti', 'proper', 'modif', 'isotherm', 'fact', 'calcul', 'strain', 'unheat', 'seri', 'call', 'applic', 'analog', 'solid', 'detail', 'howev', 'complic', 'involv', 'concept', 'feedback', 'forc', 'box', 'solv', 'piston', 'new', 'aeroelastician', 'describ', 'illustr', 'extent', 'simplif', 'unsteadi', 'achiev', 'certain', 'known', 'collect', 'physic', 'model', 'hay', 'lighthil', 'airfoil', 'finit', 'systemat', 'landahl', 'util', 'expans', 'invers', 'neglig', 'predict', 'relationship', 'normal', 'compon', 'motion', 'comput', 'flutter', 'alway', 'reduc', 'elementari', 'assum', 'essenti', 'close', 'form', 'bendingtors', 'properti', 'typic', 'section', 'exact', 'wherev', 'fairli', 'moreov', 'demonstr', 'increasingli', 'import', 'profil', 'shape', 'grow', 'larger', 'discoveri', 'almost', 'imposs', 'complex', 'analys', 'panel', 'iter', 'procedur', 'outlin', 'improv', 'eigenvalu', 'success', 'introduct', 'review', 'includ', 'gust', 'respons', 'rapid', 'maneuv', 'elast', 'slight', 'ackeret', 'formula', 'regard', 'futur', 'area', 'labor', 'minimum', 'loss', 'precis', 'zone', 'nonlinear', 'neglect', 'logic', 'estim', 'analyz', 'thermoelast', 'buckl', 'deviat', 'static', 'across', 'rais', 'critic', 'galerkin', 'unbuckl', 'question', 'sever', 'author', 'condit', 'formul', 'numer', 'matrix', 'thu', 'avoid', 'constraint', 'bend', 'rigid', 'confirm', 'limit', 'amplitud', 'transform', 'equival', 'first', 'stewartson', 'except', 'explicit', 'requir', 'key', 'fluctuat', 'postul', 'appar', 'associ', 'mass', 'invari', 'rise', 'separ', 'independ', 'report', 'self', 'preserv', 'remark', 'eddi', 'connect', 'wake', 'behind', 'missil', 'vehicl', 'divis', 'electr', 'compani', 'axisymmetr', 'lack', 'make', 'ration', 'appli', 'infinitesim', 'mager', 'partial', 'valid', 'assumpt', 'establish', 'diffus', 'radial', 'compressor', 'note', 'impel', 'wheel', 'guid', 'vane', 'arrang', 'circular', 'radiu', 'fig', 'start', 'circl', 'vector', 'prescrib', 'zero', 'infin', 'fulfil', 'conic', 'work', 'without', 'symmetri', 'yet', 'deriv', 'ellipt', 'cone', 'approach', 'generalis', 'newtonian', 'lee', 'amr', 'rev', 'blunt', 'pointednos', 'express', 'sin', 'inclin', 'subscript', 'max', 'maximum', 'revert', 'superior', 'correl', 'figur', 'variat', 'paramet', 'believ', 'engag', 'hardwar', 'slip', 'perturb', 'dash', 'impuls', 'infinit', 'energi', 'account', 'jump', 'move', 'rarefi', 'path', 'appropri', 'maslen', 'aero', 'sci', 'june', 'behavior', 'knudsen', 'cylind', 'exterior', 'parallel', 'axi', 'blasiu', 'curvatur', 'plane', 'magnitud', 'signific', 'recoveri', 'quantiti', 'insensit', 'dissoci', 'extern', 'atom', 'recombin', 'exactli', 'set', 'ordinari', 'even', 'chemic', 'reaction', 'proceed', 'slowli', 'thermochem', 'equilibrium', 'nonequilibrium', 'enter', 'depend', 'catalyt', 'noncatalyt', 'wall', 'frozen', 'slow', 'fast', 'introduc', 'interpret', 'scale', 'conclud', 'accur', 'unaffect', 'provid', 'lewi', 'near', 'uniti', 'slender', 'drag', 'afterbodi', 'contain', 'right', 'nearli', 'dimens', 'exhibit', 'directli', 'intens', 'blast', 'taylor', 'lin', 'sakurai', 'hammitt', 'bogdonoff', 'helium', 'less', 'satisfactori', 'hemispher', 'junction', 'class', 'revolut', 'entir', 'geometri', 'find', 'growth', 'diamet', 'replac', 'forward', 'portion', 'bluntnos', 'taken', 'current', 'led', 'realiz', 'purpos', 'aid', 'aerodynamieist', 'frame', 'faster', 'examin', 'view', 'dynam', 'basic', 'name', 'fall', 'whose', 'explos', 'sedov', 'probstein', 'inquir', 'einbind', 'variou', 'mention', 'converg', 'nonuniform', 'difficult', 'expect', 'simul', 'whole', 'builtup', 'varieti', 'convect', 'side', 'restraint', 'environ', 'linearli', 'period', 'acceler', 'inform', 'second', 'wide', 'flang', 'beam', 'length', 'photo', 'multiweb', 'photothermoelast', 'long', 'literatur', 'dimensionless', 'biot', 'reveal', 'observ', 'center', 'web', 'sourc', 'discrep', 'trace', 'employ', 'multicellular', 'criterion', 'cover', 'descend', 'atmospher', 'rapidli', 'ballist', 'trajectori', 'oscillatori', 'graviti', 'allow', 'written', 'manner', 'undamp', 'oscil', 'spring', 'system', 'equal', 'variabl', 'envelop', 'damp', 'prospect', 'magneto', 'magnet', 'probabl', 'pure', 'seed', 'hydrodynam', 'magnetogasdynam', 'poiscuil', 'liquid', 'quasi', 'last', 'attract', 'deceler', 'subson', 'channel', 'regim', 'chart', 'construct', 'advantag', 'accru', 'suffici', 'justifi', 'among', 'unsolv', 'reduct', 'electrod', 'contact', 'provis', 'gasdynam', 'continu', 'plasma', 'cross', 'hand', 'duct', 'serv', 'nontrivi', 'sort', 'resler', 'sear', 'sought', 'possess', 'algebra', 'simplic', 'sinc', 'cool', 'like', 'gaseou', 'follow', 'paragraph', 'devis', 'yield', 'symmetr', 'slightli', 'henc', 'detach', 'herein', 'better', 'conclus', 'refin', 'around', 'familiar', 'nonvisc', 'perhap', 'open', 'seem', 'therefor', 'inevit', 'proce', 'need', 'either', 'happen', 'unfamiliar', 'extrapol', 'test', 'forebodi', 'sonic', 'line', 'furthermor', 'materi', 'conjunct', 'convent', 'suppli', 'semiempir', 'scheme', 'transon', 'link', 'mechan', 'pattern', 'domain', 'reflect', 'chang', 'slope', 'quantit', 'uncamb', 'superimpos', 'smooth', 'level', 'cent', 'singl', 'fix', 'locat', 'optic', 'magnifi', 'schlieren', 'definit', 'delay', 'promot', 'advers', 'decreas', 'moder', 'hot', 'anemomet', 'princip', 'natur', 'light', 'overal', 'fruit', 'drawn', 'gyroscop', 'vibrat', 'flexibl', 'mount', 'ask', 'vibratori', 'whirl', 'thought', 'horizont', 'cantilev', 'vertic', 'moment', 'pitch', 'yaw', 'stiff', 'tical', 'play', 'role', 'undergo', 'tip', 'disc', 'divid', 'four', 'deal', 'photograph', 'end', 'coupl', 'airplan', 'consist', 'affect', 'frequenc', 'subsequ', 'toambient', 'argu', 'explain', 'revers', 'phenomenon', 'eter', 'undisturb', 'station', 'submit', 'opposit', 'characteristi', 'standpoint', 'contempl', 'mainli', 'actual', 'benefici', 'receiv', 'necessarili', 'tangent', 'let', 'say', 'quit', 'blunter', 'spheric', 'conceiv', 'heattransf', 'porou', 'suction', 'gupta', 'unit', 'act', 'neg', 'semi', 'obviou', 'sens', 'magnetohydrodynam', 'electromagnet', 'freedom', 'excess', 'charg', 'caviti', 'notch', 'visual', 'sparkschlieren', 'pictur', 'depth', 'oncom', 'tomomentum', 'comment', 'matric', 'publish', 'journal', 'statement', 'bring', 'attent', 'shed', 'hopeless', 'abovement', 'intim', 'aspect', 'lowaspect', 'arbitrari', 'orient', 'member', 'permit', 'ideal', 'network', 'flexur', 'interconnect', 'torsion', 'deflect', 'compat', 'product', 'column', 'assembl', 'step', 'bystep', 'fashion', 'accomplish', 'multipl', 'squar', 'compos', 'oper', 'unknown', 'favor', 'tabl', 'entropi', 'windward', 'meridian', 'tend', 'enabl', 'veiociti', 'special', 'crocco', 'infer', 'within', 'effort', 'readili', 'mathemat', 'polynomi', 'surfacetemperatur', 'anomali', 'attribut', 'customari', 'inappropri', 'net', 'incorrect', 'brief', 'facilit', 'entitl', 'thin', 'simultan', 'momentum', 'held', 'sutherland', 'ambient', 'main', 'skinfrict', 'abil', 'withstand', 'correctli', 'angular', 'flux', 'deform', 'camber', 'chord', 'store', 'previous', 'delta', 'untap', 'sweptback', 'cylindr', 'ogiv', 'shadowgraph', 'scope', 'encompass', 'adiabat', 'great', 'attach', 'upstream', 'reattach', 'otherwis', 'reson', 'accompani', 'sixth', 'accuraci', 'short', 'seventh', 'adequ', 'proport', 'throughout', 'tsien', 'fine', 'wider', 'might', 'similarli', 'defin', 'rule', 'technic', 'error', 'ignor', 'percent', 'sharp', 'half', 'modifi', 'attain', 'immedi', 'orific', 'true', 'width', 'onetenth', 'falkner', 'skan', 'picard', 'euler', 'nondimension', 'imperm', 'five', 'uncool', 'ture', 'weight', 'tabul', 'nusselt', 'roll', 'tail', 'conformaltransform', 'often', 'interfer', 'quot', 'admit', 'absolut', 'twice', 'uniqu', 'famili', 'identifi', 'viscid', 'remaind', 'exceed', 'semivertex', 'talbot', 'ramet', 'maccol', 'chapman', 'rubesin', 'obliqu', 'imping', 'weak', 'sound', 'refract', 'isentrop', 'attenu', 'incid', 'stationari', 'spatial', 'sinusoid', 'fourier', 'passag', 'acoust', 'nois', 'joint', 'stiffen', 'winglik', 'electron', 'interior', 'averag', 'peak', 'greatli', 'travers', 'ascend', 'skip', 'recur', 'distinguish', 'bessel', 'trigonometr', 'medium', 'imperfect', 'compil', 'gase', 'suitabl', 'chosen', 'volum', 'entri', 'capsul', 'capabl', 'realga', 'supercrit', 'diverg', 'crest', 'chordwis', 'satisfactorili', 'glauert', 'wherebi', 'divers', 'advanc', 'bound', 'ident', 'progress', 'strong', 'seventhpow', 'chief', 'govern', 'encount', 'inde', 'latter', 'simplifi', 'tietjen', 'emphas', 'gain', 'sign', 'rayleigh', 'tollmien', 'vanish', 'turbulen', 'coundari', 'interferometr', 'cold', 'fatigu', 'pertain', 'powerpl', 'common', 'random', 'discret', 'life', 'particularli', 'fighter', 'fli', 'altitud', 'apparatu', 'record', 'output', 'microphon', 'fuselag', 'root', 'longitudin', 'fuselagesect', 'unduli', 'hyperveloc', 'unpow', 'day', 'rocket', 'motor', 'character', 'return', 'earth', 'glide', 'senior', 'naca', 'radiant', 'effici', 'highest', 'disadvantag', 'offset', 'artific', 'kinet', 'minim', 'coolant', 'neighborhood', 'convert', 'compens', 'radiat', 'back', 'kept', 'precess', 'instabl', 'compris', 'plant', 'backup', 'neutral', 'sensit', 'asymmetri', 'airspe', 'thrust', 'axe', 'strongli', 'trend', 'add', 'finish', 'foot', 'previou', 'microinch', 'disappear', 'langley', 'granular', 'particl', 'trigger', 'threedimension', 'spot', 'top', 'disk', 'reexamin', 'dissip', 'inaccuraci', 'correct', 'distort', 'coordin', 'torqu', 'ablat', 'glass', 'protect', 'shield', 'irbm', 'melt', 'homogen', 'opaqu', 'nondecompos', 'corollari', 'realist', 'hypothet', 'radi', 'steep', 'penetr', 'monoton', 'emiss', 'supposedli', 'exert', 'disregard', 'solar', 'proton', 'event', 'man', 'geophys', 'year', 'igi', 'cooper', 'igc', 'fraction', 'flare', 'reach', 'arriv', 'lie', 'spectrum', 'mev', 'activ', 'owe', 'releas', 'began', 'august', 'toward', 'understand', 'terrestri', 'sequenc', 'identif', 'recogn', 'hazard', 'juli', 'becam', 'human', 'forecast', 'clearli', 'scientif', 'preliminari', 'unlik', 'plug', 'coaxial', 'centerlin', 'psia', 'prevail', 'efficaci', 'left', 'ioniz', 'process', 'decay', 'away', 'core', 'thermodynam', 'map', 'conductioncontrol', 'widen', 'sec', 'peripher', 'proxim', 'ground', 'issu', 'hover', 'aerial', 'insofar', 'augment', 'pipe', 'metal', 'freeconvect', 'hartmann', 'grashof', 'buoyant', 'submerg', 'volumetr', 'articl', 'cutout', 'ahead', 'depress', 'beyond', 'collaps', 'leav', 'mutual', 'protrus', 'pertin', 'inner', 'recompress', 'thicken', 'inward', 'gradual', 'floor', 'pronounc', 'throat', 'reli', 'principl', 'conserv', 'feasibl', 'barrier', 'environment', 'grober', 'titl', 'stonecyph', 'perfect', 'ago', 'drew', 'page', 'puls', 'transmiss', 'capacit', 'redund', 'digit', 'modern', 'opportun', 'urgent', 'hopelessli', 'capac', 'desk', 'difficulti', 'shift', 'tediou', 'peculiar', 'irregular', 'geometr', 'handl', 'organ', 'subroutin', 'format', 'plastic', 'philosophi', 'cut', 'shell', 'intersect', 'none', 'plausibl', 'simpler', 'forth', 'full', 'busemann', 'mangler', 'asymptot', 'zeroth', 'expon', 'satisfi', 'hoff', 'torda', 'cap', 'spar', 'graph', 'especi', 'attempt', 'reanalyz', 'reanalysi', 'represent', 'rogh', 'plot', 'airstream', 'foil', 'properli', 'transport', 'shockwav', 'overexpand', 'nozzl', 'etc', 'von', 'explicitli', 'statist', 'object', 'paramount', 'late', 'friedman', 'tri', 'isotrop', 'abl', 'windstream', 'done', 'countri', 'fage', 'townend', 'simmon', 'england', 'isol', 'transmit', 'action', 'adjac', 'unbalanc', 'preponder', 'occasion', 'shorten', 'psycholog', 'physiolog', 'attend', 'passeng', 'crew', 'drastic', 'hardli', 'easili', 'streamlin', 'enthalpi', 'unyaw', 'segment', 'speci', 'schmidt', 'alon', 'molecul', 'collis', 'accept', 'classif', 'oppos', 'flame', 'potter', 'butler', 'burn', 'extinct', 'premix', 'heimel', 'nonconduct', 'perpendicular', 'retard', 'induct', 'log', 'azimuth', 'round', 'third', 'commonli', 'adopt', 'balanc', 'confluent', 'hypergeometr', 'prove', 'branch', 'sediment', 'isotop', 'protein', 'molecular', 'ultracentrifug', 'discharg', 'frequent', 'six', 'insert', 'grid', 'rod', 'impos', 'grade', 'strictli', 'weakli', 'secondari', 'danger', 'inher', 'tendenc', 'lucid', 'bluff', 'departur', 'promis', 'diatom', 'excit', 'deduc', 'eleg', 'bow', 'typifi', 'dismiss', 'sometim', 'accord', 'concentr', 'freeman', 'plu', 'centrifug', 'automat', 'hartre', 'womersley', 'choleski', 'neighbourhood', 'goldstein', 'rectangular', 'degener', 'charact', 'signal', 'airflow', 'mask', 'background', 'autocorrel', 'crosscorrel', 'filter', 'greatest', 'turn', 'scan', 'randon', 'lyon', 'exponenti', 'smaller', 'hysteret', 'lubric', 'film', 'hypothesi', 'bear', 'smith', 'fuller', 'hyperbol', 'mathieu', 'non', 'minor', 'paraboloid', 'stoke', 'substitut', 'navier', 'tomotika', 'tamada', 'quart', 'appl', 'math', 'vicin', 'reject', 'singular', 'meyer', 'asymmetr', 'van', 'gorcum', 'passiv', 'pole', 'stratiform', 'idea', 'draw', 'preston', 'furnac', 'stabl', 'best', 'suit', 'merit', 'isoenerget', 'nonaxisymmetr', 'felt', 'arbitrarili', 'lockhe', 'abbrevi', 'inconsist', 'nitrogen', 'subtend', 'machnumb', 'pibal', 'stand', 'alter', 'earli', 'apprais', 'inadequ', 'boattail', 'foreign', 'freon', 'mark', 'fair', 'wedg', 'exploratori', 'vortex', 'gross', 'twenti', 'exit', 'ten', 'eniac', 'shortest', 'group', 'sampl', 'elabor', 'contour', 'interpol', 'behaviour', 'uniformli', 'regular', 'enclos', 'distinct', 'descript', 'match', 'artifici', 'laplac', 'resort', 'worth', 'band', 'cycl', 'octav', 'farther', 'diagram', 'quadrupol', 'doppler', 'predominantli', 'orthogon', 'monopol', 'predomin', 'world', 'scienc', 'hinder', 'exhaust', 'reichardt', 'instead', 'conflict', 'propag', 'relax', 'sir', 'geoffrey', 'topic', 'clear', 'valuabl', 'burger', 'hopf', 'cole', 'discontinu', 'whitham', 'union', 'finest', 'tribut', 'inspir', 'convex', 'concav', 'ludwieg', 'instrument', 'embed', 'ludweig', 'bell', 'annular', 'belltyp', 'outward', 'central', 'expand', 'fed', 'stage', 'blade', 'implicit', 'think', 'peopl', 'outlet', 'intak', 'disagr', 'hurd', 'cheski', 'shapiro', 'closer', 'utilis', 'rest', 'relev', 'univers', 'truth', 'doubt', 'alreadi', 'fell', 'centr', 'hold', 'remot', 'born', 'launch', 'airborn', 'telemet', 'track', 'calibr', 'bang', 'knowledg', 'date', 'unswept', 'conveni', 'nomograph', 'graphic', 'interplanetari', 'orbit', 'voyag', 'planet', 'unlimit', 'sum', 'refractori', 'movement', 'ward', 'spillag', 'former', 'unchang', 'resembl', 'seen', 'ordin', 'plan', 'straight', 'diamond', 'parabol', 'biconvex', 'though', 'aim', 'serious', 'instruct', 'altern', 'specifi', 'choos', 'oseen', 'obstacl', 'polar', 'cannot', 'steepest', 'descent', 'check', 'strike', 'labori', 'schubauer', 'occupi', 'gaussian', 'heisenberg', 'frictionless', 'exercis', 'immers', 'helmholtz', 'someth', 'absenc', 'assert', 'suppos', 'water', 'amen', 'discov', 'belong', 'abstract', 'experienc', 'truli', 'edgewis', 'superpos', 'denot', 'seven', 'eighth', 'ninth', 'roughli', 'unfortun', 'eight', 'prohibit', 'circumscrib', 'polygon', 'preced', 'therebi', 'shallow', 'ship', 'deep', 'vessel', 'diminish', 'ultim', 'treatis', 'quotat', 'trochoid', 'travel', 'translat', 'weitbrecht', 'hodograph', 'steadili', 'pass', 'tripl', 'valued', 'exclud', 'invert', 'histor', 'elimin', 'trial', 'criteria', 'choic', 'modulu', 'insur', 'comprehens', 'appendix', 'streamwis', 'nonvanish', 'framework', 'riolat', 'write', 'satellit', 'nonrot', 'miss', 'misalin', 'largest', 'stem', 'retroveloc', 'mile', 'guidanc', 'corridor', 'supercircular', 'planetari', 'spacecraft', 'perige', 'venu', 'mar', 'jupit', 'titan', 'nonlift', 'absorb', 'overshoot', 'undershoot', 'broaden', 'markedli', 'singlepass', 'termin', 'put', 'hit', 'moon', 'icbm', 'fuel', 'heliocentr', 'planetocentr', 'target', 'save', 'impli', 'atospher', 'pair', 'introdur', 'allen', 'egger', 'truncat', 'sanger', 'toler', 'trim', 'brake', 'escap', 'virtual', 'obtainec', 'million', 'schultz', 'grunow', 'kempf', 'schoenherr', 'univer', 'appraoch', 'wherea', 'uncorrect', 'inexpens', 'slighlti', 'react', 'mixtur', 'nonheat', 'amongst', 'convergentdiverg', 'reservoir', 'absorpt', 'dispers', 'concis', 'harmon', 'planar', 'corner', 'oxygen', 'inert', 'stagnant', 'polyatom', 'via', 'eucken', 'hirschfeld', 'cell', 'reciproc', 'versu', 'accommod', 'sudden', 'front', 'whilst', 'real', 'onedimension', 'afterflow', 'tent', 'bulk', 'instal', 'vital', 'turbojet', 'goal', 'compromis', 'unsatisfactori', 'devot', 'jetstream', 'shockboundari', 'enlighten', 'interchang', 'programm', 'insid', 'supplement', 'read', 'photographi', 'bleed', 'annulu', 'hole', 'shadow', 'entrain', 'carbon', 'dioxid', 'adjust', 'excel', 'axiallysymmetr', 'sting', 'accordingli', 'partli', 'inviscidflow', 'deduct', 'lowest', 'apex', 'probe', 'maxwellian', 'arm', 'utia', 'thermo', 'thermoaeroelast', 'layout', 'compressibleflow', 'heavi', 'toxic', 'monatom', 'nontox', 'nonflamm', 'commerci', 'argon', 'krypton', 'xenon', 'fire', 'select', 'categori', 'concoct', 'inasmuch', 'sizeabl', 'conecylind', 'thoroughli', 'accumul', 'oil', 'classificaiton', 'liter', 'dead', 'explan', 'tni', 'incident', 'anh', 'numger', 'blunttrail', 'trailingedg', 'unusu', 'hysteresi', 'stroboscop', 'hydromagnet', 'help', 'thoma', 'everi', 'rearrang', 'sub', 'tabular', 'keep', 'lengthwis', 'invalid', 'analytici', 'verif', 'calor', 'manifest', 'verfi', 'rankin', 'counterpart', 'duplic', 'fring', 'lotz', 'cavit', 'normalforc', 'subcrit', 'rear', 'cowl', 'spinner', 'propellerresearch', 'inlet', 'ellipsoid', 'lip', 'oval', 'shank', 'aileron', 'tab', 'sheet', 'approx', 'seal', 'hing', 'gap', 'ailcron', 'minu', 'deg', 'suffix', 'crop', 'plung', 'linearis', 'taper', 'avalu', 'enlarg', 'destabil', 'actur', 'kink', 'stratagem', 'maintain', 'inerti', 'embrac', 'buffet', 'airscrew', 'monograph', 'elsewher', 'bibliographi', 'prevent', 'omit', 'airload', 'aerofoil', 'british', 'sake', 'notat', 'wood', 'swept', 'sweep', 'afford', 'certainti', 'freestream', 'quarterchord', 'infiniteaspect', 'inboard', 'qualiti', 'semispan', 'junctur', 'constrain', 'screen', 'german', 'hall', 'anisotrop', 'tensor', 'ohm', 'anisotropi', 'wash', 'run', 'rippl', 'underneath', 'adapt', 'stringer', 'kind', 'provision', 'fin', 'harri', 'incorpor', 'project', 'inflow', 'fixedpitch', 'spin', 'dual', 'lever', 'therefrom', 'manufactur', 'rotor', 'turbin', 'circumst', 'inter', 'concurr', 'steam', 'suffer', 'focus', 'favour', 'contract', 'liquidinject', 'bubbl', 'optimum', 'cascad', 'uncertainti', 'overrid', 'convers', 'nevertheless', 'reliabl', 'highli', 'build', 'explor', 'phase', 'acr', 'ineffici', 'encourag', 'singlestag', 'stator', 'spectra', 'inchdiamet', 'diam', 'mum', 'correlogram', 'easier', 'slice', 'muffler', 'fat', 'powel', 'corrug', 'quiet', 'emerg', 'seriou', 'shroud', 'analogu', 'depart', 'astronaut', 'decid', 'bandwidth', 'ampli', 'decis', 'ensur', 'outstand', 'ascertain', 'smoke', 'upper', 'outboard', 'stanton', 'circularcylindr', 'ring', 'fill', 'intermedi', 'bank', 'crossflow', 'inhibit', 'zerolift', 'dyke', 'rep', 'strip', 'display', 'ridg', 'render', 'shall', 'cruciform', 'stagger', 'angularli', 'owen', 'maskel', 'sideforc', 'upwash', 'sidewash', 'tailplan', 'weapon', 'equip', 'downwash', 'para', 'routin', 'tangenc', 'theorem', 'arc', 'noninclin', 'mehtod', 'radian', 'referenc', 'secondord', 'minimis', 'crosssect', 'evolv', 'enough', 'percentag', 'choke', 'laval', 'code', 'multi', 'outcom', 'endors', 'committe', 'collabor', 'recommend', 'appendic', 'enquiri', 'strut', 'slot', 'transfn', 'pai', 'asimplifi', 'boat', 'interferomet', 'fit', 'visualis', 'visibl', 'royal', 'societi', 'denser', 'troublesom', 'deposit', 'staff', 'director', 'ministri', 'contrast', 'compact', 'minut', 'prematur', 'bluish', 'white', 'colour', 'dens', 'retain', 'noncorros', 'irrit', 'smell', 'condens', 'precaut', 'troubl', 'dri', 'hard', 'wax', 'floccul', 'bore', 'eventu', 'blockag', 'filament', 'said', 'assist', 'educ', 'flap', 'conform', 'trefitz', 'unequ', 'circul', 'theta', 'ref', 'quickli', 'thwait', 'rhombic', 'deuc', 'hope', 'sweptw', 'perfor', 'walkden', 'civil', 'aeroplan', 'climb', 'afterburn', 'penalti', 'cost', 'summaris', 'mainstream', 'townsend', 'dispos', 'glanc', 'waist', 'poiseuil', 'couett', 'laufer', 'logarithm', 'rigor', 'slider', 'interv', 'equilibria', 'intermolecular', 'affin', 'individu', 'richmond', 'defenc', 'home', 'secur', 'writer', 'told', 'bomb', 'nuclear', 'fission', 'confin', 'answer', 'unaccompani', 'declassifi', 'supersed', 'omiss', 'worker', 'till', 'atm', 'ceas', 'degrad', 'radii', 'instantan', 'meteor', 'neumann', 'circulatori', 'lowspe', 'eas', 'fredholm', 'seidel', 'ibm', 'edpm', 'hour', 'selfpreserv', 'gershuni', 'zhukhovitskii', 'ostrach', 'tao', 'mat', 'unifi', 'polish', 'pyrex', 'ellips', 'occurr', 'towal', 'nasa', 'histori', 'hemispherecylind', 'defici', 'quartz', 'teflon', 'mission', 'weigh', 'reenter', 'evapor', 'molten', 'detriment', 'lunar', 'exposur', 'mid', 'machin', 'whenev', 'staticpressur', 'tangenti', 'took', 'entail', 'overcom', 'hadamard', 'semicircular', 'lomax', 'heaslet', 'kingdom', 'version', 'haag', 'korst', 'child', 'fay', 'riddel', 'underestim', 'twist', 'curl', 'poisson', 'arisen', 'neater', 'sideslip', 'weissing', 'aspectratio', 'centroid', 'tank', 'coast', 'intent', 'unintent', 'cant', 'magnu', 'misalign', 'sweepback', 'understood', 'piec', 'wise', 'recours', 'coars', 'fail', 'quadratur', 'velocitydistribut', 'slide', 'advent', 'necessit', 'contrari', 'ninefold', 'persh', 'alfven', 'beta', 'unidirect', 'ionospher', 'electrostat', 'anomal', 'radar', 'echo', 'magnetoaerodynam', 'fluiddynam', 'magnetoacoust', 'constitut', 'orgin', 'surpris', 'partit', 'mol', 'transpar', 'join', 'erickson', 'dealt', 'nagamatsu', 'deficit', 'thn', 'interanl', 'hpyerson', 'warn', 'prefer', 'advisori', 'excresc', 'care', 'thinner', 'inconveni', 'spuriou', 'underli', 'hugoniot', 'undissoci', 'variant', 'telegraph', 'wavi', 'univac', 'meksyn', 'surprisingli', 'kemp', 'perfectli', 'repetit', 'schuh', 'resolut', 'thereof', 'forst', 'invok', 'flatplat', 'homann', 'zamm', 'oversimplif', 'merg', 'rarefact', 'incipi', 'obey', 'methanol', 'tetrachlorid', 'overst', 'disclos', 'competit', 'drop', 'tension', 'sine', 'fifth', 'similitud', 'remov', 'inspect', 'howorth', 'distinctli', 'discern', 'certainli', 'mil', 'whatev', 'pore', 'transpir', 'entranc', 'offer', 'undetermin', 'influx', 'ingeni', 'terminolog', 'enjoy', 'usag', 'inaccur', 'threaten', 'academ', 'seren', 'broken', 'frustrat', 'excus', 'poetic', 'licens', 'press', 'eros', 'aerothermochem', 'effus', 'blow', 'overstat', 'overlook', 'berger', 'etud', 'parietal', 'doctor', 'thesi', 'pari', 'memori', 'poudr', 'annex', 'imprimeri', 'national', 'stimulu', 'constantdens', 'bulent', 'nine', 'wilson', 'brought', 'recurs', 'isovel', 'jeffrey', 'hamel', 'nonparallel', 'jacobian', 'jefferi', 'sweat', 'dorodnitsyn', 'closedform', 'lightweight', 'secondli', 'facil', 'eratur', 'speric', 'binari', 'super', 'carter', 'unnecessari', 'prior', 'superaerodynam', 'specular', 'calculu', 'likewis', 'kopal', 'corpuscular', 'repeat', 'pierci', 'winni', 'proc', 'roy', 'soc', 'london', 'ser', 'reissner', 'largeaspect', 'stall', 'pinkerton', 'kutta', 'joukowski', 'fictiti', 'spenc', 'potentialflow', 'window', 'radom', 'twopoint', 'lyapunov', 'exposit', 'nonslationari', 'optim', 'relay', 'servo', 'thorough', 'companion', 'manoeuvr', 'cartesian', 'resolv', 'suscept', 'belotserkovskii', 'scarc', 'letter', 'bertram', 'demarc', 'gies', 'bergdolt', 'halfangl', 'charter', 'stein', 'zehnder', 'memorandum', 'met', 'geodes', 'ame', 'exce', 'leeward', 'affirm', 'zoom', 'mayer', 'lagrang', 'blowout', 'pilot', 'unless', 'mise', 'tsion', 'drift', 'howarth', 'rott', 'crabtre', 'illingworth', 'unspecifi', 'constantproperti', 'nonstationari', 'nonsteadi', 'adjoint', 'theodorsen', 'diagon', 'garrick', 'seban', 'bond', 'kelli', 'neither', 'defect', 'frustum', 'booster', 'tacitli', 'semiinfinit', 'murray', 'unbound', 'obscur', 'anyway', 'advoc', 'stimul', 'simpli', 'clamp', 'justif', 'midplan', 'restrain', 'heavier', 'nomenclatur', 'dana', 'young', 'controversi', 'worthwhil', 'lend', 'lagrangian', 'simplest', 'shortcom', 'irrevers', 'onsag', 'narrow', 'antisymmetr', 'multipli', 'dissociationrecombin', 'bimolecular', 'exchang', 'post', 'freez', 'relativist', 'unrelativist', 'hoffman', 'teller', 'interstellar', 'cloud', 'amplifi', 'compression', 'promin', 'gauss', 'necess', 'sink', 'monoxid', 'hydrogen', 'implic', 'dashthat', 'enthalp', 'nonrigor', 'notic', 'grasshof', 'fore', 'concur', 'decidedli', 'const', 'intrins', 'lock', 'roger', 'industri', 'cruis', 'shockinduc', 'unpublish', 'bagley', 'postpon', 'margin', 'impair', 'land', 'emphasis', 'highveloc', 'neighbour', 'imag', 'counter', 'lose', 'windtunnel', 'assess', 'proof', 'unstabl', 'inflect', 'flex', 'syng', 'schlicht', 'hitherto', 'singleand', 'soon', 'inducedpressur', 'biharmon', 'enforc', 'pli', 'list', 'intract', 'foredrag', 'nearest', 'circuit', 'cal', 'tech', 'lattic', 'chap', 'book', 'electro', 'overhang', 'inadmiss', 'nullifi', 'rae', 'bedford', 'humid', 'flown', 'assign', 'denc', 'stepwis', 'indetermin', 'hirshfeld', 'chem', 'phi', 'feb', 'tion', 'fourcompon', 'iii', 'lindsey', 'daley', 'humphrey', 'abruptli', 'various', 'unsepar', 'reaffirm', 'translatori', 'assort', 'midspan', 'offreedom', 'formal', 'deby', 'ion', 'electrohydrodynam', 'boltzmann', 'dielectr', 'inapplic', 'jastrow', 'pears', 'permeabl', 'sole', 'socal', 'liapunov', 'routhhurwitz', 'eulerian', 'doublet', 'quadruplet', 'cornel', 'stol', 'vtol', 'seek', 'exploit', 'enhanc', 'driven', 'colloc', 'finitediffer', 'fewer', 'improp', 'languag', 'thirteen', 'nonspher', 'parabola', 'aforement', 'delimit', 'succeed', 'adequaci', 'word', 'gortler', 'stratford', 'photoelast', 'paraplex', 'room', 'inclus', 'castolit', 'epoxi', 'resin', 'hysol', 'vapor', 'pressuredistribut', 'ink', 'semiapex', 'planform', 'normalpressur', 'vapour', 'fog', 'latent', 'everywher', 'oswatitsch', 'maeder', 'keun', 'easi', 'placehold', 'chapter', 'indirect', 'chester', 'proportion', 'hightemperatur', 'complementari', 'erfc', 'jmin', 'recurr', 'dashn', 'jmjn', 'keulegan', 'sextic', 'umer', 'quartic', 'cuss', 'insuffici', 'combust', 'sutton', 'laminari', 'admixtur', 'reliev', 'smallshear', 'hypothes', 'aerothermoelast', 'primari', 'look', 'facet', 'incom', 'basetyp', 'backward', 'announc', 'prepar', 'msvo', 'annual', 'york', 'jan', 'thenc', 'feel', 'unhappi', 'ber', 'sure', 'warrant', 'typographi', 'confus', 'typograph', 'firmer', 'btu', 'slug', 'johnson', 'perfectga', 'plast', 'paid', 'nonsimilar', 'newton', 'buzz', 'usaf', 'sponsor', 'coincid', 'arithmet', 'constanc', 'condamp', 'coefstant', 'exponentiallyfici', 'spoken', 'wkb', 'essenc', 'commun', 'gamma', 'laguerr', 'nice', 'heretofor', 'puzzl', 'compet', 'afresh', 'joul', 'openend', 'gravalo', 'edelfelt', 'emmon', 'gordon', 'geiger', 'serbin', 'squir', 'nonzero', 'redefinit', 'navi', 'aeroballist', 'havelock', 'quest', 'terrain', 'cushion', 'hise', 'aft', 'chernyi', 'sublim', 'expenditur', 'apoge', 'graze', 'swirl', 'sustain', 'restor', 'vanishingli', 'know', 'storag', 'platinum', 'movabl', 'wingtail', 'spreiter', 'hosokawa', 'smoothli', 'blend', 'shoulder', 'overestim', 'acquir', 'frontal', 'shockdetach', 'peng', 'pindroh', 'hansen', 'pressureinteract', 'liabl', 'closest', 'wellknown', 'elliott', 'firstord', 'highspe', 'flowmet', 'thermocoupl', 'potentiomet', 'tap', 'micromanomet', 'vacuum', 'manomet', 'overlap', 'nylon', 'distant', 'reimping', 'particledens', 'popular', 'bar', 'nonun', 'gun', 'projectil', 'lumin', 'enc', 'streak', 'drum', 'camera', 'photomultipli', 'conpress', 'dorodnitzyn', 'eckert', 'shearstress', 'referenceenthalpi', 'infit', 'stack', 'gothic', 'oge', 'electroform', 'nickel', 'caret', 'undersurfac', 'eccentr', 'lifetim', 'extra', 'pursu', 'minnesota', 'creep', 'equilibr', 'glassi', 'today', 'repli', 'detra', 'hidalgo', 'radic', 'feldman', 'nonpor', 'loos', 'mountain', 'radon', 'cope', 'inertia', 'chiefli', 'scalar', 'viscositytemperatur', 'dropoff', 'grimming', 'william', 'friedrich', 'leadingedg', 'ultra', 'noninsul', 'dashin', 'thermomet', 'degreek', 'forego', 'begun', 'middl', 'abrupt', 'multistag', 'chemistri', 'deterior', 'inst', 'notion', 'poor', 'surg', 'content', 'dirac', 'green', 'thermomechan', 'viscoelast', 'castigliano', 'handicap', 'volterra', 'stefan', 'adsorpt', 'chemisorpt', 'claim', 'sensibl', 'public', 'rememb', 'severli', 'instig', 'cyclic', 'inletmass', 'tangentwedg', 'barrel', 'oversw', 'microwav', 'drive', 'chamber', 'pivot', 'scruton', 'woodgat', 'anhedr', 'rotari', 'norman', 'brown', 'michael', 'farnborough', 'lay', 'workingsect', 'heater', 'centigrad', 'realis', 'quickact', 'valv', 'cure', 'preheat', 'quick', 'fibrou', 'hotter', 'bottom', 'hog', 'fuse', 'silica', 'centrelin', 'rose', 'shercliff', 'dashth', 'soundsourc', 'braunschweig', 'oblat', 'spheroid', 'worst', 'sphericalatmospher', 'quadrat', 'gram', 'kilometr', 'bracket', 'equatori', 'belt', 'latitud', 'season', 'night', 'consolid', 'kallmann', 'violet', 'ray', 'diurnal', 'sputnik', 'vanguard', 'octob', 'physcal', 'fllayer', 'discover', 'apart', 'declin', 'supposit', 'shortlifetim', 'constitu', 'migrat', 'spontan', 'warmer', 'colder', 'soret', 'dufour', 'multicompon', 'priori', 'rearward', 'fan', 'mound', 'overexpans', 'underexpans', 'touch', 'genuin', 'influenti', 'smalldeflect', 'allround', 'naval', 'absent', 'shocklay', 'split', 'shaft', 'uncoupl', 'methan', 'combut', 'beneath', 'tumbl', 'arrest', 'painlev', 'transcend', 'tne', 'lectur', 'dicsov', 'board', 'prototyp', 'deisgn', 'rib', 'consier', 'uncertain', 'guarante', 'membran', 'sector', 'extension', 'traction', 'kempner', 'massbalanc', 'scatter', 'ritz', 'bernoulli', 'gridwork', 'antielast', 'gather', 'reproduc', 'media', 'prime', 'despit', 'fabric', 'woven', 'align', 'vice', 'versa', 'superposit', 'prismat', 'equilater', 'triangl', 'hexagon', 'hovercraft', 'maritim', 'search', 'servic', 'craft', 'saunder', 'roe', 'american', 'person', 'undertaken', 'econom', 'downward', 'focu', 'salient', 'convolut', 'japan', 'imai', 'interferogram', 'entireti', 'unretard', 'conjectur', 'whitehead', 'paradox', 'hankel', 'wedgetyp', 'variabletemperatur', 'aerodynamich', 'foreknowledg', 'adjoin', 'supplementari', 'navierstok', 'cheng', 'classifi', 'bridg', 'zakkay', 'ting', 'caplan', 'octagon', 'parasol', 'monoplan', 'hingeaxi', 'attitud', 'irrespect', 'counteract', 'dive', 'isobar', 'get', 'predigest', 'proposit', 'vii', 'endplat', 'mostli', 'sgn', 'anti', 'cubic', 'droop', 'localis', 'legendr', 'prone', 'unconserv', 'bevel', 'thicker', 'nonisotherm', 'stine', 'wanlass', 'sibulkin', 'investigaion', 'spike', 'hydrocarbon', 'ethylen', 'compound', 'nacel', 'blowdown', 'nacelleexit', 'degreer', 'incrementalnorm', 'sharpedg', 'corrobor', 'indici', 'kirchhoff', 'pitchingmo', 'noncirculatori', 'apparentmass', 'acquisit', 'possio', 'birnbaum', 'lastli', 'kernel', 'allmov', 'nonsingular', 'som', 'wagner', 'broad', 'notabl', 'glider', 'steadyst', 'redistribut', 'reentri', 'fold', 'wingtip', 'duce', 'smallest', 'sandpap', 'unfold', 'ofattack', 'untrim', 'angleof', 'dihedr', 'unif', 'accident', 'martian', 'feet', 'rpm', 'ampl', 'franc', 'onera', 'cosmonaut', 'forefront', 'news', 'occas', 'denomin', 'aerocosmonaut', 'abundantli', 'built', 'circumlunar', 'akin', 'illustri', 'mind', 'resourc', 'librat', 'commenc', 'precipit', 'massachusett', 'sandwich', 'honeycomb', 'uni', 'modal', 'meansquar', 'tensil', 'pound', 'strouhal', 'nozzleexit', 'thereaft', 'specimen', 'loudspeak', 'respond', 'spacewis', 'cumul', 'damag', 'eye', 'endeavour', 'siren', 'convict', 'assur', 'airlin', 'pod', 'gage', 'elev', 'aircrafttyp', 'throw', 'aluminium', 'aluminumalloy', 'discretefrequ', 'shorter', 'dictat', 'preval', 'chain', 'schwarz', 'inequ', 'bent', 'edgedisplac', 'propound', 'sectori', 'reinforc', 'deflexion', 'semicircl', 'weinstein', 'judg', 'connexion', 'bisector', 'laplacian', 'muller', 'transcendent', 'inadequaci', 'donnel', 'flugg', 'unten', 'belief', 'southwel', 'america', 'lundquist', 'quarter', 'circumferenti', 'postbuckl', 'michielsen', 'leggett', 'jone', 'next', 'dvl', 'orthotrop', 'rsult', 'mercuri', 'massbal', 'efflux', 'bodt', 'gyrat', 'canard', 'branchlin', 'lag', 'kernelfunct', 'sophist', 'perimet', 'klein', 'anov', 'disagre', 'pessimist', 'noteworthi', 'boom', 'overpressur', 'inelast', 'aluminum', 'alloy', 'monocoqu', 'beyween', 'breath', 'node', 'slosh', 'highfrequ', 'beat', 'yarymovych', 'hydrostat', 'bay', 'twomod', 'transtabl', 'riccati', 'solubl', 'endur', 'con', 'cater', 'meter', 'hoop', 'janzen', 'raleigh', 'philo', 'mag', 'app', 'spark', 'stainless', 'steel', 'micron', 'psig', 'nonperm', 'noninject', 'dodecagon', 'permiss', 'valueless', 'longest', 'astrophys', 'quantum', 'decim', 'imaginari', 'bump', 'liftingsurfac', 'horsesho', 'lmethod', 'tailless', 'buoyanc', 'davi', 'bourn', 'hasimoto', 'linder', 'ambigu', 'onto', 'batchelor', 'atlarg', 'entrant', 'ovalu', 'unfavor', 'circuitri', 'kuchemann', 'congress', 'zurich', 'wingbodi', 'slew', 'knee', 'blown', 'clarifi', 'want', 'avro', 'worsen', 'task', 'expens', 'phugoid', 'statu', 'warren', 'gaug', 'npl', 'liner', 'carborundum', 'grain', 'undroop', 'sweptforward', 'hero', 'aerfoil', 'repercuss', 'roar', 'risk', 'incur', 'insignific', 'popularli', 'widespread', 'wright', 'edward', 'command', 'radartrack', 'tailwind', 'objection', 'crack', 'bomber', 'amplif', 'cutoff', 'bypass', 'insight', 'lesser', 'whichev', 'ratiobeen', 'tran', 'onic', 'skirt', 'clamshel', 'dissimilar', 'harden', 'prager', 'meant', 'hollow', 'reuss', 'hencki', 'budianski', 'wellestablish', 'uniaxi', 'correspondingli', 'hamper', 'nonexist', 'polyaxi', 'legitim', 'contradict', 'crucial', 'allud', 'engess', 'reducedmodulu', 'turbanc', 'uneven', 'nonconserv', 'realli', 'complement', 'impress', 'overli', 'unavoid', 'stretch', 'mere', 'dome', 'surpass', 'item', 'ascrib', 'chien', 'stoker', 'aec', 'safeti', 'trick', 'park', 'spragu', 'huang', 'lingitudin', 'coupon', 'multiaxi', 'inplan', 'perman', 'ruptur', 'pressuris', 'unstiffen', 'unpressur', 'wrinkl', 'batdorf', 'wavelength', 'median', 'viewpoint', 'freeli', 'timoshenko', 'love', 'nodal', 'aural', 'lineal', 'noncircular', 'doubli', 'magnesium', 'brass', 'psf', 'multibay', 'unsupport', 'unload', 'unstress', 'unanticip', 'driest', 'fluidiz', 'bed', 'thermalfatigu', 'intercrystallin', 'oxid', 'intergranular', 'previouslygiven', 'nimon', 'rheolog', 'graham', 'loop', 'fractur', 'eigenvector', 'reactor', 'unreal', 'residu', 'disloc', 'immobil', 'peclet', 'worthi', 'mckinnon', 'gravit', 'addendum', 'envisag', 'clearanc', 'expend', 'count', 'acceleromet', 'undoubtedli', 'tubular', 'unrestrain', 'cooler', 'bulkhead', 'zuk', 'pneumat', 'encircl', 'laid', 'coverag', 'unexplain', 'airforc', 'economi', 'hybrid', 'majorminor', 'manocuvr', 'counterclockwis', 'feed', 'kelvin', 'zbrozek', 'septemb', 'auspic', 'council', 'iowa', 'hydraul', 'undertook', 'request', 'stochast', 'exagger', 'hash', 'burst', 'sea', 'firm', 'dramat', 'pose', 'spectacular', 'malfunct', 'confid', 'caravel', 'takeoff', 'bare', 'tungsten', 'fifti', 'indirectli', 'spectral', 'negat', 'defi', 'tractabl', 'preclud', 'premis', 'beg', 'ban', 'forcibl', 'pin', 'conidt', 'adam', 'heav', 'easiest', 'broke', 'recognis', 'munk', 'breadth', 'nielsen', 'katzen', 'tang', 'trapezoid', 'higherord', 'unbank', 'speak', 'cylinder', 'mild', 'duralumin', 'proposel', 'hundr', 'ellipselik', 'unsymmetr', 'rewrit', 'vlasov', 'prikl', 'meh', 'placement', 'insect', 'mainten', 'rivet', 'lap', 'roughen', 'drosophila', 'housefli', 'mistak', 'circumfer', 'synthesi', 'temp', 'magnetoga', 'asid', 'tan', 'pre', 'kirk', 'transduc', 'decompos', 'pump', 'hub', 'block', 'forwardfac', 'jetexit', 'sharpli', 'vertex', 'shanley', 'gerard', 'rabotnov', 'shesterikov', 'herrmann', 'armenaka', 'cylinderhemispher', 'toru', 'mismatch', 'nonconcurr', 'closur', 'sand', 'wich', 'snap', 'bellevil', 'bifurc', 'scoop', 'furnish', 'longtim', 'bornel', 'kernal', 'mitig', 'stoni', 'meteorit', 'solidif', 'venturi', 'tional', 'asm', 'untest', 'magnetofluidmechan', 'magnetoplasma', 'sail', 'sizabl', 'usabl', 'obvious', 'bonu', 'perpendicularli', 'arrow', 'reentrytyp', 'tobodi', 'berthelot', 'planck', 'coalesc', 'swallow', 'spite', 'uhf', 'requenc', 'inafinit', 'ordnanc', 'diversifi', 'modest', 'kay', 'yeh', 'copper', 'graphit', 'molybdenum', 'deffer', 'meridion', 'streamtub', 'viii', 'redesign', 'skewedparabol', 'skew', 'turbo', 'turbomachin', 'somewher', 'prewhirl', 'splitter', 'impart', 'mixedflow', 'prolat', 'never', 'unexpectedli', 'gardless', 'benefit', 'hous', 'halv', 'retrocket', 'retrorocket', 'plateau', 'revis', 'ofgrav', 'princeton', 'protrud', 'poind', 'marin', 'unimport', 'palt', 'concret', 'tangentmodulu', 'librov', 'isochronousstress', 'columnmateri', 'creepbuckl', 'forti', 'oven', 'elaps', 'crook', 'phenomenolog', 'polycrystallin', 'equicohes', 'iron', 'adjacentequilibrium', 'trefftz', 'levi', 'nongyroscop', 'lobe', 'uncontrol', 'crinolin', 'drape', 'fourwav', 'nearer', 'marguerr', 'internat', 'mech', 'cambridg', 'wiley', 'orderof', 'stepdown', 'creat', 'judici', 'meissner', 'argument', 'geckel', 'cabin', 'undeform', 'nth', 'mth', 'russian', 'inaccess', 'grossman', 'lyskov', 'specialis', 'satisfact', 'attaindd', 'indefinit', 'labour', 'fasten', 'evidenc', 'symposium', 'delft', 'holland', 'atten', 'scientist', 'bimetal', 'tradit', 'keller', 'reiss', 'immov', 'versatil', 'corpor', 'almen', 'laszlo', 'violat', 'arrheniu', 'crank', 'nicolson', 'bean', 'largescal', 'tilt', 'researchvehicl', 'sensor', 'administr', 'ablatedlength', 'hammerhead', 'reflex', 'reducedfrequ', 'packard', 'torispher', 'toroid', 'prebuckl', 'ignit', 'quench', 'come', 'decomposit', 'enorm', 'ardc', 'goe', 'orlfic', 'hemispheroid', 'mesh', 'old', 'skill', 'practition', 'superscript', 'newli', 'dirichlet', 'twin', 'profound', 'tractor', 'buri', 'redirect', 'regain', 'largechord', 'mph', 'upward', 'auxiliari', 'plain', 'lucit', 'polystyren', 'inorgan', 'salt', 'ammonium', 'chlorid', 'sodium', 'phenol', 'melamin', 'fiber', 'lamin', 'unman', 'haveg', 'rocketon', 'stagnationpoint', 'unabl', 'nonabl', 'inconel', 'polym', 'boost', 'payload', 'nautic', 'creas', 'access', 'index', 'unblunt', 'decrement', 'moor', 'audio', 'subaudio', 'cathod', 'dampomet', 'centaur', 'midchord', 'percentthick', 'whisker', 'tailor', 'secant', 'octahedr', 'perplex', 'thinwal', 'basin', 'repair', 'sequel', 'conceptu', 'foundat', 'groov', 'papreg', 'cellular', 'cellulos', 'acet', 'bulg', 'admiss', 'handbook', 'kendrick', 'nash', 'embryon', 'threshold', 'weaken', 'caution', 'edit', 'unfir', 'psi', 'undergon', 'safe', 'interim', 'prism', 'knuckl', 'rigidli', 'unflang', 'toricon', 'nonhomogen', 'langer', 'amer', 'wissler', 'dissert', 'jointli', 'beskin', 'randomli', 'satelit', 'standoff', 'shockstandoff', 'apropri', 'millisecond', 'combustionh', 'driver', 'tuft', 'gravel', 'stronger', 'deeper', 'intensif', 'intensifi', 'erod', 'thrown', 'struck', 'errat', 'recircul', 'soft', 'nocturn', 'daytim', 'lost', 'capillari', 'claus', 'reinvestig', 'tempratur', 'singli', 'morn', 'waveveloc', 'millimet', 'devreas', 'deton', 'jouguet', 'periment', 'verticaltak', 'forwardflight', 'forwardacceler', 'wingpropel', 'halfway', 'helicopt', 'upflow', 'slower', 'andland', 'dirt', 'soak', 'spray', 'snow', 'obliter', 'vision', 'dent', 'punctur', 'superfici', 'multipropel', 'inadvert', 'taxi', 'macadam', 'crush', 'stone', 'chase', 'hangl', 'accentu', 'rudimentari', 'undesir', 'airfram', 'radialband', 'strengthen', 'unfil', 'expound', 'bleich', 'salmon', 'goodier', 'append', 'readi', 'yuan', 'rectangl', 'garabedian', 'wet', 'dorodnitzinhowarth', 'heterogen', 'nonreact', 'reactiv', 'deflagr', 'vent', 'boiloff', 'nonalign', 'superfast', 'unexpect', 'millikan', 'heimenz', 'conductionexpans', 'wakelik', 'jetlik', 'frozenflow', 'singletyp', 'enskog', 'bakanov', 'deryagin', 'curvilinear', 'synthes', 'locu', 'unperturb', 'hyperlipt', 'grad', 'mccune', 'underexpand', 'calib', 'hroma', 'iodin', 'gibb', 'dalton', 'dilut', 'lennard', 'centripet', 'nonneg', 'erdmann', 'weierstrass', 'switch', 'subarc', 'vertexcent', 'pyramid', 'weaker', 'nonisentrop', 'totalangl', 'paint', 'hemi', 'dewpoint', 'utilz', 'dust', 'cusp', 'wavefront', 'mhd', 'acrodynam', 'shockless', 'sesir', 'consumpt', 'motionless', 'coher', 'subsidiari', 'speedsthre', 'veociti', 'aerothermodynam', 'reshotko', 'elong', 'hydroballist', 'glycerin', 'laminarturbul', 'oversimplifi', 'unrealist', 'unconstrain', 'semiballist', 'balsa', 'isofoam', 'modul', 'kelley', 'ribbon', 'dipol', 'maximuin', 'plk', 'portiou', 'spirit', 'poincar', 'kuo', 'annul', 'termperatur', 'hypersoul', 'summat', 'avov', 'cosin', 'curtain', 'undersid', 'steamlin', 'sturm', 'liouvil', 'bounari', 'murphi', 'nonmagnet', 'ponderomot', 'implement', 'cancel', 'scarshaack', 'injectioncool', 'laminarboundari', 'integrodifferenti', 'integrand', 'rung', 'momentari', 'instant', 'longitudinalvortic', 'overshadow', 'fale', 'reserv', 'suppress', 'schemat', 'silenc', 'teeth', 'nonplanar', 'termwis', 'shockexpans', 'mahoni', 'conductor', 'coulomb', 'loitsianskii', 'bolshakov', 'merger', 'outermost', 'dilat', 'ifer', 'localsimilar', 'acrothermochemistri', 'maxwel', 'mirel', 'martin', 'inhomogen', 'unresolv', 'ari', 'boundwel', 'depict', 'cast', 'pseudo', 'semidiamet', 'nonslend', 'holder', 'calcualt', 'sugar', 'hypass', 'lightli', 'helic', 'evvard', 'krasilshchikova', 'nonorthogon', 'noncommun', 'complimentari', 'unsteadili', 'recov', 'tollmienschlicht', 'aerotherm', 'age', 'cumbersom', 'sigular', 'withdraw', 'tubul', 'shyperson', 'constantli', 'inconclus', 'sobson', 'stripanalysi', 'unmodul', 'resultantforc', 'plume', 'user', 'nitric', 'shuffl', 'deplet', 'deioniz', 'sheath', 'decad', 'hollowcylind', 'hantzsch', 'wendt', 'bullet', 'spindl', 'colston', 'fort', 'halstead', 'climin', 'origint', 'twoand', 'ogivecylind', 'diaphragm', 'sight', 'oscillograph', 'spectrograph', 'mirror', 'interpos', 'bright', 'degreec', 'disequilibrium', 'indium', 'blue', 'flash', 'thirdli', 'coat', 'orr', 'sommerfeld', 'nondissip', 'sketchi', 'resili', 'altogeth', 'unfavour', 'china', 'clay', 'pimpl', 'protuber', 'drill', 'throttl', 'handley', 'ltd', 'suck', 'ejector', 'gascou', 'injector', 'axialthrust', 'hick', 'chu', 'turbojetpow', 'kussner', 'nineteen', 'stipul', 'untwist', 'lowturbul', 'solidconstruct', 'centerof', 'rectilinear', 'linearizedtheori', 'price', 'deepest', 'researchtyp', 'pressureratio', 'jetboundari', 'billow', 'unitari', 'inop', 'ramp', 'thing', 'largeangl', 'supplort', 'dispar', 'rand', 'warp', 'velocityprofil', 'velocitycompon', 'yeild', 'interdepend', 'agenc', 'provok', 'osoen', 'globul', 'lengthen', 'eddyviscos', 'lowsubson', 'warhead', 'carrier', 'ofr', 'debat', 'breguet', 'highenergi', 'grand', 'exot', 'unrestrict', 'thermopropuls', 'strang', 'unorthodox', 'outweight', 'shelter', 'shortli', 'financi', 'midway', 'fourthord', 'regist', 'cauchi', 'reformul', 'delin', 'aeolotrop', 'determinant', 'intuit', 'sharpnos', 'hoshizaki', 'recover', 'fralich', 'ing']\n"
     ]
    }
   ],
   "source": [
    "# créer une liste de vocabulaire de tous les mots uniques\n",
    "vocab = [term for term in DF]\n",
    "print(vocab)"
   ]
  },
  {
   "cell_type": "markdown",
   "metadata": {
    "ExecuteTime": {
     "end_time": "2020-02-18T08:40:14.538204Z",
     "start_time": "2020-02-18T08:40:14.526177Z"
    },
    "id": "Nl6RT3aK4JEz"
   },
   "source": [
    "* Calcul des valeurs tf-idf pour chaque terme du vocabulaire"
   ]
  },
  {
   "cell_type": "code",
   "execution_count": 19,
   "metadata": {
    "ExecuteTime": {
     "end_time": "2020-02-19T05:28:19.167666Z",
     "start_time": "2020-02-19T05:28:17.598251Z"
    },
    "executionInfo": {
     "elapsed": 584,
     "status": "ok",
     "timestamp": 1697984800049,
     "user": {
      "displayName": "nabil bcom",
      "userId": "04169804032469069549"
     },
     "user_tz": -120
    },
    "id": "DPTEllYp4JEz"
   },
   "outputs": [],
   "source": [
    "doc = 0\n",
    "\n",
    "# création d'un dictionnaire pour stocker les valeurs tf-idf de chaque terme du vocabulaire\n",
    "tf_idf = {}\n",
    "\n",
    "for i in range(no_of_docs):\n",
    "\n",
    "    tokens = all_docs[i].split()\n",
    "\n",
    "    # objet compteur pour compter efficacement le nombre d'occurrences d'un terme dans un document particulier\n",
    "    counter = Counter(tokens)\n",
    "    words_count = len(tokens)\n",
    "\n",
    "    for token in np.unique(tokens):\n",
    "\n",
    "        # compter les occurrences d'un terme dans un objet à l'aide d'un objet compteur\n",
    "        tf = counter[token]/words_count\n",
    "        # récupération des valeurs df du dictionnaire DF\n",
    "        df = DF[token] if token in vocab else 0\n",
    "\n",
    "        # ajouter 1 au numérateur et au dénominateur pour éviter l'erreur de diviser par 0\n",
    "        idf = np.log((no_of_docs+1)/(df+1))\n",
    "\n",
    "        tf_idf[doc, token] = tf*idf\n",
    "\n",
    "    doc += 1"
   ]
  },
  {
   "cell_type": "code",
   "execution_count": 20,
   "metadata": {
    "ExecuteTime": {
     "end_time": "2020-02-19T05:28:22.207635Z",
     "start_time": "2020-02-19T05:28:22.100638Z"
    },
    "colab": {
     "base_uri": "https://localhost:8080/"
    },
    "executionInfo": {
     "elapsed": 9,
     "status": "ok",
     "timestamp": 1697984800050,
     "user": {
      "displayName": "nabil bcom",
      "userId": "04169804032469069549"
     },
     "user_tz": -120
    },
    "id": "-zEYzTL74JE0",
    "outputId": "25548c01-2287-4b9d-8108-090e557a3b12"
   },
   "outputs": [
    {
     "data": {
      "text/plain": [
       "{(0, 'aerodynam'): 0.02604500937337028,\n",
       " (0, 'agre'): 0.03988097448246716,\n",
       " (0, 'angl'): 0.023963081175454943,\n",
       " (0, 'attack'): 0.03164568883511085,\n",
       " (0, 'basi'): 0.03811183597138921,\n",
       " (0, 'boundari'): 0.013879408233156457,\n",
       " (0, 'compar'): 0.021917883546481325,\n",
       " (0, 'configur'): 0.035926864545224736,\n",
       " (0, 'control'): 0.03946591343407488,\n",
       " (0, 'curv'): 0.0306918984902781,\n",
       " (0, 'destal'): 0.23340490851907206,\n",
       " (0, 'determin'): 0.01950834267950387,\n",
       " (0, 'differ'): 0.07527536800375145,\n",
       " (0, 'distribut'): 0.01716536187346995,\n",
       " (0, 'due'): 0.057598183462303956,\n",
       " (0, 'effect'): 0.02404241885816103,\n",
       " (0, 'empir'): 0.0474485314540573,\n",
       " (0, 'evalu'): 0.07550029542520738,\n",
       " (0, 'evid'): 0.04670371499807081,\n",
       " (0, 'experi'): 0.028031691454994574,\n",
       " (0, 'experiment'): 0.03584799819561518,\n",
       " (0, 'flow'): 0.00825186091385532,\n",
       " (0, 'found'): 0.018573281305244944,\n",
       " (0, 'free'): 0.023784373814115894,\n",
       " (0, 'increas'): 0.024205351304704276,\n",
       " (0, 'increment'): 0.11024227312508461,\n",
       " (0, 'integr'): 0.02845226927307458,\n",
       " (0, 'intend'): 0.059240407454119876,\n",
       " (0, 'investig'): 0.017130346006471342,\n",
       " (0, 'layer'): 0.015492635404904817,\n",
       " (0, 'lift'): 0.11017910603122914,\n",
       " (0, 'load'): 0.024577678965543436,\n",
       " (0, 'made'): 0.03489806302287874,\n",
       " (0, 'order'): 0.02502637199080606,\n",
       " (0, 'part'): 0.06511677751582534,\n",
       " (0, 'potenti'): 0.040093722815585923,\n",
       " (0, 'problem'): 0.01853415228537567,\n",
       " (0, 'produc'): 0.03639865435278462,\n",
       " (0, 'propel'): 0.04634712161874553,\n",
       " (0, 'ratio'): 0.019635562120687435,\n",
       " (0, 'remain'): 0.04193817612167951,\n",
       " (0, 'result'): 0.008910272748697516,\n",
       " (0, 'show'): 0.024452348953104046,\n",
       " (0, 'slipstream'): 0.28306030532260923,\n",
       " (0, 'span'): 0.04470087948902151,\n",
       " (0, 'spanwis'): 0.04952831691344055,\n",
       " (0, 'specif'): 0.03906403117692829,\n",
       " (0, 'stream'): 0.022816757415382447,\n",
       " (0, 'studi'): 0.022280311555017113,\n",
       " (0, 'substanti'): 0.04439584719055239,\n",
       " (0, 'subtract'): 0.07780163617302402,\n",
       " (0, 'support'): 0.03775014771260369,\n",
       " (0, 'theoret'): 0.022545692927992366,\n",
       " (0, 'theori'): 0.014208211858514187,\n",
       " (0, 'togeth'): 0.04470087948902151,\n",
       " (0, 'treatment'): 0.04439584719055239,\n",
       " (0, 'veloc'): 0.018890745664700937,\n",
       " (0, 'well'): 0.02715284960142796,\n",
       " (0, 'wing'): 0.06911360236160523,\n",
       " (1, 'approxim'): 0.011293511644115684,\n",
       " (1, 'aris'): 0.030442840341661198,\n",
       " (1, 'bodi'): 0.02703771972532285,\n",
       " (1, 'boundari'): 0.04726177803531725,\n",
       " (1, 'classic'): 0.03023510282804861,\n",
       " (1, 'consequ'): 0.035426270089722905,\n",
       " (1, 'consid'): 0.029715183249564837,\n",
       " (1, 'constant'): 0.017594266028105276,\n",
       " (1, 'curv'): 0.02090224121320664,\n",
       " (1, 'differ'): 0.017088373770966565,\n",
       " (1, 'dimension'): 0.03153174386435495,\n",
       " (1, 'discuss'): 0.028261025517948443,\n",
       " (1, 'edg'): 0.017314651581957396,\n",
       " (1, 'effect'): 0.008186858145666902,\n",
       " (1, 'emit'): 0.04568130514898012,\n",
       " (1, 'exist'): 0.02132980105061502,\n",
       " (1, 'featur'): 0.028732056387145353,\n",
       " (1, 'ferri'): 0.044530172453941134,\n",
       " (1, 'flat'): 0.051943954745872184,\n",
       " (1, 'flow'): 0.033718810975581215,\n",
       " (1, 'fluid'): 0.03730236519573352,\n",
       " (1, 'free'): 0.048593936154702304,\n",
       " (1, 'high'): 0.015427762336028496,\n",
       " (1, 'hyperson'): 0.03626341361783357,\n",
       " (1, 'incompress'): 0.040596421001987126,\n",
       " (1, 'instanc'): 0.04103478359093971,\n",
       " (1, 'investig'): 0.011666356331993413,\n",
       " (1, 'inviscid'): 0.07404090288783945,\n",
       " (1, 'irrot'): 0.04568130514898012,\n",
       " (1, 'layer'): 0.05275509469773624,\n",
       " (1, 'lead'): 0.018031465102062313,\n",
       " (1, 'libbi'): 0.05648098591187122,\n",
       " (1, 'must'): 0.028732056387145353,\n",
       " (1, 'necessari'): 0.027160318828576776,\n",
       " (1, 'nose'): 0.021779678233119933,\n",
       " (1, 'novel'): 0.04858192787847333,\n",
       " (1, 'origin'): 0.02890621765712397,\n",
       " (1, 'outsid'): 0.03257935899601104,\n",
       " (1, 'paper'): 0.016738246881706303,\n",
       " (1, 'past'): 0.09663069964988587,\n",
       " (1, 'plate'): 0.04695506682885947,\n",
       " (1, 'possibl'): 0.018978589908773796,\n",
       " (1, 'prandtl'): 0.053207904534091986,\n",
       " (1, 'present'): 0.008745345678952802,\n",
       " (1, 'problem'): 0.050489587260161305,\n",
       " (1, 'recent'): 0.02338225907917027,\n",
       " (1, 'region'): 0.017981777992435156,\n",
       " (1, 'restrict'): 0.02983406821050643,\n",
       " (1, 'rotat'): 0.05645947642732561,\n",
       " (1, 'shear'): 0.04551329931636061,\n",
       " (1, 'shock'): 0.030419010741293377,\n",
       " (1, 'shown'): 0.013697842547561677,\n",
       " (1, 'simpl'): 0.034906650366529006,\n",
       " (1, 'situat'): 0.07085254017944581,\n",
       " (1, 'small'): 0.030419010741293377,\n",
       " (1, 'somewhat'): 0.03505937686197467,\n",
       " (1, 'speed'): 0.013578108822038682,\n",
       " (1, 'steadi'): 0.02233604479465072,\n",
       " (1, 'stream'): 0.046616995753841727,\n",
       " (1, 'studi'): 0.030347320911144,\n",
       " (1, 'treat'): 0.02468030096261315,\n",
       " (1, 'two'): 0.020688555729327502,\n",
       " (1, 'usual'): 0.026603952267045993,\n",
       " (1, 'viscos'): 0.053207904534091986,\n",
       " (1, 'viscou'): 0.04194408949938947,\n",
       " (1, 'vortic'): 0.05678789358199275,\n",
       " (1, 'wave'): 0.0326393691872576,\n",
       " (2, 'boundari'): 0.12899685299051297,\n",
       " (2, 'equat'): 0.07344055633635212,\n",
       " (2, 'flat'): 0.11814703432394458,\n",
       " (2, 'flow'): 0.07669376614053768,\n",
       " (2, 'gradient'): 0.14861427500246543,\n",
       " (2, 'incompress'): 0.1385054363597208,\n",
       " (2, 'layer'): 0.14399037611617418,\n",
       " (2, 'past'): 0.16484060528509945,\n",
       " (2, 'plate'): 0.10679975984603331,\n",
       " (2, 'present'): 0.05967412345638383,\n",
       " (2, 'pressur'): 0.05478785294470069,\n",
       " (2, 'shear'): 0.15528066825581857,\n",
       " (2, 'simpl'): 0.11909327772109896,\n",
       " (2, 'steadi'): 0.15241065859879316,\n",
       " (3, 'also'): 0.032860875422592646,\n",
       " (3, 'approxim'): 0.028479290232987377,\n",
       " (3, 'boundari'): 0.0953455000364661,\n",
       " (3, 'boundarylay'): 0.08505950078612616,\n",
       " (3, 'comparison'): 0.04991699252084432,\n",
       " (3, 'consid'): 0.03746697018423392,\n",
       " (3, 'dimension'): 0.03975741617679537,\n",
       " (3, 'distribut'): 0.029479643217481002,\n",
       " (3, 'effect'): 0.02064512054124697,\n",
       " (3, 'equat'): 0.027141075167782303,\n",
       " (3, 'flat'): 0.04366303442406647,\n",
       " (3, 'flow'): 0.04251502253442849,\n",
       " (3, 'fluid'): 0.047033416985924864,\n",
       " (3, 'friction'): 0.06066509239311955,\n",
       " (3, 'incompress'): 0.10237358339631536,\n",
       " (3, 'karman'): 0.07785608478711653,\n",
       " (3, 'laminar'): 0.03881208765636626,\n",
       " (3, 'layer'): 0.10642766930325918,\n",
       " (3, 'made'): 0.02996681498703718,\n",
       " (3, 'obtain'): 0.023976176972818494,\n",
       " (3, 'plate'): 0.07893895292967679,\n",
       " (3, 'pohlhausen'): 0.08841060252150133,\n",
       " (3, 'problem'): 0.031830391968362556,\n",
       " (3, 'shear'): 0.1147726678412572,\n",
       " (3, 'show'): 0.04199425146293956,\n",
       " (3, 'skin'): 0.05919897759321666,\n",
       " (3, 'solut'): 0.05363801617099327,\n",
       " (3, 'steadi'): 0.05632567817781486,\n",
       " (3, 'techniqu'): 0.0573863339206286,\n",
       " (3, 'thick'): 0.04389554070921317,\n",
       " (3, 'two'): 0.026085570267412938,\n",
       " (3, 'uniform'): 0.05253538715292839,\n",
       " (3, 'veloc'): 0.03244280233720378,\n",
       " (3, 'vortic'): 0.07160212669033868,\n",
       " (4, 'aerodynam'): 0.05560961460800682,\n",
       " (4, 'analyt'): 0.06951655978040813,\n",
       " (4, 'composit'): 0.10991588421592058,\n",
       " (4, 'conduct'): 0.11762364022252841,\n",
       " (4, 'dimension'): 0.04942813903061046,\n",
       " (4, 'doubl'): 0.1088125870667245,\n",
       " (4, 'exampl'): 0.0646732779031727,\n",
       " (4, 'expos'): 0.12864959179862182,\n",
       " (4, 'heat'): 0.24776981269147874,\n",
       " (4, 'input'): 0.13100125063617937,\n",
       " (4, 'intern'): 0.09292646098828886,\n",
       " (4, 'layer'): 0.03307887018885083,\n",
       " (4, 'linear'): 0.060932674582655964,\n",
       " (4, 'may'): 0.048483867372197474,\n",
       " (4, 'occur'): 0.06531426510904612,\n",
       " (4, 'one'): 0.09001144434328567,\n",
       " (4, 'present'): 0.027417840506987166,\n",
       " (4, 'rate'): 0.12223432025019842,\n",
       " (4, 'slab'): 0.24523737001269175,\n",
       " (4, 'small'): 0.04768385467554097,\n",
       " (4, 'solut'): 0.03334255059277961,\n",
       " (4, 'subject'): 0.07161680260006534,\n",
       " (4, 'surfac'): 0.03907699707774273,\n",
       " (4, 'time'): 0.05985144932282625,\n",
       " (4, 'transient'): 0.1979147355611296,\n",
       " (4, 'triangular'): 0.11484349385900045,\n",
       " (4, 'type'): 0.054572834395237996,\n",
       " (5, 'analyt'): 0.047631716886575935,\n",
       " (5, 'briefli'): 0.06585300170783465,\n",
       " (5, 'case'): 0.02485755949880816,\n",
       " (5, 'contribut'): 0.07245809326225561,\n",
       " (5, 'dimension'): 0.033867428595047905,\n",
       " (5, 'doubl'): 0.07455677261979271,\n",
       " (5, 'durat'): 0.09152511950635113,\n",
       " (5, 'face'): 0.07313156815430885,\n",
       " (5, 'flow'): 0.012072166892492039,\n",
       " (5, 'forum'): 0.11382091217905366,\n",
       " (5, 'gave'): 0.08282134859439307,\n",
       " (5, 'gener'): 0.026663084767046635,\n",
       " (5, 'give'): 0.04200384822067467,\n",
       " (5, 'given'): 0.023824386172356025,\n",
       " (5, 'heat'): 0.08488410249615475,\n",
       " (5, 'incomplet'): 0.11382091217905366,\n",
       " (5, 'indic'): 0.03470932441128415,\n",
       " (5, 'input'): 0.17952023235328282,\n",
       " (5, 'insul'): 0.07455677261979271,\n",
       " (5, 'interfac'): 0.09152511950635113,\n",
       " (5, 'layer'): 0.022665151796064455,\n",
       " (5, 'longer'): 0.09347624016668124,\n",
       " (5, 'method'): 0.02078608771893742,\n",
       " (5, 'multilay'): 0.11382091217905366,\n",
       " (5, 'obtain'): 0.02042415075462316,\n",
       " (5, 'one'): 0.061674508161140174,\n",
       " (5, 'particular'): 0.047119651491566494,\n",
       " (5, 'point'): 0.03314111909220936,\n",
       " (5, 'problem'): 0.027114778343419958,\n",
       " (5, 'propos'): 0.06286655453012867,\n",
       " (5, 'rate'): 0.041876572678308716,\n",
       " (5, 'reader'): 0.0981302110607721,\n",
       " (5, 'recent'): 0.05022855654043983,\n",
       " (5, 'refer'): 0.058655631526505325,\n",
       " (5, 'resist'): 0.07383046311695417,\n",
       " (5, 'slab'): 0.16803301278647395,\n",
       " (5, 'solut'): 0.0913832868098404,\n",
       " (5, 'temperatur'): 0.03062878825603982,\n",
       " (5, 'thermal'): 0.05063114888555846,\n",
       " (5, 'three'): 0.04278643728159843,\n",
       " (5, 'time'): 0.04100932638786243,\n",
       " (5, 'transient'): 0.06780412236816476,\n",
       " (5, 'triangular'): 0.0786890606070929,\n",
       " (5, 'use'): 0.018532863808764274,\n",
       " (5, 'wassermann'): 0.24265905058433562,\n",
       " (6, 'appear'): 0.020462544693657794,\n",
       " (6, 'becom'): 0.024997325441105993,\n",
       " (6, 'begin'): 0.03463275836057097,\n",
       " (6, 'boundari'): 0.03348009924944611,\n",
       " (6, 'break'): 0.03772791185757986,\n",
       " (6, 'breakdown'): 0.08325468820013666,\n",
       " (6, 'california'): 0.04045062135329537,\n",
       " (6, 'contamin'): 0.08944499519415446,\n",
       " (6, 'control'): 0.023800054666350497,\n",
       " (6, 'dimension'): 0.04188185826257833,\n",
       " (6, 'doubl'): 0.03073332611808249,\n",
       " (6, 'edg'): 0.015332057889366852,\n",
       " (6, 'effect'): 0.021748294921313603,\n",
       " (6, 'element'): 0.11840139591910023,\n",
       " (6, 'ensu'): 0.05001369744867986,\n",
       " (6, 'experi'): 0.01690460782400436,\n",
       " (6, 'field'): 0.0322907302505944,\n",
       " (6, 'flow'): 0.014928939210562675,\n",
       " (6, 'fourth'): 0.03324099075145681,\n",
       " (6, 'height'): 0.05632967152439074,\n",
       " (6, 'inch'): 0.029341558508968333,\n",
       " (6, 'increas'): 0.01459712025245525,\n",
       " (6, 'indic'): 0.014307660444346138,\n",
       " (6, 'induc'): 0.0225532985128902,\n",
       " (6, 'initi'): 0.019423367790416722,\n",
       " (6, 'institut'): 0.038532190603059444,\n",
       " (6, 'investig'): 0.010330514003902565,\n",
       " (6, 'jet'): 0.020383439449111633,\n",
       " (6, 'kinemat'): 0.037000353233119364,\n",
       " (6, 'laboratori'): 0.029600348979775058,\n",
       " (6, 'laminar'): 0.027257344002944245,\n",
       " (6, 'later'): 0.02591445759257212,\n",
       " (6, 'layer'): 0.03737154799961773,\n",
       " (6, 'littl'): 0.030145837254447923,\n",
       " (6, 'local'): 0.018447540526982487,\n",
       " (6, 'mach'): 0.009801039745906364,\n",
       " (6, 'may'): 0.013693916738712262,\n",
       " (6, 'number'): 0.027352749769685773,\n",
       " (6, 'occur'): 0.018447540526982487,\n",
       " (6, 'one'): 0.01271153985000599,\n",
       " (6, 'outer'): 0.026593446035446142,\n",
       " (6, 'per'): 0.02157328960717869,\n",
       " (6, 'perform'): 0.021665819076891253,\n",
       " (6, 'persist'): 0.04472249759707723,\n",
       " (6, 'posit'): 0.08592747320591429,\n",
       " (6, 'power'): 0.020787427246473027,\n",
       " (6, 'propuls'): 0.03243671200597722,\n",
       " (6, 'rather'): 0.02816483576219537,\n",
       " (6, 'rel'): 0.021302246183843503,\n",
       " (6, 'result'): 0.005373370588909189,\n",
       " (6, 'reynold'): 0.04457917968982375,\n",
       " (6, 'rough'): 0.20720244285842543,\n",
       " (6, 'row'): 0.03572513121278985,\n",
       " (6, 'size'): 0.02677306815308121,\n",
       " (6, 'space'): 0.05632967152439074,\n",
       " (6, 'speed'): 0.012023363537072422,\n",
       " (6, 'sphere'): 0.027145512154374586,\n",
       " (6, 'spiral'): 0.08603822341836499,\n",
       " (6, 'still'): 0.03104494439686306,\n",
       " (6, 'strength'): 0.023439345621689846,\n",
       " (6, 'sublay'): 0.037000353233119364,\n",
       " (6, 'suddenli'): 0.03943129774547459,\n",
       " (6, 'superson'): 0.025081262984081008,\n",
       " (6, 'surround'): 0.03572513121278985,\n",
       " (6, 'tain'): 0.04472249759707723,\n",
       " (6, 'technolog'): 0.038532190603059444,\n",
       " (6, 'thick'): 0.015413701317738976,\n",
       " (6, 'three'): 0.05291147205815989,\n",
       " (6, 'trail'): 0.026246405011959444,\n",
       " (6, 'transit'): 0.10311628870484746,\n",
       " (6, 'trip'): 0.124882032300205,\n",
       " (6, 'tunnel'): 0.015664005308754173,\n",
       " (6, 'turbul'): 0.0347347823932978,\n",
       " (6, 'upon'): 0.022346972769470966,\n",
       " (6, 'vari'): 0.03462912677735011,\n",
       " (6, 'veloc'): 0.01139212906497232,\n",
       " (6, 'violent'): 0.04691854395167097,\n",
       " (6, 'viscos'): 0.02355769819066668,\n",
       " (6, 'viz'): 0.04472249759707723,\n",
       " (6, 'vortic'): 0.1005709260383383,\n",
       " (6, 'wind'): 0.018326369922735997,\n",
       " (7, 'addit'): 0.03141447726863087,\n",
       " (7, 'appear'): 0.03153639241022554,\n",
       " (7, 'avail'): 0.03339085057732652,\n",
       " (7, 'base'): 0.021206162774296627,\n",
       " (7, 'basi'): 0.03542158872634998,\n",
       " (7, 'behav'): 0.0570240738063369,\n",
       " (7, 'boundari'): 0.02579937059810259,\n",
       " (7, 'bureau'): 0.0663000427517989,\n",
       " (7, 'conduct'): 0.0256004393425503,\n",
       " (7, 'could'): 0.03649184494053499,\n",
       " (7, 'cours'): 0.05337519229687997,\n",
       " (7, 'data'): 0.04377521137759807,\n",
       " (7, 'desir'): 0.046032200425432976,\n",
       " (7, 'dimension'): 0.08606311266506292,\n",
       " (7, 'displac'): 0.03413101322921557,\n",
       " (7, 'distanc'): 0.029209030723991183,\n",
       " (7, 'dryden'): 0.07230975597257526,\n",
       " (7, 'edg'): 0.023629406864788916,\n",
       " (7, 'effect'): 0.033517960408142145,\n",
       " (7, 'element'): 0.2737161682129788,\n",
       " (7, 'extend'): 0.032037093756329016,\n",
       " (7, 'flat'): 0.023629406864788916,\n",
       " (7, 'found'): 0.017262226154286478,\n",
       " (7, 'function'): 0.02356699448561605,\n",
       " (7, 'height'): 0.04340698217467757,\n",
       " (7, 'higher'): 0.03037061708499929,\n",
       " (7, 'investig'): 0.015921145111896896,\n",
       " (7, 'layer'): 0.028798075223234836,\n",
       " (7, 'lead'): 0.024607646492226215,\n",
       " (7, 'measur'): 0.02013590656011161,\n",
       " (7, 'nation'): 0.0570240738063369,\n",
       " (7, 'number'): 0.010538853587731871,\n",
       " (7, 'obtain'): 0.025950685664697663,\n",
       " (7, 'plate'): 0.02135995196920666,\n",
       " (7, 'posit'): 0.03310734997051404,\n",
       " (7, 'primarili'): 0.051230232805186376,\n",
       " (7, 'rang'): 0.018170564387603772,\n",
       " (7, 'reason'): 0.03475861300221901,\n",
       " (7, 'relat'): 0.026130129711655653,\n",
       " (7, 'repres'): 0.03129381256078159,\n",
       " (7, 'result'): 0.008281312319377692,\n",
       " (7, 'reynold'): 0.022901460938693767,\n",
       " (7, 'rough'): 0.2737161682129788,\n",
       " (7, 'row'): 0.05505873163382906,\n",
       " (7, 'see'): 0.0570240738063369,\n",
       " (7, 'standard'): 0.048869401093866956,\n",
       " (7, 'studi'): 0.020707583680545316,\n",
       " (7, 'suggest'): 0.03459854650744514,\n",
       " (7, 'term'): 0.0256004393425503,\n",
       " (7, 'thick'): 0.023755233795574187,\n",
       " (7, 'three'): 0.05436394384014859,\n",
       " (7, 'transit'): 0.12713631830903543,\n",
       " (7, 'trip'): 0.06415508326010531,\n",
       " (7, 'two'): 0.028233793701199886,\n",
       " (7, 'twodimension'): 0.051230232805186376,\n",
       " (7, 'valu'): 0.017445766630080354,\n",
       " (7, 'way'): 0.04275321921991509,\n",
       " (7, 'well'): 0.025236177864856574,\n",
       " (7, 'whether'): 0.05505873163382906,\n",
       " (7, 'wire'): 0.04941669539545393,\n",
       " (7, 'would'): 0.03612416795813376,\n",
       " (8, 'agreement'): 0.024010998344237786,\n",
       " (8, 'air'): 0.03572798331632968,\n",
       " (8, 'along'): 0.013633458006940014,\n",
       " (8, 'although'): 0.018245922470267496,\n",
       " (8, 'amount'): 0.020357364190698505,\n",
       " (8, 'angl'): 0.011135784781534945,\n",
       " (8, 'approxim'): 0.007706160886573055,\n",
       " (8, 'boundari'): 0.03224921324762824,\n",
       " (8, 'boundarylay'): 0.023016100212716488,\n",
       " (8, 'caus'): 0.01754271570173936,\n",
       " (8, 'coeffici'): 0.010757889083132865,\n",
       " (8, 'compar'): 0.010185369412776616,\n",
       " (8, 'complet'): 0.016280027834463532,\n",
       " (8, 'constant'): 0.012005499172118893,\n",
       " (8, 'contamin'): 0.03446263050127716,\n",
       " (8, 'degre'): 0.016914668787470503,\n",
       " (8, 'detect'): 0.02969245275882816,\n",
       " (8, 'develop'): 0.009795363060886969,\n",
       " (8, 'dimension'): 0.010757889083132865,\n",
       " (8, 'direct'): 0.014310336417438762,\n",
       " (8, 'discuss'): 0.009641996941417704,\n",
       " (8, 'disturb'): 0.018532923435970038,\n",
       " (8, 'downstream'): 0.01754271570173936,\n",
       " (8, 'earlier'): 0.024173219590634454,\n",
       " (8, 'edg'): 0.011814703432394458,\n",
       " (8, 'effect'): 0.011172653469380714,\n",
       " (8, 'element'): 0.0228096806844149,\n",
       " (8, 'emphasi'): 0.02709343656895146,\n",
       " (8, 'extens'): 0.016914668787470503,\n",
       " (8, 'far'): 0.02077276164489823,\n",
       " (8, 'flat'): 0.035444110297183376,\n",
       " (8, 'float'): 0.03315002137589945,\n",
       " (8, 'flow'): 0.01150406492108065,\n",
       " (8, 'found'): 0.025893339231429717,\n",
       " (8, 'friction'): 0.06566104117843527,\n",
       " (8, 'fulli'): 0.022417378481481533,\n",
       " (8, 'galcit'): 0.03207754163005266,\n",
       " (8, 'given'): 0.007567746195924855,\n",
       " (8, 'good'): 0.027352477888339787,\n",
       " (8, 'greater'): 0.03542158872634998,\n",
       " (8, 'hasten'): 0.03853996685751213,\n",
       " (8, 'head'): 0.024708347697726965,\n",
       " (8, 'hyperson'): 0.024744446939227616,\n",
       " (8, 'incompress'): 0.013850543635972079,\n",
       " (8, 'inject'): 0.061893034024475976,\n",
       " (8, 'insul'): 0.047365479076103605,\n",
       " (8, 'investig'): 0.023881717667845342,\n",
       " (8, 'lacquer'): 0.03853996685751213,\n",
       " (8, 'laminar'): 0.03150628292105026,\n",
       " (8, 'layer'): 0.035997594029043546,\n",
       " (8, 'lead'): 0.012303823246113108,\n",
       " (8, 'least'): 0.022417378481481533,\n",
       " (8, 'local'): 0.014215457700204152,\n",
       " (8, 'low'): 0.026130129711655653,\n",
       " (8, 'lower'): 0.017065506614607786,\n",
       " (8, 'mach'): 0.015105131843690984,\n",
       " (8, 'made'): 0.016217335169455414,\n",
       " (8, 'mean'): 0.026285955908714718,\n",
       " (8, 'measur'): 0.03020385984016741,\n",
       " (8, 'much'): 0.01788381721732965,\n",
       " (8, 'nomin'): 0.025615116402593188,\n",
       " (8, 'number'): 0.04742484114479342,\n",
       " (8, 'obtain'): 0.012975342832348831,\n",
       " (8, 'occur'): 0.014215457700204152,\n",
       " (8, 'onset'): 0.02752936581691453,\n",
       " (8, 'origin'): 0.01972424263662577,\n",
       " (8, 'phosphoresc'): 0.03853996685751213,\n",
       " (8, 'pitot'): 0.025297073924532742,\n",
       " (8, 'plate'): 0.04271990393841332,\n",
       " (8, 'possibl'): 0.012950096643633884,\n",
       " (8, 'qualit'): 0.021219737568297772,\n",
       " (8, 'rake'): 0.03853996685751213,\n",
       " (8, 'rang'): 0.018170564387603772,\n",
       " (8, 'regardless'): 0.03615487798628763,\n",
       " (8, 'result'): 0.008281312319377692,\n",
       " (8, 'reynold'): 0.08015511328542818,\n",
       " (8, 'shear'): 0.015528066825581856,\n",
       " (8, 'sidewal'): 0.03615487798628763,\n",
       " (8, 'skin'): 0.06407418751265803,\n",
       " (8, 'speed'): 0.018530124980664555,\n",
       " (8, 'spread'): 0.02595134236635759,\n",
       " (8, 'stabil'): 0.014406770592589801,\n",
       " (8, 'studi'): 0.010353791840272658,\n",
       " (8, 'surfac'): 0.008504993481626357,\n",
       " (8, 'survey'): 0.02077276164489823,\n",
       " (8, 'techniqu'): 0.04658420047674557,\n",
       " (8, 'total'): 0.016280027834463532,\n",
       " (8, 'transit'): 0.07946019894314715,\n",
       " (8, 'transvers'): 0.01834004212524656,\n",
       " (8, 'tunnel'): 0.024140996417021138,\n",
       " (8, 'turbul'): 0.05353242933555309,\n",
       " (8, 'two'): 0.007058448425299972,\n",
       " (8, 'uniform'): 0.014215457700204152,\n",
       " (8, 'use'): 0.01177381936086201,\n",
       " (8, 'valu'): 0.017445766630080354,\n",
       " (8, 'verifi'): 0.02595134236635759,\n",
       " (8, 'wind'): 0.014122085058108328,\n",
       " (9, 'analysi'): 0.05391068108821233,\n",
       " (9, 'appreci'): 0.11853540307410236,\n",
       " (9, 'continuum'): 0.1586678298849669,\n",
       " (9, 'correspond'): 0.08451371150082242,\n",
       " (9, 'densiti'): 0.09263444758941411,\n",
       " (9, 'differ'): 0.06607504524773739,\n",
       " (9, 'extrem'): 0.1328948336105175,\n",
       " (9, 'free'): 0.1252643687543437,\n",
       " (9, 'impact'): 0.43005025671705666,\n",
       " (9, 'low'): 0.14807073503271537,\n",
       " (9, 'mach'): 0.04279787355712446,\n",
       " (9, 'made'): 0.04594911631345701,\n",
       " (9, 'number'): 0.029860085165240302,\n",
       " (9, 'pressur'): 0.09313935000599118,\n",
       " (9, 'relat'): 0.14807073503271537,\n",
       " (9, 'result'): 0.023463718238236793,\n",
       " (9, 'shown'): 0.05296499118390515,\n",
       " (9, 'stream'): 0.12016825572101422,\n",
       " (9, 'theoret'): 0.059370324710379896,\n",
       " (9, 'theori'): 0.03741495789408736,\n",
       " (9, 'tube'): 0.19976308695250988,\n",
       " (10, 'aerodynam'): 0.033730421975348396,\n",
       " (10, 'anoth'): 0.06600107740112798,\n",
       " (10, 'axial'): 0.07414212867634987,\n",
       " (10, 'brooklyn'): 0.10740646501273873,\n",
       " (10, 'carri'): 0.0477739050172242,\n",
       " (10, 'characterist'): 0.03318992985669971,\n",
       " (10, 'cite'): 0.09238530547381815,\n",
       " (10, 'compress'): 0.0319940446165986,\n",
       " (10, 'devic'): 0.08102223694004855,\n",
       " (10, 'differ'): 0.06499184778465972,\n",
       " (10, 'effect'): 0.015568451555694439,\n",
       " (10, 'experiment'): 0.02321304801191475,\n",
       " (10, 'free'): 0.030802713628117307,\n",
       " (10, 'gener'): 0.023603386515090467,\n",
       " (10, 'gradient'): 0.08283418606694795,\n",
       " (10, 'influenc'): 0.042950307099225184,\n",
       " (10, 'institut'): 0.08274945850820964,\n",
       " (10, 'interact'): 0.044821017046232085,\n",
       " (10, 'interest'): 0.050086668923124286,\n",
       " (10, 'laminar'): 0.029268131675292592,\n",
       " (10, 'major'): 0.06002332144067045,\n",
       " (10, 'mani'): 0.057496261115633426,\n",
       " (10, 'may'): 0.029408247422480435,\n",
       " (10, 'mix'): 0.2135054098211628,\n",
       " (10, 'occur'): 0.03961684932843781,\n",
       " (10, 'one'): 0.02729855279263582,\n",
       " (10, 'perform'): 0.04652823441102876,\n",
       " (10, 'phenomena'): 0.06144973745689389,\n",
       " (10, 'place'): 0.06096034461837452,\n",
       " (10, 'polytechn'): 0.10740646501273873,\n",
       " (10, 'practic'): 0.043111820155668,\n",
       " (10, 'presenc'): 0.0987159030078606,\n",
       " (10, 'pressur'): 0.04580623770786451,\n",
       " (10, 'problem'): 0.048006492804743534,\n",
       " (10, 'program'): 0.06667029042605019,\n",
       " (10, 'research'): 0.05249000456561405,\n",
       " (10, 'significantli'): 0.07050004208476339,\n",
       " (10, 'similar'): 0.036737626891664724,\n",
       " (10, 'situat'): 0.06736798902307962,\n",
       " (10, 'solut'): 0.02022417003168599,\n",
       " (10, 'stagnat'): 0.03835519291637012,\n",
       " (10, 'stream'): 0.05909914215787585,\n",
       " (10, 'studi'): 0.02885482971879266,\n",
       " (10, 'superson'): 0.026931520089464034,\n",
       " (10, 'take'): 0.05033695535149787,\n",
       " (10, 'theoret'): 0.029198520349367166,\n",
       " (10, 'two'): 0.01967108577542615,\n",
       " (10, 'veloc'): 0.024465064057563508,\n",
       " (10, 'wherein'): 0.16936065589039906,\n",
       " (11, 'acrothermoelast'): 0.0897506077503707,\n",
       " (11, 'aerelast'): 0.0897506077503707,\n",
       " (11, 'aeroelast'): 0.11782198814165934,\n",
       " (11, 'aeronaut'): 0.06043463290795603,\n",
       " (11, 'aircraft'): 0.08132261444714936,\n",
       " (11, 'allevi'): 0.0707602740363996,\n",
       " (11, 'analyt'): 0.03523442071061782,\n",
       " (11, 'anoth'): 0.05515158522560008,\n",
       " (11, 'art'): 0.08025544089338515,\n",
       " (11, 'attack'): 0.03424670435580489,\n",
       " (11, 'avail'): 0.03887975752154457,\n",
       " (11, 'avenu'): 0.0841962912009438,\n",
       " (11, 'boundari'): 0.015020181512593975,\n",
       " (11, 'combin'): 0.03460880376769743,\n",
       " (11, 'concern'): 0.0418532438946655,\n",
       " (11, 'consider'): 0.02972284563155041,\n",
       " (11, 'demand'): 0.08025544089338515,\n",
       " (11, 'design'): 0.031071339779677156,\n",
       " (11, 'discuss'): 0.04490793096002766,\n",
       " (11, 'domin'): 0.06770351305949263,\n",
       " (11, 'engin'): 0.04978114566702442,\n",
       " (11, 'experiment'): 0.019397204503106846,\n",
       " (11, 'factor'): 0.07809568196341282,\n",
       " (11, 'failur'): 0.05054237650476155,\n",
       " (11, 'final'): 0.042709687140985136,\n",
       " (11, 'flight'): 0.09584739701099815,\n",
       " (11, 'fundament'): 0.051769940322428494,\n",
       " (11, 'heat'): 0.02093032664288747,\n",
       " (11, 'high'): 0.0980613934783181,\n",
       " (11, 'input'): 0.06639789415806352,\n",
       " (11, 'interrel'): 0.0841962912009438,\n",
       " (11, 'larg'): 0.02593264949124576,\n",
       " (11, 'layer'): 0.016766002698458637,\n",
       " (11, 'load'): 0.026597762168190837,\n",
       " (11, 'matter'): 0.08025544089338515,\n",
       " (11, 'meet'): 0.07258947119563965,\n",
       " (11, 'method'): 0.015376010093460558,\n",
       " (11, 'mode'): 0.043158862796094606,\n",
       " (11, 'one'): 0.022811119456860065,\n",
       " (11, 'origin'): 0.04593316778392302,\n",
       " (11, 'present'): 0.01389671368162363,\n",
       " (11, 'problem'): 0.020057507267735312,\n",
       " (11, 'research'): 0.043861510664417215,\n",
       " (11, 'respect'): 0.03715537059155823,\n",
       " (11, 'speed'): 0.08630469169076642,\n",
       " (11, 'state'): 0.04066130722357468,\n",
       " (11, 'structur'): 0.17553495337073882,\n",
       " (11, 'subject'): 0.03629892734523859,\n",
       " (11, 'suggest'): 0.04028597881003886,\n",
       " (11, 'summar'): 0.06043463290795603,\n",
       " (11, 'summari'): 0.06126510717941405,\n",
       " (11, 'thermal'): 0.07490635725534676,\n",
       " (11, 'tool'): 0.06639789415806352,\n",
       " (11, 'transfer'): 0.026194832233858052,\n",
       " (11, 'upon'): 0.04010210181918762,\n",
       " (11, 'well'): 0.02938459066455902,\n",
       " (12, 'aerodynam'): 0.028185695075291124,\n",
       " (12, 'analog'): 0.13380647259339995,\n",
       " (12, 'applic'): 0.02536046575321432,\n",
       " (12, 'bodi'): 0.0214820238913524,\n",
       " (12, 'box'): 0.08025544089338515,\n",
       " (12, 'briefli'): 0.048713179345521516,\n",
       " (12, 'calcul'): 0.0198477232270087,\n",
       " (12, 'call'): 0.059651640937545776,\n",
       " (12, 'complic'): 0.06410948203939,\n",
       " (12, 'concept'): 0.04485821414773815,\n",
       " (12, 'constant'): 0.027958011770687834,\n",
       " (12, 'detail'): 0.0353630472907526,\n",
       " (12, 'differenti'): 0.0353630472907526,\n",
       " (12, 'discuss'): 0.04490793096002766,\n",
       " (12, 'equat'): 0.017102595311205285,\n",
       " (12, 'fact'): 0.051769940322428494,\n",
       " (12, 'feedback'): 0.0841962912009438,\n",
       " (12, 'forc'): 0.028973189471423747,\n",
       " (12, 'gradient'): 0.03460880376769743,\n",
       " (12, 'heat'): 0.10465163321443735,\n",
       " (12, 'howev'): 0.03473166226061195,\n",
       " (12, 'involv'): 0.035889982644558026,\n",
       " (12, 'isotherm'): 0.06410948203939,\n",
       " (12, 'larg'): 0.02593264949124576,\n",
       " (12, 'law'): 0.08920431506226664,\n",
       " (12, 'lead'): 0.028652739066290796,\n",
       " (12, 'load'): 0.07979328650457251,\n",
       " (12, 'made'): 0.018883198484982332,\n",
       " (12, 'measur'): 0.023445918597390227,\n",
       " (12, 'method'): 0.015376010093460558,\n",
       " (12, 'modif'): 0.05015647408056023,\n",
       " (12, 'novel'): 0.07719867991647818,\n",
       " (12, 'plate'): 0.12435588475223056,\n",
       " (12, 'problem'): 0.020057507267735312,\n",
       " (12, 'proper'): 0.06914680779453133,\n",
       " (12, 'relat'): 0.03042549349987302,\n",
       " (12, 'result'): 0.00964262393352197,\n",
       " (12, 'seri'): 0.03822731849429451,\n",
       " (12, 'shown'): 0.021766434733111704,\n",
       " (12, 'similar'): 0.09209569481061156,\n",
       " (12, 'solid'): 0.048374924378530124,\n",
       " (12, 'solv'): 0.038713711486854915,\n",
       " (12, 'strain'): 0.048713179345521516,\n",
       " (12, 'stress'): 0.09073927166808402,\n",
       " (12, 'structur'): 0.03510699067414777,\n",
       " (12, 'temperatur'): 0.04531382372126439,\n",
       " (12, 'theori'): 0.015376010093460558,\n",
       " (12, 'thick'): 0.02766020373457268,\n",
       " (12, 'unheat'): 0.1494022486879165,\n",
       " (12, 'wing'): 0.09972556322496462,\n",
       " (13, 'achiev'): 0.016567523112583245,\n",
       " (13, 'ackeret'): 0.025500016442999582,\n",
       " (13, 'aerodynam'): 0.04655103485285638,\n",
       " (13, 'aeroelast'): 0.05837786290276787,\n",
       " (13, 'aeroelastician'): 0.02964612835193241,\n",
       " (13, 'agre'): 0.014256094950746184,\n",
       " (13, 'air'): 0.00916102136316146,\n",
       " (13, 'aircraft'): 0.013431110530864036,\n",
       " (13, 'airfoil'): 0.027513564949737928,\n",
       " (13, 'almost'): 0.01859478430048804,\n",
       " (13, 'also'): 0.006839820223707067,\n",
       " (13, 'alway'): 0.01900642130594382,\n",
       " (13, 'amount'): 0.01565951091592193,\n",
       " (13, 'analys'): 0.01669499314410676,\n",
       " (13, 'analyz'): 0.014035324977128845,\n",
       " (13, 'applic'): 0.01675397285053978,\n",
       " (13, 'appreci'): 0.01609077869784195,\n",
       " (13, 'area'): 0.014256094950746184,\n",
       " (13, 'assum'): 0.00984632282405781,\n",
       " (13, 'avail'): 0.012842634837433278,\n",
       " (13, 'base'): 0.0163124329033051,\n",
       " (13, 'bendingtors'): 0.02964612835193241,\n",
       " (13, 'calcul'): 0.006556035274079798,\n",
       " (13, 'certain'): 0.011157547752151484,\n",
       " (13, 'close'): 0.01217676314360392,\n",
       " (13, 'collect'): 0.02193233607936035,\n",
       " (13, 'comparison'): 0.010389962244157641,\n",
       " (13, 'complex'): 0.0180400226620612,\n",
       " (13, 'compon'): 0.014181301729247493,\n",
       " (13, 'comput'): 0.021869934923391007,\n",
       " (13, 'contribut'): 0.01770469247132038,\n",
       " (13, 'control'): 0.014107724711728125,\n",
       " (13, 'demonstr'): 0.015870008724224612,\n",
       " (13, 'describ'): 0.009961612802795295,\n",
       " (13, 'determin'): 0.006973570460094145,\n",
       " (13, 'develop'): 0.0075348946622207464,\n",
       " (13, 'dimension'): 0.008275299294717589,\n",
       " (13, 'discoveri'): 0.0265097157702132,\n",
       " (13, 'discuss'): 0.007416920724167465,\n",
       " (13, 'effect'): 0.004297174411300275,\n",
       " (13, 'eigenvalu'): 0.023977517634758798,\n",
       " (13, 'elast'): 0.012787787052219045,\n",
       " (13, 'elementari'): 0.02193233607936035,\n",
       " (13, 'emphasi'): 0.02084110505303959,\n",
       " (13, 'equat'): 0.005649273564334778,\n",
       " (13, 'essenti'): 0.014181301729247493,\n",
       " (13, 'estim'): 0.011638519058258376,\n",
       " (13, 'exact'): 0.011638519058258376,\n",
       " (13, 'exist'): 0.011195732678150872,\n",
       " (13, 'expans'): 0.013127312780467528,\n",
       " (13, 'extent'): 0.01786925194720669,\n",
       " (13, 'fairli'): 0.01922719127956116,\n",
       " (13, 'finit'): 0.0127335961425054,\n",
       " (13, 'flight'): 0.010553333305886675,\n",
       " (13, 'fluid'): 0.009789761001595221,\n",
       " (13, 'flutter'): 0.05795276522176393,\n",
       " (13, 'forc'): 0.009570329553909202,\n",
       " (13, 'form'): 0.008021135170432275,\n",
       " (13, 'formula'): 0.011810916552522043,\n",
       " (13, 'found'): 0.006639317751648646,\n",
       " (13, 'function'): 0.009064228648313867,\n",
       " (13, 'futur'): 0.02023689060677478,\n",
       " (13, 'gener'): 0.006514961888780627,\n",
       " (13, 'given'): 0.005821343227634504,\n",
       " (13, 'grow'): 0.023977517634758798,\n",
       " (13, 'gust'): 0.02117643524378041,\n",
       " (13, 'hay'): 0.02467503202311743,\n",
       " (13, 'high'): 0.016195660008862495,\n",
       " (13, 'higher'): 0.011681006571153575,\n",
       " (13, 'illustr'): 0.013368697308545775,\n",
       " (13, 'import'): 0.01147244952499852,\n",
       " (13, 'imposs'): 0.02467503202311743,\n",
       " (13, 'improv'): 0.015557823785369627,\n",
       " (13, 'includ'): 0.008255233244636747,\n",
       " (13, 'increasingli'): 0.023977517634758798,\n",
       " (13, 'influenc'): 0.011855062140510119,\n",
       " (13, 'integr'): 0.010170720690375078,\n",
       " (13, 'interact'): 0.024742823889775178,\n",
       " (13, 'introduct'): 0.01879592349764114,\n",
       " (13, 'invers'): 0.018217491952347543,\n",
       " (13, 'iter'): 0.0180400226620612,\n",
       " (13, 'known'): 0.012471969124908904,\n",
       " (13, 'labor'): 0.025500016442999582,\n",
       " (13, 'landahl'): 0.025500016442999582,\n",
       " (13, 'larger'): 0.01609077869784195,\n",
       " (13, 'lighthil'): 0.020528920114184602,\n",
       " (13, 'load'): 0.00878568614605399,\n",
       " (13, 'local'): 0.010934967461695503,\n",
       " (13, 'logic'): 0.025500016442999582,\n",
       " (13, 'loss'): 0.018402206859679013,\n",
       " (13, 'mach'): 0.017428998281181905,\n",
       " (13, 'made'): 0.012474873207273397,\n",
       " (13, 'maneuv'): 0.022840348276021664,\n",
       " (13, 'may'): 0.008117208564576048,\n",
       " (13, 'method'): 0.0050789535602833525,\n",
       " (13, 'minimum'): 0.01565951091592193,\n",
       " (13, 'mode'): 0.014256094950746184,\n",
       " (13, 'model'): 0.009335556543189693,\n",
       " (13, 'modif'): 0.016567523112583245,\n",
       " (13, 'moreov'): 0.022363603861280373,\n",
       " (13, 'motion'): 0.022164262450138156,\n",
       " (13, 'neglect'): 0.015458371718768835,\n",
       " (13, 'neglig'): 0.0164435458538135,\n",
       " (13, 'new'): 0.026022567365339238,\n",
       " (13, 'nonlinear'): 0.015557823785369627,\n",
       " (13, 'normal'): 0.010863142352391024,\n",
       " (13, 'number'): 0.01216021567815216,\n",
       " (13, 'order'): 0.017892157350893022,\n",
       " (13, 'origin'): 0.015172494335865977,\n",
       " (13, 'outlin'): 0.01859478430048804,\n",
       " (13, 'panel'): 0.015458371718768835,\n",
       " (13, 'particular'): 0.0115133990069891,\n",
       " (13, 'physic'): 0.013893910753128371,\n",
       " (13, 'piston'): 0.12923171664838934,\n",
       " (13, 'point'): 0.016195660008862495,\n",
       " (13, 'power'): 0.012321959137049624,\n",
       " (13, 'practic'): 0.011899642667401575,\n",
       " (13, 'precis'): 0.02467503202311743,\n",
       " (13, 'predict'): 0.008946078675446511,\n",
       " (13, 'pressur'): 0.004214450226515438,\n",
       " (13, 'problem'): 0.01987599136485988,\n",
       " (13, 'procedur'): 0.012471969124908904,\n",
       " (13, 'produc'): 0.013011283682669619,\n",
       " (13, 'profil'): 0.0115133990069891,\n",
       " (13, 'properti'): 0.01147244952499852,\n",
       " (13, 'propos'): 0.015361058572972618,\n",
       " (13, 'rapid'): 0.016826158469325093,\n",
       " (13, 'ratio'): 0.007019047092915419,\n",
       " (13, 'reduc'): 0.032168473617228806,\n",
       " (13, 'regard'): 0.01669499314410676,\n",
       " (13, 'relationship'): 0.01770469247132038,\n",
       " (13, 'repres'): 0.012036081754146766,\n",
       " (13, 'research'): 0.014488191305440982,\n",
       " (13, 'respons'): 0.018402206859679013,\n",
       " (13, 'result'): 0.003185120122837574,\n",
       " (13, 'review'): 0.014817419152872784,\n",
       " (13, 'section'): 0.010201398007050999,\n",
       " (13, 'shape'): 0.008946078675446511,\n",
       " (13, 'shown'): 0.00718981780776993,\n",
       " (13, 'simplif'): 0.019703935694302455,\n",
       " (13, 'slight'): 0.02023689060677478,\n",
       " (13, 'solut'): 0.011164473954143397,\n",
       " (13, 'speed'): 0.0071269711464094455,\n",
       " (13, 'state'): 0.013431110530864036,\n",
       " (13, 'steadi'): 0.011723896815291781,\n",
       " (13, 'substanti'): 0.015870008724224612,\n",
       " (13, 'success'): 0.015763535885264458,\n",
       " (13, 'suggest'): 0.013307133272094287,\n",
       " (13, 'superson'): 0.007433586993019485,\n",
       " (13, 'surfac'): 0.013084605356348245,\n",
       " (13, 'systemat'): 0.019962571051044303,\n",
       " (13, 'techniqu'): 0.011944666788909122,\n",
       " (13, 'term'): 0.00984632282405781,\n",
       " (13, 'theori'): 0.04063162848226682,\n",
       " (13, 'thermal'): 0.012371411944887589,\n",
       " (13, 'thermoelast'): 0.02467503202311743,\n",
       " (13, 'thick'): 0.0182732567658263,\n",
       " (13, 'three'): 0.010454604584643961,\n",
       " (13, 'tool'): 0.0438646721587207,\n",
       " (13, 'typic'): 0.016205338914965433,\n",
       " (13, 'unsteadi'): 0.030722117145945235,\n",
       " (13, 'use'): 0.00905678412374001,\n",
       " (13, 'util'): 0.0164435458538135,\n",
       " (13, 'veloc'): 0.006752800486476806,\n",
       " (13, 'viscou'): 0.01100795109033751,\n",
       " (13, 'way'): 0.0164435458538135,\n",
       " (13, 'well'): 0.009706222255714068,\n",
       " (13, 'wherev'): 0.02964612835193241,\n",
       " (13, 'wing'): 0.03294102314670777,\n",
       " (13, 'would'): 0.013893910753128371,\n",
       " (13, 'zone'): 0.04168221010607918,\n",
       " (14, 'across'): 0.046166218241188,\n",
       " (14, 'amplitud'): 0.05553307203253861,\n",
       " (14, 'analysi'): 0.021855681522248243,\n",
       " (14, 'applic'): 0.025017756756549266,\n",
       " (14, 'approxim'): 0.035406685154524845,\n",
       " (14, 'assum'): 0.029405910055632103,\n",
       " (14, 'author'): 0.03724736725141713,\n",
       " (14, 'avoid'): 0.053876283896155744,\n",
       " (14, 'bend'): 0.040686960023510105,\n",
       " (14, 'buckl'): 0.0646732779031727,\n",
       " (14, 'condit'): 0.019295005221267605,\n",
       " (14, 'confirm'): 0.059617948679470144,\n",
       " (14, 'constraint'): 0.06432479589931091,\n",
       " (14, 'critic'): 0.03938119197365779,\n",
       " (14, 'deviat'): 0.05336627946395511,\n",
       " (14, 'differenti'): 0.03488516827331,\n",
       " (14, 'dimension'): 0.02471406951530523,\n",
       " (14, 'discuss'): 0.0221505335140677,\n",
       " (14, 'equat'): 0.01687147915835116,\n",
       " (14, 'experi'): 0.029925724661413126,\n",
       " (14, 'finit'): 0.03802871280396883,\n",
       " (14, 'flat'): 0.027141886263608892,\n",
       " (14, 'flutter'): 0.2163439377366525,\n",
       " (14, 'form'): 0.047910023585554934,\n",
       " (14, 'formul'): 0.04425202206466061,\n",
       " (14, 'galerkin'): 0.13642478294596724,\n",
       " (14, 'given'): 0.01738536288253007,\n",
       " (14, 'increas'): 0.025840848014481593,\n",
       " (14, 'initi'): 0.03438461054789988,\n",
       " (14, 'integr'): 0.030374719899633675,\n",
       " (14, 'iter'): 0.053876283896155744,\n",
       " (14, 'limit'): 0.031418386763633545,\n",
       " (14, 'linear'): 0.030466337291327982,\n",
       " (14, 'matrix'): 0.06550062531808969,\n",
       " (14, 'method'): 0.06067290469311464,\n",
       " (14, 'mode'): 0.04257563492047171,\n",
       " (14, 'motion'): 0.033096635145138734,\n",
       " (14, 'numer'): 0.026238332949701775,\n",
       " (14, 'panel'): 0.046166218241188,\n",
       " (14, 'paper'): 0.026238332949701775,\n",
       " (14, 'plate'): 0.12267539982314637,\n",
       " (14, 'present'): 0.013708920253493583,\n",
       " (14, 'pressur'): 0.012586398649458267,\n",
       " (14, 'problem'): 0.019786459872225378,\n",
       " (14, 'question'): 0.056133771526739075,\n",
       " (14, 'rais'): 0.07369164969066151,\n",
       " (14, 'reduc'): 0.032023570582916966,\n",
       " (14, 'result'): 0.009512318204690593,\n",
       " (14, 'rigid'): 0.05025109488811954,\n",
       " (14, 'sever'): 0.03192080572635995,\n",
       " (14, 'shown'): 0.02147229372320479,\n",
       " (14, 'solv'): 0.03819055322351904,\n",
       " (14, 'static'): 0.03636573857751982,\n",
       " (14, 'theori'): 0.01516822617327866,\n",
       " (14, 'thu'): 0.039030171887127235,\n",
       " (14, 'two'): 0.01621535449055399,\n",
       " (14, 'unbuckl'): 0.08305850348201213,\n",
       " (14, 'valu'): 0.02003905626428149,\n",
       " (14, 'veloc'): 0.020167147398802352,\n",
       " (15, 'agreement'): 0.026505647522859898,\n",
       " (15, 'analysi'): 0.02100416146293987,\n",
       " (15, 'analyt'): 0.03340406119318313,\n",
       " (15, 'appar'): 0.047916798504514205,\n",
       " (15, 'applic'): 0.024043038960839553,\n",
       " (15, 'associ'): 0.039101753788827895,\n",
       " (15, 'boundari'): 0.04271973702932572,\n",
       " (15, 'boundarylay'): 0.050814766703400044,\n",
       " (15, 'caus'): 0.03873067102981418,\n",
       " (15, 'coeffici'): 0.0237511836900336,\n",
       " (15, 'compon'): 0.04070217769043761,\n",
       " (15, 'compress'): 0.05069186289902636,\n",
       " (15, 'comput'): 0.03138477674071047,\n",
       " (15, 'demonstr'): 0.04554898607861869,\n",
       " (15, 'element'): 0.050359035277279654,\n",
       " (15, 'equat'): 0.016214148801532286,\n",
       " (15, 'equival'): 0.04436753441360925,\n",
       " (15, 'essenti'): 0.04070217769043761,\n",
       " (15, 'except'): 0.04007868133736799,\n",
       " (15, 'experiment'): 0.018389557515932468,\n",
       " (15, 'explicit'): 0.055184536010169045,\n",
       " (15, 'first'): 0.027239572331474726,\n",
       " (15, 'flow'): 0.008466194963565847,\n",
       " (15, 'fluctuat'): 0.052286567811283206,\n",
       " (15, 'friction'): 0.03624148376731817,\n",
       " (15, 'function'): 0.026015513393212526,\n",
       " (15, 'gener'): 0.018698786719746993,\n",
       " (15, 'given'): 0.016708011081912017,\n",
       " (15, 'good'): 0.030194293772842624,\n",
       " (15, 'includ'): 0.023693591520321054,\n",
       " (15, 'incompress'): 0.06115824462637022,\n",
       " (15, 'independ'): 0.0418128552675566,\n",
       " (15, 'invari'): 0.06881858957508694,\n",
       " (15, 'key'): 0.07608632708074178,\n",
       " (15, 'laminar'): 0.023186441976530497,\n",
       " (15, 'layer'): 0.06358016607727172,\n",
       " (15, 'mass'): 0.03873067102981418,\n",
       " (15, 'mean'): 0.02901696431481495,\n",
       " (15, 'measur'): 0.022227948800123205,\n",
       " (15, 'modif'): 0.04755094295949217,\n",
       " (15, 'point'): 0.023241823778952023,\n",
       " (15, 'postul'): 0.06881858957508694,\n",
       " (15, 'preserv'): 0.07608632708074178,\n",
       " (15, 'pressur'): 0.012096019481297555,\n",
       " (15, 'relat'): 0.028844948382996505,\n",
       " (15, 'remain'): 0.04302747939756729,\n",
       " (15, 'report'): 0.033773385028514735,\n",
       " (15, 'requir'): 0.029279337137120397,\n",
       " (15, 'result'): 0.009141708404507842,\n",
       " (15, 'rise'): 0.04494483003141229,\n",
       " (15, 'self'): 0.058920666821231135,\n",
       " (15, 'separ'): 0.028844948382996505,\n",
       " (15, 'shear'): 0.03428274493959631,\n",
       " (15, 'show'): 0.025087474899937918,\n",
       " (15, 'shown'): 0.020635710850872138,\n",
       " (15, 'stewartson'): 0.06881858957508694,\n",
       " (15, 'stream'): 0.02340940046513264,\n",
       " (15, 'temperatur'): 0.021479929426313642,\n",
       " (15, 'thu'): 0.037509515839576825,\n",
       " (15, 'transform'): 0.241699232723024,\n",
       " (15, 'turbul'): 0.08864136026341583,\n",
       " (15, 'valu'): 0.019258313812426365,\n",
       " (15, 'viscos'): 0.04007868133736799,\n",
       " (16, 'appli'): 0.024266650348701596,\n",
       " (16, 'applic'): 0.04686870886037077,\n",
       " (16, 'assumpt'): 0.032323970431745105,\n",
       " (16, 'avail'): 0.035926864545224736,\n",
       " (16, 'axisymmetr'): 0.04121465189585737,\n",
       " (16, 'behind'): 0.03811183597138921,\n",
       " (16, 'bodi'): 0.01985047777302184,\n",
       " (16, 'boundari'): 0.04163822469946937,\n",
       " (16, 'carri'): 0.036888711468995895,\n",
       " (16, 'case'): 0.016991243201716973,\n",
       " (16, 'compani'): 0.08293410589591217,\n",
       " (16, 'comparison'): 0.02906559058175745,\n",
       " (16, 'compress'): 0.09881704919557036,\n",
       " (16, 'connect'): 0.04707064584456767,\n",
       " (16, 'data'): 0.04709991097589666,\n",
       " (16, 'desir'): 0.04952831691344055,\n",
       " (16, 'differenti'): 0.032677246230695435,\n",
       " (16, 'divis'): 0.07133548903674565,\n",
       " (16, 'eddi'): 0.12050721257086093,\n",
       " (16, 'electr'): 0.04352251970337579,\n",
       " (16, 'equat'): 0.01580366402174666,\n",
       " (16, 'establish'): 0.04193817612167951,\n",
       " (16, 'estim'): 0.06511677751582534,\n",
       " (16, 'experi'): 0.028031691454994574,\n",
       " (16, 'experiment'): 0.01792399909780759,\n",
       " (16, 'extend'): 0.03447029075048059,\n",
       " (16, 'extens'): 0.03639865435278462,\n",
       " (16, 'flow'): 0.03300744365542128,\n",
       " (16, 'form'): 0.022438871805892817,\n",
       " (16, 'found'): 0.018573281305244944,\n",
       " (16, 'gener'): 0.018225399714183778,\n",
       " (16, 'hyperson'): 0.026623772023219583,\n",
       " (16, 'incompress'): 0.0596099346358292,\n",
       " (16, 'infinitesim'): 0.060253606285430465,\n",
       " (16, 'invari'): 0.0670763468010341,\n",
       " (16, 'lack'): 0.061355016120742234,\n",
       " (16, 'layer'): 0.046477906214714454,\n",
       " (16, 'mager'): 0.0741600909521154,\n",
       " (16, 'make'): 0.04193817612167951,\n",
       " (16, 'mass'): 0.03775014771260369,\n",
       " (16, 'missil'): 0.0474485314540573,\n",
       " (16, 'mix'): 0.04121465189585737,\n",
       " (16, 'necessari'): 0.03988097448246716,\n",
       " (16, 'partial'): 0.04470087948902151,\n",
       " (16, 'ration'): 0.06538607600831862,\n",
       " (16, 'refer'): 0.040093722815585923,\n",
       " ...}"
      ]
     },
     "execution_count": 20,
     "metadata": {},
     "output_type": "execute_result"
    }
   ],
   "source": [
    "\n",
    "tf_idf"
   ]
  },
  {
   "cell_type": "markdown",
   "metadata": {
    "id": "mhC9_UqR4JE0"
   },
   "source": [
    "* Formation de vecteurs de documents à l'aide des valeurs tf-idf"
   ]
  },
  {
   "cell_type": "code",
   "execution_count": 21,
   "metadata": {
    "ExecuteTime": {
     "end_time": "2020-02-19T05:28:30.614473Z",
     "start_time": "2020-02-19T05:28:29.236370Z"
    },
    "executionInfo": {
     "elapsed": 546,
     "status": "ok",
     "timestamp": 1697984800593,
     "user": {
      "displayName": "nabil bcom",
      "userId": "04169804032469069549"
     },
     "user_tz": -120
    },
    "id": "cKt4sm0V4JE0"
   },
   "outputs": [],
   "source": [
    "# initialisation d'un vecteur vide de la taille du vocabulaire\n",
    "D = np.zeros((no_of_docs, vocab_size))\n",
    "\n",
    "# création d'un vecteur de valeurs tf-idf\n",
    "for i in tf_idf:\n",
    "    ind = vocab.index(i[1])\n",
    "    D[i[0]][ind] = tf_idf[i]"
   ]
  },
  {
   "cell_type": "code",
   "execution_count": 22,
   "metadata": {
    "ExecuteTime": {
     "end_time": "2020-02-19T05:28:33.624022Z",
     "start_time": "2020-02-19T05:28:33.610016Z"
    },
    "colab": {
     "base_uri": "https://localhost:8080/"
    },
    "executionInfo": {
     "elapsed": 8,
     "status": "ok",
     "timestamp": 1697984800593,
     "user": {
      "displayName": "nabil bcom",
      "userId": "04169804032469069549"
     },
     "user_tz": -120
    },
    "id": "Zr1umHjc4JE0",
    "outputId": "0eb39aca-5f64-49fd-f7a8-02269547ee15"
   },
   "outputs": [
    {
     "name": "stdout",
     "output_type": "stream",
     "text": [
      "[[0.035848   0.01713035 0.02604501 ... 0.         0.         0.        ]\n",
      " [0.         0.01166636 0.         ... 0.         0.         0.        ]\n",
      " [0.         0.         0.         ... 0.         0.         0.        ]\n",
      " ...\n",
      " [0.         0.         0.         ... 0.         0.         0.        ]\n",
      " [0.         0.         0.         ... 0.         0.         0.14559543]\n",
      " [0.         0.02182738 0.         ... 0.         0.         0.        ]]\n"
     ]
    }
   ],
   "source": [
    "\n",
    "print(D)"
   ]
  },
  {
   "cell_type": "markdown",
   "metadata": {
    "id": "nd5TQFDV4JE0"
   },
   "source": [
    "## Calcul de la similarité en cosinus entre chaque vecteur de requête et les vecteurs de documents"
   ]
  },
  {
   "cell_type": "code",
   "execution_count": 23,
   "metadata": {
    "ExecuteTime": {
     "end_time": "2020-02-19T05:28:36.572778Z",
     "start_time": "2020-02-19T05:28:36.563778Z"
    },
    "executionInfo": {
     "elapsed": 6,
     "status": "ok",
     "timestamp": 1697984800593,
     "user": {
      "displayName": "nabil bcom",
      "userId": "04169804032469069549"
     },
     "user_tz": -120
    },
    "id": "ZQZXd0YJ4JE0"
   },
   "outputs": [],
   "source": [
    "def gen_vector(tokens):\n",
    "    \"\"\"Créer un vecteur (en rapport avec le vocabulaire) des mots-clés passés en entrée.\n",
    "\n",
    "    Arguments :\n",
    "        tokens {list} -- liste de tokens à convertir\n",
    "\n",
    "    Retourne :\n",
    "        numpy.ndarray -- vecteur de tokens\n",
    "    \"\"\"\n",
    "    Q = np.zeros((len(vocab)))\n",
    "\n",
    "    counter = Counter(tokens)\n",
    "    words_count = len(tokens)\n",
    "\n",
    "    query_weights = {}\n",
    "\n",
    "    for token in np.unique(tokens):\n",
    "\n",
    "        tf = counter[token]/words_count\n",
    "        df = DF[token] if token in vocab else 0\n",
    "        idf = m.log((no_of_docs+1)/(df+1))\n",
    "\n",
    "        try:\n",
    "            ind = vocab.index(token)\n",
    "            Q[ind] = tf*idf\n",
    "        except:\n",
    "            pass\n",
    "    return Q"
   ]
  },
  {
   "cell_type": "code",
   "execution_count": 24,
   "metadata": {
    "ExecuteTime": {
     "end_time": "2020-02-19T05:28:39.579044Z",
     "start_time": "2020-02-19T05:28:39.568044Z"
    },
    "executionInfo": {
     "elapsed": 6,
     "status": "ok",
     "timestamp": 1697984800593,
     "user": {
      "displayName": "nabil bcom",
      "userId": "04169804032469069549"
     },
     "user_tz": -120
    },
    "id": "NZpOUXaf4JE0"
   },
   "outputs": [],
   "source": [
    "def cosine_sim(x, y):\n",
    "    \"\"\"Calculer la similarité cosinus entre 2 vecteurs.\n",
    "\n",
    "    Arguments :\n",
    "        x {numpy.ndarray} -- vecteur 1\n",
    "        y {numpy.ndarray} -- vecteur 2\n",
    "\n",
    "    Retourne :\n",
    "        numpy.float64 -- similarité cosinus entre le vecteur 1 et le vecteur 2\n",
    "    \"\"\"\n",
    "    cos_sim = np.dot(x, y)/(np.linalg.norm(x)*np.linalg.norm(y))\n",
    "\n",
    "    return cos_sim"
   ]
  },
  {
   "cell_type": "code",
   "execution_count": 25,
   "metadata": {
    "ExecuteTime": {
     "end_time": "2020-02-19T05:28:42.677042Z",
     "start_time": "2020-02-19T05:28:42.668045Z"
    },
    "executionInfo": {
     "elapsed": 5,
     "status": "ok",
     "timestamp": 1697984800593,
     "user": {
      "displayName": "nabil bcom",
      "userId": "04169804032469069549"
     },
     "user_tz": -120
    },
    "id": "ZkpFfg2F4JE0"
   },
   "outputs": [],
   "source": [
    "def cosine_similarity(k, query):\n",
    "    \"\"\"Déterminer une liste classée des k premiers documents dans l'ordre décroissant de leur\n",
    "    similarité cosinus avec la requête\n",
    "\n",
    "    Arguments :\n",
    "        k {integer} -- les k premiers documents à récupérer\n",
    "        query {string} -- requête dont la similarité en cosinus doit être calculée avec le corpus\n",
    "\n",
    "    Retourne :\n",
    "        numpy.ndarray -- liste des k premières similarités cosinus entre la requête et le corpus de documents\n",
    "    \"\"\"\n",
    "\n",
    "    tokens = query.split()\n",
    "\n",
    "    d_cosines = []\n",
    "\n",
    "    # vectoriser les mots clés de la requête d'entrée\n",
    "    query_vector = gen_vector(tokens)\n",
    "\n",
    "    for d in D:\n",
    "        d_cosines.append(cosine_sim(query_vector, d))\n",
    "\n",
    "    if k == 0:\n",
    "        # k=0 pour récupérer tous les documents par ordre décroissant\n",
    "        out = np.array(d_cosines).argsort()[::-1]\n",
    "\n",
    "    else:\n",
    "        # Récupérer les k premiers documents dans l'ordre décroissant\n",
    "        out = np.array(d_cosines).argsort()[-k:][::-1]\n",
    "\n",
    "    return out"
   ]
  },
  {
   "cell_type": "code",
   "execution_count": 26,
   "metadata": {
    "ExecuteTime": {
     "end_time": "2020-02-19T05:28:45.689042Z",
     "start_time": "2020-02-19T05:28:45.675057Z"
    },
    "colab": {
     "base_uri": "https://localhost:8080/"
    },
    "executionInfo": {
     "elapsed": 5,
     "status": "ok",
     "timestamp": 1697984800593,
     "user": {
      "displayName": "nabil bcom",
      "userId": "04169804032469069549"
     },
     "user_tz": -120
    },
    "id": "fvYTVd2O4JE0",
    "outputId": "21a358ab-75e9-4673-da63-11453069dc5e"
   },
   "outputs": [
    {
     "data": {
      "text/plain": [
       "['investig made wave system creat static pressur distribut liquid surfac\\n',\n",
       " 'anyon investig effect shock gener vortic heat transfer blunt bodi\\n',\n",
       " 'heat transfer blunt bodi absenc vortic\\n',\n",
       " 'gener effect flow field reynold number small\\n',\n",
       " 'find calcul procedur applic incompress laminar boundari layer flow problem good accuraci reason comput time\\n',\n",
       " 'paper applic problem calcul procedur laminar incompress flow arbitrari pressur gradient\\n',\n",
       " 'anyon investig shear buckl stiffen plate\\n',\n",
       " 'paper shear buckl unstiffen rectangular plate shear\\n',\n",
       " 'practic close realiti assumpt flow hyperson shock tube use nitrogen non viscou thermodynam equilibrium\\n',\n",
       " 'design factor use control lift drag ratio mach number']"
      ]
     },
     "execution_count": 26,
     "metadata": {},
     "output_type": "execute_result"
    }
   ],
   "source": [
    "# liste de toutes les requêtes du fichier de requêtes prétraitées\n",
    "query_file = open(preproc_query, 'r')\n",
    "queries = query_file.readlines()\n",
    "queries"
   ]
  },
  {
   "cell_type": "code",
   "execution_count": 27,
   "metadata": {
    "ExecuteTime": {
     "end_time": "2020-02-19T05:28:48.684040Z",
     "start_time": "2020-02-19T05:28:48.671040Z"
    },
    "executionInfo": {
     "elapsed": 4,
     "status": "ok",
     "timestamp": 1697984800594,
     "user": {
      "displayName": "nabil bcom",
      "userId": "04169804032469069549"
     },
     "user_tz": -120
    },
    "id": "0U6dp5O24JE1"
   },
   "outputs": [],
   "source": [
    "def list_of_docs(k):\n",
    "    \"\"\"Générer une liste classée des k meilleurs documents dans l'ordre décroissant de leur similarité cosinusoïdale\n",
    "    calculée par rapport aux requêtes. Le résultat est une liste de paires (identifiant de la requête, identifiant du document).\n",
    "\n",
    "    Si k=0 est donné en entrée, la liste de tous les documents dans l'ordre décroissant est retournée.\n",
    "\n",
    "    Arguments :\n",
    "        k {intégral} -- nombre de documents principaux à récupérer\n",
    "\n",
    "    Retourne :\n",
    "        liste -- liste des documents dans l'ordre décroissant de leur similarité cosinusoïdale\n",
    "    \"\"\"\n",
    "    cos_sims = []\n",
    "    for i in range(len(queries)):\n",
    "        cs = [i, cosine_similarity(k, queries[i])]\n",
    "        cos_sims.append(cs)\n",
    "\n",
    "    return cos_sims\n"
   ]
  },
  {
   "cell_type": "code",
   "execution_count": 28,
   "metadata": {
    "ExecuteTime": {
     "end_time": "2020-02-19T05:28:52.269485Z",
     "start_time": "2020-02-19T05:28:51.720041Z"
    },
    "colab": {
     "base_uri": "https://localhost:8080/"
    },
    "executionInfo": {
     "elapsed": 418,
     "status": "ok",
     "timestamp": 1697984801008,
     "user": {
      "displayName": "nabil bcom",
      "userId": "04169804032469069549"
     },
     "user_tz": -120
    },
    "id": "RVdsmC374JE1",
    "outputId": "2e08403e-8d38-4784-d591-ab821b2678ab"
   },
   "outputs": [
    {
     "data": {
      "text/plain": [
       "[[0, array([ 763,  957,  406, ...,  612, 1059,  222], dtype=int64)],\n",
       " [1, array([ 323, 1394,  322, ...,  879,  878,  937], dtype=int64)],\n",
       " [2, array([323, 322, 628, ..., 818, 817,   0], dtype=int64)],\n",
       " [3, array([1077, 1221,  667, ...,  881,  262,  910], dtype=int64)],\n",
       " [4, array([ 737,    3,  381, ...,  399, 1056,  912], dtype=int64)],\n",
       " [5, array([1365,    2, 1385, ...,  881,  882,  870], dtype=int64)],\n",
       " [6, array([1399, 1397, 1129, ...,  584,  583, 1196], dtype=int64)],\n",
       " [7, array([ 399, 1398, 1397, ...,  777,  776,    0], dtype=int64)],\n",
       " [8, array([1311, 1285,  316, ...,  762,  760, 1399], dtype=int64)],\n",
       " [9, array([1379, 1123, 1187, ...,  663, 1357,  652], dtype=int64)]]"
      ]
     },
     "execution_count": 28,
     "metadata": {},
     "output_type": "execute_result"
    }
   ],
   "source": [
    "#to get list of all documents\n",
    "no_of_top=0\n",
    "list_of_docs(no_of_top)"
   ]
  },
  {
   "cell_type": "code",
   "execution_count": null,
   "metadata": {},
   "outputs": [],
   "source": []
  },
  {
   "cell_type": "code",
   "execution_count": null,
   "metadata": {},
   "outputs": [],
   "source": []
  }
 ],
 "metadata": {
  "colab": {
   "provenance": []
  },
  "jupytext": {
   "formats": "ipynb,py:light"
  },
  "kernelspec": {
   "display_name": "Python 3 (ipykernel)",
   "language": "python",
   "name": "python3"
  },
  "language_info": {
   "codemirror_mode": {
    "name": "ipython",
    "version": 3
   },
   "file_extension": ".py",
   "mimetype": "text/x-python",
   "name": "python",
   "nbconvert_exporter": "python",
   "pygments_lexer": "ipython3",
   "version": "3.11.5"
  },
  "varInspector": {
   "cols": {
    "lenName": 16,
    "lenType": 16,
    "lenVar": 40
   },
   "kernels_config": {
    "python": {
     "delete_cmd_postfix": "",
     "delete_cmd_prefix": "del ",
     "library": "var_list.py",
     "varRefreshCmd": "print(var_dic_list())"
    },
    "r": {
     "delete_cmd_postfix": ") ",
     "delete_cmd_prefix": "rm(",
     "library": "var_list.r",
     "varRefreshCmd": "cat(var_dic_list()) "
    }
   },
   "position": {
    "height": "339px",
    "left": "994px",
    "right": "20px",
    "top": "120px",
    "width": "352px"
   },
   "types_to_exclude": [
    "module",
    "function",
    "builtin_function_or_method",
    "instance",
    "_Feature"
   ],
   "window_display": false
  }
 },
 "nbformat": 4,
 "nbformat_minor": 1
}
