{
 "cells": [
  {
   "cell_type": "markdown",
   "metadata": {
    "id": "v7ux93oB9QGN"
   },
   "source": [
    "\n",
    "L'incorporation de mots, ou \\textit{word embedding} en anglais, est une technique fondamentale en traitement automatique du langage naturel (TALN) qui permet de représenter les mots sous forme de vecteurs numériques. Ces vecteurs capturent les relations sémantiques entre les mots, facilitant ainsi le traitement et l'analyse automatiques du langage.\n",
    "\n",
    "En combinant les incorporations de mots avec un Perceptron Multicouche (MLP), il est possible d'effectuer une classification de texte efficace. Voici comment cela fonctionne :\n",
    "\n",
    "1. **Incorporation de Mots** :\n",
    "\n",
    "   Tout d'abord, chaque mot dans le texte est représenté sous forme de vecteur à l'aide d'une matrice d'incorporation, notée $ E $. Si $ V $ est la taille du vocabulaire et $ d $ est la dimension de l'incorporation, alors $ E $ est une matrice de dimension $ V \\times d $.\n",
    "\n",
    "   Mathématiquement, pour une phrase composée de mots $ w_1, w_2, \\ldots, w_n $, les vecteurs d'incorporation $ \\mathbf{v}_i $ de chaque mot $ w_i $ sont calculés et moyennés pour former un vecteur $ \\mathbf{v}_{\\text{moyen}} $ :\n",
    "\n",
    "   $$ \\mathbf{v}_{\\text{moyen}} = \\frac{1}{n} \\sum_{i=1}^{n} E(w_i) $$\n",
    "\n",
    "   où $ E(w_i) $ représente la $i$-ème ligne de la matrice $ E $.\n",
    "\n",
    "2. **Perceptron Multicouche (MLP)** :\n",
    "\n",
    "   Ensuite, le vecteur moyen $ \\mathbf{v}_{\\text{moyen}} $ est utilisé comme entrée pour le MLP. Le MLP est un réseau de neurones artificiels composé de plusieurs couches. Chaque neurone dans une couche est connecté à tous les neurones de la couche précédente. La sortie du MLP est une probabilité de classe.\n",
    "\n",
    "   Mathématiquement, si $ \\mathbf{x} $ est le vecteur d'entrée, $ \\mathbf{W} $ représente les poids et $ \\mathbf{b} $ les biais du MLP, alors la sortie $ \\mathbf{y} $ du MLP est donnée par :\n",
    "\n",
    "   $$ \\mathbf{y} = \\sigma(\\mathbf{Wx} + \\mathbf{b}) $$\n",
    "\n",
    "   Où $ \\sigma $ est une fonction d'activation.\n",
    "\n",
    "3. **Entraînement du Modèle** :\n",
    "\n",
    "   Le modèle est ensuite entraîné en minimisant une fonction de perte, par exemple l'entropie croisée. Cela se fait en ajustant les poids $ \\mathbf{W} $ et les biais $ \\mathbf{b} $ du MLP à l'aide d'un algorithme d'optimisation tel que la descente de gradient.\n",
    "\n",
    "En combinant ces deux techniques, l'incorporation de mots et le MLP, il est possible de construire un modèle de classification de texte puissant qui est capable d'apprendre des représentations sémantiques utiles pour la tâche de classification.\n",
    "\n"
   ]
  },
  {
   "cell_type": "code",
   "execution_count": 1,
   "metadata": {
    "executionInfo": {
     "elapsed": 4,
     "status": "ok",
     "timestamp": 1698593469599,
     "user": {
      "displayName": "nabil bcom",
      "userId": "04169804032469069549"
     },
     "user_tz": -60
    },
    "id": "1K_cYUbd-2EM"
   },
   "outputs": [],
   "source": [
    "#!pip install torchtext"
   ]
  },
  {
   "cell_type": "code",
   "execution_count": 2,
   "metadata": {
    "executionInfo": {
     "elapsed": 3,
     "status": "ok",
     "timestamp": 1698593469599,
     "user": {
      "displayName": "nabil bcom",
      "userId": "04169804032469069549"
     },
     "user_tz": -60
    },
    "id": "kFLzMpx5-L4t"
   },
   "outputs": [],
   "source": [
    "#!pip install shap"
   ]
  },
  {
   "cell_type": "code",
   "execution_count": 3,
   "metadata": {
    "executionInfo": {
     "elapsed": 4,
     "status": "ok",
     "timestamp": 1698593469600,
     "user": {
      "displayName": "nabil bcom",
      "userId": "04169804032469069549"
     },
     "user_tz": -60
    },
    "id": "Ee4CgTy8-T8n"
   },
   "outputs": [],
   "source": [
    "#!pip install portalocker>=2.0.0"
   ]
  },
  {
   "cell_type": "code",
   "execution_count": 4,
   "metadata": {
    "executionInfo": {
     "elapsed": 4,
     "status": "ok",
     "timestamp": 1698593469600,
     "user": {
      "displayName": "nabil bcom",
      "userId": "04169804032469069549"
     },
     "user_tz": -60
    },
    "id": "2wb0nPBFDL5-"
   },
   "outputs": [],
   "source": [
    "#!pip install scikit-plot"
   ]
  },
  {
   "cell_type": "code",
   "execution_count": 5,
   "metadata": {
    "executionInfo": {
     "elapsed": 3212,
     "status": "ok",
     "timestamp": 1698593472809,
     "user": {
      "displayName": "nabil bcom",
      "userId": "04169804032469069549"
     },
     "user_tz": -60
    },
    "id": "nbpepouE8U7F"
   },
   "outputs": [],
   "source": [
    "\n",
    "from sklearn.metrics import confusion_matrix\n",
    "import scikitplot as skplt\n",
    "import matplotlib.pyplot as plt\n",
    "from tqdm import tqdm\n",
    "\n",
    "import gc\n",
    "import re\n",
    "import torch\n",
    "from torch import nn\n",
    "from torch.nn import functional as F\n",
    "from torch.optim import Adam\n",
    "\n",
    "from sklearn.metrics import accuracy_score, classification_report, confusion_matrix\n",
    "\n",
    "\n",
    "\n",
    "from torch.utils.data import DataLoader\n",
    "from torchtext.data.functional import to_map_style_dataset\n",
    "\n",
    "from torchtext.data import get_tokenizer\n",
    "from torchtext.vocab import build_vocab_from_iterator\n",
    "import torchtext\n",
    "import shap\n"
   ]
  },
  {
   "cell_type": "code",
   "execution_count": 6,
   "metadata": {
    "executionInfo": {
     "elapsed": 8,
     "status": "ok",
     "timestamp": 1698593472809,
     "user": {
      "displayName": "nabil bcom",
      "userId": "04169804032469069549"
     },
     "user_tz": -60
    },
    "id": "-6If6-a3_GSw"
   },
   "outputs": [],
   "source": [
    "from torchtext.datasets import AG_NEWS\n",
    "\n",
    "\n",
    "train, test = AG_NEWS('.', split=('train', 'test'))"
   ]
  },
  {
   "cell_type": "markdown",
   "metadata": {
    "id": "t5L_h-nT-Gk6"
   },
   "source": [
    "## Tokéniser des données textuelles et construire un vocabulaire\n",
    "Dans cette section, nous avons d'abord créé un tokenizer en utilisant la fonction get_tokenizer(). Nous lui avons demandé de créer un tokenizer simple qui sépare les mots de la phrase. Il prend du texte en entrée et renvoie une liste de tokens/mots en sortie.\n",
    "\n",
    "Ensuite, nous avons construit un vocabulaire en utilisant la fonction build_vocab_from_iterator(). Cette fonction renvoie une instance de Vocab qui contient une correspondance entre les mots et leurs index. Le vocabulaire associe simplement les mots/tokens à leurs index respectifs. Pour créer un vocabulaire à l'aide de la fonction build_vocab_from_iterator(), nous devons lui fournir une fonction qui produit une liste de tokens/mots. Nous avons créé une petite fonction qui prend en entrée une liste d'ensembles de données et qui parcourt en boucle tous les ensembles de données et leurs documents textuels respectifs. Pour chaque document texte, elle produit une liste de tokens/mots à l'aide de la fonction tokenizer que nous avons créée.\n",
    "\n",
    "Après avoir rempli un vocabulaire, nous avons également imprimé la taille du vocabulaire et nous avons expliqué un exemple de la manière dont le vocabulaire associe les mots/mots à leurs index. Ces index serviront d'entrée à nos réseaux neuronaux."
   ]
  },
  {
   "cell_type": "code",
   "execution_count": 7,
   "metadata": {
    "executionInfo": {
     "elapsed": 5,
     "status": "ok",
     "timestamp": 1698593472809,
     "user": {
      "displayName": "nabil bcom",
      "userId": "04169804032469069549"
     },
     "user_tz": -60
    },
    "id": "wgc_WDqd_s05"
   },
   "outputs": [],
   "source": [
    "\n",
    "\n",
    "def tokenizer(inp_str): ## This method is one way of creating tokenizer that looks for word tokens\n",
    "    return re.findall(r\"\\w+\", inp_str)\n",
    "\n",
    "tokenizer = get_tokenizer(\"basic_english\") ## We'll use tokenizer available from PyTorch"
   ]
  },
  {
   "cell_type": "code",
   "execution_count": 8,
   "metadata": {
    "executionInfo": {
     "elapsed": 17984,
     "status": "ok",
     "timestamp": 1698593490788,
     "user": {
      "displayName": "nabil bcom",
      "userId": "04169804032469069549"
     },
     "user_tz": -60
    },
    "id": "o3w9thtf-bsK"
   },
   "outputs": [],
   "source": [
    "def build_vocab(datasets):\n",
    "    for dataset in datasets:\n",
    "        for _, text in dataset:\n",
    "            yield tokenizer(text)\n",
    "\n",
    "vocab = build_vocab_from_iterator(build_vocab([train, test]), specials=[\"<UNK>\"])\n",
    "vocab.set_default_index(vocab[\"<UNK>\"])"
   ]
  },
  {
   "cell_type": "code",
   "execution_count": 9,
   "metadata": {
    "colab": {
     "base_uri": "https://localhost:8080/"
    },
    "executionInfo": {
     "elapsed": 27,
     "status": "ok",
     "timestamp": 1698593490789,
     "user": {
      "displayName": "nabil bcom",
      "userId": "04169804032469069549"
     },
     "user_tz": -60
    },
    "id": "G84Y-s7o_6kB",
    "outputId": "91ca3c2f-5d09-4215-baa3-0f46f0aa3fec"
   },
   "outputs": [
    {
     "data": {
      "text/plain": [
       "(['hello', 'how', 'are', 'you', '?'], [12388, 355, 42, 164, 80])"
      ]
     },
     "execution_count": 9,
     "metadata": {},
     "output_type": "execute_result"
    }
   ],
   "source": [
    "tokens = tokenizer(\"Hello how are you?\")\n",
    "indexes = vocab(tokens)\n",
    "\n",
    "tokens, indexes"
   ]
  },
  {
   "cell_type": "markdown",
   "metadata": {
    "id": "92srweZaAESb"
   },
   "source": [
    "##Créer des chargeurs de données (vectoriser des données textuelles)\n",
    "Dans cette section, nous avons créé des chargeurs de données de formation et de test que nous utiliserons pendant le processus de formation pour parcourir les données. Pour créer les chargeurs de données, nous avons chargé à nouveau les ensembles de données de formation et de test et les avons donnés au constructeur DataLoader() en tant qu'entrée. Afin de tokeniser et de vectoriser les documents textuels, nous avons créé une fonction d'aide qui est donnée à l'argument collate_fn du constructeur DataLoader(). Cette fonction sera appliquée à chaque lot lorsque nous parcourons les données en boucle à l'aide des chargeurs de données. La fonction parcourt en boucle chaque document texte, le tokenise, puis vectorise les tokens/mots à l'aide du vocabulaire. Nous avons décidé de conserver un maximum de 50 mots par document. Pour gérer cette condition, nous avons tronqué les mots des documents contenant plus de 50 mots et nous avons ajouté des zéros aux documents contenant moins de 50 mots. Le nombre de mots à conserver par document est l'un des hyperparamètres à entraîner. Nous l'avons fixé à 50, mais différentes valeurs peuvent être essayées pour vérifier si l'une d'entre elles contribue à améliorer la précision du modèle.\n",
    "\n",
    "Après le passage du lot par cette fonction, celle-ci renvoie une liste d'index (d'une longueur de 50) par document texte et leurs étiquettes cibles respectives. Les étiquettes cibles des quatre catégories ([\"World\", \"Sports\", \"Business\", \"Sci/Tech\"]) sont comprises dans l'intervalle [1,4] que nous avons mis en correspondance avec [0,3] pour des raisons de simplicité. La taille des lots étant de 1024, nous obtenons pour chaque lot des données de forme [1024,50] (1024=taille du lot, 50=tokens par document texte) et 1024 étiquettes cibles.\n",
    "\n"
   ]
  },
  {
   "cell_type": "code",
   "execution_count": 10,
   "metadata": {
    "executionInfo": {
     "elapsed": 5809,
     "status": "ok",
     "timestamp": 1698593496575,
     "user": {
      "displayName": "nabil bcom",
      "userId": "04169804032469069549"
     },
     "user_tz": -60
    },
    "id": "Z4dQxjr2ALYY"
   },
   "outputs": [],
   "source": [
    "\n",
    "\n",
    "def vectorize_batch(batch):\n",
    "    Y, X = list(zip(*batch))\n",
    "    X = [vocab(tokenizer(sample)) for sample in X]\n",
    "    X = [sample+([0]* (50-len(sample))) if len(sample)<50 else sample[:50] for sample in X] ## Amener tous les échantillons à une longueur de 50.\n",
    "    return torch.tensor(X, dtype=torch.int32), torch.tensor(Y) - 1 ## Nous avons déduit 1 des noms de cibles pour les placer dans la plage [0,1,2,3,5] de [1,2,3,4,5]\n",
    "\n",
    "train_dataset, test_dataset = to_map_style_dataset(train), to_map_style_dataset(test)\n",
    "\n",
    "target_classes = [\"World\", \"Sports\", \"Business\", \"Sci/Tech\"]\n",
    "\n",
    "train_loader = DataLoader(train_dataset, batch_size=2048, collate_fn=vectorize_batch)\n",
    "test_loader  = DataLoader(test_dataset, batch_size=2048, collate_fn=vectorize_batch)\n"
   ]
  },
  {
   "cell_type": "code",
   "execution_count": 11,
   "metadata": {
    "colab": {
     "base_uri": "https://localhost:8080/"
    },
    "executionInfo": {
     "elapsed": 377,
     "status": "ok",
     "timestamp": 1698593496946,
     "user": {
      "displayName": "nabil bcom",
      "userId": "04169804032469069549"
     },
     "user_tz": -60
    },
    "id": "t0NfphD7Asch",
    "outputId": "f0398f9a-3ac1-4ed1-b1f0-982776784327"
   },
   "outputs": [
    {
     "name": "stdout",
     "output_type": "stream",
     "text": [
      "torch.Size([2048, 50]) torch.Size([2048])\n"
     ]
    }
   ],
   "source": [
    "for X, Y in train_loader:\n",
    "    print(X.shape, Y.shape)\n",
    "    break"
   ]
  },
  {
   "cell_type": "markdown",
   "metadata": {
    "id": "Suu4EAWkA-9V"
   },
   "source": [
    "## Moyens  des Word Embeddings\n",
    "\n",
    "Ci-dessous, nous avons défini un réseau que nous utiliserons dans cet exemple. La couche d'intégration de mots est moyennée pour chaque token/mot de l'exemple de texte."
   ]
  },
  {
   "cell_type": "code",
   "execution_count": 12,
   "metadata": {
    "executionInfo": {
     "elapsed": 4,
     "status": "ok",
     "timestamp": 1698593496946,
     "user": {
      "displayName": "nabil bcom",
      "userId": "04169804032469069549"
     },
     "user_tz": -60
    },
    "id": "mrpu6APMBTB-"
   },
   "outputs": [],
   "source": [
    "\n",
    "\n",
    "class EmbeddingClassifier(nn.Module):\n",
    "    def __init__(self):\n",
    "        super(EmbeddingClassifier, self).__init__()\n",
    "        self.word_embeddings = nn.Embedding(num_embeddings=len(vocab), embedding_dim=25)\n",
    "        self.linear1 = nn.Linear(25, 128) ## 25 = longueur d'intégration, 50 = mots que nous avons conservés par échantillone\n",
    "        self.linear2 = nn.Linear(128,64)\n",
    "        self.linear3 = nn.Linear(64, len(target_classes))\n",
    "\n",
    "    def forward(self, X_batch):\n",
    "        x = self.word_embeddings(X_batch) #B seq_len C\n",
    "        x = x.mean(dim=1) ## Moyenne des intégrations\n",
    "\n",
    "        x = F.relu(self.linear1(x))\n",
    "        x = F.relu(self.linear2(x))\n",
    "        logits = F.relu(self.linear3(x))\n",
    "\n",
    "        return logits"
   ]
  },
  {
   "cell_type": "markdown",
   "metadata": {
    "id": "zvt_lbyIBcsv"
   },
   "source": [
    "## Formation du modèle\n",
    "Dans cette section, nous avons entraîné le réseau que nous avons défini dans la section précédente. Afin d'entraîner le réseau, nous avons défini une fonction d'aide simple. Cette fonction prend en entrée le modèle, la fonction de perte, le chargeur de formation, le chargeur de validation et un certain nombre d'époques. Elle exécute ensuite la boucle d'apprentissage un certain nombre d'époques. Pour chaque époque, elle parcourt les données d'apprentissage par lots à l'aide du chargeur de données d'apprentissage. Au cours de chaque lot, il effectue une passe avant pour faire des prédictions, calcule la perte, calcule les gradients à l'aide de la rétropropagation et met à jour les poids du réseau à l'aide des gradients. Elle garde la trace de la perte pour chaque lot et imprime la valeur moyenne de la perte à la fin de chaque époque. Nous avons également créé une autre fonction d'aide qui calcule la perte et la précision de la validation et les imprime. Elle passe en boucle par le chargeur de validation pour calculer la perte et la précision de la validation."
   ]
  },
  {
   "cell_type": "code",
   "execution_count": 13,
   "metadata": {
    "executionInfo": {
     "elapsed": 3,
     "status": "ok",
     "timestamp": 1698593496946,
     "user": {
      "displayName": "nabil bcom",
      "userId": "04169804032469069549"
     },
     "user_tz": -60
    },
    "id": "FWxslgUTB7WM"
   },
   "outputs": [],
   "source": [
    "\n",
    "\n",
    "\n",
    "def CalcValLossAndAccuracy(model, loss_fn, val_loader):\n",
    "    with torch.no_grad():\n",
    "        Y_shuffled, Y_preds, losses = [],[],[]\n",
    "        for X, Y in val_loader:\n",
    "            preds = model(X)\n",
    "            loss = loss_fn(preds, Y)\n",
    "            losses.append(loss.item())\n",
    "\n",
    "            Y_shuffled.append(Y)\n",
    "            Y_preds.append(preds.argmax(dim=-1))\n",
    "\n",
    "        Y_shuffled = torch.cat(Y_shuffled)\n",
    "        Y_preds = torch.cat(Y_preds)\n",
    "\n",
    "        print(\"Valid Loss : {:.3f}\".format(torch.tensor(losses).mean()))\n",
    "        print(\"Valid Acc  : {:.3f}\".format(accuracy_score(Y_shuffled.detach().numpy(), Y_preds.detach().numpy())))\n",
    "\n",
    "\n",
    "def TrainModel(model, loss_fn, optimizer, train_loader, val_loader, epochs=10):\n",
    "    for i in range(1, epochs+1):\n",
    "        losses = []\n",
    "        for X, Y in tqdm(train_loader):\n",
    "            optimizer.zero_grad()\n",
    "            Y_preds = model(X)\n",
    "\n",
    "            loss = loss_fn(Y_preds, Y)\n",
    "            losses.append(loss.item())\n",
    "\n",
    "\n",
    "            loss.backward()\n",
    "            optimizer.step()\n",
    "\n",
    "        print(\"Train Loss : {:.3f}\".format(torch.tensor(losses).mean()))\n",
    "        CalcValLossAndAccuracy(model, loss_fn, val_loader)"
   ]
  },
  {
   "cell_type": "markdown",
   "metadata": {
    "id": "fVQXm7TnCBOX"
   },
   "source": [
    "Ci-dessous, nous avons entraîné notre réseau en appelant la routine d'entraînement que nous avons conçue dans la cellule précédente. Nous avons initialisé le nombre d'époques à 15 et le taux d'apprentissage à 0,001. Ensuite, nous avons initialisé la fonction de perte d'entropie croisée, notre classificateur et l'optimiseur Adam. Enfin, nous avons appelé notre routine d'apprentissage avec les paramètres nécessaires pour effectuer le processus d'apprentissage.\n",
    "\n",
    "Les valeurs de perte et de précision imprimées après chaque époque montrent que notre modèle fait du bon travail. Ce n'est pas très attrayant, car notre modèle semble faire beaucoup d'erreurs, mais il a toujours une bonne précision."
   ]
  },
  {
   "cell_type": "code",
   "execution_count": 14,
   "metadata": {
    "id": "cXB2PpHzBcIC"
   },
   "outputs": [
    {
     "name": "stderr",
     "output_type": "stream",
     "text": [
      "100%|██████████████████████████████████████████████████████████████████████████████████| 59/59 [00:06<00:00,  9.29it/s]\n"
     ]
    },
    {
     "name": "stdout",
     "output_type": "stream",
     "text": [
      "Train Loss : 1.373\n",
      "Valid Loss : 1.343\n",
      "Valid Acc  : 0.362\n"
     ]
    },
    {
     "name": "stderr",
     "output_type": "stream",
     "text": [
      "100%|██████████████████████████████████████████████████████████████████████████████████| 59/59 [00:04<00:00, 11.95it/s]\n"
     ]
    },
    {
     "name": "stdout",
     "output_type": "stream",
     "text": [
      "Train Loss : 1.263\n",
      "Valid Loss : 1.174\n",
      "Valid Acc  : 0.458\n"
     ]
    },
    {
     "name": "stderr",
     "output_type": "stream",
     "text": [
      "100%|██████████████████████████████████████████████████████████████████████████████████| 59/59 [00:05<00:00, 11.76it/s]\n"
     ]
    },
    {
     "name": "stdout",
     "output_type": "stream",
     "text": [
      "Train Loss : 1.094\n",
      "Valid Loss : 1.035\n",
      "Valid Acc  : 0.530\n"
     ]
    },
    {
     "name": "stderr",
     "output_type": "stream",
     "text": [
      "100%|██████████████████████████████████████████████████████████████████████████████████| 59/59 [00:04<00:00, 12.52it/s]\n"
     ]
    },
    {
     "name": "stdout",
     "output_type": "stream",
     "text": [
      "Train Loss : 0.961\n",
      "Valid Loss : 0.929\n",
      "Valid Acc  : 0.567\n"
     ]
    },
    {
     "name": "stderr",
     "output_type": "stream",
     "text": [
      "100%|██████████████████████████████████████████████████████████████████████████████████| 59/59 [00:05<00:00, 11.65it/s]\n"
     ]
    },
    {
     "name": "stdout",
     "output_type": "stream",
     "text": [
      "Train Loss : 0.862\n",
      "Valid Loss : 0.859\n",
      "Valid Acc  : 0.592\n"
     ]
    },
    {
     "name": "stderr",
     "output_type": "stream",
     "text": [
      "100%|██████████████████████████████████████████████████████████████████████████████████| 59/59 [00:05<00:00, 11.37it/s]\n"
     ]
    },
    {
     "name": "stdout",
     "output_type": "stream",
     "text": [
      "Train Loss : 0.795\n",
      "Valid Loss : 0.812\n",
      "Valid Acc  : 0.603\n"
     ]
    },
    {
     "name": "stderr",
     "output_type": "stream",
     "text": [
      "100%|██████████████████████████████████████████████████████████████████████████████████| 59/59 [00:04<00:00, 11.83it/s]\n"
     ]
    },
    {
     "name": "stdout",
     "output_type": "stream",
     "text": [
      "Train Loss : 0.748\n",
      "Valid Loss : 0.779\n",
      "Valid Acc  : 0.614\n"
     ]
    },
    {
     "name": "stderr",
     "output_type": "stream",
     "text": [
      "100%|██████████████████████████████████████████████████████████████████████████████████| 59/59 [00:05<00:00, 11.32it/s]\n"
     ]
    },
    {
     "name": "stdout",
     "output_type": "stream",
     "text": [
      "Train Loss : 0.712\n",
      "Valid Loss : 0.755\n",
      "Valid Acc  : 0.622\n"
     ]
    },
    {
     "name": "stderr",
     "output_type": "stream",
     "text": [
      "100%|██████████████████████████████████████████████████████████████████████████████████| 59/59 [00:05<00:00, 11.53it/s]\n"
     ]
    },
    {
     "name": "stdout",
     "output_type": "stream",
     "text": [
      "Train Loss : 0.685\n",
      "Valid Loss : 0.737\n",
      "Valid Acc  : 0.628\n"
     ]
    },
    {
     "name": "stderr",
     "output_type": "stream",
     "text": [
      "100%|██████████████████████████████████████████████████████████████████████████████████| 59/59 [00:04<00:00, 11.90it/s]\n"
     ]
    },
    {
     "name": "stdout",
     "output_type": "stream",
     "text": [
      "Train Loss : 0.662\n",
      "Valid Loss : 0.723\n",
      "Valid Acc  : 0.633\n"
     ]
    },
    {
     "name": "stderr",
     "output_type": "stream",
     "text": [
      "100%|██████████████████████████████████████████████████████████████████████████████████| 59/59 [00:05<00:00, 11.43it/s]\n"
     ]
    },
    {
     "name": "stdout",
     "output_type": "stream",
     "text": [
      "Train Loss : 0.643\n",
      "Valid Loss : 0.712\n",
      "Valid Acc  : 0.636\n"
     ]
    },
    {
     "name": "stderr",
     "output_type": "stream",
     "text": [
      "100%|██████████████████████████████████████████████████████████████████████████████████| 59/59 [00:04<00:00, 12.01it/s]\n"
     ]
    },
    {
     "name": "stdout",
     "output_type": "stream",
     "text": [
      "Train Loss : 0.627\n",
      "Valid Loss : 0.702\n",
      "Valid Acc  : 0.640\n"
     ]
    },
    {
     "name": "stderr",
     "output_type": "stream",
     "text": [
      "100%|██████████████████████████████████████████████████████████████████████████████████| 59/59 [00:05<00:00, 11.52it/s]\n"
     ]
    },
    {
     "name": "stdout",
     "output_type": "stream",
     "text": [
      "Train Loss : 0.613\n",
      "Valid Loss : 0.694\n",
      "Valid Acc  : 0.643\n"
     ]
    },
    {
     "name": "stderr",
     "output_type": "stream",
     "text": [
      "100%|██████████████████████████████████████████████████████████████████████████████████| 59/59 [00:05<00:00, 11.26it/s]\n"
     ]
    },
    {
     "name": "stdout",
     "output_type": "stream",
     "text": [
      "Train Loss : 0.600\n",
      "Valid Loss : 0.687\n",
      "Valid Acc  : 0.645\n"
     ]
    },
    {
     "name": "stderr",
     "output_type": "stream",
     "text": [
      "100%|██████████████████████████████████████████████████████████████████████████████████| 59/59 [00:04<00:00, 11.83it/s]\n"
     ]
    },
    {
     "name": "stdout",
     "output_type": "stream",
     "text": [
      "Train Loss : 0.589\n",
      "Valid Loss : 0.681\n",
      "Valid Acc  : 0.649\n"
     ]
    },
    {
     "name": "stderr",
     "output_type": "stream",
     "text": [
      "100%|██████████████████████████████████████████████████████████████████████████████████| 59/59 [00:05<00:00, 11.53it/s]\n"
     ]
    },
    {
     "name": "stdout",
     "output_type": "stream",
     "text": [
      "Train Loss : 0.578\n",
      "Valid Loss : 0.676\n",
      "Valid Acc  : 0.650\n"
     ]
    },
    {
     "name": "stderr",
     "output_type": "stream",
     "text": [
      "100%|██████████████████████████████████████████████████████████████████████████████████| 59/59 [00:05<00:00, 11.48it/s]\n"
     ]
    },
    {
     "name": "stdout",
     "output_type": "stream",
     "text": [
      "Train Loss : 0.569\n",
      "Valid Loss : 0.672\n",
      "Valid Acc  : 0.652\n"
     ]
    },
    {
     "name": "stderr",
     "output_type": "stream",
     "text": [
      "100%|██████████████████████████████████████████████████████████████████████████████████| 59/59 [00:04<00:00, 12.07it/s]\n"
     ]
    },
    {
     "name": "stdout",
     "output_type": "stream",
     "text": [
      "Train Loss : 0.560\n",
      "Valid Loss : 0.669\n",
      "Valid Acc  : 0.653\n"
     ]
    },
    {
     "name": "stderr",
     "output_type": "stream",
     "text": [
      "100%|██████████████████████████████████████████████████████████████████████████████████| 59/59 [00:05<00:00, 11.18it/s]\n"
     ]
    },
    {
     "name": "stdout",
     "output_type": "stream",
     "text": [
      "Train Loss : 0.552\n",
      "Valid Loss : 0.666\n",
      "Valid Acc  : 0.656\n"
     ]
    },
    {
     "name": "stderr",
     "output_type": "stream",
     "text": [
      "100%|██████████████████████████████████████████████████████████████████████████████████| 59/59 [00:05<00:00, 11.75it/s]\n"
     ]
    },
    {
     "name": "stdout",
     "output_type": "stream",
     "text": [
      "Train Loss : 0.544\n",
      "Valid Loss : 0.663\n",
      "Valid Acc  : 0.657\n"
     ]
    },
    {
     "name": "stderr",
     "output_type": "stream",
     "text": [
      "100%|██████████████████████████████████████████████████████████████████████████████████| 59/59 [00:05<00:00, 11.31it/s]\n"
     ]
    },
    {
     "name": "stdout",
     "output_type": "stream",
     "text": [
      "Train Loss : 0.537\n",
      "Valid Loss : 0.662\n",
      "Valid Acc  : 0.658\n"
     ]
    },
    {
     "name": "stderr",
     "output_type": "stream",
     "text": [
      "100%|██████████████████████████████████████████████████████████████████████████████████| 59/59 [00:05<00:00, 10.52it/s]\n"
     ]
    },
    {
     "name": "stdout",
     "output_type": "stream",
     "text": [
      "Train Loss : 0.530\n",
      "Valid Loss : 0.661\n",
      "Valid Acc  : 0.658\n"
     ]
    },
    {
     "name": "stderr",
     "output_type": "stream",
     "text": [
      "100%|██████████████████████████████████████████████████████████████████████████████████| 59/59 [00:05<00:00, 10.83it/s]\n"
     ]
    },
    {
     "name": "stdout",
     "output_type": "stream",
     "text": [
      "Train Loss : 0.524\n",
      "Valid Loss : 0.660\n",
      "Valid Acc  : 0.659\n"
     ]
    },
    {
     "name": "stderr",
     "output_type": "stream",
     "text": [
      "100%|██████████████████████████████████████████████████████████████████████████████████| 59/59 [00:05<00:00, 10.99it/s]\n"
     ]
    },
    {
     "name": "stdout",
     "output_type": "stream",
     "text": [
      "Train Loss : 0.518\n",
      "Valid Loss : 0.659\n",
      "Valid Acc  : 0.659\n"
     ]
    },
    {
     "name": "stderr",
     "output_type": "stream",
     "text": [
      "100%|██████████████████████████████████████████████████████████████████████████████████| 59/59 [00:05<00:00, 10.71it/s]\n"
     ]
    },
    {
     "name": "stdout",
     "output_type": "stream",
     "text": [
      "Train Loss : 0.513\n",
      "Valid Loss : 0.659\n",
      "Valid Acc  : 0.660\n"
     ]
    },
    {
     "name": "stderr",
     "output_type": "stream",
     "text": [
      "100%|██████████████████████████████████████████████████████████████████████████████████| 59/59 [00:05<00:00, 11.29it/s]\n"
     ]
    },
    {
     "name": "stdout",
     "output_type": "stream",
     "text": [
      "Train Loss : 0.507\n",
      "Valid Loss : 0.660\n",
      "Valid Acc  : 0.660\n"
     ]
    },
    {
     "name": "stderr",
     "output_type": "stream",
     "text": [
      "100%|██████████████████████████████████████████████████████████████████████████████████| 59/59 [00:05<00:00, 11.36it/s]\n"
     ]
    },
    {
     "name": "stdout",
     "output_type": "stream",
     "text": [
      "Train Loss : 0.503\n",
      "Valid Loss : 0.660\n",
      "Valid Acc  : 0.660\n"
     ]
    },
    {
     "name": "stderr",
     "output_type": "stream",
     "text": [
      "100%|██████████████████████████████████████████████████████████████████████████████████| 59/59 [00:05<00:00, 11.51it/s]\n"
     ]
    },
    {
     "name": "stdout",
     "output_type": "stream",
     "text": [
      "Train Loss : 0.498\n",
      "Valid Loss : 0.661\n",
      "Valid Acc  : 0.660\n"
     ]
    },
    {
     "name": "stderr",
     "output_type": "stream",
     "text": [
      "100%|██████████████████████████████████████████████████████████████████████████████████| 59/59 [00:05<00:00, 11.27it/s]\n"
     ]
    },
    {
     "name": "stdout",
     "output_type": "stream",
     "text": [
      "Train Loss : 0.494\n",
      "Valid Loss : 0.663\n",
      "Valid Acc  : 0.659\n"
     ]
    },
    {
     "name": "stderr",
     "output_type": "stream",
     "text": [
      "100%|██████████████████████████████████████████████████████████████████████████████████| 59/59 [00:05<00:00, 11.01it/s]\n"
     ]
    },
    {
     "name": "stdout",
     "output_type": "stream",
     "text": [
      "Train Loss : 0.491\n",
      "Valid Loss : 0.669\n",
      "Valid Acc  : 0.658\n"
     ]
    },
    {
     "name": "stderr",
     "output_type": "stream",
     "text": [
      "100%|██████████████████████████████████████████████████████████████████████████████████| 59/59 [00:05<00:00, 11.42it/s]\n"
     ]
    },
    {
     "name": "stdout",
     "output_type": "stream",
     "text": [
      "Train Loss : 0.487\n",
      "Valid Loss : 0.690\n",
      "Valid Acc  : 0.654\n"
     ]
    },
    {
     "name": "stderr",
     "output_type": "stream",
     "text": [
      "100%|██████████████████████████████████████████████████████████████████████████████████| 59/59 [00:05<00:00, 11.03it/s]\n"
     ]
    },
    {
     "name": "stdout",
     "output_type": "stream",
     "text": [
      "Train Loss : 0.483\n",
      "Valid Loss : 0.718\n",
      "Valid Acc  : 0.649\n"
     ]
    },
    {
     "name": "stderr",
     "output_type": "stream",
     "text": [
      "100%|██████████████████████████████████████████████████████████████████████████████████| 59/59 [00:05<00:00, 10.94it/s]\n"
     ]
    },
    {
     "name": "stdout",
     "output_type": "stream",
     "text": [
      "Train Loss : 0.479\n",
      "Valid Loss : 0.720\n",
      "Valid Acc  : 0.651\n"
     ]
    },
    {
     "name": "stderr",
     "output_type": "stream",
     "text": [
      "100%|██████████████████████████████████████████████████████████████████████████████████| 59/59 [00:05<00:00, 11.11it/s]\n"
     ]
    },
    {
     "name": "stdout",
     "output_type": "stream",
     "text": [
      "Train Loss : 0.475\n",
      "Valid Loss : 0.716\n",
      "Valid Acc  : 0.654\n"
     ]
    },
    {
     "name": "stderr",
     "output_type": "stream",
     "text": [
      "100%|██████████████████████████████████████████████████████████████████████████████████| 59/59 [00:05<00:00, 11.33it/s]\n"
     ]
    },
    {
     "name": "stdout",
     "output_type": "stream",
     "text": [
      "Train Loss : 0.472\n",
      "Valid Loss : 0.718\n",
      "Valid Acc  : 0.654\n"
     ]
    },
    {
     "name": "stderr",
     "output_type": "stream",
     "text": [
      "100%|██████████████████████████████████████████████████████████████████████████████████| 59/59 [00:04<00:00, 11.87it/s]\n"
     ]
    },
    {
     "name": "stdout",
     "output_type": "stream",
     "text": [
      "Train Loss : 0.469\n",
      "Valid Loss : 0.724\n",
      "Valid Acc  : 0.652\n"
     ]
    },
    {
     "name": "stderr",
     "output_type": "stream",
     "text": [
      "100%|██████████████████████████████████████████████████████████████████████████████████| 59/59 [00:05<00:00, 10.87it/s]\n"
     ]
    },
    {
     "name": "stdout",
     "output_type": "stream",
     "text": [
      "Train Loss : 0.467\n",
      "Valid Loss : 0.726\n",
      "Valid Acc  : 0.651\n"
     ]
    },
    {
     "name": "stderr",
     "output_type": "stream",
     "text": [
      "100%|██████████████████████████████████████████████████████████████████████████████████| 59/59 [00:05<00:00, 11.39it/s]\n"
     ]
    },
    {
     "name": "stdout",
     "output_type": "stream",
     "text": [
      "Train Loss : 0.467\n",
      "Valid Loss : 0.704\n",
      "Valid Acc  : 0.656\n"
     ]
    },
    {
     "name": "stderr",
     "output_type": "stream",
     "text": [
      "100%|██████████████████████████████████████████████████████████████████████████████████| 59/59 [00:05<00:00, 11.37it/s]\n"
     ]
    },
    {
     "name": "stdout",
     "output_type": "stream",
     "text": [
      "Train Loss : 0.468\n",
      "Valid Loss : 0.686\n",
      "Valid Acc  : 0.662\n"
     ]
    },
    {
     "name": "stderr",
     "output_type": "stream",
     "text": [
      "100%|██████████████████████████████████████████████████████████████████████████████████| 59/59 [00:05<00:00, 10.90it/s]\n"
     ]
    },
    {
     "name": "stdout",
     "output_type": "stream",
     "text": [
      "Train Loss : 0.467\n",
      "Valid Loss : 0.688\n",
      "Valid Acc  : 0.664\n"
     ]
    },
    {
     "name": "stderr",
     "output_type": "stream",
     "text": [
      "100%|██████████████████████████████████████████████████████████████████████████████████| 59/59 [00:05<00:00, 11.55it/s]\n"
     ]
    },
    {
     "name": "stdout",
     "output_type": "stream",
     "text": [
      "Train Loss : 0.459\n",
      "Valid Loss : 0.693\n",
      "Valid Acc  : 0.662\n"
     ]
    },
    {
     "name": "stderr",
     "output_type": "stream",
     "text": [
      "100%|██████████████████████████████████████████████████████████████████████████████████| 59/59 [00:05<00:00, 11.15it/s]\n"
     ]
    },
    {
     "name": "stdout",
     "output_type": "stream",
     "text": [
      "Train Loss : 0.453\n",
      "Valid Loss : 0.704\n",
      "Valid Acc  : 0.660\n"
     ]
    },
    {
     "name": "stderr",
     "output_type": "stream",
     "text": [
      "100%|██████████████████████████████████████████████████████████████████████████████████| 59/59 [00:05<00:00, 11.09it/s]\n"
     ]
    },
    {
     "name": "stdout",
     "output_type": "stream",
     "text": [
      "Train Loss : 0.448\n",
      "Valid Loss : 0.715\n",
      "Valid Acc  : 0.656\n"
     ]
    },
    {
     "name": "stderr",
     "output_type": "stream",
     "text": [
      "100%|██████████████████████████████████████████████████████████████████████████████████| 59/59 [00:05<00:00, 11.24it/s]\n"
     ]
    },
    {
     "name": "stdout",
     "output_type": "stream",
     "text": [
      "Train Loss : 0.445\n",
      "Valid Loss : 0.724\n",
      "Valid Acc  : 0.655\n"
     ]
    },
    {
     "name": "stderr",
     "output_type": "stream",
     "text": [
      "100%|██████████████████████████████████████████████████████████████████████████████████| 59/59 [00:05<00:00, 10.94it/s]\n"
     ]
    },
    {
     "name": "stdout",
     "output_type": "stream",
     "text": [
      "Train Loss : 0.443\n",
      "Valid Loss : 0.733\n",
      "Valid Acc  : 0.653\n"
     ]
    },
    {
     "name": "stderr",
     "output_type": "stream",
     "text": [
      "100%|██████████████████████████████████████████████████████████████████████████████████| 59/59 [00:05<00:00, 10.89it/s]\n"
     ]
    },
    {
     "name": "stdout",
     "output_type": "stream",
     "text": [
      "Train Loss : 0.441\n",
      "Valid Loss : 0.739\n",
      "Valid Acc  : 0.653\n"
     ]
    },
    {
     "name": "stderr",
     "output_type": "stream",
     "text": [
      "100%|██████████████████████████████████████████████████████████████████████████████████| 59/59 [00:05<00:00, 11.61it/s]\n"
     ]
    },
    {
     "name": "stdout",
     "output_type": "stream",
     "text": [
      "Train Loss : 0.440\n",
      "Valid Loss : 0.742\n",
      "Valid Acc  : 0.652\n"
     ]
    },
    {
     "name": "stderr",
     "output_type": "stream",
     "text": [
      "100%|██████████████████████████████████████████████████████████████████████████████████| 59/59 [00:05<00:00, 11.34it/s]\n"
     ]
    },
    {
     "name": "stdout",
     "output_type": "stream",
     "text": [
      "Train Loss : 0.439\n",
      "Valid Loss : 0.742\n",
      "Valid Acc  : 0.652\n"
     ]
    },
    {
     "name": "stderr",
     "output_type": "stream",
     "text": [
      "100%|██████████████████████████████████████████████████████████████████████████████████| 59/59 [00:05<00:00, 11.40it/s]\n"
     ]
    },
    {
     "name": "stdout",
     "output_type": "stream",
     "text": [
      "Train Loss : 0.438\n",
      "Valid Loss : 0.745\n",
      "Valid Acc  : 0.653\n"
     ]
    },
    {
     "name": "stderr",
     "output_type": "stream",
     "text": [
      "100%|██████████████████████████████████████████████████████████████████████████████████| 59/59 [00:05<00:00, 11.43it/s]\n"
     ]
    },
    {
     "name": "stdout",
     "output_type": "stream",
     "text": [
      "Train Loss : 0.436\n",
      "Valid Loss : 0.750\n",
      "Valid Acc  : 0.654\n"
     ]
    },
    {
     "name": "stderr",
     "output_type": "stream",
     "text": [
      "100%|██████████████████████████████████████████████████████████████████████████████████| 59/59 [00:05<00:00, 11.13it/s]\n"
     ]
    },
    {
     "name": "stdout",
     "output_type": "stream",
     "text": [
      "Train Loss : 0.433\n",
      "Valid Loss : 0.773\n",
      "Valid Acc  : 0.651\n"
     ]
    },
    {
     "name": "stderr",
     "output_type": "stream",
     "text": [
      "100%|██████████████████████████████████████████████████████████████████████████████████| 59/59 [00:05<00:00, 11.38it/s]\n"
     ]
    },
    {
     "name": "stdout",
     "output_type": "stream",
     "text": [
      "Train Loss : 0.429\n",
      "Valid Loss : 0.800\n",
      "Valid Acc  : 0.646\n"
     ]
    },
    {
     "name": "stderr",
     "output_type": "stream",
     "text": [
      "100%|██████████████████████████████████████████████████████████████████████████████████| 59/59 [00:05<00:00, 10.93it/s]\n"
     ]
    },
    {
     "name": "stdout",
     "output_type": "stream",
     "text": [
      "Train Loss : 0.426\n",
      "Valid Loss : 0.813\n",
      "Valid Acc  : 0.644\n"
     ]
    },
    {
     "name": "stderr",
     "output_type": "stream",
     "text": [
      "100%|██████████████████████████████████████████████████████████████████████████████████| 59/59 [00:05<00:00, 10.69it/s]\n"
     ]
    },
    {
     "name": "stdout",
     "output_type": "stream",
     "text": [
      "Train Loss : 0.424\n",
      "Valid Loss : 0.813\n",
      "Valid Acc  : 0.645\n"
     ]
    },
    {
     "name": "stderr",
     "output_type": "stream",
     "text": [
      "100%|██████████████████████████████████████████████████████████████████████████████████| 59/59 [00:05<00:00, 11.22it/s]\n"
     ]
    },
    {
     "name": "stdout",
     "output_type": "stream",
     "text": [
      "Train Loss : 0.422\n",
      "Valid Loss : 0.809\n",
      "Valid Acc  : 0.646\n"
     ]
    },
    {
     "name": "stderr",
     "output_type": "stream",
     "text": [
      "100%|██████████████████████████████████████████████████████████████████████████████████| 59/59 [00:05<00:00, 11.21it/s]\n"
     ]
    },
    {
     "name": "stdout",
     "output_type": "stream",
     "text": [
      "Train Loss : 0.420\n",
      "Valid Loss : 0.805\n",
      "Valid Acc  : 0.648\n"
     ]
    },
    {
     "name": "stderr",
     "output_type": "stream",
     "text": [
      "100%|██████████████████████████████████████████████████████████████████████████████████| 59/59 [00:05<00:00, 11.05it/s]\n"
     ]
    },
    {
     "name": "stdout",
     "output_type": "stream",
     "text": [
      "Train Loss : 0.419\n",
      "Valid Loss : 0.808\n",
      "Valid Acc  : 0.649\n"
     ]
    },
    {
     "name": "stderr",
     "output_type": "stream",
     "text": [
      "100%|██████████████████████████████████████████████████████████████████████████████████| 59/59 [00:05<00:00, 11.31it/s]\n"
     ]
    },
    {
     "name": "stdout",
     "output_type": "stream",
     "text": [
      "Train Loss : 0.417\n",
      "Valid Loss : 0.814\n",
      "Valid Acc  : 0.649\n"
     ]
    },
    {
     "name": "stderr",
     "output_type": "stream",
     "text": [
      "100%|██████████████████████████████████████████████████████████████████████████████████| 59/59 [00:05<00:00, 11.30it/s]\n"
     ]
    },
    {
     "name": "stdout",
     "output_type": "stream",
     "text": [
      "Train Loss : 0.416\n",
      "Valid Loss : 0.826\n",
      "Valid Acc  : 0.648\n"
     ]
    },
    {
     "name": "stderr",
     "output_type": "stream",
     "text": [
      "100%|██████████████████████████████████████████████████████████████████████████████████| 59/59 [00:05<00:00, 10.91it/s]\n"
     ]
    },
    {
     "name": "stdout",
     "output_type": "stream",
     "text": [
      "Train Loss : 0.415\n",
      "Valid Loss : 0.845\n",
      "Valid Acc  : 0.646\n"
     ]
    },
    {
     "name": "stderr",
     "output_type": "stream",
     "text": [
      "100%|██████████████████████████████████████████████████████████████████████████████████| 59/59 [00:05<00:00, 11.10it/s]\n"
     ]
    },
    {
     "name": "stdout",
     "output_type": "stream",
     "text": [
      "Train Loss : 0.414\n",
      "Valid Loss : 0.872\n",
      "Valid Acc  : 0.645\n"
     ]
    },
    {
     "name": "stderr",
     "output_type": "stream",
     "text": [
      "100%|██████████████████████████████████████████████████████████████████████████████████| 59/59 [00:05<00:00, 11.45it/s]\n"
     ]
    },
    {
     "name": "stdout",
     "output_type": "stream",
     "text": [
      "Train Loss : 0.413\n",
      "Valid Loss : 0.907\n",
      "Valid Acc  : 0.644\n"
     ]
    },
    {
     "name": "stderr",
     "output_type": "stream",
     "text": [
      "100%|██████████████████████████████████████████████████████████████████████████████████| 59/59 [00:05<00:00, 11.26it/s]\n"
     ]
    },
    {
     "name": "stdout",
     "output_type": "stream",
     "text": [
      "Train Loss : 0.413\n",
      "Valid Loss : 0.916\n",
      "Valid Acc  : 0.640\n"
     ]
    },
    {
     "name": "stderr",
     "output_type": "stream",
     "text": [
      "100%|██████████████████████████████████████████████████████████████████████████████████| 59/59 [00:05<00:00, 11.32it/s]\n"
     ]
    },
    {
     "name": "stdout",
     "output_type": "stream",
     "text": [
      "Train Loss : 0.412\n",
      "Valid Loss : 0.868\n",
      "Valid Acc  : 0.641\n"
     ]
    },
    {
     "name": "stderr",
     "output_type": "stream",
     "text": [
      "100%|██████████████████████████████████████████████████████████████████████████████████| 59/59 [00:05<00:00, 11.61it/s]\n"
     ]
    },
    {
     "name": "stdout",
     "output_type": "stream",
     "text": [
      "Train Loss : 0.412\n",
      "Valid Loss : 0.830\n",
      "Valid Acc  : 0.646\n"
     ]
    },
    {
     "name": "stderr",
     "output_type": "stream",
     "text": [
      "100%|██████████████████████████████████████████████████████████████████████████████████| 59/59 [00:05<00:00, 11.53it/s]\n"
     ]
    },
    {
     "name": "stdout",
     "output_type": "stream",
     "text": [
      "Train Loss : 0.411\n",
      "Valid Loss : 0.829\n",
      "Valid Acc  : 0.651\n"
     ]
    },
    {
     "name": "stderr",
     "output_type": "stream",
     "text": [
      "100%|██████████████████████████████████████████████████████████████████████████████████| 59/59 [00:05<00:00, 11.15it/s]\n"
     ]
    },
    {
     "name": "stdout",
     "output_type": "stream",
     "text": [
      "Train Loss : 0.412\n",
      "Valid Loss : 0.839\n",
      "Valid Acc  : 0.652\n"
     ]
    },
    {
     "name": "stderr",
     "output_type": "stream",
     "text": [
      "100%|██████████████████████████████████████████████████████████████████████████████████| 59/59 [00:05<00:00, 11.71it/s]\n"
     ]
    },
    {
     "name": "stdout",
     "output_type": "stream",
     "text": [
      "Train Loss : 0.411\n",
      "Valid Loss : 0.848\n",
      "Valid Acc  : 0.652\n"
     ]
    },
    {
     "name": "stderr",
     "output_type": "stream",
     "text": [
      "100%|██████████████████████████████████████████████████████████████████████████████████| 59/59 [00:05<00:00, 11.43it/s]\n"
     ]
    },
    {
     "name": "stdout",
     "output_type": "stream",
     "text": [
      "Train Loss : 0.410\n",
      "Valid Loss : 0.856\n",
      "Valid Acc  : 0.652\n"
     ]
    },
    {
     "name": "stderr",
     "output_type": "stream",
     "text": [
      "100%|██████████████████████████████████████████████████████████████████████████████████| 59/59 [00:05<00:00, 11.34it/s]\n"
     ]
    },
    {
     "name": "stdout",
     "output_type": "stream",
     "text": [
      "Train Loss : 0.409\n",
      "Valid Loss : 0.862\n",
      "Valid Acc  : 0.650\n"
     ]
    },
    {
     "name": "stderr",
     "output_type": "stream",
     "text": [
      "100%|██████████████████████████████████████████████████████████████████████████████████| 59/59 [00:05<00:00, 11.64it/s]\n"
     ]
    },
    {
     "name": "stdout",
     "output_type": "stream",
     "text": [
      "Train Loss : 0.409\n",
      "Valid Loss : 0.859\n",
      "Valid Acc  : 0.652\n"
     ]
    },
    {
     "name": "stderr",
     "output_type": "stream",
     "text": [
      "100%|██████████████████████████████████████████████████████████████████████████████████| 59/59 [00:05<00:00, 11.19it/s]\n"
     ]
    },
    {
     "name": "stdout",
     "output_type": "stream",
     "text": [
      "Train Loss : 0.408\n",
      "Valid Loss : 0.880\n",
      "Valid Acc  : 0.652\n"
     ]
    },
    {
     "name": "stderr",
     "output_type": "stream",
     "text": [
      "100%|██████████████████████████████████████████████████████████████████████████████████| 59/59 [00:05<00:00, 11.59it/s]\n"
     ]
    },
    {
     "name": "stdout",
     "output_type": "stream",
     "text": [
      "Train Loss : 0.408\n",
      "Valid Loss : 0.938\n",
      "Valid Acc  : 0.644\n"
     ]
    },
    {
     "name": "stderr",
     "output_type": "stream",
     "text": [
      "100%|██████████████████████████████████████████████████████████████████████████████████| 59/59 [00:04<00:00, 12.04it/s]\n"
     ]
    },
    {
     "name": "stdout",
     "output_type": "stream",
     "text": [
      "Train Loss : 0.412\n",
      "Valid Loss : 0.936\n",
      "Valid Acc  : 0.646\n"
     ]
    },
    {
     "name": "stderr",
     "output_type": "stream",
     "text": [
      "100%|██████████████████████████████████████████████████████████████████████████████████| 59/59 [00:05<00:00, 10.93it/s]\n"
     ]
    },
    {
     "name": "stdout",
     "output_type": "stream",
     "text": [
      "Train Loss : 0.415\n",
      "Valid Loss : 0.940\n",
      "Valid Acc  : 0.645\n"
     ]
    },
    {
     "name": "stderr",
     "output_type": "stream",
     "text": [
      "100%|██████████████████████████████████████████████████████████████████████████████████| 59/59 [00:05<00:00, 11.16it/s]\n"
     ]
    },
    {
     "name": "stdout",
     "output_type": "stream",
     "text": [
      "Train Loss : 0.412\n",
      "Valid Loss : 0.908\n",
      "Valid Acc  : 0.649\n"
     ]
    },
    {
     "name": "stderr",
     "output_type": "stream",
     "text": [
      "100%|██████████████████████████████████████████████████████████████████████████████████| 59/59 [00:05<00:00, 10.61it/s]\n"
     ]
    },
    {
     "name": "stdout",
     "output_type": "stream",
     "text": [
      "Train Loss : 0.411\n",
      "Valid Loss : 0.875\n",
      "Valid Acc  : 0.652\n"
     ]
    },
    {
     "name": "stderr",
     "output_type": "stream",
     "text": [
      "100%|██████████████████████████████████████████████████████████████████████████████████| 59/59 [00:05<00:00, 11.14it/s]\n"
     ]
    },
    {
     "name": "stdout",
     "output_type": "stream",
     "text": [
      "Train Loss : 0.404\n",
      "Valid Loss : 0.916\n",
      "Valid Acc  : 0.648\n"
     ]
    },
    {
     "name": "stderr",
     "output_type": "stream",
     "text": [
      "100%|██████████████████████████████████████████████████████████████████████████████████| 59/59 [00:05<00:00, 11.01it/s]\n"
     ]
    },
    {
     "name": "stdout",
     "output_type": "stream",
     "text": [
      "Train Loss : 0.398\n",
      "Valid Loss : 0.926\n",
      "Valid Acc  : 0.649\n"
     ]
    },
    {
     "name": "stderr",
     "output_type": "stream",
     "text": [
      "100%|██████████████████████████████████████████████████████████████████████████████████| 59/59 [00:05<00:00, 10.82it/s]\n"
     ]
    },
    {
     "name": "stdout",
     "output_type": "stream",
     "text": [
      "Train Loss : 0.395\n",
      "Valid Loss : 0.937\n",
      "Valid Acc  : 0.650\n"
     ]
    },
    {
     "name": "stderr",
     "output_type": "stream",
     "text": [
      "100%|██████████████████████████████████████████████████████████████████████████████████| 59/59 [00:05<00:00, 11.45it/s]\n"
     ]
    },
    {
     "name": "stdout",
     "output_type": "stream",
     "text": [
      "Train Loss : 0.394\n",
      "Valid Loss : 0.950\n",
      "Valid Acc  : 0.650\n"
     ]
    },
    {
     "name": "stderr",
     "output_type": "stream",
     "text": [
      "100%|██████████████████████████████████████████████████████████████████████████████████| 59/59 [00:05<00:00, 11.69it/s]\n"
     ]
    },
    {
     "name": "stdout",
     "output_type": "stream",
     "text": [
      "Train Loss : 0.394\n",
      "Valid Loss : 0.957\n",
      "Valid Acc  : 0.652\n"
     ]
    },
    {
     "name": "stderr",
     "output_type": "stream",
     "text": [
      "100%|██████████████████████████████████████████████████████████████████████████████████| 59/59 [00:05<00:00, 11.03it/s]\n"
     ]
    },
    {
     "name": "stdout",
     "output_type": "stream",
     "text": [
      "Train Loss : 0.393\n",
      "Valid Loss : 0.963\n",
      "Valid Acc  : 0.653\n"
     ]
    },
    {
     "name": "stderr",
     "output_type": "stream",
     "text": [
      "100%|██████████████████████████████████████████████████████████████████████████████████| 59/59 [00:05<00:00, 11.36it/s]\n"
     ]
    },
    {
     "name": "stdout",
     "output_type": "stream",
     "text": [
      "Train Loss : 0.392\n",
      "Valid Loss : 0.967\n",
      "Valid Acc  : 0.653\n"
     ]
    },
    {
     "name": "stderr",
     "output_type": "stream",
     "text": [
      "100%|██████████████████████████████████████████████████████████████████████████████████| 59/59 [00:05<00:00, 11.30it/s]\n"
     ]
    },
    {
     "name": "stdout",
     "output_type": "stream",
     "text": [
      "Train Loss : 0.392\n",
      "Valid Loss : 0.973\n",
      "Valid Acc  : 0.653\n"
     ]
    },
    {
     "name": "stderr",
     "output_type": "stream",
     "text": [
      "100%|██████████████████████████████████████████████████████████████████████████████████| 59/59 [00:05<00:00, 11.62it/s]\n"
     ]
    },
    {
     "name": "stdout",
     "output_type": "stream",
     "text": [
      "Train Loss : 0.391\n",
      "Valid Loss : 0.978\n",
      "Valid Acc  : 0.653\n"
     ]
    },
    {
     "name": "stderr",
     "output_type": "stream",
     "text": [
      "100%|██████████████████████████████████████████████████████████████████████████████████| 59/59 [00:05<00:00, 11.33it/s]\n"
     ]
    },
    {
     "name": "stdout",
     "output_type": "stream",
     "text": [
      "Train Loss : 0.391\n",
      "Valid Loss : 0.986\n",
      "Valid Acc  : 0.652\n"
     ]
    },
    {
     "name": "stderr",
     "output_type": "stream",
     "text": [
      "100%|██████████████████████████████████████████████████████████████████████████████████| 59/59 [00:05<00:00, 11.62it/s]\n"
     ]
    },
    {
     "name": "stdout",
     "output_type": "stream",
     "text": [
      "Train Loss : 0.390\n",
      "Valid Loss : 0.995\n",
      "Valid Acc  : 0.652\n"
     ]
    },
    {
     "name": "stderr",
     "output_type": "stream",
     "text": [
      "100%|██████████████████████████████████████████████████████████████████████████████████| 59/59 [00:05<00:00, 11.54it/s]\n"
     ]
    },
    {
     "name": "stdout",
     "output_type": "stream",
     "text": [
      "Train Loss : 0.390\n",
      "Valid Loss : 1.005\n",
      "Valid Acc  : 0.652\n"
     ]
    },
    {
     "name": "stderr",
     "output_type": "stream",
     "text": [
      "100%|██████████████████████████████████████████████████████████████████████████████████| 59/59 [00:04<00:00, 12.30it/s]\n"
     ]
    },
    {
     "name": "stdout",
     "output_type": "stream",
     "text": [
      "Train Loss : 0.390\n",
      "Valid Loss : 1.014\n",
      "Valid Acc  : 0.652\n"
     ]
    },
    {
     "name": "stderr",
     "output_type": "stream",
     "text": [
      "100%|██████████████████████████████████████████████████████████████████████████████████| 59/59 [00:04<00:00, 11.87it/s]\n"
     ]
    },
    {
     "name": "stdout",
     "output_type": "stream",
     "text": [
      "Train Loss : 0.391\n",
      "Valid Loss : 1.020\n",
      "Valid Acc  : 0.652\n"
     ]
    },
    {
     "name": "stderr",
     "output_type": "stream",
     "text": [
      "100%|██████████████████████████████████████████████████████████████████████████████████| 59/59 [00:04<00:00, 12.54it/s]\n"
     ]
    },
    {
     "name": "stdout",
     "output_type": "stream",
     "text": [
      "Train Loss : 0.394\n",
      "Valid Loss : 1.021\n",
      "Valid Acc  : 0.651\n"
     ]
    },
    {
     "name": "stderr",
     "output_type": "stream",
     "text": [
      "100%|██████████████████████████████████████████████████████████████████████████████████| 59/59 [00:04<00:00, 11.81it/s]\n"
     ]
    },
    {
     "name": "stdout",
     "output_type": "stream",
     "text": [
      "Train Loss : 0.397\n",
      "Valid Loss : 1.047\n",
      "Valid Acc  : 0.649\n"
     ]
    },
    {
     "name": "stderr",
     "output_type": "stream",
     "text": [
      "100%|██████████████████████████████████████████████████████████████████████████████████| 59/59 [00:05<00:00, 11.39it/s]\n"
     ]
    },
    {
     "name": "stdout",
     "output_type": "stream",
     "text": [
      "Train Loss : 0.396\n",
      "Valid Loss : 0.986\n",
      "Valid Acc  : 0.649\n"
     ]
    },
    {
     "name": "stderr",
     "output_type": "stream",
     "text": [
      " 32%|██████████████████████████▍                                                       | 19/59 [00:01<00:03, 11.91it/s]\n"
     ]
    },
    {
     "ename": "KeyboardInterrupt",
     "evalue": "",
     "output_type": "error",
     "traceback": [
      "\u001b[1;31m---------------------------------------------------------------------------\u001b[0m",
      "\u001b[1;31mKeyboardInterrupt\u001b[0m                         Traceback (most recent call last)",
      "Cell \u001b[1;32mIn[14], line 8\u001b[0m\n\u001b[0;32m      5\u001b[0m embed_classifier \u001b[38;5;241m=\u001b[39m EmbeddingClassifier()\n\u001b[0;32m      6\u001b[0m optimizer \u001b[38;5;241m=\u001b[39m Adam(embed_classifier\u001b[38;5;241m.\u001b[39mparameters(), lr\u001b[38;5;241m=\u001b[39mlearning_rate)\n\u001b[1;32m----> 8\u001b[0m TrainModel(embed_classifier, loss_fn, optimizer, train_loader, test_loader, epochs)\n",
      "Cell \u001b[1;32mIn[13], line 22\u001b[0m, in \u001b[0;36mTrainModel\u001b[1;34m(model, loss_fn, optimizer, train_loader, val_loader, epochs)\u001b[0m\n\u001b[0;32m     20\u001b[0m \u001b[38;5;28;01mfor\u001b[39;00m i \u001b[38;5;129;01min\u001b[39;00m \u001b[38;5;28mrange\u001b[39m(\u001b[38;5;241m1\u001b[39m, epochs\u001b[38;5;241m+\u001b[39m\u001b[38;5;241m1\u001b[39m):\n\u001b[0;32m     21\u001b[0m     losses \u001b[38;5;241m=\u001b[39m []\n\u001b[1;32m---> 22\u001b[0m     \u001b[38;5;28;01mfor\u001b[39;00m X, Y \u001b[38;5;129;01min\u001b[39;00m tqdm(train_loader):\n\u001b[0;32m     23\u001b[0m         optimizer\u001b[38;5;241m.\u001b[39mzero_grad()\n\u001b[0;32m     24\u001b[0m         Y_preds \u001b[38;5;241m=\u001b[39m model(X)\n",
      "File \u001b[1;32m~\\AppData\\Local\\anaconda3\\Lib\\site-packages\\tqdm\\std.py:1178\u001b[0m, in \u001b[0;36mtqdm.__iter__\u001b[1;34m(self)\u001b[0m\n\u001b[0;32m   1175\u001b[0m time \u001b[38;5;241m=\u001b[39m \u001b[38;5;28mself\u001b[39m\u001b[38;5;241m.\u001b[39m_time\n\u001b[0;32m   1177\u001b[0m \u001b[38;5;28;01mtry\u001b[39;00m:\n\u001b[1;32m-> 1178\u001b[0m     \u001b[38;5;28;01mfor\u001b[39;00m obj \u001b[38;5;129;01min\u001b[39;00m iterable:\n\u001b[0;32m   1179\u001b[0m         \u001b[38;5;28;01myield\u001b[39;00m obj\n\u001b[0;32m   1180\u001b[0m         \u001b[38;5;66;03m# Update and possibly print the progressbar.\u001b[39;00m\n\u001b[0;32m   1181\u001b[0m         \u001b[38;5;66;03m# Note: does not call self.update(1) for speed optimisation.\u001b[39;00m\n",
      "File \u001b[1;32m~\\AppData\\Local\\anaconda3\\Lib\\site-packages\\torch\\utils\\data\\dataloader.py:630\u001b[0m, in \u001b[0;36m_BaseDataLoaderIter.__next__\u001b[1;34m(self)\u001b[0m\n\u001b[0;32m    627\u001b[0m \u001b[38;5;28;01mif\u001b[39;00m \u001b[38;5;28mself\u001b[39m\u001b[38;5;241m.\u001b[39m_sampler_iter \u001b[38;5;129;01mis\u001b[39;00m \u001b[38;5;28;01mNone\u001b[39;00m:\n\u001b[0;32m    628\u001b[0m     \u001b[38;5;66;03m# TODO(https://github.com/pytorch/pytorch/issues/76750)\u001b[39;00m\n\u001b[0;32m    629\u001b[0m     \u001b[38;5;28mself\u001b[39m\u001b[38;5;241m.\u001b[39m_reset()  \u001b[38;5;66;03m# type: ignore[call-arg]\u001b[39;00m\n\u001b[1;32m--> 630\u001b[0m data \u001b[38;5;241m=\u001b[39m \u001b[38;5;28mself\u001b[39m\u001b[38;5;241m.\u001b[39m_next_data()\n\u001b[0;32m    631\u001b[0m \u001b[38;5;28mself\u001b[39m\u001b[38;5;241m.\u001b[39m_num_yielded \u001b[38;5;241m+\u001b[39m\u001b[38;5;241m=\u001b[39m \u001b[38;5;241m1\u001b[39m\n\u001b[0;32m    632\u001b[0m \u001b[38;5;28;01mif\u001b[39;00m \u001b[38;5;28mself\u001b[39m\u001b[38;5;241m.\u001b[39m_dataset_kind \u001b[38;5;241m==\u001b[39m _DatasetKind\u001b[38;5;241m.\u001b[39mIterable \u001b[38;5;129;01mand\u001b[39;00m \\\n\u001b[0;32m    633\u001b[0m         \u001b[38;5;28mself\u001b[39m\u001b[38;5;241m.\u001b[39m_IterableDataset_len_called \u001b[38;5;129;01mis\u001b[39;00m \u001b[38;5;129;01mnot\u001b[39;00m \u001b[38;5;28;01mNone\u001b[39;00m \u001b[38;5;129;01mand\u001b[39;00m \\\n\u001b[0;32m    634\u001b[0m         \u001b[38;5;28mself\u001b[39m\u001b[38;5;241m.\u001b[39m_num_yielded \u001b[38;5;241m>\u001b[39m \u001b[38;5;28mself\u001b[39m\u001b[38;5;241m.\u001b[39m_IterableDataset_len_called:\n",
      "File \u001b[1;32m~\\AppData\\Local\\anaconda3\\Lib\\site-packages\\torch\\utils\\data\\dataloader.py:674\u001b[0m, in \u001b[0;36m_SingleProcessDataLoaderIter._next_data\u001b[1;34m(self)\u001b[0m\n\u001b[0;32m    672\u001b[0m \u001b[38;5;28;01mdef\u001b[39;00m \u001b[38;5;21m_next_data\u001b[39m(\u001b[38;5;28mself\u001b[39m):\n\u001b[0;32m    673\u001b[0m     index \u001b[38;5;241m=\u001b[39m \u001b[38;5;28mself\u001b[39m\u001b[38;5;241m.\u001b[39m_next_index()  \u001b[38;5;66;03m# may raise StopIteration\u001b[39;00m\n\u001b[1;32m--> 674\u001b[0m     data \u001b[38;5;241m=\u001b[39m \u001b[38;5;28mself\u001b[39m\u001b[38;5;241m.\u001b[39m_dataset_fetcher\u001b[38;5;241m.\u001b[39mfetch(index)  \u001b[38;5;66;03m# may raise StopIteration\u001b[39;00m\n\u001b[0;32m    675\u001b[0m     \u001b[38;5;28;01mif\u001b[39;00m \u001b[38;5;28mself\u001b[39m\u001b[38;5;241m.\u001b[39m_pin_memory:\n\u001b[0;32m    676\u001b[0m         data \u001b[38;5;241m=\u001b[39m _utils\u001b[38;5;241m.\u001b[39mpin_memory\u001b[38;5;241m.\u001b[39mpin_memory(data, \u001b[38;5;28mself\u001b[39m\u001b[38;5;241m.\u001b[39m_pin_memory_device)\n",
      "File \u001b[1;32m~\\AppData\\Local\\anaconda3\\Lib\\site-packages\\torch\\utils\\data\\_utils\\fetch.py:54\u001b[0m, in \u001b[0;36m_MapDatasetFetcher.fetch\u001b[1;34m(self, possibly_batched_index)\u001b[0m\n\u001b[0;32m     52\u001b[0m \u001b[38;5;28;01melse\u001b[39;00m:\n\u001b[0;32m     53\u001b[0m     data \u001b[38;5;241m=\u001b[39m \u001b[38;5;28mself\u001b[39m\u001b[38;5;241m.\u001b[39mdataset[possibly_batched_index]\n\u001b[1;32m---> 54\u001b[0m \u001b[38;5;28;01mreturn\u001b[39;00m \u001b[38;5;28mself\u001b[39m\u001b[38;5;241m.\u001b[39mcollate_fn(data)\n",
      "Cell \u001b[1;32mIn[10], line 3\u001b[0m, in \u001b[0;36mvectorize_batch\u001b[1;34m(batch)\u001b[0m\n\u001b[0;32m      1\u001b[0m \u001b[38;5;28;01mdef\u001b[39;00m \u001b[38;5;21mvectorize_batch\u001b[39m(batch):\n\u001b[0;32m      2\u001b[0m     Y, X \u001b[38;5;241m=\u001b[39m \u001b[38;5;28mlist\u001b[39m(\u001b[38;5;28mzip\u001b[39m(\u001b[38;5;241m*\u001b[39mbatch))\n\u001b[1;32m----> 3\u001b[0m     X \u001b[38;5;241m=\u001b[39m [vocab(tokenizer(sample)) \u001b[38;5;28;01mfor\u001b[39;00m sample \u001b[38;5;129;01min\u001b[39;00m X]\n\u001b[0;32m      4\u001b[0m     X \u001b[38;5;241m=\u001b[39m [sample\u001b[38;5;241m+\u001b[39m([\u001b[38;5;241m0\u001b[39m]\u001b[38;5;241m*\u001b[39m (\u001b[38;5;241m50\u001b[39m\u001b[38;5;241m-\u001b[39m\u001b[38;5;28mlen\u001b[39m(sample))) \u001b[38;5;28;01mif\u001b[39;00m \u001b[38;5;28mlen\u001b[39m(sample)\u001b[38;5;241m<\u001b[39m\u001b[38;5;241m50\u001b[39m \u001b[38;5;28;01melse\u001b[39;00m sample[:\u001b[38;5;241m50\u001b[39m] \u001b[38;5;28;01mfor\u001b[39;00m sample \u001b[38;5;129;01min\u001b[39;00m X] \u001b[38;5;66;03m## Amener tous les échantillons à une longueur de 50.\u001b[39;00m\n\u001b[0;32m      5\u001b[0m     \u001b[38;5;28;01mreturn\u001b[39;00m torch\u001b[38;5;241m.\u001b[39mtensor(X, dtype\u001b[38;5;241m=\u001b[39mtorch\u001b[38;5;241m.\u001b[39mint32), torch\u001b[38;5;241m.\u001b[39mtensor(Y) \u001b[38;5;241m-\u001b[39m \u001b[38;5;241m1\u001b[39m\n",
      "Cell \u001b[1;32mIn[10], line 3\u001b[0m, in \u001b[0;36m<listcomp>\u001b[1;34m(.0)\u001b[0m\n\u001b[0;32m      1\u001b[0m \u001b[38;5;28;01mdef\u001b[39;00m \u001b[38;5;21mvectorize_batch\u001b[39m(batch):\n\u001b[0;32m      2\u001b[0m     Y, X \u001b[38;5;241m=\u001b[39m \u001b[38;5;28mlist\u001b[39m(\u001b[38;5;28mzip\u001b[39m(\u001b[38;5;241m*\u001b[39mbatch))\n\u001b[1;32m----> 3\u001b[0m     X \u001b[38;5;241m=\u001b[39m [vocab(tokenizer(sample)) \u001b[38;5;28;01mfor\u001b[39;00m sample \u001b[38;5;129;01min\u001b[39;00m X]\n\u001b[0;32m      4\u001b[0m     X \u001b[38;5;241m=\u001b[39m [sample\u001b[38;5;241m+\u001b[39m([\u001b[38;5;241m0\u001b[39m]\u001b[38;5;241m*\u001b[39m (\u001b[38;5;241m50\u001b[39m\u001b[38;5;241m-\u001b[39m\u001b[38;5;28mlen\u001b[39m(sample))) \u001b[38;5;28;01mif\u001b[39;00m \u001b[38;5;28mlen\u001b[39m(sample)\u001b[38;5;241m<\u001b[39m\u001b[38;5;241m50\u001b[39m \u001b[38;5;28;01melse\u001b[39;00m sample[:\u001b[38;5;241m50\u001b[39m] \u001b[38;5;28;01mfor\u001b[39;00m sample \u001b[38;5;129;01min\u001b[39;00m X] \u001b[38;5;66;03m## Amener tous les échantillons à une longueur de 50.\u001b[39;00m\n\u001b[0;32m      5\u001b[0m     \u001b[38;5;28;01mreturn\u001b[39;00m torch\u001b[38;5;241m.\u001b[39mtensor(X, dtype\u001b[38;5;241m=\u001b[39mtorch\u001b[38;5;241m.\u001b[39mint32), torch\u001b[38;5;241m.\u001b[39mtensor(Y) \u001b[38;5;241m-\u001b[39m \u001b[38;5;241m1\u001b[39m\n",
      "File \u001b[1;32m~\\AppData\\Local\\anaconda3\\Lib\\site-packages\\torchtext\\data\\utils.py:48\u001b[0m, in \u001b[0;36m_basic_english_normalize\u001b[1;34m(line)\u001b[0m\n\u001b[0;32m     46\u001b[0m line \u001b[38;5;241m=\u001b[39m line\u001b[38;5;241m.\u001b[39mlower()\n\u001b[0;32m     47\u001b[0m \u001b[38;5;28;01mfor\u001b[39;00m pattern_re, replaced_str \u001b[38;5;129;01min\u001b[39;00m _patterns_dict:\n\u001b[1;32m---> 48\u001b[0m     line \u001b[38;5;241m=\u001b[39m pattern_re\u001b[38;5;241m.\u001b[39msub(replaced_str, line)\n\u001b[0;32m     49\u001b[0m \u001b[38;5;28;01mreturn\u001b[39;00m line\u001b[38;5;241m.\u001b[39msplit()\n",
      "\u001b[1;31mKeyboardInterrupt\u001b[0m: "
     ]
    }
   ],
   "source": [
    "\n",
    "epochs = 100\n",
    "learning_rate = 1e-3\n",
    "\n",
    "loss_fn = nn.CrossEntropyLoss()\n",
    "embed_classifier = EmbeddingClassifier()\n",
    "optimizer = Adam(embed_classifier.parameters(), lr=learning_rate)\n",
    "\n",
    "TrainModel(embed_classifier, loss_fn, optimizer, train_loader, test_loader, epochs)\n"
   ]
  },
  {
   "cell_type": "markdown",
   "metadata": {
    "id": "QNlO8P_NCLl2"
   },
   "source": [
    "## Évaluer la performance du réseau\n",
    "\n",
    "Dans cette section, nous avons évalué les performances de notre réseau en calculant la précision, le rapport de classification et la matrice de confusion sur les prédictions de train. Nous avons créé une petite fonction d'aide pour effectuer des prédictions qui prend le modèle et le chargeur de données en entrée et renvoie les prédictions. Nous avons calculé les mesures de ML en utilisant les fonctions disponibles dans scikit-learn.\n",
    "\n",
    "Si vous souhaitez en savoir plus sur les différentes métriques ML disponibles dans scikit-learn, veuillez consulter le lien ci-dessous qui couvre la majorité d'entre elles en détail.\n",
    "\n",
    "Scikit-Learn - Métriques d'évaluation et de notation des modèles\n",
    "Après avoir calculé les métriques, nous avons également tracé la matrice de confusion à l'aide de scikit-plot. Nous pouvons remarquer sur le graphique que notre modèle fonctionne bien pour les catégories [Sports, Monde] par rapport à [Business, Sci/Tech]. N'hésitez pas à consulter le lien ci-dessous si vous souhaitez en savoir plus sur scikit-plot. Il permet de visualiser de nombreuses mesures de ML couramment utilisées.\n",
    "\n",
    "Scikit-Plot : Visualiser les résultats des algorithmes d'apprentissage automatique et les mesures de performance"
   ]
  },
  {
   "cell_type": "code",
   "execution_count": 15,
   "metadata": {
    "executionInfo": {
     "elapsed": 913,
     "status": "ok",
     "timestamp": 1698593995459,
     "user": {
      "displayName": "nabil bcom",
      "userId": "04169804032469069549"
     },
     "user_tz": -60
    },
    "id": "hgO3y7sTCSRZ"
   },
   "outputs": [],
   "source": [
    "def MakePredictions(model, loader):\n",
    "    Y_shuffled, Y_preds = [], []\n",
    "    for X, Y in loader:\n",
    "        preds = model(X)\n",
    "        Y_preds.append(preds)\n",
    "        Y_shuffled.append(Y)\n",
    "    gc.collect()\n",
    "    Y_preds, Y_shuffled = torch.cat(Y_preds), torch.cat(Y_shuffled)\n",
    "\n",
    "    return Y_shuffled.detach().numpy(), F.softmax(Y_preds, dim=-1).argmax(dim=-1).detach().numpy()\n",
    "\n",
    "Y_actual, Y_preds = MakePredictions(embed_classifier, test_loader)"
   ]
  },
  {
   "cell_type": "code",
   "execution_count": 16,
   "metadata": {
    "colab": {
     "base_uri": "https://localhost:8080/"
    },
    "executionInfo": {
     "elapsed": 3,
     "status": "ok",
     "timestamp": 1698593996358,
     "user": {
      "displayName": "nabil bcom",
      "userId": "04169804032469069549"
     },
     "user_tz": -60
    },
    "id": "lYyOpU-HCUFU",
    "outputId": "2f2ff88b-4334-4f5d-9073-395585ba4767"
   },
   "outputs": [
    {
     "name": "stdout",
     "output_type": "stream",
     "text": [
      "Précision des tests : 0.6510526315789473\n",
      "\n",
      "Rapport deClassification: \n",
      "              precision    recall  f1-score   support\n",
      "\n",
      "       World       0.46      0.94      0.61      1900\n",
      "      Sports       0.00      0.00      0.00      1900\n",
      "    Business       0.87      0.81      0.84      1900\n",
      "    Sci/Tech       0.85      0.85      0.85      1900\n",
      "\n",
      "    accuracy                           0.65      7600\n",
      "   macro avg       0.54      0.65      0.58      7600\n",
      "weighted avg       0.54      0.65      0.58      7600\n",
      "\n",
      "\n",
      "Matrice de confusion : \n",
      "[[1785    0   66   49]\n",
      " [1832    0   14   54]\n",
      " [ 163    0 1547  190]\n",
      " [ 129    0  155 1616]]\n"
     ]
    },
    {
     "name": "stderr",
     "output_type": "stream",
     "text": [
      "Precision and F-score are ill-defined and being set to 0.0 in labels with no predicted samples. Use `zero_division` parameter to control this behavior.\n",
      "Precision and F-score are ill-defined and being set to 0.0 in labels with no predicted samples. Use `zero_division` parameter to control this behavior.\n",
      "Precision and F-score are ill-defined and being set to 0.0 in labels with no predicted samples. Use `zero_division` parameter to control this behavior.\n"
     ]
    }
   ],
   "source": [
    "\n",
    "\n",
    "print(\"Précision des tests : {}\".format(accuracy_score(Y_actual, Y_preds)))\n",
    "print(\"\\nRapport deClassification: \")\n",
    "print(classification_report(Y_actual, Y_preds, target_names=target_classes))\n",
    "print(\"\\nMatrice de confusion : \")\n",
    "print(confusion_matrix(Y_actual, Y_preds))"
   ]
  },
  {
   "cell_type": "code",
   "execution_count": 17,
   "metadata": {
    "colab": {
     "base_uri": "https://localhost:8080/",
     "height": 474
    },
    "executionInfo": {
     "elapsed": 788,
     "status": "ok",
     "timestamp": 1698593999584,
     "user": {
      "displayName": "nabil bcom",
      "userId": "04169804032469069549"
     },
     "user_tz": -60
    },
    "id": "P85mkWG3ChI_",
    "outputId": "c7705c25-9fb7-4f6a-e4e3-5f3bf601f38b"
   },
   "outputs": [
    {
     "data": {
      "image/png": "[encoded data removed]",
      "text/plain": [
       "<Figure size 500x500 with 2 Axes>"
      ]
     },
     "metadata": {},
     "output_type": "display_data"
    }
   ],
   "source": [
    "skplt.metrics.plot_confusion_matrix([target_classes[i] for i in Y_actual], [target_classes[i] for i in Y_preds],\n",
    "                                    normalize=True,\n",
    "                                    title=\"Confusion Matrix\",\n",
    "                                    cmap=\"Purples\",\n",
    "                                    hide_zeros=True,\n",
    "                                    figsize=(5,5)\n",
    "                                    );\n",
    "plt.xticks(rotation=90);"
   ]
  },
  {
   "cell_type": "code",
   "execution_count": null,
   "metadata": {},
   "outputs": [],
   "source": []
  }
 ],
 "metadata": {
  "accelerator": "GPU",
  "colab": {
   "authorship_tag": "ABX9TyO82xfW+Ug8oxPx4PxjJJAe",
   "gpuType": "T4",
   "provenance": []
  },
  "kernelspec": {
   "display_name": "Python 3 (ipykernel)",
   "language": "python",
   "name": "python3"
  },
  "language_info": {
   "codemirror_mode": {
    "name": "ipython",
    "version": 3
   },
   "file_extension": ".py",
   "mimetype": "text/x-python",
   "name": "python",
   "nbconvert_exporter": "python",
   "pygments_lexer": "ipython3",
   "version": "3.11.5"
  }
 },
 "nbformat": 4,
 "nbformat_minor": 1
}
