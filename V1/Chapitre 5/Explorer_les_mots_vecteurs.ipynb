{
 "cells": [
  {
   "cell_type": "markdown",
   "metadata": {
    "id": "xBv5G88XTA94"
   },
   "source": [
    "# Explorer les mots vecteurs\n"
   ]
  },
  {
   "cell_type": "code",
   "execution_count": null,
   "metadata": {
    "colab": {
     "base_uri": "https://localhost:8080/"
    },
    "id": "3LH3FoJiTA96",
    "outputId": "acb85887-25a1-4bce-d06e-9ae6cd670a4f"
   },
   "outputs": [
    {
     "name": "stderr",
     "output_type": "stream",
     "text": [
      "[nltk_data] Downloading package reuters to /root/nltk_data...\n",
      "[nltk_data]   Package reuters is already up-to-date!\n"
     ]
    }
   ],
   "source": [
    "\n",
    "\n",
    "import sys\n",
    "from gensim.models import KeyedVectors\n",
    "from gensim.test.utils import datapath\n",
    "import pprint\n",
    "import matplotlib.pyplot as plt\n",
    "plt.rcParams['figure.figsize'] = [10, 5]\n",
    "import nltk\n",
    "nltk.download('reuters')\n",
    "from nltk.corpus import reuters\n",
    "import numpy as np\n",
    "import random\n",
    "import scipy as sp\n",
    "from sklearn.decomposition import TruncatedSVD\n",
    "from sklearn.decomposition import PCA\n",
    "%matplotlib inline\n",
    "\n"
   ]
  },
  {
   "cell_type": "markdown",
   "metadata": {
    "id": "aQuIF_mWTA98"
   },
   "source": [
    "## Vecteurs de mots\n",
    "\n",
    "Les vecteurs de mots sont souvent utilisés comme un composant fondamental pour les tâches NLP en aval, par exemple la réponse aux questions, la génération de texte, la traduction, etc., il est donc important de se faire une idée de leurs forces et de leurs faiblesses. Ici, vous explorerez deux types de vecteurs de mots : ceux dérivés des *matrices de cooccurrence*, et ceux dérivés via *word2vec*.\n"
   ]
  },
  {
   "cell_type": "markdown",
   "metadata": {
    "id": "A8Mt9OBVTA99"
   },
   "source": [
    "## Partie 1 : Vecteurs de mots basés sur le comptage\n",
    "\n",
    "La plupart des modèles de vecteurs de mots partent de l'idée suivante :\n",
    "\n",
    "*You shall know a word by the company it keeps ([Firth, J. R. 1957:11](https://en.wikipedia.org/wiki/John_Rupert_Firth))*\n",
    "\n",
    "De nombreuses implémentations de vecteurs de mots reposent sur l'idée que des mots similaires, c'est-à-dire des (quasi) synonymes, seront utilisés dans des contextes similaires. Par conséquent, des mots similaires seront souvent prononcés ou écrits avec un sous-ensemble commun de mots, c'est-à-dire des contextes. En examinant ces contextes, nous pouvons essayer de développer des ancrages pour nos mots. En gardant cette intuition à l'esprit, de nombreuses approches \"anciennes\" de la construction de vecteurs de mots s'appuient sur le nombre de mots. Nous développons ici l'une de ces stratégies, les *matrices de cooccurrence*"
   ]
  },
  {
   "cell_type": "markdown",
   "metadata": {
    "id": "YW9C_7HTTA99"
   },
   "source": [
    "### Cooccurrence\n",
    "\n",
    "Une matrice de cooccurrence indique la fréquence de cooccurrence des éléments dans un environnement donné. Étant donné un mot $w_i$ apparaissant dans le document, nous considérons la *fenêtre de contexte* entourant $w_i$. En supposant que la taille de notre fenêtre fixe soit de $n$, il s'agit des $n$ mots précédents et $n$ mots suivants dans ce document, c'est-à-dire les mots $w_{i-n} \\dots w_{i-1}$ et $w_{i+1} \\dots w_{i+n}$. Nous construisons une *matrice de cooccurrence* $M$, qui est une matrice symétrique mot par mot dans laquelle $M_{ij}$ est le nombre de fois où $w_j$ apparaît dans la fenêtre de $w_i$.\n",
    "\n",
    "**Exemple : Cooccurrence avec une fenêtre fixe de n=1** :\n",
    "\n",
    "Document 1: \"all that glitters is not gold\"\n",
    "\n",
    "Document 2: \"all is well that ends well\"\n",
    "\n",
    "\n",
    "|     *    | START | all | that | glitters | is   | not  | gold  | well | ends | END |\n",
    "|----------|-------|-----|------|----------|------|------|-------|------|------|-----|\n",
    "| START    | 0     | 2   | 0    | 0        | 0    | 0    | 0     | 0    | 0    | 0   |\n",
    "| all      | 2     | 0   | 1    | 0        | 1    | 0    | 0     | 0    | 0    | 0   |\n",
    "| that     | 0     | 1   | 0    | 1        | 0    | 0    | 0     | 1    | 1    | 0   |\n",
    "| glitters | 0     | 0   | 1    | 0        | 1    | 0    | 0     | 0    | 0    | 0   |\n",
    "| is       | 0     | 1   | 0    | 1        | 0    | 1    | 0     | 1    | 0    | 0   |\n",
    "| not      | 0     | 0   | 0    | 0        | 1    | 0    | 1     | 0    | 0    | 0   |\n",
    "| gold     | 0     | 0   | 0    | 0        | 0    | 1    | 0     | 0    | 0    | 1   |\n",
    "| well     | 0     | 0   | 1    | 0        | 1    | 0    | 0     | 0    | 1    | 1   |\n",
    "| ends     | 0     | 0   | 1    | 0        | 0    | 0    | 0     | 1    | 0    | 0   |\n",
    "| END      | 0     | 0   | 0    | 0        | 0    | 0    | 1     | 1    | 0    | 0   |\n",
    "\n",
    "\n",
    "\n",
    "The rows (or columns) of this matrix provide one type of word vectors (those based on word-word co-occurrence), but the vectors will be large in general (linear in the number of distinct words in a corpus). Thus, our next step is to run *dimensionality reduction*. In particular, we will run *SVD (Singular Value Decomposition)*, which is a kind of generalized *PCA (Principal Components Analysis)* to select the top $k$ principal components. Here's a visualization of dimensionality reduction with SVD. In this picture our co-occurrence matrix is $A$ with $n$ rows corresponding to $n$ words. We obtain a full matrix decomposition, with the singular values ordered in the diagonal $S$ matrix, and our new, shorter length-$k$ word vectors in $U_k$.\n",
    "\n",
    "<img src=\"https://drive.google.com/uc?export=view&id=1ZStSTmhf7zvG1QGh9NHVyOIKqR9i2xGk\">\n",
    "\n",
    "This reduced-dimensionality co-occurrence representation preserves semantic relationships between words, e.g. *doctor* and *hospital* will be closer than *doctor* and *dog*.\n",
    "\n"
   ]
  },
  {
   "cell_type": "markdown",
   "metadata": {
    "id": "3qrrPQqwTA9-"
   },
   "source": [
    "Nous utiliserons ici le corpus Reuters (actualités économiques et financières). Ce corpus se compose de 10 788 documents d'actualité totalisant 1,3 million de mots. Ces documents couvrent 90 catégories et sont divisés en deux catégories : formation et test. La fonction `read_corpus` ci-dessous extrait uniquement les articles de la catégorie \"crude\" (c'est-à-dire les articles sur le pétrole, le gaz, etc.). La fonction ajoute également des tokens START et END à chacun des documents, et met les mots en minuscules."
   ]
  },
  {
   "cell_type": "code",
   "execution_count": null,
   "metadata": {
    "id": "qh4yF8WpTZZm"
   },
   "outputs": [],
   "source": [
    "START_TOKEN = '<START>'\n",
    "END_TOKEN = '<END>'\n",
    "\n"
   ]
  },
  {
   "cell_type": "code",
   "execution_count": null,
   "metadata": {
    "id": "E7kPy9r2TA9_"
   },
   "outputs": [],
   "source": [
    "def read_corpus(category=\"crude\"):\n",
    "    \"\"\" Lire les fichiers de la catégorie Reuter's spécifiée.\n",
    "        Params :\n",
    "            category (string) : nom de la catégorie\n",
    "        Retour :\n",
    "            liste de listes, avec les mots de chacun des fichiers traités\n",
    "    \"\"\"\n",
    "    files = reuters.fileids(category)\n",
    "    return [[START_TOKEN] + [w.lower() for w in list(reuters.words(f))] + [END_TOKEN] for f in files]\n"
   ]
  },
  {
   "cell_type": "code",
   "execution_count": null,
   "metadata": {
    "colab": {
     "base_uri": "https://localhost:8080/"
    },
    "id": "2gP9qW0ZTA9_",
    "outputId": "0fed53c1-6c11-4aec-a795-c45bb251b614",
    "scrolled": true
   },
   "outputs": [
    {
     "name": "stdout",
     "output_type": "stream",
     "text": [
      "[['<START>', 'japan', 'to', 'revise', 'long', '-', 'term', 'energy', 'demand', 'downwards', 'the',\n",
      "  'ministry', 'of', 'international', 'trade', 'and', 'industry', '(', 'miti', ')', 'will', 'revise',\n",
      "  'its', 'long', '-', 'term', 'energy', 'supply', '/', 'demand', 'outlook', 'by', 'august', 'to',\n",
      "  'meet', 'a', 'forecast', 'downtrend', 'in', 'japanese', 'energy', 'demand', ',', 'ministry',\n",
      "  'officials', 'said', '.', 'miti', 'is', 'expected', 'to', 'lower', 'the', 'projection', 'for',\n",
      "  'primary', 'energy', 'supplies', 'in', 'the', 'year', '2000', 'to', '550', 'mln', 'kilolitres',\n",
      "  '(', 'kl', ')', 'from', '600', 'mln', ',', 'they', 'said', '.', 'the', 'decision', 'follows',\n",
      "  'the', 'emergence', 'of', 'structural', 'changes', 'in', 'japanese', 'industry', 'following',\n",
      "  'the', 'rise', 'in', 'the', 'value', 'of', 'the', 'yen', 'and', 'a', 'decline', 'in', 'domestic',\n",
      "  'electric', 'power', 'demand', '.', 'miti', 'is', 'planning', 'to', 'work', 'out', 'a', 'revised',\n",
      "  'energy', 'supply', '/', 'demand', 'outlook', 'through', 'deliberations', 'of', 'committee',\n",
      "  'meetings', 'of', 'the', 'agency', 'of', 'natural', 'resources', 'and', 'energy', ',', 'the',\n",
      "  'officials', 'said', '.', 'they', 'said', 'miti', 'will', 'also', 'review', 'the', 'breakdown',\n",
      "  'of', 'energy', 'supply', 'sources', ',', 'including', 'oil', ',', 'nuclear', ',', 'coal', 'and',\n",
      "  'natural', 'gas', '.', 'nuclear', 'energy', 'provided', 'the', 'bulk', 'of', 'japan', \"'\", 's',\n",
      "  'electric', 'power', 'in', 'the', 'fiscal', 'year', 'ended', 'march', '31', ',', 'supplying',\n",
      "  'an', 'estimated', '27', 'pct', 'on', 'a', 'kilowatt', '/', 'hour', 'basis', ',', 'followed',\n",
      "  'by', 'oil', '(', '23', 'pct', ')', 'and', 'liquefied', 'natural', 'gas', '(', '21', 'pct', '),',\n",
      "  'they', 'noted', '.', '<END>'],\n",
      " ['<START>', 'energy', '/', 'u', '.', 's', '.', 'petrochemical', 'industry', 'cheap', 'oil',\n",
      "  'feedstocks', ',', 'the', 'weakened', 'u', '.', 's', '.', 'dollar', 'and', 'a', 'plant',\n",
      "  'utilization', 'rate', 'approaching', '90', 'pct', 'will', 'propel', 'the', 'streamlined', 'u',\n",
      "  '.', 's', '.', 'petrochemical', 'industry', 'to', 'record', 'profits', 'this', 'year', ',',\n",
      "  'with', 'growth', 'expected', 'through', 'at', 'least', '1990', ',', 'major', 'company',\n",
      "  'executives', 'predicted', '.', 'this', 'bullish', 'outlook', 'for', 'chemical', 'manufacturing',\n",
      "  'and', 'an', 'industrywide', 'move', 'to', 'shed', 'unrelated', 'businesses', 'has', 'prompted',\n",
      "  'gaf', 'corp', '&', 'lt', ';', 'gaf', '>,', 'privately', '-', 'held', 'cain', 'chemical', 'inc',\n",
      "  ',', 'and', 'other', 'firms', 'to', 'aggressively', 'seek', 'acquisitions', 'of', 'petrochemical',\n",
      "  'plants', '.', 'oil', 'companies', 'such', 'as', 'ashland', 'oil', 'inc', '&', 'lt', ';', 'ash',\n",
      "  '>,', 'the', 'kentucky', '-', 'based', 'oil', 'refiner', 'and', 'marketer', ',', 'are', 'also',\n",
      "  'shopping', 'for', 'money', '-', 'making', 'petrochemical', 'businesses', 'to', 'buy', '.', '\"',\n",
      "  'i', 'see', 'us', 'poised', 'at', 'the', 'threshold', 'of', 'a', 'golden', 'period', ',\"', 'said',\n",
      "  'paul', 'oreffice', ',', 'chairman', 'of', 'giant', 'dow', 'chemical', 'co', '&', 'lt', ';',\n",
      "  'dow', '>,', 'adding', ',', '\"', 'there', \"'\", 's', 'no', 'major', 'plant', 'capacity', 'being',\n",
      "  'added', 'around', 'the', 'world', 'now', '.', 'the', 'whole', 'game', 'is', 'bringing', 'out',\n",
      "  'new', 'products', 'and', 'improving', 'the', 'old', 'ones', '.\"', 'analysts', 'say', 'the',\n",
      "  'chemical', 'industry', \"'\", 's', 'biggest', 'customers', ',', 'automobile', 'manufacturers',\n",
      "  'and', 'home', 'builders', 'that', 'use', 'a', 'lot', 'of', 'paints', 'and', 'plastics', ',',\n",
      "  'are', 'expected', 'to', 'buy', 'quantities', 'this', 'year', '.', 'u', '.', 's', '.',\n",
      "  'petrochemical', 'plants', 'are', 'currently', 'operating', 'at', 'about', '90', 'pct',\n",
      "  'capacity', ',', 'reflecting', 'tighter', 'supply', 'that', 'could', 'hike', 'product', 'prices',\n",
      "  'by', '30', 'to', '40', 'pct', 'this', 'year', ',', 'said', 'john', 'dosher', ',', 'managing',\n",
      "  'director', 'of', 'pace', 'consultants', 'inc', 'of', 'houston', '.', 'demand', 'for', 'some',\n",
      "  'products', 'such', 'as', 'styrene', 'could', 'push', 'profit', 'margins', 'up', 'by', 'as',\n",
      "  'much', 'as', '300', 'pct', ',', 'he', 'said', '.', 'oreffice', ',', 'speaking', 'at', 'a',\n",
      "  'meeting', 'of', 'chemical', 'engineers', 'in', 'houston', ',', 'said', 'dow', 'would', 'easily',\n",
      "  'top', 'the', '741', 'mln', 'dlrs', 'it', 'earned', 'last', 'year', 'and', 'predicted', 'it',\n",
      "  'would', 'have', 'the', 'best', 'year', 'in', 'its', 'history', '.', 'in', '1985', ',', 'when',\n",
      "  'oil', 'prices', 'were', 'still', 'above', '25', 'dlrs', 'a', 'barrel', 'and', 'chemical',\n",
      "  'exports', 'were', 'adversely', 'affected', 'by', 'the', 'strong', 'u', '.', 's', '.', 'dollar',\n",
      "  ',', 'dow', 'had', 'profits', 'of', '58', 'mln', 'dlrs', '.', '\"', 'i', 'believe', 'the',\n",
      "  'entire', 'chemical', 'industry', 'is', 'headed', 'for', 'a', 'record', 'year', 'or', 'close',\n",
      "  'to', 'it', ',\"', 'oreffice', 'said', '.', 'gaf', 'chairman', 'samuel', 'heyman', 'estimated',\n",
      "  'that', 'the', 'u', '.', 's', '.', 'chemical', 'industry', 'would', 'report', 'a', '20', 'pct',\n",
      "  'gain', 'in', 'profits', 'during', '1987', '.', 'last', 'year', ',', 'the', 'domestic',\n",
      "  'industry', 'earned', 'a', 'total', 'of', '13', 'billion', 'dlrs', ',', 'a', '54', 'pct', 'leap',\n",
      "  'from', '1985', '.', 'the', 'turn', 'in', 'the', 'fortunes', 'of', 'the', 'once', '-', 'sickly',\n",
      "  'chemical', 'industry', 'has', 'been', 'brought', 'about', 'by', 'a', 'combination', 'of', 'luck',\n",
      "  'and', 'planning', ',', 'said', 'pace', \"'\", 's', 'john', 'dosher', '.', 'dosher', 'said', 'last',\n",
      "  'year', \"'\", 's', 'fall', 'in', 'oil', 'prices', 'made', 'feedstocks', 'dramatically', 'cheaper',\n",
      "  'and', 'at', 'the', 'same', 'time', 'the', 'american', 'dollar', 'was', 'weakening', 'against',\n",
      "  'foreign', 'currencies', '.', 'that', 'helped', 'boost', 'u', '.', 's', '.', 'chemical',\n",
      "  'exports', '.', 'also', 'helping', 'to', 'bring', 'supply', 'and', 'demand', 'into', 'balance',\n",
      "  'has', 'been', 'the', 'gradual', 'market', 'absorption', 'of', 'the', 'extra', 'chemical',\n",
      "  'manufacturing', 'capacity', 'created', 'by', 'middle', 'eastern', 'oil', 'producers', 'in',\n",
      "  'the', 'early', '1980s', '.', 'finally', ',', 'virtually', 'all', 'major', 'u', '.', 's', '.',\n",
      "  'chemical', 'manufacturers', 'have', 'embarked', 'on', 'an', 'extensive', 'corporate',\n",
      "  'restructuring', 'program', 'to', 'mothball', 'inefficient', 'plants', ',', 'trim', 'the',\n",
      "  'payroll', 'and', 'eliminate', 'unrelated', 'businesses', '.', 'the', 'restructuring', 'touched',\n",
      "  'off', 'a', 'flurry', 'of', 'friendly', 'and', 'hostile', 'takeover', 'attempts', '.', 'gaf', ',',\n",
      "  'which', 'made', 'an', 'unsuccessful', 'attempt', 'in', '1985', 'to', 'acquire', 'union',\n",
      "  'carbide', 'corp', '&', 'lt', ';', 'uk', '>,', 'recently', 'offered', 'three', 'billion', 'dlrs',\n",
      "  'for', 'borg', 'warner', 'corp', '&', 'lt', ';', 'bor', '>,', 'a', 'chicago', 'manufacturer',\n",
      "  'of', 'plastics', 'and', 'chemicals', '.', 'another', 'industry', 'powerhouse', ',', 'w', '.',\n",
      "  'r', '.', 'grace', '&', 'lt', ';', 'gra', '>', 'has', 'divested', 'its', 'retailing', ',',\n",
      "  'restaurant', 'and', 'fertilizer', 'businesses', 'to', 'raise', 'cash', 'for', 'chemical',\n",
      "  'acquisitions', '.', 'but', 'some', 'experts', 'worry', 'that', 'the', 'chemical', 'industry',\n",
      "  'may', 'be', 'headed', 'for', 'trouble', 'if', 'companies', 'continue', 'turning', 'their',\n",
      "  'back', 'on', 'the', 'manufacturing', 'of', 'staple', 'petrochemical', 'commodities', ',', 'such',\n",
      "  'as', 'ethylene', ',', 'in', 'favor', 'of', 'more', 'profitable', 'specialty', 'chemicals',\n",
      "  'that', 'are', 'custom', '-', 'designed', 'for', 'a', 'small', 'group', 'of', 'buyers', '.', '\"',\n",
      "  'companies', 'like', 'dupont', '&', 'lt', ';', 'dd', '>', 'and', 'monsanto', 'co', '&', 'lt', ';',\n",
      "  'mtc', '>', 'spent', 'the', 'past', 'two', 'or', 'three', 'years', 'trying', 'to', 'get', 'out',\n",
      "  'of', 'the', 'commodity', 'chemical', 'business', 'in', 'reaction', 'to', 'how', 'badly', 'the',\n",
      "  'market', 'had', 'deteriorated', ',\"', 'dosher', 'said', '.', '\"', 'but', 'i', 'think', 'they',\n",
      "  'will', 'eventually', 'kill', 'the', 'margins', 'on', 'the', 'profitable', 'chemicals', 'in',\n",
      "  'the', 'niche', 'market', '.\"', 'some', 'top', 'chemical', 'executives', 'share', 'the',\n",
      "  'concern', '.', '\"', 'the', 'challenge', 'for', 'our', 'industry', 'is', 'to', 'keep', 'from',\n",
      "  'getting', 'carried', 'away', 'and', 'repeating', 'past', 'mistakes', ',\"', 'gaf', \"'\", 's',\n",
      "  'heyman', 'cautioned', '.', '\"', 'the', 'shift', 'from', 'commodity', 'chemicals', 'may', 'be',\n",
      "  'ill', '-', 'advised', '.', 'specialty', 'businesses', 'do', 'not', 'stay', 'special', 'long',\n",
      "  '.\"', 'houston', '-', 'based', 'cain', 'chemical', ',', 'created', 'this', 'month', 'by', 'the',\n",
      "  'sterling', 'investment', 'banking', 'group', ',', 'believes', 'it', 'can', 'generate', '700',\n",
      "  'mln', 'dlrs', 'in', 'annual', 'sales', 'by', 'bucking', 'the', 'industry', 'trend', '.',\n",
      "  'chairman', 'gordon', 'cain', ',', 'who', 'previously', 'led', 'a', 'leveraged', 'buyout', 'of',\n",
      "  'dupont', \"'\", 's', 'conoco', 'inc', \"'\", 's', 'chemical', 'business', ',', 'has', 'spent', '1',\n",
      "  '.', '1', 'billion', 'dlrs', 'since', 'january', 'to', 'buy', 'seven', 'petrochemical', 'plants',\n",
      "  'along', 'the', 'texas', 'gulf', 'coast', '.', 'the', 'plants', 'produce', 'only', 'basic',\n",
      "  'commodity', 'petrochemicals', 'that', 'are', 'the', 'building', 'blocks', 'of', 'specialty',\n",
      "  'products', '.', '\"', 'this', 'kind', 'of', 'commodity', 'chemical', 'business', 'will', 'never',\n",
      "  'be', 'a', 'glamorous', ',', 'high', '-', 'margin', 'business', ',\"', 'cain', 'said', ',',\n",
      "  'adding', 'that', 'demand', 'is', 'expected', 'to', 'grow', 'by', 'about', 'three', 'pct',\n",
      "  'annually', '.', 'garo', 'armen', ',', 'an', 'analyst', 'with', 'dean', 'witter', 'reynolds', ',',\n",
      "  'said', 'chemical', 'makers', 'have', 'also', 'benefitted', 'by', 'increasing', 'demand', 'for',\n",
      "  'plastics', 'as', 'prices', 'become', 'more', 'competitive', 'with', 'aluminum', ',', 'wood',\n",
      "  'and', 'steel', 'products', '.', 'armen', 'estimated', 'the', 'upturn', 'in', 'the', 'chemical',\n",
      "  'business', 'could', 'last', 'as', 'long', 'as', 'four', 'or', 'five', 'years', ',', 'provided',\n",
      "  'the', 'u', '.', 's', '.', 'economy', 'continues', 'its', 'modest', 'rate', 'of', 'growth', '.',\n",
      "  '<END>'],\n",
      " ['<START>', 'turkey', 'calls', 'for', 'dialogue', 'to', 'solve', 'dispute', 'turkey', 'said',\n",
      "  'today', 'its', 'disputes', 'with', 'greece', ',', 'including', 'rights', 'on', 'the',\n",
      "  'continental', 'shelf', 'in', 'the', 'aegean', 'sea', ',', 'should', 'be', 'solved', 'through',\n",
      "  'negotiations', '.', 'a', 'foreign', 'ministry', 'statement', 'said', 'the', 'latest', 'crisis',\n",
      "  'between', 'the', 'two', 'nato', 'members', 'stemmed', 'from', 'the', 'continental', 'shelf',\n",
      "  'dispute', 'and', 'an', 'agreement', 'on', 'this', 'issue', 'would', 'effect', 'the', 'security',\n",
      "  ',', 'economy', 'and', 'other', 'rights', 'of', 'both', 'countries', '.', '\"', 'as', 'the',\n",
      "  'issue', 'is', 'basicly', 'political', ',', 'a', 'solution', 'can', 'only', 'be', 'found', 'by',\n",
      "  'bilateral', 'negotiations', ',\"', 'the', 'statement', 'said', '.', 'greece', 'has', 'repeatedly',\n",
      "  'said', 'the', 'issue', 'was', 'legal', 'and', 'could', 'be', 'solved', 'at', 'the',\n",
      "  'international', 'court', 'of', 'justice', '.', 'the', 'two', 'countries', 'approached', 'armed',\n",
      "  'confrontation', 'last', 'month', 'after', 'greece', 'announced', 'it', 'planned', 'oil',\n",
      "  'exploration', 'work', 'in', 'the', 'aegean', 'and', 'turkey', 'said', 'it', 'would', 'also',\n",
      "  'search', 'for', 'oil', '.', 'a', 'face', '-', 'off', 'was', 'averted', 'when', 'turkey',\n",
      "  'confined', 'its', 'research', 'to', 'territorrial', 'waters', '.', '\"', 'the', 'latest',\n",
      "  'crises', 'created', 'an', 'historic', 'opportunity', 'to', 'solve', 'the', 'disputes', 'between',\n",
      "  'the', 'two', 'countries', ',\"', 'the', 'foreign', 'ministry', 'statement', 'said', '.', 'turkey',\n",
      "  \"'\", 's', 'ambassador', 'in', 'athens', ',', 'nazmi', 'akiman', ',', 'was', 'due', 'to', 'meet',\n",
      "  'prime', 'minister', 'andreas', 'papandreou', 'today', 'for', 'the', 'greek', 'reply', 'to', 'a',\n",
      "  'message', 'sent', 'last', 'week', 'by', 'turkish', 'prime', 'minister', 'turgut', 'ozal', '.',\n",
      "  'the', 'contents', 'of', 'the', 'message', 'were', 'not', 'disclosed', '.', '<END>']]\n"
     ]
    }
   ],
   "source": [
    "reuters_corpus = read_corpus()\n",
    "pprint.pprint(reuters_corpus[:3], compact=True, width=100)"
   ]
  },
  {
   "cell_type": "markdown",
   "metadata": {
    "id": "ReE0vYY7TA-A"
   },
   "source": [
    "Nous allons écrire une méthode pour déterminer les mots distincts (types de mots) qui apparaissent dans le corpus."
   ]
  },
  {
   "cell_type": "code",
   "execution_count": null,
   "metadata": {
    "id": "NbCYesVeTA-A"
   },
   "outputs": [],
   "source": [
    "def distinct_words(corpus):\n",
    "     \"\"\"\n",
    "       Détermine une liste de mots distincts pour le corpus.\n",
    "        Params :\n",
    "            corpus (liste de listes de chaînes) : corpus de documents\n",
    "        Retourne :\n",
    "            corpus_words (liste de chaînes) : liste de mots distincts dans le corpus, triée (en utilisant la fonction python 'sorted')\n",
    "            num_corpus_words (entier) : nombre de mots distincts dans le corpus\n",
    "     \"\"\"\n",
    "     corpus_words = sorted(list(set([word for words_list in corpus for word in words_list])))\n",
    "     num_corpus_words = len(corpus_words)\n",
    "\n",
    "\n",
    "\n",
    "     return corpus_words, num_corpus_words"
   ]
  },
  {
   "cell_type": "code",
   "execution_count": null,
   "metadata": {
    "colab": {
     "base_uri": "https://localhost:8080/"
    },
    "id": "r1gEVCdjTA-A",
    "outputId": "eb8cfa3b-9b2f-487e-cc45-adc48d882f4a"
   },
   "outputs": [
    {
     "name": "stdout",
     "output_type": "stream",
     "text": [
      "(['All', \"All's\", 'END', 'START', 'ends', 'glitters', 'gold', \"isn't\", 'that', 'well'], 10)\n"
     ]
    }
   ],
   "source": [
    "test_corpus = [\"START All that glitters isn't gold END\".split(\" \"), \"START All's well that ends well END\".split(\" \")]\n",
    "\n",
    "print(distinct_words(test_corpus))"
   ]
  },
  {
   "cell_type": "markdown",
   "metadata": {
    "id": "0AcGUoaPTA-A"
   },
   "source": [
    "Nous allons écrire une méthode qui construit une matrice de cooccurrence pour une certaine taille de fenêtre $n$ (avec une valeur par défaut de 4), en considérant les mots $n$ avant et $n$ après le mot au centre de la fenêtre."
   ]
  },
  {
   "cell_type": "code",
   "execution_count": null,
   "metadata": {
    "id": "oM5nOuZvTA-A"
   },
   "outputs": [],
   "source": [
    "def compute_co_occurrence_matrix(corpus, window_size=4):\n",
    "    \"\"\" Calcule la matrice de cooccurrence pour le corpus donné et la taille de la fenêtre (4 par défaut).\n",
    "\n",
    "        Note : Chaque mot d'un document doit être au centre d'une fenêtre. Les mots situés près des bords auront un\n",
    "              plus petit nombre de mots cooccurrents.\n",
    "\n",
    "              Par exemple, si nous prenons le document \"START All that glitters is not gold END\" avec une taille de fenêtre de 4,\n",
    "              \"All\" cooccurera avec \"START\", \"that\", \"glitters\", \"is\", et \"not\".\n",
    "\n",
    "        Params :\n",
    "            corpus (liste de listes de chaînes) : corpus de documents\n",
    "            window_size (int) : taille de la fenêtre contextuelle\n",
    "        Retour :\n",
    "            M (matrice numpy de forme (nombre de mots du corpus, nombre de mots du corpus)) :\n",
    "                Matrice de cooccurrence des comptes de mots.\n",
    "                L'ordre des mots dans les lignes/colonnes doit être le même que l'ordre des mots donné par la fonction distinct_words.\n",
    "            word2Ind (dict) : dictionnaire qui associe un mot à un index (c'est-à-dire un numéro de ligne/colonne) pour la matrice M.\n",
    "    \"\"\"\n",
    "    words, num_words = distinct_words(corpus)\n",
    "    M = None\n",
    "    word2Ind = {}\n",
    "\n",
    "\n",
    "    M = np.zeros((num_words, num_words))\n",
    "    word2Ind = dict(zip(words, range(num_words)))\n",
    "\n",
    "    for doc in corpus:\n",
    "        current_idx = 0\n",
    "        doc_len = len(doc)\n",
    "        while current_idx < doc_len:\n",
    "            left_boudary = max(current_idx-window_size, 0)\n",
    "            right_boundary = min(current_idx+window_size+1, doc_len)\n",
    "            outside_words = doc[left_boudary:current_idx] + doc[current_idx+1:right_boundary]\n",
    "            center_word = doc[current_idx]\n",
    "            center_idx = word2Ind[center_word]\n",
    "\n",
    "            for outside_word in outside_words:\n",
    "                outside_idx = word2Ind[outside_word]\n",
    "                M[outside_idx, center_idx] += 1\n",
    "\n",
    "            current_idx += 1\n",
    "\n",
    "    return M, word2Ind"
   ]
  },
  {
   "cell_type": "code",
   "execution_count": null,
   "metadata": {
    "colab": {
     "base_uri": "https://localhost:8080/"
    },
    "id": "lac-djEHTA-A",
    "outputId": "2b1ca62e-a5fc-4519-d9b3-785feae9fec2"
   },
   "outputs": [
    {
     "name": "stdout",
     "output_type": "stream",
     "text": [
      "[[0. 0. 0. 1. 0. 0. 0. 0. 1. 0.]\n",
      " [0. 0. 0. 1. 0. 0. 0. 0. 0. 1.]\n",
      " [0. 0. 0. 0. 0. 0. 1. 0. 0. 1.]\n",
      " [1. 1. 0. 0. 0. 0. 0. 0. 0. 0.]\n",
      " [0. 0. 0. 0. 0. 0. 0. 0. 1. 1.]\n",
      " [0. 0. 0. 0. 0. 0. 0. 1. 1. 0.]\n",
      " [0. 0. 1. 0. 0. 0. 0. 1. 0. 0.]\n",
      " [0. 0. 0. 0. 0. 1. 1. 0. 0. 0.]\n",
      " [1. 0. 0. 0. 1. 1. 0. 0. 0. 1.]\n",
      " [0. 1. 1. 0. 1. 0. 0. 0. 1. 0.]]\n"
     ]
    }
   ],
   "source": [
    "\n",
    "test_corpus = [\"START All that glitters isn't gold END\".split(\" \"), \"START All's well that ends well END\".split(\" \")]\n",
    "M_test, word2Ind_test = compute_co_occurrence_matrix(test_corpus, window_size=1)\n",
    "\n",
    "print(M_test)"
   ]
  },
  {
   "cell_type": "markdown",
   "metadata": {
    "id": "yxUa1Zc2TA-B"
   },
   "source": [
    "\n",
    "Nous construirons une méthode qui réduit la dimensionnalité de la matrice afin de produire des enregistrements à k dimensions. Nous utiliserons la méthode SVD pour prendre les k premières composantes et produire une nouvelle matrice d'encastrements k-dimensionnels.\n",
    "\n"
   ]
  },
  {
   "cell_type": "code",
   "execution_count": null,
   "metadata": {
    "id": "d0K3-i6yTA-B"
   },
   "outputs": [],
   "source": [
    "def reduce_to_k_dim(M, k=2):\n",
    "    \"\"\" Réduire une matrice de comptage des cooccurrences de dimensionnalité (num_corpus_mots, num_corpus_mots)\n",
    "        en une matrice de dimensionnalité (num_corpus_mots, k) en utilisant la fonction SVD suivante de Scikit-Learn :\n",
    "            - http://scikit-learn.org/stable/modules/generated/sklearn.decomposition.TruncatedSVD.html\n",
    "\n",
    "        Params :\n",
    "            M (matrice numpy de forme (nombre de mots du corpus, nombre de mots du corpus)) : matrice de cooccurrence du nombre de mots\n",
    "            k (int) : taille d'intégration de chaque mot après réduction de la dimension\n",
    "        Retour :\n",
    "            M_reduced (numpy matrix of shape (number of corpus words, k)) : matrice de k-enchevêtrements de mots dimensionnels.\n",
    "                    En termes de SVD du cours de mathématiques, cela renvoie en fait U * S\n",
    "    \"\"\"\n",
    "    n_iters = 10     # Utilisez ce paramètre dans votre appel à `TruncatedSVD`\n",
    "    M_reduced = None\n",
    "    print(\"Exécution de la SVD tronquée sur %i mots...\" % (M.shape[0]))\n",
    "\n",
    "\n",
    "    svd = TruncatedSVD(n_components=k, n_iter=n_iters)\n",
    "    M_reduced = svd.fit_transform(M)\n",
    "\n",
    "\n",
    "\n",
    "    return M_reduced"
   ]
  },
  {
   "cell_type": "code",
   "execution_count": null,
   "metadata": {
    "colab": {
     "base_uri": "https://localhost:8080/"
    },
    "id": "m6GulVV1TA-B",
    "outputId": "0b31ceda-7654-42ae-8aa9-f33484083bef"
   },
   "outputs": [
    {
     "name": "stdout",
     "output_type": "stream",
     "text": [
      "Exécution de la SVD tronquée sur 10 mots...\n",
      "[[ 7.05647176e-01  4.84057274e-01]\n",
      " [ 7.05647176e-01 -4.84057274e-01]\n",
      " [ 6.54802087e-01 -7.83221122e-01]\n",
      " [ 5.20200324e-01  2.42861287e-14]\n",
      " [ 1.02780472e+00 -1.93178806e-14]\n",
      " [ 6.54802087e-01  7.83221122e-01]\n",
      " [ 3.82258491e-01  6.56224003e-01]\n",
      " [ 3.82258491e-01 -6.56224003e-01]\n",
      " [ 1.39420808e+00 -1.06179274e+00]\n",
      " [ 1.39420808e+00  1.06179274e+00]]\n"
     ]
    }
   ],
   "source": [
    "\n",
    "test_corpus = [\"START All that glitters isn't gold END\".split(\" \"), \"START All's well that ends well END\".split(\" \")]\n",
    "M_test, word2Ind_test = compute_co_occurrence_matrix(test_corpus, window_size=1)\n",
    "M_test_reduced = reduce_to_k_dim(M_test, k=2)\n",
    "\n",
    "print(M_test_reduced)"
   ]
  },
  {
   "cell_type": "markdown",
   "metadata": {
    "id": "dkp8Wu3oTA-B"
   },
   "source": [
    "Nous allons ici écrire une fonction permettant de tracer un ensemble de vecteurs 2D dans l'espace 2D. ="
   ]
  },
  {
   "cell_type": "code",
   "execution_count": null,
   "metadata": {
    "id": "SVCZ6lD6TA-B"
   },
   "outputs": [],
   "source": [
    "def plot_embeddings(M_reduced, word2Ind, words):\n",
    "    \"\"\" Tracer dans un nuage de points les encastrements des mots spécifiés dans la liste \"words\".\n",
    "        NOTE : ne pas tracer tous les mots listés dans M_reduced / word2Ind.\n",
    "        Inclure une étiquette à côté de chaque point.\n",
    "\n",
    "        Params :\n",
    "            M_reduced (matrice numpy de forme (nombre de mots uniques dans le corpus, k)) : matrice d'enchâssements de mots k-dimensioal\n",
    "            word2Ind (dict) : dictionnaire qui associe les mots aux indices de la matrice M\n",
    "            words (liste de chaînes de caractères) : mots dont nous voulons visualiser les enchâssements\n",
    "    \"\"\"\n",
    "\n",
    "\n",
    "    x_coords = M_reduced[:, 0]\n",
    "    y_coords = M_reduced[:, 1]\n",
    "\n",
    "    for word in words:\n",
    "        idx = word2Ind[word]\n",
    "        embedding = M_reduced[idx]\n",
    "        x = embedding[0]\n",
    "        y = embedding[1]\n",
    "\n",
    "        plt.scatter(x, y, marker='x', color='red')\n",
    "        plt.text(x, y, word, fontsize=9)\n",
    "\n"
   ]
  },
  {
   "cell_type": "code",
   "execution_count": null,
   "metadata": {
    "colab": {
     "base_uri": "https://localhost:8080/",
     "height": 445
    },
    "id": "StzqS7k5TA-B",
    "outputId": "9c18d9bd-eb77-4994-850e-3b55d44c6097"
   },
   "outputs": [
    {
     "data": {
      "image/png": "[encoded data removed]",
      "text/plain": [
       "<Figure size 1000x500 with 1 Axes>"
      ]
     },
     "metadata": {},
     "output_type": "display_data"
    }
   ],
   "source": [
    "M_reduced_plot_test = np.array([[1, 1], [-1, -1], [1, -1], [-1, 1], [0, 0]])\n",
    "word2Ind_plot_test = {'test1': 0, 'test2': 1, 'test3': 2, 'test4': 3, 'test5': 4}\n",
    "words = ['test1', 'test2', 'test3', 'test4', 'test5']\n",
    "plot_embeddings(M_reduced_plot_test, word2Ind_plot_test, words)\n",
    "\n"
   ]
  },
  {
   "cell_type": "markdown",
   "metadata": {
    "id": "e0LS_HlqTA-B"
   },
   "source": [
    "Nous allons maintenant rassembler toutes les parties que vous avez écrites ! Nous allons calculer la matrice de cooccurrence avec une fenêtre fixe de 4, sur le corpus \"brut\" de Reuters. Ensuite, nous utiliserons TruncatedSVD pour calculer l'intégration bidimensionnelle de chaque mot. TruncatedSVD renvoie des U\\*S, nous normalisons donc les vecteurs renvoyés, de sorte que tous les vecteurs apparaissent autour du cercle unitaire."
   ]
  },
  {
   "cell_type": "code",
   "execution_count": null,
   "metadata": {
    "colab": {
     "base_uri": "https://localhost:8080/",
     "height": 462
    },
    "id": "W-djy6TnTA-B",
    "outputId": "e3502262-7d9a-421d-cc39-8a239e603d68"
   },
   "outputs": [
    {
     "name": "stdout",
     "output_type": "stream",
     "text": [
      "Exécution de la SVD tronquée sur 8185 mots...\n"
     ]
    },
    {
     "data": {
      "image/png": "[encoded data removed]",
      "text/plain": [
       "<Figure size 1000x500 with 1 Axes>"
      ]
     },
     "metadata": {},
     "output_type": "display_data"
    }
   ],
   "source": [
    "\n",
    "reuters_corpus = read_corpus()\n",
    "M_co_occurrence, word2Ind_co_occurrence = compute_co_occurrence_matrix(reuters_corpus)\n",
    "M_reduced_co_occurrence = reduce_to_k_dim(M_co_occurrence, k=2)\n",
    "\n",
    "# Rééchelonner (normaliser) les lignes pour qu'elles aient chacune une longueur unitaire\n",
    "M_lengths = np.linalg.norm(M_reduced_co_occurrence, axis=1)\n",
    "M_normalized = M_reduced_co_occurrence / M_lengths[:, np.newaxis] # broadcasting\n",
    "\n",
    "words = ['barrels', 'bpd', 'ecuador', 'energy', 'industry', 'kuwait', 'oil', 'output', 'petroleum', 'venezuela']\n",
    "plot_embeddings(M_normalized, word2Ind_co_occurrence, words)"
   ]
  },
  {
   "cell_type": "markdown",
   "metadata": {
    "id": "Xm3I4i3fTA-C"
   },
   "source": [
    "## Partie 3 : Vecteurs de mots basés sur la prédiction\n",
    "\n",
    "Comme nous l'avons vu en classe, les vecteurs de mots basés sur la prédiction ont été récemment mis à la mode, par exemple word2vec. Ici, nous allons explorer les encastrements produits par word2vec."
   ]
  },
  {
   "cell_type": "code",
   "execution_count": null,
   "metadata": {
    "id": "g9bVzq8XYKaO"
   },
   "outputs": [],
   "source": [
    "#Chargement des vecteurs Word2Vec\n",
    "import gensim.downloader as api\n",
    "wv_from_bin = api.load(\"word2vec-google-news-300\")"
   ]
  },
  {
   "cell_type": "code",
   "execution_count": null,
   "metadata": {
    "colab": {
     "base_uri": "https://localhost:8080/"
    },
    "id": "oYlPUG2SYVs5",
    "outputId": "cae99ae1-38cf-40d3-8b0a-016650856d5a"
   },
   "outputs": [
    {
     "name": "stdout",
     "output_type": "stream",
     "text": [
      "Taille du vocabulaire chargé 3000000\n"
     ]
    }
   ],
   "source": [
    "vocab = list(wv_from_bin.key_to_index.keys())\n",
    "\n",
    "print(\"Taille du vocabulaire chargé %i\" % len(vocab))"
   ]
  },
  {
   "cell_type": "code",
   "execution_count": null,
   "metadata": {
    "colab": {
     "base_uri": "https://localhost:8080/"
    },
    "id": "xk9iHn-aY4Bx",
    "outputId": "8d392a9a-cd81-4c4c-a025-e0c9a5996b89"
   },
   "outputs": [
    {
     "data": {
      "text/plain": [
       "(300,)"
      ]
     },
     "execution_count": 17,
     "metadata": {},
     "output_type": "execute_result"
    }
   ],
   "source": [
    "wv_from_bin[\"leaves\"].shape"
   ]
  },
  {
   "cell_type": "markdown",
   "metadata": {
    "id": "qOcj4ulYTA-C"
   },
   "source": [
    "Comparons directement l'intégration de word2vec à celle de la matrice de cooccurrence."
   ]
  },
  {
   "cell_type": "code",
   "execution_count": null,
   "metadata": {
    "id": "G0D8z505TA-C"
   },
   "outputs": [],
   "source": [
    "def get_matrix_of_vectors(wv_from_bin, required_words=['barrels', 'bpd', 'ecuador', 'energy', 'industry', 'kuwait', 'oil', 'output', 'petroleum', 'venezuela']):\n",
    "    \"\"\" Place les vecteurs word2vec dans une matrice M.\n",
    "        Param :\n",
    "            wv_from_bin : objet KeyedVectors ; les 3 millions de vecteurs word2vec chargés à partir d'un fichier\n",
    "        Retourne :\n",
    "            M : matrice numpy de forme (num words, 300) contenant les vecteurs\n",
    "            word2Ind : dictionnaire associant chaque mot à son numéro de ligne dans M\n",
    "    \"\"\"\n",
    "    import random\n",
    "    words = list(wv_from_bin.key_to_index.keys())\n",
    "    print(\"Mélanger les mots ...\")\n",
    "    random.shuffle(words)\n",
    "    words = words[:10000]\n",
    "    print(\"Placement de %i mots dans word2Ind et dans la matrice M...\" % len(words))\n",
    "    word2Ind = {}\n",
    "    M = []\n",
    "    curInd = 0\n",
    "    for w in words:\n",
    "        try:\n",
    "            M.append(wv_from_bin[w])\n",
    "            word2Ind[w] = curInd\n",
    "            curInd += 1\n",
    "        except KeyError:\n",
    "            continue\n",
    "    for w in required_words:\n",
    "        try:\n",
    "            M.append(wv_from_bin[w])\n",
    "            word2Ind[w] = curInd\n",
    "            curInd += 1\n",
    "        except KeyError:\n",
    "            continue\n",
    "    M = np.stack(M)\n",
    "    print(\"Done.\")\n",
    "    return M, word2Ind"
   ]
  },
  {
   "cell_type": "code",
   "execution_count": null,
   "metadata": {
    "colab": {
     "base_uri": "https://localhost:8080/"
    },
    "id": "3FJpTZ0eTA-D",
    "outputId": "75652e7e-e063-4abe-b3d8-135a45df141f"
   },
   "outputs": [
    {
     "name": "stdout",
     "output_type": "stream",
     "text": [
      "Mélanger les mots ...\n",
      "Placement de 10000 mots dans word2Ind et dans la matrice M...\n",
      "Done.\n",
      "Exécution de la SVD tronquée sur 10010 mots...\n"
     ]
    }
   ],
   "source": [
    "\n",
    "M, word2Ind = get_matrix_of_vectors(wv_from_bin)\n",
    "M_reduced = reduce_to_k_dim(M, k=2)"
   ]
  },
  {
   "cell_type": "code",
   "execution_count": null,
   "metadata": {
    "colab": {
     "base_uri": "https://localhost:8080/",
     "height": 445
    },
    "id": "QvuN1a51TA-D",
    "outputId": "d69dae86-198c-47ae-be38-a1ee32d999c3"
   },
   "outputs": [
    {
     "data": {
      "image/png": "[encoded data removed]",
      "text/plain": [
       "<Figure size 1000x500 with 1 Axes>"
      ]
     },
     "metadata": {},
     "output_type": "display_data"
    }
   ],
   "source": [
    "words = ['barrels', 'bpd', 'ecuador', 'energy', 'industry', 'kuwait', 'oil', 'output', 'petroleum', 'venezuela']\n",
    "plot_embeddings(M_reduced, word2Ind, words)"
   ]
  },
  {
   "cell_type": "markdown",
   "metadata": {
    "id": "fXOXrqNZTA-D"
   },
   "source": [
    "### Cosine Similarity\n",
    "Maintenant que nous disposons de vecteurs de mots, nous avons besoin d'un moyen de quantifier la similarité entre les mots individuels, en fonction de ces vecteurs. L'une de ces mesures est la similarité en cosinus. Nous l'utiliserons pour trouver les mots qui sont \"proches\" et \"éloignés\" les uns des autres.\n",
    "\n",
    "Nous pouvons considérer les vecteurs à n dimensions comme des points dans un espace à n dimensions. Si nous adoptons cette perspective, les distances L1 et L2 permettent de quantifier l'espace \"à parcourir\" pour aller de l'un à l'autre de ces deux points. Une autre approche consiste à examiner l'angle entre deux vecteurs. La trigonométrie nous apprend que\n",
    "\n",
    "<img src=\"https://drive.google.com/uc?export=view&id=1gc8ifRlJbzcjJGuswqwlt5Qqdg8taw-0\" width=20% style=\"float: center;\"></img>\n",
    "\n",
    "Au lieu de calculer l'angle réel, nous pouvons laisser la similarité en termes de $similarité = cos(\\Theta)$. Formellement, la [Similitude cosinusienne] (https://en.wikipedia.org/wiki/Cosine_similarity) $s$ entre deux vecteurs $p$ et $q$ est définie comme suit :\n",
    "\n",
    "$$s = \\frac{p \\cdot q}{||p|| ||q||}, \\textrm{ where } s \\in [-1, 1] $$"
   ]
  },
  {
   "cell_type": "markdown",
   "metadata": {
    "id": "9ZtKJaAcTA-D"
   },
   "source": [
    "\n",
    "\n",
    "### Mots polysémiques\n",
    "nous essayons de trouver un mot polysémique (par exemple, \"leaves\" ou \"scoop\") tel que le top 10 des mots les plus similaires (selon la similarité cosinus) contienne des mots apparentés dans les deux sens. Par exemple, \"leaves\" contient à la fois \"vanishes\" et \"stalks\" dans le top 10, et \"scoop\" contient à la fois \"handed_waffle_cone\" et \"lowdown\"."
   ]
  },
  {
   "cell_type": "code",
   "execution_count": null,
   "metadata": {
    "colab": {
     "base_uri": "https://localhost:8080/"
    },
    "id": "b-mfgUnRTA-H",
    "outputId": "e60aab27-26e3-4920-843e-f83327b76856"
   },
   "outputs": [
    {
     "data": {
      "text/plain": [
       "[('leaving', 0.5886486172676086),\n",
       " ('arrives', 0.5362045764923096),\n",
       " ('left', 0.522864580154419),\n",
       " ('Leaves', 0.5153513550758362),\n",
       " ('leave', 0.5131403803825378),\n",
       " ('departs', 0.510783314704895),\n",
       " ('lingers', 0.4776709973812103),\n",
       " ('vanishes', 0.4696614444255829),\n",
       " ('stalks', 0.46650534868240356),\n",
       " ('sends', 0.4623021185398102)]"
      ]
     },
     "execution_count": 21,
     "metadata": {},
     "output_type": "execute_result"
    }
   ],
   "source": [
    "\n",
    "wv_from_bin.most_similar(\"leaves\")\n"
   ]
  },
  {
   "cell_type": "markdown",
   "metadata": {
    "id": "0tXPQPKwTA-I"
   },
   "source": [
    "### Synonyms & Antonyms\n",
    "\n",
    "Lorsque l'on considère la similitude du cosinus, il est souvent plus pratique de penser à la distance du cosinus, qui est simplement 1 - similitude du cosinus.\n",
    "\n",
    "Nous trouverons trois mots (w1,w2,w3) où w1 et w2 sont synonymes et w1 et w3 sont antonymes, mais la distance en cosinus (w1,w3) < la distance en cosinus (w1,w2). Par exemple, w1=\"happy\" est plus proche de w3=\"sad\" que de w2=\"joyful\".\n"
   ]
  },
  {
   "cell_type": "code",
   "execution_count": null,
   "metadata": {
    "colab": {
     "base_uri": "https://localhost:8080/"
    },
    "id": "GYNOtFbDTA-I",
    "outputId": "cea5ba70-54a4-413f-ffac-4d11627e8a26"
   },
   "outputs": [
    {
     "name": "stdout",
     "output_type": "stream",
     "text": [
      "Les synonymes happy, joyful ont une distance en cosinus : 0.5761803686618805\n",
      "Les antonymes happy, sad ont une distance en cosinus : 0.46453857421875\n"
     ]
    }
   ],
   "source": [
    "\n",
    "\n",
    "w1 = \"happy\"\n",
    "w2 = \"joyful\"\n",
    "w3 = \"sad\"\n",
    "w1_w2_dist = wv_from_bin.distance(w1, w2)\n",
    "w1_w3_dist = wv_from_bin.distance(w1, w3)\n",
    "\n",
    "print(\"Les synonymes {}, {} ont une distance en cosinus : {}\".format(w1, w2, w1_w2_dist))\n",
    "print(\"Les antonymes {}, {} ont une distance en cosinus : {}\".format(w1, w3, w1_w3_dist))\n"
   ]
  },
  {
   "cell_type": "markdown",
   "metadata": {
    "id": "i1_3aKqyTA-I"
   },
   "source": [
    "### Résoudre des analogies avec des mots vecteurs\n",
    "\n",
    "Il a été démontré que les vecteurs Word2Vec ont parfois la capacité de résoudre des analogies.\n",
    "\n",
    "Par exemple, pour l'analogie \"homme : roi : : femme : x\", quel est x ?\n",
    "\n",
    "Dans la cellule ci-dessous, nous vous montrons comment utiliser les vecteurs de mots pour trouver x. La fonction `most_similar` trouve les mots qui sont les plus similaires aux mots de la liste `positive` et les plus différents des mots de la liste `négative`. La réponse à l'analogie sera le mot le plus similaire (valeur numérique la plus élevée)."
   ]
  },
  {
   "cell_type": "code",
   "execution_count": null,
   "metadata": {
    "colab": {
     "base_uri": "https://localhost:8080/"
    },
    "id": "Bxn6GNplTA-I",
    "outputId": "3301399c-9eb2-4a21-c1b5-12eb5919775f"
   },
   "outputs": [
    {
     "name": "stdout",
     "output_type": "stream",
     "text": [
      "[('queen', 0.7118193507194519),\n",
      " ('monarch', 0.6189674139022827),\n",
      " ('princess', 0.5902431011199951),\n",
      " ('crown_prince', 0.5499460697174072),\n",
      " ('prince', 0.5377321839332581),\n",
      " ('kings', 0.5236844420433044),\n",
      " ('Queen_Consort', 0.5235945582389832),\n",
      " ('queens', 0.5181134343147278),\n",
      " ('sultan', 0.5098593831062317),\n",
      " ('monarchy', 0.5087411999702454)]\n"
     ]
    }
   ],
   "source": [
    "# Exécutez cette cellule pour répondre à l'analogie -- homme : roi : : femme : x\n",
    "pprint.pprint(wv_from_bin.most_similar(positive=['woman', 'king'], negative=['man']))"
   ]
  },
  {
   "cell_type": "markdown",
   "metadata": {
    "id": "fLDOHBK4TA-I"
   },
   "source": [
    "### Trouver des analogies\n",
    "Nous trouverons un exemple d'analogie qui correspond à ces vecteurs (c'est-à-dire que le mot voulu est classé en tête)."
   ]
  },
  {
   "cell_type": "code",
   "execution_count": null,
   "metadata": {
    "colab": {
     "base_uri": "https://localhost:8080/"
    },
    "id": "BkaVqsRtTA-I",
    "outputId": "22dbbff0-1f2c-4013-bcb8-d9d1c639becd"
   },
   "outputs": [
    {
     "name": "stdout",
     "output_type": "stream",
     "text": [
      "[('tomatoes', 0.6614440679550171),\n",
      " ('lettuce', 0.6111559271812439),\n",
      " ('strawberries', 0.6029782891273499),\n",
      " ('strawberry', 0.6000961661338806),\n",
      " ('asparagus', 0.5944024324417114),\n",
      " ('watermelon', 0.5924463272094727),\n",
      " ('cherry_tomatoes', 0.5894373655319214),\n",
      " ('radishes', 0.5881099104881287),\n",
      " ('broccoli', 0.5862938761711121),\n",
      " ('rhubarb', 0.5825343132019043)]\n"
     ]
    }
   ],
   "source": [
    "pprint.pprint(wv_from_bin.most_similar(positive=['purple', 'tomato'], negative=['red']))"
   ]
  },
  {
   "cell_type": "markdown",
   "metadata": {
    "id": "Am7ZWX_cTA-I"
   },
   "source": [
    "### Analogie incorrecte\n",
    "Nous allons essayer de trouver un exemple d'analogie qui ne tient pas selon ces vecteurs."
   ]
  },
  {
   "cell_type": "code",
   "execution_count": null,
   "metadata": {
    "colab": {
     "base_uri": "https://localhost:8080/"
    },
    "id": "26h1B0k6TA-I",
    "outputId": "e680b4b6-7c2b-422f-83e0-3b136e776ec2"
   },
   "outputs": [
    {
     "name": "stdout",
     "output_type": "stream",
     "text": [
      "[('apples', 0.5736606121063232),\n",
      " ('berry', 0.5442135334014893),\n",
      " ('Granny_Smiths', 0.5280871391296387),\n",
      " ('strawberry', 0.526979386806488),\n",
      " ('crumb_pie', 0.5259447693824768),\n",
      " ('pumpkin', 0.5254353880882263),\n",
      " ('berries', 0.5217612981796265),\n",
      " ('pear', 0.5118343830108643),\n",
      " ('jujubes', 0.5108941793441772),\n",
      " ('watermelon', 0.5093978643417358)]\n"
     ]
    }
   ],
   "source": [
    "\n",
    "\n",
    "pprint.pprint(wv_from_bin.most_similar(positive=['purple', 'apple'], negative=['red']))\n",
    "\n"
   ]
  },
  {
   "cell_type": "markdown",
   "metadata": {
    "id": "jTEraDnvTA-I"
   },
   "source": [
    "###  Analyse guidée des biais dans les vecteurs de mots\n",
    "\n",
    "Il est important d'être conscient des préjugés (genre, race, orientation sexuelle, etc.) implicites dans les mots intégrés.\n",
    "\n",
    "Dans la cellule ci-dessous, nous examinons (a) quels termes sont les plus similaires à \"femme\" et \"patron\" et les plus dissemblables à \"homme\", et (b) quels termes sont les plus similaires à \"homme\" et \"patron\" et les plus dissemblables à \"femme\". Que trouvez-vous dans le top 10 ?"
   ]
  },
  {
   "cell_type": "code",
   "execution_count": null,
   "metadata": {
    "colab": {
     "base_uri": "https://localhost:8080/"
    },
    "id": "rvvvlzvJTA-I",
    "outputId": "369d1055-fae9-488b-f07c-ca5da442bdbd"
   },
   "outputs": [
    {
     "name": "stdout",
     "output_type": "stream",
     "text": [
      "[('bosses', 0.5522644519805908),\n",
      " ('manageress', 0.49151360988616943),\n",
      " ('exec', 0.45940810441970825),\n",
      " ('Manageress', 0.4559843838214874),\n",
      " ('receptionist', 0.4474116563796997),\n",
      " ('Jane_Danson', 0.44480547308921814),\n",
      " ('Fiz_Jennie_McAlpine', 0.4427576959133148),\n",
      " ('Coronation_Street_actress', 0.44275563955307007),\n",
      " ('supremo', 0.4409853219985962),\n",
      " ('coworker', 0.43986251950263977)]\n",
      "\n",
      "[('supremo', 0.6097397804260254),\n",
      " ('MOTHERWELL_boss', 0.5489562749862671),\n",
      " ('CARETAKER_boss', 0.5375303030014038),\n",
      " ('Bully_Wee_boss', 0.5333974957466125),\n",
      " ('YEOVIL_Town_boss', 0.5321705341339111),\n",
      " ('head_honcho', 0.5281980037689209),\n",
      " ('manager_Stan_Ternent', 0.525971531867981),\n",
      " ('Viv_Busby', 0.5256163477897644),\n",
      " ('striker_Gabby_Agbonlahor', 0.5250812768936157),\n",
      " ('BARNSLEY_boss', 0.5238943099975586)]\n"
     ]
    }
   ],
   "source": [
    "\n",
    "pprint.pprint(wv_from_bin.most_similar(positive=['woman', 'boss'], negative=['man']))\n",
    "print()\n",
    "pprint.pprint(wv_from_bin.most_similar(positive=['man', 'boss'], negative=['woman']))"
   ]
  }
 ],
 "metadata": {
  "anaconda-cloud": {},
  "colab": {
   "provenance": []
  },
  "kernelspec": {
   "display_name": "Python 3 (ipykernel)",
   "language": "python",
   "name": "python3"
  },
  "language_info": {
   "codemirror_mode": {
    "name": "ipython",
    "version": 3
   },
   "file_extension": ".py",
   "mimetype": "text/x-python",
   "name": "python",
   "nbconvert_exporter": "python",
   "pygments_lexer": "ipython3",
   "version": "3.11.5"
  },
  "latex_envs": {
   "LaTeX_envs_menu_present": true,
   "autoclose": false,
   "autocomplete": true,
   "bibliofile": "biblio.bib",
   "cite_by": "apalike",
   "current_citInitial": 1,
   "eqLabelWithNumbers": true,
   "eqNumInitial": 1,
   "hotkeys": {
    "equation": "Ctrl-E",
    "itemize": "Ctrl-I"
   },
   "labels_anchors": false,
   "latex_user_defs": false,
   "report_style_numbering": false,
   "user_envs_cfg": false
  }
 },
 "nbformat": 4,
 "nbformat_minor": 1
}
