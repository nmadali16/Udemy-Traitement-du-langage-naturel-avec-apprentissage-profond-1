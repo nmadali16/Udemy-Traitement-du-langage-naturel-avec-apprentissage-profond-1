{
 "cells": [
  {
   "cell_type": "markdown",
   "id": "f9a22193-d920-4416-b17a-89b5a9a2bd63",
   "metadata": {
    "id": "f9a22193-d920-4416-b17a-89b5a9a2bd63"
   },
   "source": [
    "# Lab: Training Logistic Regression Model with TF-IDF on IMDb Dataset\n",
    "\n",
    "## Introduction:\n",
    "In this lab, we will use the IMDb dataset from Hugging Face, perform text preprocessing,  and train a logistic regression model to classify movie reviews as positive or negative using TF-IDF (Term Frequency - Inverse Document Frequency) vectorization.\n",
    "\n",
    "The lab will cover:\n",
    "1. Loading the IMDb dataset from Hugging Face.\n",
    "2. Preprocessing text data.\n",
    "3. Applying TF-IDF vectorization.\n",
    "4. Training a logistic regression model.\n",
    "5. Evaluating the model.\n"
   ]
  },
  {
   "cell_type": "markdown",
   "id": "980d59a2-dc0d-4aec-8caf-8b5ec920bb8d",
   "metadata": {
    "id": "980d59a2-dc0d-4aec-8caf-8b5ec920bb8d"
   },
   "source": [
    "## 1. Dataset Loading\n",
    "\n",
    "To start, we load the IMDb dataset, which consists of movie reviews labeled as either positive or negative. We will use the `torchtext` library, which provides simple utilities for loading and processing text data for NLP tasks. We load both the training and test splits of the IMDb dataset.\n",
    "\n"
   ]
  },
  {
   "cell_type": "code",
   "execution_count": 1,
   "id": "5T0hrv5mzj1I",
   "metadata": {
    "id": "5T0hrv5mzj1I"
   },
   "outputs": [],
   "source": [
    "#!pip install datasets"
   ]
  },
  {
   "cell_type": "code",
   "execution_count": 2,
   "id": "u8TRWo0jztwZ",
   "metadata": {
    "colab": {
     "base_uri": "https://localhost:8080/"
    },
    "id": "u8TRWo0jztwZ",
    "outputId": "485e1872-f684-481d-e71c-6d530f344b0a"
   },
   "outputs": [
    {
     "name": "stderr",
     "output_type": "stream",
     "text": [
      "[nltk_data] Downloading package stopwords to /root/nltk_data...\n",
      "[nltk_data]   Package stopwords is already up-to-date!\n"
     ]
    },
    {
     "data": {
      "text/plain": [
       "True"
      ]
     },
     "execution_count": 2,
     "metadata": {},
     "output_type": "execute_result"
    }
   ],
   "source": [
    "import numpy as np\n",
    "import string\n",
    "import datasets\n",
    "\n",
    "import nltk\n",
    "from nltk.corpus import stopwords\n",
    "\n",
    "nltk.download('stopwords')\n",
    "\n",
    "\n"
   ]
  },
  {
   "cell_type": "code",
   "execution_count": 3,
   "id": "7f4852ac-70f0-4b5d-9fa3-8ab1493eab4b",
   "metadata": {
    "colab": {
     "base_uri": "https://localhost:8080/"
    },
    "id": "7f4852ac-70f0-4b5d-9fa3-8ab1493eab4b",
    "outputId": "48de1236-4aa6-4c67-d3bd-ddf12c3060c5"
   },
   "outputs": [
    {
     "name": "stderr",
     "output_type": "stream",
     "text": [
      "/usr/local/lib/python3.11/dist-packages/huggingface_hub/utils/_auth.py:94: UserWarning: \n",
      "The secret `HF_TOKEN` does not exist in your Colab secrets.\n",
      "To authenticate with the Hugging Face Hub, create a token in your settings tab (https://huggingface.co/settings/tokens), set it as secret in your Google Colab and restart your session.\n",
      "You will be able to reuse this secret in all of your notebooks.\n",
      "Please note that authentication is recommended but still optional to access public models or datasets.\n",
      "  warnings.warn(\n"
     ]
    }
   ],
   "source": [
    "\n",
    "train_data, test_data = datasets.load_dataset(\"imdb\", split=[\"train\", \"test\"])"
   ]
  },
  {
   "cell_type": "markdown",
   "id": "1f9745d1-1b91-4761-b4e1-c0a62febd1cb",
   "metadata": {
    "id": "1f9745d1-1b91-4761-b4e1-c0a62febd1cb"
   },
   "source": [
    "## 2. Vocabulary Creation\n",
    "\n",
    "The text data needs to be converted into a numerical form for the model to process. To do this, we will create a vocabulary using the `Field` class from `torchtext`. The `Field` class handles preprocessing, tokenization, and numericalization of the text data. We will use a pre-trained word embedding (e.g., GloVe) to initialize the vocabulary, though this step is optional.\n",
    "\n",
    "Once the vocabulary is created, we can inspect its size, which will tell us how many unique tokens (words) the model can recognize.\n",
    "\n"
   ]
  },
  {
   "cell_type": "code",
   "execution_count": 4,
   "id": "o2oGmXi6zzIj",
   "metadata": {
    "id": "o2oGmXi6zzIj"
   },
   "outputs": [],
   "source": [
    "class Tokenizer:\n",
    "  def __init__(self, stop_words, puncts, truncation_size=256  ):\n",
    "\n",
    "    self.stop_words=stop_words\n",
    "    self.puncts=puncts\n",
    "    self.df = {}\n",
    "    self.truncation_size=truncation_size\n",
    "  def format_string(self, text):\n",
    "      tokens=[ token for token  in text.lower().split() if not ((token in self.stop_words) or  (token in self.puncts))   ]\n",
    "      return tokens\n",
    "\n",
    "  def tokenize(self, text, truncation=False):\n",
    "      tokens=self.format_string(text)\n",
    "      tmp=[]\n",
    "      for token in tokens:\n",
    "          if token in self.w2i :\n",
    "              tmp.append(self.w2i[token])\n",
    "          else:\n",
    "              tmp.append(self.w2i['<unk>'])\n",
    "\n",
    "      if truncation:\n",
    "          tmp=tmp[: self.truncation_size]\n",
    "          output= np.ones(self.truncation_size)*self.w2i['<pad>']\n",
    "          output[:len(tmp)]=tmp\n",
    "          return list(output)\n",
    "      else:\n",
    "          return tmp\n",
    "  def detokenize(self, idxs):\n",
    "      words=[self.i2w[idx] for idx in idxs]\n",
    "\n",
    "      return ''.join(word+' ' for word in words )\n",
    "  def fit(self, train_text):\n",
    "    for text in train_text:\n",
    "        tokens=set(self.format_string(text))\n",
    "        for token in tokens:\n",
    "            if token in self.df:\n",
    "                self.df[token]+=1\n",
    "            else:\n",
    "                self.df[token]=1\n",
    "    self.df['<unk>']=1\n",
    "    self.df['<pad>']=1\n",
    "\n",
    "\n",
    "\n",
    "    self.w2i = { k:idx for idx, (k,v) in enumerate(self.df.items())}\n",
    "    self.i2w = { v:k for (k,v) in  self.w2i .items() }\n",
    "\n",
    "    self.idf=np.zeros(len(self.df))\n",
    "    for (k,v) in self.w2i.items():\n",
    "        self.idf[v]=np.log((1+len(train_text))/(1+self.df[k]))\n"
   ]
  },
  {
   "cell_type": "code",
   "execution_count": 5,
   "id": "ef2b2d6d-96bd-4fef-b7fb-cdefb35893c9",
   "metadata": {
    "id": "ef2b2d6d-96bd-4fef-b7fb-cdefb35893c9"
   },
   "outputs": [],
   "source": [
    "train_text=[sample['text'] for sample in train_data]\n",
    "test_text=[sample['text'] for sample in test_data]\n",
    "\n",
    "train_label=[sample['label'] for sample in train_data]\n",
    "test_label=[sample['label'] for sample in test_data]"
   ]
  },
  {
   "cell_type": "code",
   "execution_count": 6,
   "id": "It2b-_HEz1C4",
   "metadata": {
    "id": "It2b-_HEz1C4"
   },
   "outputs": [],
   "source": [
    "stop_words= stopwords.words('english')\n",
    "puncts=  [punt for punt in string.punctuation]"
   ]
  },
  {
   "cell_type": "code",
   "execution_count": 7,
   "id": "MT6CwAf5z2PT",
   "metadata": {
    "id": "MT6CwAf5z2PT"
   },
   "outputs": [],
   "source": [
    "tokenizer=Tokenizer(stop_words , puncts)"
   ]
  },
  {
   "cell_type": "code",
   "execution_count": 8,
   "id": "znN8mG7Sz3bG",
   "metadata": {
    "id": "znN8mG7Sz3bG"
   },
   "outputs": [],
   "source": [
    "tokenizer.fit(train_text)"
   ]
  },
  {
   "cell_type": "code",
   "execution_count": 9,
   "id": "eP1FRl6R0UhY",
   "metadata": {
    "colab": {
     "base_uri": "https://localhost:8080/",
     "height": 105
    },
    "id": "eP1FRl6R0UhY",
    "outputId": "925e330a-e34b-42b5-d5fd-b0bc5e66158b"
   },
   "outputs": [
    {
     "data": {
      "application/vnd.google.colaboratory.intrinsic+json": {
       "type": "string"
      },
      "text/plain": [
       "'Oh, brother...after hearing about this ridiculous film for umpteen years all I can think of is that old Peggy Lee song..<br /><br />\"Is that all there is??\" ...I was just an early teen when this smoked fish hit the U.S. I was too young to get in the theater (although I did manage to sneak into \"Goodbye Columbus\"). Then a screening at a local film museum beckoned - Finally I could see this film, except now I was as old as my parents were when they schlepped to see it!!<br /><br />The ONLY reason this film was not condemned to the anonymous sands of time was because of the obscenity case sparked by its U.S. release. MILLIONS of people flocked to this stinker, thinking they were going to see a sex film...Instead, they got lots of closeups of gnarly, repulsive Swedes, on-street interviews in bland shopping malls, asinie political pretension...and feeble who-cares simulated sex scenes with saggy, pale actors.<br /><br />Cultural icon, holy grail, historic artifact..whatever this thing was, shred it, burn it, then stuff the ashes in a lead box!<br /><br />Elite esthetes still scrape to find value in its boring pseudo revolutionary political spewings..But if it weren\\'t for the censorship scandal, it would have been ignored, then forgotten.<br /><br />Instead, the \"I Am Blank, Blank\" rhythymed title was repeated endlessly for years as a titilation for porno films (I am Curious, Lavender - for gay films, I Am Curious, Black - for blaxploitation films, etc..) and every ten years or so the thing rises from the dead, to be viewed by a new generation of suckers who want to see that \"naughty sex film\" that \"revolutionized the film industry\"...<br /><br />Yeesh, avoid like the plague..Or if you MUST see it - rent the video and fast forward to the \"dirty\" parts, just to get it over with.<br /><br />'"
      ]
     },
     "execution_count": 9,
     "metadata": {},
     "output_type": "execute_result"
    }
   ],
   "source": [
    "train_text[4]"
   ]
  },
  {
   "cell_type": "code",
   "execution_count": 10,
   "id": "NKVjBLCv0Q0u",
   "metadata": {
    "colab": {
     "base_uri": "https://localhost:8080/"
    },
    "id": "NKVjBLCv0Q0u",
    "outputId": "56157b4a-bce1-4a59-b53c-210c57cfe4e2"
   },
   "outputs": [
    {
     "data": {
      "text/plain": [
       "[439, 387, 345, 405, 129, 335, 111, 441, 66, 339]"
      ]
     },
     "execution_count": 10,
     "metadata": {},
     "output_type": "execute_result"
    }
   ],
   "source": [
    "tokenizer.tokenize(train_text[4])[:10]"
   ]
  },
  {
   "cell_type": "code",
   "execution_count": 11,
   "id": "rtZemwNX0PuS",
   "metadata": {
    "colab": {
     "base_uri": "https://localhost:8080/",
     "height": 105
    },
    "id": "rtZemwNX0PuS",
    "outputId": "4dc95c03-c514-427a-db40-2826738487e0"
   },
   "outputs": [
    {
     "data": {
      "application/vnd.google.colaboratory.intrinsic+json": {
       "type": "string"
      },
      "text/plain": [
       "'oh, brother...after hearing ridiculous film umpteen years think old peggy lee song..<br /><br />\"is is??\" ...i early teen smoked fish hit u.s. young get theater (although manage sneak \"goodbye columbus\"). screening local film museum beckoned finally could see film, except old parents schlepped see it!!<br /><br />the reason film condemned anonymous sands time obscenity case sparked u.s. release. millions people flocked stinker, thinking going see sex film...instead, got lots closeups gnarly, repulsive swedes, on-street interviews bland shopping malls, asinie political pretension...and feeble who-cares simulated sex scenes saggy, pale actors.<br /><br />cultural icon, holy grail, historic artifact..whatever thing was, shred it, burn it, stuff ashes lead box!<br /><br />elite esthetes still scrape find value boring pseudo revolutionary political spewings..but censorship scandal, would ignored, forgotten.<br /><br />instead, \"i blank, blank\" rhythymed title repeated endlessly years titilation porno films (i curious, lavender gay films, curious, black blaxploitation films, etc..) every ten years thing rises dead, viewed new generation suckers want see \"naughty sex film\" \"revolutionized film industry\"...<br /><br />yeesh, avoid like plague..or must see rent video fast forward \"dirty\" parts, get with.<br /><br /> '"
      ]
     },
     "execution_count": 11,
     "metadata": {},
     "output_type": "execute_result"
    }
   ],
   "source": [
    "tokenizer.detokenize(tokenizer.tokenize(train_text[4]))"
   ]
  },
  {
   "cell_type": "markdown",
   "id": "68667f03-dafb-4e9f-854d-4f7074a1cb52",
   "metadata": {
    "id": "68667f03-dafb-4e9f-854d-4f7074a1cb52"
   },
   "source": [
    "## 3. PyTorch Dataset Creation\n",
    "\n",
    "After creating the vocabulary, we convert the dataset into a format that PyTorch can process. Using `torchtext`, we create `BucketIterator` objects for both the training and test datasets. These iterators handle batching and padding of sequences. We ensure that the batches are sorted by sequence length to minimize padding."
   ]
  },
  {
   "cell_type": "code",
   "execution_count": 12,
   "id": "c9073c19-dfca-4c03-8a2b-25aee21e36f7",
   "metadata": {
    "id": "c9073c19-dfca-4c03-8a2b-25aee21e36f7"
   },
   "outputs": [],
   "source": [
    "import torch\n",
    "from torch.utils.data import Dataset, DataLoader\n",
    "from collections import Counter\n",
    "\n",
    "class CustomDataset(Dataset):\n",
    "    def __init__(self, train_data, tokenizer, return_type='BoG'):\n",
    "        \"\"\"\n",
    "        Initialize the dataset with data and targets.\n",
    "        Args:\n",
    "            data: The input data (e.g., features).\n",
    "            targets: The corresponding labels or targets.\n",
    "        \"\"\"\n",
    "        self.train_data = train_data\n",
    "        self.tokenizer = tokenizer\n",
    "        self. return_type=return_type # BoG, Tf-Idf Ids\n",
    "    def __len__(self):\n",
    "        \"\"\"\n",
    "        Return the total number of samples.\n",
    "        \"\"\"\n",
    "        return len(self.train_data)\n",
    "\n",
    "    def __getitem__(self, idx):\n",
    "        \"\"\"\n",
    "        Retrieve a sample and its target at the given index.\n",
    "        \"\"\"\n",
    "        text,label= self.train_data[idx]['text'], self.train_data[idx]['label']\n",
    "        if self.return_type=='Ids'  :\n",
    "\n",
    "            idxs= np.array(self.tokenizer.tokenize(text, truncation=True)).astype('int32')\n",
    "            return idxs, label\n",
    "        elif self.return_type=='BoG':\n",
    "            vec=np.zeros(len(self.tokenizer.w2i))\n",
    "            idxs= self.tokenizer.tokenize(text)\n",
    "            for idx in idxs:\n",
    "                vec[idx]+=1\n",
    "            return vec, label\n",
    "        else:\n",
    "            tf=np.zeros(len(self.tokenizer.w2i))\n",
    "            idxs= self.tokenizer.tokenize(text)\n",
    "\n",
    "            for idx, count in Counter(idxs).items():\n",
    "                tf[idx]=(count/len(idxs)) * self.tokenizer.idf[idx]\n",
    "            return tf, label"
   ]
  },
  {
   "cell_type": "code",
   "execution_count": 13,
   "id": "R5KGaq4k1Mpe",
   "metadata": {
    "id": "R5KGaq4k1Mpe"
   },
   "outputs": [],
   "source": [
    "train_dataset = CustomDataset(train_data, tokenizer,return_type='Tf-Idf' )\n",
    "test_dataset = CustomDataset(test_data, tokenizer,return_type='Tf-Idf' )"
   ]
  },
  {
   "cell_type": "code",
   "execution_count": 14,
   "id": "HLmNExcD1f8p",
   "metadata": {
    "colab": {
     "base_uri": "https://localhost:8080/"
    },
    "id": "HLmNExcD1f8p",
    "outputId": "d767eff2-32e7-4f48-e3c4-7d9db8628585"
   },
   "outputs": [
    {
     "data": {
      "text/plain": [
       "25000"
      ]
     },
     "execution_count": 14,
     "metadata": {},
     "output_type": "execute_result"
    }
   ],
   "source": [
    "len(train_dataset)"
   ]
  },
  {
   "cell_type": "code",
   "execution_count": 44,
   "id": "_-iWX0PT1h-m",
   "metadata": {
    "colab": {
     "base_uri": "https://localhost:8080/"
    },
    "id": "_-iWX0PT1h-m",
    "outputId": "aad7c59c-32be-4868-e595-7c127b3d0a49"
   },
   "outputs": [
    {
     "data": {
      "text/plain": [
       "(array([0.        , 0.        , 0.        , ..., 0.        , 0.07312809,\n",
       "        0.        ]),\n",
       " 0)"
      ]
     },
     "execution_count": 44,
     "metadata": {},
     "output_type": "execute_result"
    }
   ],
   "source": [
    "test_dataset[1]"
   ]
  },
  {
   "cell_type": "code",
   "execution_count": 48,
   "id": "MaEHpMTPAgVk",
   "metadata": {
    "colab": {
     "base_uri": "https://localhost:8080/",
     "height": 447
    },
    "id": "MaEHpMTPAgVk",
    "outputId": "7005022f-fca0-44a2-9190-76457f5e2963"
   },
   "outputs": [
    {
     "data": {
      "text/plain": [
       "[<matplotlib.lines.Line2D at 0x7f5c0c7b6e10>]"
      ]
     },
     "execution_count": 48,
     "metadata": {},
     "output_type": "execute_result"
    },
    {
     "data": {
      "image/png": "[encoded data removed]",
      "text/plain": [
       "<Figure size 640x480 with 1 Axes>"
      ]
     },
     "metadata": {},
     "output_type": "display_data"
    }
   ],
   "source": [
    "import matplotlib.pyplot as plt\n",
    "plt.plot(test_dataset[3][0])"
   ]
  },
  {
   "cell_type": "markdown",
   "id": "dd464292-45f9-4876-b25b-14ac94ceec22",
   "metadata": {
    "id": "dd464292-45f9-4876-b25b-14ac94ceec22"
   },
   "source": [
    "## 4. PyTorch Dataloader Creation\n",
    "\n",
    "The `BucketIterator` created in the previous step serves as the dataloader. It efficiently loads batches of data for both training and evaluation. The iterator handles padding and ensures that sequences within a batch have similar lengths."
   ]
  },
  {
   "cell_type": "code",
   "execution_count": 16,
   "id": "uPs-S4Lf2WI7",
   "metadata": {
    "colab": {
     "base_uri": "https://localhost:8080/"
    },
    "id": "uPs-S4Lf2WI7",
    "outputId": "72ec64a7-d1c2-4062-cd66-3403af025678"
   },
   "outputs": [
    {
     "name": "stdout",
     "output_type": "stream",
     "text": [
      "0 [ 8364  9386  6964 19766  2060  9626 17488   242  5511 17643 11452 10942\n",
      " 19240  9983 19061 18411 23475 15159 14502 18090 20410 11307  8945  6338\n",
      "  8504 14127 15129  5399  9405 19915 11052 11497 19422  6951 21580 23901\n",
      " 13057  5702 23334 22182 18633  9638 15209 13331 17085  5557  7791 22925\n",
      "  8911  6176  3276 14250  1285 19333 13451  1245  8025 24400 19035 14627\n",
      "  8264 14649 21329   237 11100 14610  3913 22036 10540  7881 22015  4248\n",
      "  3647 20829 11378  7633 12329  1387 16299 21378 16053 11110 13682  6219\n",
      " 16429  8339  8587  3040 19602  5531  2182 10252 20711 22479  9187 18036\n",
      " 15330 13858  7237 19780 17337  8963 21894   611 16426 16815 21722  2762\n",
      "  5569  9879 11901 21444 13515  4645  3313   484 10082 15546 11211 16478\n",
      " 23279 23411 23791   513 10347 18161  5390 17227 13633 21793 11650 18832\n",
      "  5110  7923 14059 19489   106 18001 13825 13691  2812 11860 14841 23889\n",
      " 20296  9540 22241 17009 13460 23434 10796  1412 13287 21156 11780 18072\n",
      " 20821  4007  5370 10745 23641  1937 17409 22246 18668 11318  4738 20940\n",
      " 15314 14912 15345  8256 17810 20396 22749 18585 19773 13441  5137   620\n",
      "   923  9862 16657   762 16276  3824  7265 12013 16877 17868  2463   355\n",
      "  8946  1096  4401 15492 12382  7381  7726  6255 18485  9239 12021  9512\n",
      " 18752  6994 16231 22550 17352 21725 16065 19424 17966  1768 17970  2636\n",
      "  2570 18158 10772  3967  4289 22282 17218 23462 14355 13328  6443  1909\n",
      " 20817  5466 12635  4526  4028  6877  9148  6155 14219  1747 14667  9256\n",
      " 22450 19869   987 23168 19416 22716 20480 24346 15244  7519  4566 18343\n",
      "  8563 15179  1847  6844]\n"
     ]
    }
   ],
   "source": [
    "batch_size=256\n",
    "idxs=np.arange(len(train_dataset))\n",
    "np.random.shuffle(idxs)\n",
    "for i in range(len(train_dataset)//batch_size):\n",
    "   #train_datasets[idxs[i*batch_size:(i+batch_size)]]\n",
    "   print(i, idxs[i*batch_size:(i+1)*batch_size])\n",
    "   break"
   ]
  },
  {
   "cell_type": "code",
   "execution_count": 16,
   "id": "97l1p6QW3eVS",
   "metadata": {
    "id": "97l1p6QW3eVS"
   },
   "outputs": [],
   "source": []
  },
  {
   "cell_type": "code",
   "execution_count": 17,
   "id": "CZTl9-ru3SfT",
   "metadata": {
    "colab": {
     "base_uri": "https://localhost:8080/"
    },
    "id": "CZTl9-ru3SfT",
    "outputId": "7966c58c-1076-4432-c451-e123bb9f4249"
   },
   "outputs": [
    {
     "data": {
      "text/plain": [
       "97"
      ]
     },
     "execution_count": 17,
     "metadata": {},
     "output_type": "execute_result"
    }
   ],
   "source": [
    "len(train_dataset)//batch_size"
   ]
  },
  {
   "cell_type": "code",
   "execution_count": 18,
   "id": "bfe9b341-fcc8-499a-9315-9d93ba33cc87",
   "metadata": {
    "id": "bfe9b341-fcc8-499a-9315-9d93ba33cc87"
   },
   "outputs": [],
   "source": [
    "train_dataloader = DataLoader(train_dataset, batch_size=256, shuffle=True, drop_last=False)\n",
    "\n",
    "test_dataloader = DataLoader(test_dataset, batch_size=256, shuffle=False)"
   ]
  },
  {
   "cell_type": "code",
   "execution_count": 19,
   "id": "OuoNtj1w3ffP",
   "metadata": {
    "colab": {
     "base_uri": "https://localhost:8080/"
    },
    "id": "OuoNtj1w3ffP",
    "outputId": "794468ea-c990-496d-8d28-d5ccf928ee7a"
   },
   "outputs": [
    {
     "data": {
      "text/plain": [
       "97"
      ]
     },
     "execution_count": 19,
     "metadata": {},
     "output_type": "execute_result"
    }
   ],
   "source": [
    "len(train_dataset)//batch_size"
   ]
  },
  {
   "cell_type": "code",
   "execution_count": 20,
   "id": "u1X1djzr3iDH",
   "metadata": {
    "colab": {
     "base_uri": "https://localhost:8080/"
    },
    "id": "u1X1djzr3iDH",
    "outputId": "8059f52f-6dce-4214-bede-bbcd606ebbe2"
   },
   "outputs": [
    {
     "data": {
      "text/plain": [
       "97"
      ]
     },
     "execution_count": 20,
     "metadata": {},
     "output_type": "execute_result"
    }
   ],
   "source": [
    "len(train_dataset)//batch_size"
   ]
  },
  {
   "cell_type": "code",
   "execution_count": 21,
   "id": "webtcc043qIx",
   "metadata": {
    "colab": {
     "base_uri": "https://localhost:8080/"
    },
    "id": "webtcc043qIx",
    "outputId": "0b3ac463-b2b0-4d0f-afde-16caa3527101"
   },
   "outputs": [
    {
     "data": {
      "text/plain": [
       "168"
      ]
     },
     "execution_count": 21,
     "metadata": {},
     "output_type": "execute_result"
    }
   ],
   "source": [
    "len(train_dataset)- (97*batch_size)"
   ]
  },
  {
   "cell_type": "code",
   "execution_count": 22,
   "id": "36fBsc8r3XFZ",
   "metadata": {
    "colab": {
     "base_uri": "https://localhost:8080/"
    },
    "id": "36fBsc8r3XFZ",
    "outputId": "2a2836ec-555a-4d81-c45f-df86680d9382"
   },
   "outputs": [
    {
     "data": {
      "text/plain": [
       "98"
      ]
     },
     "execution_count": 22,
     "metadata": {},
     "output_type": "execute_result"
    }
   ],
   "source": [
    "len(train_dataloader )"
   ]
  },
  {
   "cell_type": "code",
   "execution_count": 23,
   "id": "HO9KKXiW4F8N",
   "metadata": {
    "id": "HO9KKXiW4F8N"
   },
   "outputs": [],
   "source": [
    "batch=next(iter(train_dataloader))"
   ]
  },
  {
   "cell_type": "code",
   "execution_count": 24,
   "id": "eUoFWPxb4JXL",
   "metadata": {
    "colab": {
     "base_uri": "https://localhost:8080/"
    },
    "id": "eUoFWPxb4JXL",
    "outputId": "f4826e44-3b30-4fd9-a91a-f20fc0c8c2fc"
   },
   "outputs": [
    {
     "data": {
      "text/plain": [
       "torch.Size([256, 251445])"
      ]
     },
     "execution_count": 24,
     "metadata": {},
     "output_type": "execute_result"
    }
   ],
   "source": [
    "batch[0].shape"
   ]
  },
  {
   "cell_type": "code",
   "execution_count": 25,
   "id": "XbSJgbCh4XO1",
   "metadata": {
    "colab": {
     "base_uri": "https://localhost:8080/"
    },
    "id": "XbSJgbCh4XO1",
    "outputId": "2d719470-f931-42dd-d1cf-8fe25a025c4a"
   },
   "outputs": [
    {
     "data": {
      "text/plain": [
       "251445"
      ]
     },
     "execution_count": 25,
     "metadata": {},
     "output_type": "execute_result"
    }
   ],
   "source": [
    "len(tokenizer.w2i)"
   ]
  },
  {
   "cell_type": "markdown",
   "id": "8fb81100-2b41-488f-bfea-5fdc510cf3b4",
   "metadata": {
    "id": "8fb81100-2b41-488f-bfea-5fdc510cf3b4"
   },
   "source": [
    "## 5. Model Creation\n",
    "\n",
    "We now create the logistic regression model. The model consists of a simple architecture: it averages the word embeddings of the review text and passes the resulting vector through a fully connected layer to produce a binary classification (positive or negative). The output layer will have one neuron for binary classification, and the model will output the logit values (before applying a sigmoid function)."
   ]
  },
  {
   "cell_type": "code",
   "execution_count": 26,
   "id": "f25ee85d-601a-4ff9-87ad-af1ef07b5984",
   "metadata": {
    "id": "f25ee85d-601a-4ff9-87ad-af1ef07b5984"
   },
   "outputs": [],
   "source": [
    "class TinyModel(torch.nn.Module):\n",
    "\n",
    "    def __init__(self, vocab_size, hidden_dim, out_dim ):\n",
    "        super(TinyModel, self).__init__()\n",
    "\n",
    "        self.linear1 = torch.nn.Linear(vocab_size, hidden_dim)\n",
    "        self.activation = torch.nn.ReLU()\n",
    "        self.linear2 = torch.nn.Linear(hidden_dim, out_dim)\n",
    "\n",
    "\n",
    "    def forward(self, x):\n",
    "        x = self.linear1(x)\n",
    "        #print(x.shape)\n",
    "        x = self.activation(x)\n",
    "        #print(x.shape)\n",
    "        x = self.linear2(x)\n",
    "        #print(x.shape)\n",
    "        return x"
   ]
  },
  {
   "cell_type": "code",
   "execution_count": 27,
   "id": "Fgt1g-oS5m5f",
   "metadata": {
    "id": "Fgt1g-oS5m5f"
   },
   "outputs": [],
   "source": [
    "device = torch.device(\"cuda\" if torch.cuda.is_available() else \"cpu\")\n",
    "model= TinyModel(len(tokenizer.w2i),512,1).to(device)"
   ]
  },
  {
   "cell_type": "code",
   "execution_count": 28,
   "id": "1ygnp6IT5yPj",
   "metadata": {
    "id": "1ygnp6IT5yPj"
   },
   "outputs": [],
   "source": [
    "batch=next(iter(train_dataloader))"
   ]
  },
  {
   "cell_type": "code",
   "execution_count": 29,
   "id": "TFosOwdG55Z6",
   "metadata": {
    "id": "TFosOwdG55Z6"
   },
   "outputs": [],
   "source": [
    "inputs, labels=batch\n",
    "inputs, labels=inputs.to(device).float(), labels.to(device).float()"
   ]
  },
  {
   "cell_type": "code",
   "execution_count": 30,
   "id": "5Y4RdV146SBB",
   "metadata": {
    "colab": {
     "base_uri": "https://localhost:8080/"
    },
    "id": "5Y4RdV146SBB",
    "outputId": "4f7db833-3530-4784-ea42-0ff5a3b2ace8"
   },
   "outputs": [
    {
     "data": {
      "text/plain": [
       "torch.Size([256, 251445])"
      ]
     },
     "execution_count": 30,
     "metadata": {},
     "output_type": "execute_result"
    }
   ],
   "source": [
    "inputs.shape"
   ]
  },
  {
   "cell_type": "code",
   "execution_count": 31,
   "id": "KZI1d8CH6EVd",
   "metadata": {
    "colab": {
     "base_uri": "https://localhost:8080/"
    },
    "id": "KZI1d8CH6EVd",
    "outputId": "9b6f9d2e-e5e0-4d39-c15c-a1490227ebc8"
   },
   "outputs": [
    {
     "data": {
      "text/plain": [
       "torch.Size([256, 1])"
      ]
     },
     "execution_count": 31,
     "metadata": {},
     "output_type": "execute_result"
    }
   ],
   "source": [
    "model(inputs).shape"
   ]
  },
  {
   "cell_type": "markdown",
   "id": "d88864c7-ae27-48de-b994-d117673111e1",
   "metadata": {
    "id": "d88864c7-ae27-48de-b994-d117673111e1"
   },
   "source": [
    "## 6. Optimizer and Loss Function Creation\n",
    "\n",
    "We choose an optimizer to update the model's weights during training. In this case, we can use Stochastic Gradient Descent (SGD), but other optimizers like Adam can also be used. We also define the loss function. Since this is a binary classification problem, we use `BCEWithLogitsLoss`, which combines a sigmoid activation with binary cross-entropy loss."
   ]
  },
  {
   "cell_type": "code",
   "execution_count": 32,
   "id": "4f3375e5-378e-4143-b3d0-f217ddac6548",
   "metadata": {
    "id": "4f3375e5-378e-4143-b3d0-f217ddac6548"
   },
   "outputs": [],
   "source": [
    "criterion = torch.nn.BCEWithLogitsLoss()\n",
    "# Optimizers specified in the torch.optim package\n",
    "optimizer = torch.optim.Adam(model.parameters())"
   ]
  },
  {
   "cell_type": "markdown",
   "id": "940ed801-8d49-44de-9ab5-6a4b055b7641",
   "metadata": {
    "id": "940ed801-8d49-44de-9ab5-6a4b055b7641"
   },
   "source": [
    "## 7. Training Loop\n",
    "\n",
    "The training loop involves multiple iterations (epochs) over the training data. In each iteration:\n",
    "1. We feed the data into the model.\n",
    "2. The model computes predictions.\n",
    "3. The loss is calculated based on the model's predictions and the true labels.\n",
    "4. The gradients are computed, and the optimizer updates the model’s parameters.\n",
    "\n",
    "During training, we track the loss and accuracy to monitor the model’s progress."
   ]
  },
  {
   "cell_type": "code",
   "execution_count": 33,
   "id": "t9iyHIxJ7zLY",
   "metadata": {
    "id": "t9iyHIxJ7zLY"
   },
   "outputs": [],
   "source": [
    "from tqdm.notebook import tqdm"
   ]
  },
  {
   "cell_type": "code",
   "execution_count": 34,
   "id": "a61774ef-3aec-4b0a-a41f-7d3641f1db33",
   "metadata": {
    "colab": {
     "base_uri": "https://localhost:8080/",
     "height": 66,
     "referenced_widgets": [
      "b0462a693e7c45bc826d209056cf3058",
      "2c9d0e79b9d24838a01c95eaebcc351c",
      "34e036067fd84d789f9f07716a768fa7",
      "be95dc8e345f434e87fbcdd2aa711074",
      "1739c8c16cfc42639c793efc437a76ba",
      "020f5bbd81e54a51a6e71b22c9f9b224",
      "f3e0c03df750471692c67cae8c7ac79f",
      "8666b198d2b045ba9c30edd69829021e",
      "9fa03cea3c174d4fb0570e78ede55bc0",
      "04923747e7d14e07b98159b00794dcc9",
      "1ee3c043e7194151aae6f862576ae091"
     ]
    },
    "id": "a61774ef-3aec-4b0a-a41f-7d3641f1db33",
    "outputId": "bfe1e461-a3fa-4b23-de2c-fd88796694f0"
   },
   "outputs": [
    {
     "data": {
      "application/vnd.jupyter.widget-view+json": {
       "model_id": "b0462a693e7c45bc826d209056cf3058",
       "version_major": 2,
       "version_minor": 0
      },
      "text/plain": [
       "  0%|          | 0/98 [00:00<?, ?it/s]"
      ]
     },
     "metadata": {},
     "output_type": "display_data"
    },
    {
     "name": "stdout",
     "output_type": "stream",
     "text": [
      "Epoch 0 loss 0.5314569281680244 \n"
     ]
    }
   ],
   "source": [
    "n_epochs=1\n",
    "for epoch in range(n_epochs):\n",
    "  running_loss=[]\n",
    "  model.train()\n",
    "  for batch in tqdm(train_dataloader):\n",
    "    inputs, labels=batch\n",
    "    inputs, labels=inputs.to(device).float(), labels.to(device).float()\n",
    "\n",
    "    # Zero your gradients for every batch!\n",
    "    optimizer.zero_grad()\n",
    "    outputs=model(inputs).reshape(-1)\n",
    "\n",
    "    \n",
    "    # Compute the loss and its gradients\n",
    "    loss = criterion(outputs, labels)\n",
    "    loss.backward()\n",
    "\n",
    "    # Adjust learning weights\n",
    "    optimizer.step()\n",
    "    running_loss.append(loss.item())\n",
    "  print('Epoch {} loss {} '.format(epoch, np.mean(running_loss)))"
   ]
  },
  {
   "cell_type": "markdown",
   "id": "788d3e69-8f64-4ea7-bf42-670bdec2701a",
   "metadata": {
    "id": "788d3e69-8f64-4ea7-bf42-670bdec2701a"
   },
   "source": [
    "## 8. Model Evaluation\n",
    "\n",
    "Once the model is trained, we evaluate its performance on the test dataset. Evaluation is similar to training, but during evaluation, no gradients are computed, and we do not update the model’s parameters. The performance metrics (loss and accuracy) on the test data help determine how well the model generalizes to unseen data.\n"
   ]
  },
  {
   "cell_type": "code",
   "execution_count": 36,
   "id": "O5qtnffZ9ezZ",
   "metadata": {
    "colab": {
     "base_uri": "https://localhost:8080/"
    },
    "id": "O5qtnffZ9ezZ",
    "outputId": "1104f6fb-b345-4441-c639-6817ed4f956e"
   },
   "outputs": [
    {
     "data": {
      "text/plain": [
       "odict_keys(['linear1.weight', 'linear1.bias', 'linear2.weight', 'linear2.bias'])"
      ]
     },
     "execution_count": 36,
     "metadata": {},
     "output_type": "execute_result"
    }
   ],
   "source": [
    "model.state_dict().keys()"
   ]
  },
  {
   "cell_type": "code",
   "execution_count": 37,
   "id": "a941a829-5b29-4f11-9ae4-4f937b65f7e5",
   "metadata": {
    "id": "a941a829-5b29-4f11-9ae4-4f937b65f7e5"
   },
   "outputs": [],
   "source": [
    "torch.save(model.state_dict(), 'pretrained.pth')"
   ]
  },
  {
   "cell_type": "code",
   "execution_count": null,
   "id": "ndx_8Z_j9shZ",
   "metadata": {
    "id": "ndx_8Z_j9shZ"
   },
   "outputs": [],
   "source": [
    "#model.load_state_dict(torch.load('pretrained.pth'))\n",
    "#model.eval()"
   ]
  },
  {
   "cell_type": "code",
   "execution_count": 42,
   "id": "KnbVFP2E92hY",
   "metadata": {
    "colab": {
     "base_uri": "https://localhost:8080/",
     "height": 66,
     "referenced_widgets": [
      "cf7b49718a6b48f68344499bbfb57b6b",
      "a3e57419f0bc4a7eba29edad28ac4ee7",
      "493d0a12d451452bb2799fba40b7ea15",
      "cc4cff943cad437da966cdb2a766a133",
      "4421a49749d1428fb4ad747c90b08c39",
      "4a0bb15b82274130914b0548d4bff249",
      "369d2ddc24b64582b4ecb8121c708695",
      "b7df16eb9187491381af581ffd689d07",
      "063354a891cc4cb39195ab2e6189b85e",
      "d4a4b311c68644feb14bfe12e2c72297",
      "5db41ab296144d67ad83cc76c920588a"
     ]
    },
    "id": "KnbVFP2E92hY",
    "outputId": "de43a974-1b75-417d-f068-3396c257f7e2"
   },
   "outputs": [
    {
     "data": {
      "application/vnd.jupyter.widget-view+json": {
       "model_id": "cf7b49718a6b48f68344499bbfb57b6b",
       "version_major": 2,
       "version_minor": 0
      },
      "text/plain": [
       "  0%|          | 0/98 [00:00<?, ?it/s]"
      ]
     },
     "metadata": {},
     "output_type": "display_data"
    },
    {
     "name": "stdout",
     "output_type": "stream",
     "text": [
      "Test loss 0.3659040064227824 \n"
     ]
    }
   ],
   "source": [
    "running_loss=[]\n",
    "predictions=[]\n",
    "gt=[]\n",
    "for batch in tqdm(test_dataloader):\n",
    "    inputs, labels=batch\n",
    "    inputs, labels=inputs.to(device).float(), labels.to(device).float()\n",
    "\n",
    "    with torch.no_grad():\n",
    "      outputs=model(inputs).reshape(-1)\n",
    "\n",
    "    loss=criterion(outputs, labels)\n",
    "    # Compute the loss and its gradients\n",
    "    loss = criterion(outputs, labels)\n",
    "    #evaluation\n",
    "    predictions.extend((torch.sigmoid(outputs).detach().cpu().numpy()>=0.5)*1)\n",
    "    gt.extend(labels.detach().cpu().numpy())\n",
    "\n",
    "\n",
    "    running_loss.append(loss.item())\n",
    "print('Test loss {} '.format(np.mean(running_loss)))"
   ]
  },
  {
   "cell_type": "code",
   "execution_count": 43,
   "id": "Qt63OgK6_f8Y",
   "metadata": {
    "colab": {
     "base_uri": "https://localhost:8080/"
    },
    "id": "Qt63OgK6_f8Y",
    "outputId": "edf17718-713d-43b9-dbce-51008605f995"
   },
   "outputs": [
    {
     "name": "stdout",
     "output_type": "stream",
     "text": [
      "Accuracy : 0.8708\n"
     ]
    }
   ],
   "source": [
    "print('Accuracy :', np.mean(np.array(predictions)==np.array(gt)))"
   ]
  },
  {
   "cell_type": "code",
   "execution_count": 49,
   "id": "bN8Zdn3rBj_6",
   "metadata": {
    "colab": {
     "base_uri": "https://localhost:8080/"
    },
    "id": "bN8Zdn3rBj_6",
    "outputId": "1fbd0c88-4cef-4208-a5ef-bd70c5986db4"
   },
   "outputs": [
    {
     "name": "stdout",
     "output_type": "stream",
     "text": [
      "              precision    recall  f1-score   support\n",
      "\n",
      "         Neg       0.86      0.88      0.87     12500\n",
      "         Pos       0.88      0.86      0.87     12500\n",
      "\n",
      "    accuracy                           0.87     25000\n",
      "   macro avg       0.87      0.87      0.87     25000\n",
      "weighted avg       0.87      0.87      0.87     25000\n",
      "\n"
     ]
    }
   ],
   "source": [
    "from sklearn.metrics import classification_report\n",
    "print(classification_report(gt, predictions, target_names=['Neg','Pos']))"
   ]
  },
  {
   "cell_type": "code",
   "execution_count": 39,
   "id": "hs3EYxzW-0iX",
   "metadata": {
    "colab": {
     "base_uri": "https://localhost:8080/"
    },
    "id": "hs3EYxzW-0iX",
    "outputId": "d0fb4e96-7cc9-4c4b-dfc9-0c85f3de7971"
   },
   "outputs": [
    {
     "data": {
      "text/plain": [
       "[[1, 2], [3, 4]]"
      ]
     },
     "execution_count": 39,
     "metadata": {},
     "output_type": "execute_result"
    }
   ],
   "source": [
    "tmp=[]\n",
    "tmp.append([1,2])\n",
    "tmp.append([3,4])\n",
    "tmp"
   ]
  },
  {
   "cell_type": "code",
   "execution_count": 40,
   "id": "PnGBFF4g_EtX",
   "metadata": {
    "colab": {
     "base_uri": "https://localhost:8080/"
    },
    "id": "PnGBFF4g_EtX",
    "outputId": "c771631a-bee0-487e-87c6-75fe8e75037b"
   },
   "outputs": [
    {
     "data": {
      "text/plain": [
       "[1, 2, 3, 4]"
      ]
     },
     "execution_count": 40,
     "metadata": {},
     "output_type": "execute_result"
    }
   ],
   "source": [
    "tmp=[]\n",
    "tmp.extend([1,2])\n",
    "tmp.extend([3,4])\n",
    "tmp"
   ]
  }
 ],
 "metadata": {
  "accelerator": "GPU",
  "colab": {
   "gpuType": "T4",
   "provenance": []
  },
  "kernelspec": {
   "display_name": "Python [conda env:base] *",
   "language": "python",
   "name": "conda-base-py"
  },
  "language_info": {
   "codemirror_mode": {
    "name": "ipython",
    "version": 3
   },
   "file_extension": ".py",
   "mimetype": "text/x-python",
   "name": "python",
   "nbconvert_exporter": "python",
   "pygments_lexer": "ipython3",
   "version": "3.12.2"
  },
  "widgets": {
   "application/vnd.jupyter.widget-state+json": {
    "020f5bbd81e54a51a6e71b22c9f9b224": {
     "model_module": "@jupyter-widgets/base",
     "model_module_version": "1.2.0",
     "model_name": "LayoutModel",
     "state": {
      "_model_module": "@jupyter-widgets/base",
      "_model_module_version": "1.2.0",
      "_model_name": "LayoutModel",
      "_view_count": null,
      "_view_module": "@jupyter-widgets/base",
      "_view_module_version": "1.2.0",
      "_view_name": "LayoutView",
      "align_content": null,
      "align_items": null,
      "align_self": null,
      "border": null,
      "bottom": null,
      "display": null,
      "flex": null,
      "flex_flow": null,
      "grid_area": null,
      "grid_auto_columns": null,
      "grid_auto_flow": null,
      "grid_auto_rows": null,
      "grid_column": null,
      "grid_gap": null,
      "grid_row": null,
      "grid_template_areas": null,
      "grid_template_columns": null,
      "grid_template_rows": null,
      "height": null,
      "justify_content": null,
      "justify_items": null,
      "left": null,
      "margin": null,
      "max_height": null,
      "max_width": null,
      "min_height": null,
      "min_width": null,
      "object_fit": null,
      "object_position": null,
      "order": null,
      "overflow": null,
      "overflow_x": null,
      "overflow_y": null,
      "padding": null,
      "right": null,
      "top": null,
      "visibility": null,
      "width": null
     }
    },
    "04923747e7d14e07b98159b00794dcc9": {
     "model_module": "@jupyter-widgets/base",
     "model_module_version": "1.2.0",
     "model_name": "LayoutModel",
     "state": {
      "_model_module": "@jupyter-widgets/base",
      "_model_module_version": "1.2.0",
      "_model_name": "LayoutModel",
      "_view_count": null,
      "_view_module": "@jupyter-widgets/base",
      "_view_module_version": "1.2.0",
      "_view_name": "LayoutView",
      "align_content": null,
      "align_items": null,
      "align_self": null,
      "border": null,
      "bottom": null,
      "display": null,
      "flex": null,
      "flex_flow": null,
      "grid_area": null,
      "grid_auto_columns": null,
      "grid_auto_flow": null,
      "grid_auto_rows": null,
      "grid_column": null,
      "grid_gap": null,
      "grid_row": null,
      "grid_template_areas": null,
      "grid_template_columns": null,
      "grid_template_rows": null,
      "height": null,
      "justify_content": null,
      "justify_items": null,
      "left": null,
      "margin": null,
      "max_height": null,
      "max_width": null,
      "min_height": null,
      "min_width": null,
      "object_fit": null,
      "object_position": null,
      "order": null,
      "overflow": null,
      "overflow_x": null,
      "overflow_y": null,
      "padding": null,
      "right": null,
      "top": null,
      "visibility": null,
      "width": null
     }
    },
    "063354a891cc4cb39195ab2e6189b85e": {
     "model_module": "@jupyter-widgets/controls",
     "model_module_version": "1.5.0",
     "model_name": "ProgressStyleModel",
     "state": {
      "_model_module": "@jupyter-widgets/controls",
      "_model_module_version": "1.5.0",
      "_model_name": "ProgressStyleModel",
      "_view_count": null,
      "_view_module": "@jupyter-widgets/base",
      "_view_module_version": "1.2.0",
      "_view_name": "StyleView",
      "bar_color": null,
      "description_width": ""
     }
    },
    "1739c8c16cfc42639c793efc437a76ba": {
     "model_module": "@jupyter-widgets/base",
     "model_module_version": "1.2.0",
     "model_name": "LayoutModel",
     "state": {
      "_model_module": "@jupyter-widgets/base",
      "_model_module_version": "1.2.0",
      "_model_name": "LayoutModel",
      "_view_count": null,
      "_view_module": "@jupyter-widgets/base",
      "_view_module_version": "1.2.0",
      "_view_name": "LayoutView",
      "align_content": null,
      "align_items": null,
      "align_self": null,
      "border": null,
      "bottom": null,
      "display": null,
      "flex": null,
      "flex_flow": null,
      "grid_area": null,
      "grid_auto_columns": null,
      "grid_auto_flow": null,
      "grid_auto_rows": null,
      "grid_column": null,
      "grid_gap": null,
      "grid_row": null,
      "grid_template_areas": null,
      "grid_template_columns": null,
      "grid_template_rows": null,
      "height": null,
      "justify_content": null,
      "justify_items": null,
      "left": null,
      "margin": null,
      "max_height": null,
      "max_width": null,
      "min_height": null,
      "min_width": null,
      "object_fit": null,
      "object_position": null,
      "order": null,
      "overflow": null,
      "overflow_x": null,
      "overflow_y": null,
      "padding": null,
      "right": null,
      "top": null,
      "visibility": null,
      "width": null
     }
    },
    "1ee3c043e7194151aae6f862576ae091": {
     "model_module": "@jupyter-widgets/controls",
     "model_module_version": "1.5.0",
     "model_name": "DescriptionStyleModel",
     "state": {
      "_model_module": "@jupyter-widgets/controls",
      "_model_module_version": "1.5.0",
      "_model_name": "DescriptionStyleModel",
      "_view_count": null,
      "_view_module": "@jupyter-widgets/base",
      "_view_module_version": "1.2.0",
      "_view_name": "StyleView",
      "description_width": ""
     }
    },
    "2c9d0e79b9d24838a01c95eaebcc351c": {
     "model_module": "@jupyter-widgets/controls",
     "model_module_version": "1.5.0",
     "model_name": "HTMLModel",
     "state": {
      "_dom_classes": [],
      "_model_module": "@jupyter-widgets/controls",
      "_model_module_version": "1.5.0",
      "_model_name": "HTMLModel",
      "_view_count": null,
      "_view_module": "@jupyter-widgets/controls",
      "_view_module_version": "1.5.0",
      "_view_name": "HTMLView",
      "description": "",
      "description_tooltip": null,
      "layout": "IPY_MODEL_020f5bbd81e54a51a6e71b22c9f9b224",
      "placeholder": "​",
      "style": "IPY_MODEL_f3e0c03df750471692c67cae8c7ac79f",
      "value": "100%"
     }
    },
    "34e036067fd84d789f9f07716a768fa7": {
     "model_module": "@jupyter-widgets/controls",
     "model_module_version": "1.5.0",
     "model_name": "FloatProgressModel",
     "state": {
      "_dom_classes": [],
      "_model_module": "@jupyter-widgets/controls",
      "_model_module_version": "1.5.0",
      "_model_name": "FloatProgressModel",
      "_view_count": null,
      "_view_module": "@jupyter-widgets/controls",
      "_view_module_version": "1.5.0",
      "_view_name": "ProgressView",
      "bar_style": "success",
      "description": "",
      "description_tooltip": null,
      "layout": "IPY_MODEL_8666b198d2b045ba9c30edd69829021e",
      "max": 98,
      "min": 0,
      "orientation": "horizontal",
      "style": "IPY_MODEL_9fa03cea3c174d4fb0570e78ede55bc0",
      "value": 98
     }
    },
    "369d2ddc24b64582b4ecb8121c708695": {
     "model_module": "@jupyter-widgets/controls",
     "model_module_version": "1.5.0",
     "model_name": "DescriptionStyleModel",
     "state": {
      "_model_module": "@jupyter-widgets/controls",
      "_model_module_version": "1.5.0",
      "_model_name": "DescriptionStyleModel",
      "_view_count": null,
      "_view_module": "@jupyter-widgets/base",
      "_view_module_version": "1.2.0",
      "_view_name": "StyleView",
      "description_width": ""
     }
    },
    "4421a49749d1428fb4ad747c90b08c39": {
     "model_module": "@jupyter-widgets/base",
     "model_module_version": "1.2.0",
     "model_name": "LayoutModel",
     "state": {
      "_model_module": "@jupyter-widgets/base",
      "_model_module_version": "1.2.0",
      "_model_name": "LayoutModel",
      "_view_count": null,
      "_view_module": "@jupyter-widgets/base",
      "_view_module_version": "1.2.0",
      "_view_name": "LayoutView",
      "align_content": null,
      "align_items": null,
      "align_self": null,
      "border": null,
      "bottom": null,
      "display": null,
      "flex": null,
      "flex_flow": null,
      "grid_area": null,
      "grid_auto_columns": null,
      "grid_auto_flow": null,
      "grid_auto_rows": null,
      "grid_column": null,
      "grid_gap": null,
      "grid_row": null,
      "grid_template_areas": null,
      "grid_template_columns": null,
      "grid_template_rows": null,
      "height": null,
      "justify_content": null,
      "justify_items": null,
      "left": null,
      "margin": null,
      "max_height": null,
      "max_width": null,
      "min_height": null,
      "min_width": null,
      "object_fit": null,
      "object_position": null,
      "order": null,
      "overflow": null,
      "overflow_x": null,
      "overflow_y": null,
      "padding": null,
      "right": null,
      "top": null,
      "visibility": null,
      "width": null
     }
    },
    "493d0a12d451452bb2799fba40b7ea15": {
     "model_module": "@jupyter-widgets/controls",
     "model_module_version": "1.5.0",
     "model_name": "FloatProgressModel",
     "state": {
      "_dom_classes": [],
      "_model_module": "@jupyter-widgets/controls",
      "_model_module_version": "1.5.0",
      "_model_name": "FloatProgressModel",
      "_view_count": null,
      "_view_module": "@jupyter-widgets/controls",
      "_view_module_version": "1.5.0",
      "_view_name": "ProgressView",
      "bar_style": "success",
      "description": "",
      "description_tooltip": null,
      "layout": "IPY_MODEL_b7df16eb9187491381af581ffd689d07",
      "max": 98,
      "min": 0,
      "orientation": "horizontal",
      "style": "IPY_MODEL_063354a891cc4cb39195ab2e6189b85e",
      "value": 98
     }
    },
    "4a0bb15b82274130914b0548d4bff249": {
     "model_module": "@jupyter-widgets/base",
     "model_module_version": "1.2.0",
     "model_name": "LayoutModel",
     "state": {
      "_model_module": "@jupyter-widgets/base",
      "_model_module_version": "1.2.0",
      "_model_name": "LayoutModel",
      "_view_count": null,
      "_view_module": "@jupyter-widgets/base",
      "_view_module_version": "1.2.0",
      "_view_name": "LayoutView",
      "align_content": null,
      "align_items": null,
      "align_self": null,
      "border": null,
      "bottom": null,
      "display": null,
      "flex": null,
      "flex_flow": null,
      "grid_area": null,
      "grid_auto_columns": null,
      "grid_auto_flow": null,
      "grid_auto_rows": null,
      "grid_column": null,
      "grid_gap": null,
      "grid_row": null,
      "grid_template_areas": null,
      "grid_template_columns": null,
      "grid_template_rows": null,
      "height": null,
      "justify_content": null,
      "justify_items": null,
      "left": null,
      "margin": null,
      "max_height": null,
      "max_width": null,
      "min_height": null,
      "min_width": null,
      "object_fit": null,
      "object_position": null,
      "order": null,
      "overflow": null,
      "overflow_x": null,
      "overflow_y": null,
      "padding": null,
      "right": null,
      "top": null,
      "visibility": null,
      "width": null
     }
    },
    "5db41ab296144d67ad83cc76c920588a": {
     "model_module": "@jupyter-widgets/controls",
     "model_module_version": "1.5.0",
     "model_name": "DescriptionStyleModel",
     "state": {
      "_model_module": "@jupyter-widgets/controls",
      "_model_module_version": "1.5.0",
      "_model_name": "DescriptionStyleModel",
      "_view_count": null,
      "_view_module": "@jupyter-widgets/base",
      "_view_module_version": "1.2.0",
      "_view_name": "StyleView",
      "description_width": ""
     }
    },
    "8666b198d2b045ba9c30edd69829021e": {
     "model_module": "@jupyter-widgets/base",
     "model_module_version": "1.2.0",
     "model_name": "LayoutModel",
     "state": {
      "_model_module": "@jupyter-widgets/base",
      "_model_module_version": "1.2.0",
      "_model_name": "LayoutModel",
      "_view_count": null,
      "_view_module": "@jupyter-widgets/base",
      "_view_module_version": "1.2.0",
      "_view_name": "LayoutView",
      "align_content": null,
      "align_items": null,
      "align_self": null,
      "border": null,
      "bottom": null,
      "display": null,
      "flex": null,
      "flex_flow": null,
      "grid_area": null,
      "grid_auto_columns": null,
      "grid_auto_flow": null,
      "grid_auto_rows": null,
      "grid_column": null,
      "grid_gap": null,
      "grid_row": null,
      "grid_template_areas": null,
      "grid_template_columns": null,
      "grid_template_rows": null,
      "height": null,
      "justify_content": null,
      "justify_items": null,
      "left": null,
      "margin": null,
      "max_height": null,
      "max_width": null,
      "min_height": null,
      "min_width": null,
      "object_fit": null,
      "object_position": null,
      "order": null,
      "overflow": null,
      "overflow_x": null,
      "overflow_y": null,
      "padding": null,
      "right": null,
      "top": null,
      "visibility": null,
      "width": null
     }
    },
    "9fa03cea3c174d4fb0570e78ede55bc0": {
     "model_module": "@jupyter-widgets/controls",
     "model_module_version": "1.5.0",
     "model_name": "ProgressStyleModel",
     "state": {
      "_model_module": "@jupyter-widgets/controls",
      "_model_module_version": "1.5.0",
      "_model_name": "ProgressStyleModel",
      "_view_count": null,
      "_view_module": "@jupyter-widgets/base",
      "_view_module_version": "1.2.0",
      "_view_name": "StyleView",
      "bar_color": null,
      "description_width": ""
     }
    },
    "a3e57419f0bc4a7eba29edad28ac4ee7": {
     "model_module": "@jupyter-widgets/controls",
     "model_module_version": "1.5.0",
     "model_name": "HTMLModel",
     "state": {
      "_dom_classes": [],
      "_model_module": "@jupyter-widgets/controls",
      "_model_module_version": "1.5.0",
      "_model_name": "HTMLModel",
      "_view_count": null,
      "_view_module": "@jupyter-widgets/controls",
      "_view_module_version": "1.5.0",
      "_view_name": "HTMLView",
      "description": "",
      "description_tooltip": null,
      "layout": "IPY_MODEL_4a0bb15b82274130914b0548d4bff249",
      "placeholder": "​",
      "style": "IPY_MODEL_369d2ddc24b64582b4ecb8121c708695",
      "value": "100%"
     }
    },
    "b0462a693e7c45bc826d209056cf3058": {
     "model_module": "@jupyter-widgets/controls",
     "model_module_version": "1.5.0",
     "model_name": "HBoxModel",
     "state": {
      "_dom_classes": [],
      "_model_module": "@jupyter-widgets/controls",
      "_model_module_version": "1.5.0",
      "_model_name": "HBoxModel",
      "_view_count": null,
      "_view_module": "@jupyter-widgets/controls",
      "_view_module_version": "1.5.0",
      "_view_name": "HBoxView",
      "box_style": "",
      "children": [
       "IPY_MODEL_2c9d0e79b9d24838a01c95eaebcc351c",
       "IPY_MODEL_34e036067fd84d789f9f07716a768fa7",
       "IPY_MODEL_be95dc8e345f434e87fbcdd2aa711074"
      ],
      "layout": "IPY_MODEL_1739c8c16cfc42639c793efc437a76ba"
     }
    },
    "b7df16eb9187491381af581ffd689d07": {
     "model_module": "@jupyter-widgets/base",
     "model_module_version": "1.2.0",
     "model_name": "LayoutModel",
     "state": {
      "_model_module": "@jupyter-widgets/base",
      "_model_module_version": "1.2.0",
      "_model_name": "LayoutModel",
      "_view_count": null,
      "_view_module": "@jupyter-widgets/base",
      "_view_module_version": "1.2.0",
      "_view_name": "LayoutView",
      "align_content": null,
      "align_items": null,
      "align_self": null,
      "border": null,
      "bottom": null,
      "display": null,
      "flex": null,
      "flex_flow": null,
      "grid_area": null,
      "grid_auto_columns": null,
      "grid_auto_flow": null,
      "grid_auto_rows": null,
      "grid_column": null,
      "grid_gap": null,
      "grid_row": null,
      "grid_template_areas": null,
      "grid_template_columns": null,
      "grid_template_rows": null,
      "height": null,
      "justify_content": null,
      "justify_items": null,
      "left": null,
      "margin": null,
      "max_height": null,
      "max_width": null,
      "min_height": null,
      "min_width": null,
      "object_fit": null,
      "object_position": null,
      "order": null,
      "overflow": null,
      "overflow_x": null,
      "overflow_y": null,
      "padding": null,
      "right": null,
      "top": null,
      "visibility": null,
      "width": null
     }
    },
    "be95dc8e345f434e87fbcdd2aa711074": {
     "model_module": "@jupyter-widgets/controls",
     "model_module_version": "1.5.0",
     "model_name": "HTMLModel",
     "state": {
      "_dom_classes": [],
      "_model_module": "@jupyter-widgets/controls",
      "_model_module_version": "1.5.0",
      "_model_name": "HTMLModel",
      "_view_count": null,
      "_view_module": "@jupyter-widgets/controls",
      "_view_module_version": "1.5.0",
      "_view_name": "HTMLView",
      "description": "",
      "description_tooltip": null,
      "layout": "IPY_MODEL_04923747e7d14e07b98159b00794dcc9",
      "placeholder": "​",
      "style": "IPY_MODEL_1ee3c043e7194151aae6f862576ae091",
      "value": " 98/98 [01:22&lt;00:00,  1.41it/s]"
     }
    },
    "cc4cff943cad437da966cdb2a766a133": {
     "model_module": "@jupyter-widgets/controls",
     "model_module_version": "1.5.0",
     "model_name": "HTMLModel",
     "state": {
      "_dom_classes": [],
      "_model_module": "@jupyter-widgets/controls",
      "_model_module_version": "1.5.0",
      "_model_name": "HTMLModel",
      "_view_count": null,
      "_view_module": "@jupyter-widgets/controls",
      "_view_module_version": "1.5.0",
      "_view_name": "HTMLView",
      "description": "",
      "description_tooltip": null,
      "layout": "IPY_MODEL_d4a4b311c68644feb14bfe12e2c72297",
      "placeholder": "​",
      "style": "IPY_MODEL_5db41ab296144d67ad83cc76c920588a",
      "value": " 98/98 [01:25&lt;00:00,  1.45it/s]"
     }
    },
    "cf7b49718a6b48f68344499bbfb57b6b": {
     "model_module": "@jupyter-widgets/controls",
     "model_module_version": "1.5.0",
     "model_name": "HBoxModel",
     "state": {
      "_dom_classes": [],
      "_model_module": "@jupyter-widgets/controls",
      "_model_module_version": "1.5.0",
      "_model_name": "HBoxModel",
      "_view_count": null,
      "_view_module": "@jupyter-widgets/controls",
      "_view_module_version": "1.5.0",
      "_view_name": "HBoxView",
      "box_style": "",
      "children": [
       "IPY_MODEL_a3e57419f0bc4a7eba29edad28ac4ee7",
       "IPY_MODEL_493d0a12d451452bb2799fba40b7ea15",
       "IPY_MODEL_cc4cff943cad437da966cdb2a766a133"
      ],
      "layout": "IPY_MODEL_4421a49749d1428fb4ad747c90b08c39"
     }
    },
    "d4a4b311c68644feb14bfe12e2c72297": {
     "model_module": "@jupyter-widgets/base",
     "model_module_version": "1.2.0",
     "model_name": "LayoutModel",
     "state": {
      "_model_module": "@jupyter-widgets/base",
      "_model_module_version": "1.2.0",
      "_model_name": "LayoutModel",
      "_view_count": null,
      "_view_module": "@jupyter-widgets/base",
      "_view_module_version": "1.2.0",
      "_view_name": "LayoutView",
      "align_content": null,
      "align_items": null,
      "align_self": null,
      "border": null,
      "bottom": null,
      "display": null,
      "flex": null,
      "flex_flow": null,
      "grid_area": null,
      "grid_auto_columns": null,
      "grid_auto_flow": null,
      "grid_auto_rows": null,
      "grid_column": null,
      "grid_gap": null,
      "grid_row": null,
      "grid_template_areas": null,
      "grid_template_columns": null,
      "grid_template_rows": null,
      "height": null,
      "justify_content": null,
      "justify_items": null,
      "left": null,
      "margin": null,
      "max_height": null,
      "max_width": null,
      "min_height": null,
      "min_width": null,
      "object_fit": null,
      "object_position": null,
      "order": null,
      "overflow": null,
      "overflow_x": null,
      "overflow_y": null,
      "padding": null,
      "right": null,
      "top": null,
      "visibility": null,
      "width": null
     }
    },
    "f3e0c03df750471692c67cae8c7ac79f": {
     "model_module": "@jupyter-widgets/controls",
     "model_module_version": "1.5.0",
     "model_name": "DescriptionStyleModel",
     "state": {
      "_model_module": "@jupyter-widgets/controls",
      "_model_module_version": "1.5.0",
      "_model_name": "DescriptionStyleModel",
      "_view_count": null,
      "_view_module": "@jupyter-widgets/base",
      "_view_module_version": "1.2.0",
      "_view_name": "StyleView",
      "description_width": ""
     }
    }
   }
  }
 },
 "nbformat": 4,
 "nbformat_minor": 5
}
