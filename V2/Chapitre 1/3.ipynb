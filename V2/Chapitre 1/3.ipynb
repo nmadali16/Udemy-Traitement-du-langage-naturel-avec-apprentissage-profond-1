{
 "cells": [
  {
   "cell_type": "markdown",
   "id": "ccd3e0d8-322c-452b-84de-2c00cfe76861",
   "metadata": {},
   "source": [
    "# Building a Tokenizer Class from Scratch in Python\n",
    "\n",
    "Tokenization is a fundamental step in NLP, where raw text is converted into tokens (e.g., words, subwords, or characters) that models can process. While libraries like Hugging Face provide robust pre-built tokenizers, it is sometimes useful to understand how to create a tokenizer from scratch.\n",
    "\n",
    "---\n",
    "\n",
    "## Steps to Build a Tokenizer\n",
    "\n",
    "### 1. Define the Tokenization Logic\n",
    "The first step is to decide how the text will be split into tokens:\n",
    "- Word-based tokenization: Splits text into words.\n",
    "- Character-based tokenization: Breaks text into individual characters.\n",
    "- Subword tokenization: Breaks text into smaller meaningful units (e.g., using Byte Pair Encoding).\n",
    "\n",
    "### 2. Handle Special Tokens\n",
    "Special tokens like `[PAD]`, `[UNK]`, `[CLS]`, and `[SEP]` are often used to signal padding, unknown words, and sentence delimiters.\n",
    "\n",
    "### 3. Create a Vocabulary\n",
    "The tokenizer needs a vocabulary that maps tokens to unique IDs. This can be built from scratch by analyzing the corpus or predefined.\n",
    "\n",
    "### 4. Padding and Truncation\n",
    "\n",
    "**Padding** is the process of adding special tokens (e.g., `[PAD]`) to ensure that all input sequences in a batch have the same length. This is crucial because machine learning models process data in batches of equal length. Padding is especially important for shorter sequences that don’t meet the maximum length requirement.\n",
    "\n",
    "**Truncation** is the process of shortening sequences that exceed the maximum allowed length. This is necessary because most NLP models (like BERT and GPT) have a fixed maximum sequence length, and exceeding it would cause errors.\n",
    "\n",
    "\n"
   ]
  },
  {
   "cell_type": "code",
   "execution_count": 3,
   "id": "f986338e-f149-480d-882c-e5b4ded3aefe",
   "metadata": {},
   "outputs": [
    {
     "name": "stdout",
     "output_type": "stream",
     "text": [
      "Intel MKL WARNING: Support of Intel(R) Streaming SIMD Extensions 4.2 (Intel(R) SSE4.2) enabled only processors has been deprecated. Intel oneAPI Math Kernel Library 2025.0 will require Intel(R) Advanced Vector Extensions (Intel(R) AVX) instructions.\n",
      "Intel MKL WARNING: Support of Intel(R) Streaming SIMD Extensions 4.2 (Intel(R) SSE4.2) enabled only processors has been deprecated. Intel oneAPI Math Kernel Library 2025.0 will require Intel(R) Advanced Vector Extensions (Intel(R) AVX) instructions.\n"
     ]
    },
    {
     "name": "stderr",
     "output_type": "stream",
     "text": [
      "/Users/nmadali/miniconda3/lib/python3.12/site-packages/tqdm/auto.py:21: TqdmWarning: IProgress not found. Please update jupyter and ipywidgets. See https://ipywidgets.readthedocs.io/en/stable/user_install.html\n",
      "  from .autonotebook import tqdm as notebook_tqdm\n"
     ]
    }
   ],
   "source": [
    "import datasets\n",
    "\n",
    "train_data, test_data = datasets.load_dataset(\"imdb\", split=[\"train\", \"test\"])"
   ]
  },
  {
   "cell_type": "code",
   "execution_count": 5,
   "id": "b55273a6-6eff-4627-a995-14295b12e960",
   "metadata": {},
   "outputs": [],
   "source": [
    "train_text=[sample['text'] for sample in train_data]"
   ]
  },
  {
   "cell_type": "code",
   "execution_count": 7,
   "id": "97cf0658-f7f2-47bd-9ce4-ae678f7c8249",
   "metadata": {},
   "outputs": [
    {
     "data": {
      "text/plain": [
       "25000"
      ]
     },
     "execution_count": 7,
     "metadata": {},
     "output_type": "execute_result"
    }
   ],
   "source": [
    "len(train_text)"
   ]
  },
  {
   "cell_type": "code",
   "execution_count": 9,
   "id": "c266415f-7503-481e-aace-3eff2477cba3",
   "metadata": {},
   "outputs": [],
   "source": [
    "seq_lens=[len(text.split()) for text in train_text]"
   ]
  },
  {
   "cell_type": "code",
   "execution_count": 13,
   "id": "6f0e6e05-3754-4ec8-9791-4d131d99b0dd",
   "metadata": {},
   "outputs": [
    {
     "data": {
      "text/plain": [
       "233.7872"
      ]
     },
     "execution_count": 13,
     "metadata": {},
     "output_type": "execute_result"
    }
   ],
   "source": [
    "np.mean(seq_lens) # trucation size "
   ]
  },
  {
   "cell_type": "code",
   "execution_count": 11,
   "id": "6eb81ca0-69ac-4497-92e6-d1d1b5bd59e0",
   "metadata": {},
   "outputs": [
    {
     "data": {
      "text/plain": [
       "13756"
      ]
     },
     "execution_count": 11,
     "metadata": {},
     "output_type": "execute_result"
    }
   ],
   "source": [
    "np.argmax(seq_lens)"
   ]
  },
  {
   "cell_type": "code",
   "execution_count": 12,
   "id": "12e5b375-eca5-4056-b0bc-3b1cbf5ded54",
   "metadata": {},
   "outputs": [
    {
     "data": {
      "text/plain": [
       "'Match 1: Tag Team Table Match Bubba Ray and Spike Dudley vs Eddie Guerrero and Chris Benoit Bubba Ray and Spike Dudley started things off with a Tag Team Table Match against Eddie Guerrero and Chris Benoit. According to the rules of the match, both opponents have to go through tables in order to get the win. Benoit and Guerrero heated up early on by taking turns hammering first Spike and then Bubba Ray. A German suplex by Benoit to Bubba took the wind out of the Dudley brother. Spike tried to help his brother, but the referee restrained him while Benoit and Guerrero ganged up on him in the corner. With Benoit stomping away on Bubba, Guerrero set up a table outside. Spike dashed into the ring and somersaulted over the top rope onto Guerrero on the outside! After recovering and taking care of Spike, Guerrero slipped a table into the ring and helped the Wolverine set it up. The tandem then set up for a double superplex from the middle rope which would have put Bubba through the table, but Spike knocked the table over right before his brother came crashing down! Guerrero and Benoit propped another table in the corner and tried to Irish Whip Spike through it, but Bubba dashed in and blocked his brother. Bubba caught fire and lifted both opponents into back body drops! Bubba slammed Guerrero and Spike stomped on the Wolverine from off the top rope. Bubba held Benoit at bay for Spike to soar into the Wassup! headbutt! Shortly after, Benoit latched Spike in the Crossface, but the match continued even after Spike tapped out. Bubba came to his brother\\'s rescue and managed to sprawl Benoit on a table. Bubba leapt from the middle rope, but Benoit moved and sent Bubba crashing through the wood! But because his opponents didn\\'t force him through the table, Bubba was allowed to stay in the match. The first man was eliminated shortly after, though, as Spike put Eddie through a table with a Dudley Dawg from the ring apron to the outside! Benoit put Spike through a table moments later to even the score. Within seconds, Bubba nailed a Bubba Bomb that put Benoit through a table and gave the Dudleys the win! Winner: Bubba Ray and Spike Dudley<br /><br />Match 2: Cruiserweight Championship Jamie Noble vs Billy Kidman Billy Kidman challenged Jamie Noble, who brought Nidia with him to the ring, for the Cruiserweight Championship. Noble and Kidman locked up and tumbled over the ring, but raced back inside and grappled some more. When Kidman thwarted all Noble\\'s moves, Noble fled outside the ring where Nidia gave him some encouragement. The fight spread outside the ring and Noble threw his girlfriend into the challenger. Kidman tossed Nidia aside but was taken down with a modified arm bar. Noble continued to attack Kidman\\'s injured arm back in the ring. Kidman\\'s injured harm hampered his offense, but he continued to battle hard. Noble tried to put Kidman away with a powerbomb but the challenger countered into a facebuster. Kidman went to finish things with a Shooting Star Press, but Noble broke up the attempt. Kidman went for the Shooting Star Press again, but this time Noble just rolled out of harm\\'s way. Noble flipped Kidman into a power bomb soon after and got the pin to retain his WWE Cruiserweight Championship! Winner: Jamie Noble<br /><br />Match 3: European Championship William Regal vs Jeff Hardy William Regal took on Jeff Hardy next in an attempt to win back the European Championship. Jeff catapulted Regal over the top rope then took him down with a hurracanrana off the ring apron. Back in the ring, Jeff hit the Whisper in the wind to knock Regal for a loop. Jeff went for the Swanton Bomb, but Regal got his knees up to hit Jeff with a devastating shot. Jeff managed to surprise Regal with a quick rollup though and got the pin to keep the European Championship! Regal started bawling at seeing Hardy celebrate on his way back up the ramp. Winner: Jeff Hardy<br /><br />Match 4: Chris Jericho vs John Cena Chris Jericho had promised to end John Cena\\'s career in their match at Vengeance, which came up next. Jericho tried to teach Cena a lesson as their match began by suplexing him to the mat. Jericho continued to knock Cena around the ring until his cockiness got the better of him. While on the top rope, Jericho began to showboat and allowed Cena to grab him for a superplex! Cena followed with a tilt-a-whirl slam but was taken down with a nasty dropkick to the gut. The rookie recovered and hit a belly to belly suplex but couldn\\'t put Y2J away. Jericho launched into the Lionsault but Cena dodged the move. Jericho nailed a bulldog and then connected on the Lionsault, but did not go for the cover. He goaded Cena to his feet so he could put on the Walls of Jericho. Cena had other ideas, reversing the move into a pin attempt and getting the 1-2-3! Jericho went berserk after the match. Winner: John Cena<br /><br />Match 5: Intercontinental Championship RVD vs Brock Lesnar via disqualification The Next Big Thing and Mr. Pay-Per-View tangled with the Intercontinental Championship on the line. Brock grabbed the title from the ref and draped it over his shoulder momentarily while glaring at RVD. Van Dam \\'s quickness gave Brock fits early on. The big man rolled out of the ring and kicked the steel steps out of frustration. Brock pulled himself together and began to take charge. With Paul Heyman beaming at ringside, Brock slammed RVD to the hard floor outside the ring. From there, Brock began to overpower RVD, throwing him with ease over the top rope. RVD landed painfully on his back, then had to suffer from having his spine cracked against the steel ring steps. The fight returned to the ring with Brock squeezing RVD around the ribs. RVD broke away and soon after leveled Brock with a kick to the temple. RVD followed with the Rolling Thunder but Brock managed to kick out after a two-count. The fight looked like it might be over soon as RVD went for a Five-Star Frog Splash. Brock, though, hoisted Van Dam onto his shoulder and went for the F-5, but RVD whirled Brock into a DDT and followed with the Frog Splash! He went for the pin, but Heyman pulled the ref from the ring! The ref immediately called for a disqualification and soon traded blows with Heyman! After, RVD leapt onto Brock from the top rope and then threatened to hit the Van Terminator! Heyman grabbed RVD\\'s leg and Brock picked up the champ and this time connected with the F-5 onto a steel chair! Winner: RVD<br /><br />Match 6: Booker T vs the Big Show Booker T faced the Big Show one-on-one next. Show withstood Booker T\\'s kicks and punches and slapped Booker into the corner. After being thrown from the ring, Booker picked up a chair at ringside, but Big Show punched it back into Booker\\'s face. Booker tried to get back into the game by choking Show with a camera cable at ringside. Booker smashed a TV monitor from the Spanish announcers\\' position into Show\\'s skull, then delivered a scissors kick that put both men through the table! Booker crawled back into the ring and Big Show staggered in moments later. Show grabbed Booker\\'s throat but was met by a low blow and a kick to the face. Booker climbed the top rope and nailed a somersaulting leg drop to get the pin! Winner: Booker T<br /><br />Announcement: Triple H entered the ring to a thunderous ovation as fans hoped to learn where The Game would end up competing. Before he could speak, Eric Bishoff stopped The Game to apologize for getting involved in his personal business. If Triple H signed with RAW, Bischoff promised his personal life would never come into play again. Bischoff said he\\'s spent the past two years networking in Hollywood. He said everyone was looking for the next breakout WWE Superstar, and they were all talking about Triple H. Bischoff guaranteed that if Triple H signed with RAW, he\\'d be getting top opportunities coming his way. Stephanie McMahon stepped out to issue her own pitch. She said that because of her personal history with Triple H, the two of them know each other very well. She said the two of them were once unstoppable and they can be again. Bischoff cut her off and begged her to stop. Stephanie cited that Triple H once told her how Bischoff said Triple H had no talent and no charisma. Bischoff said he was young at the time and didn\\'t know what he had, but he still has a lot more experience that Stephanie. The two continued to bicker back and forth, until Triple H stepped up with his microphone. The Game said it would be easy to say \"screw you\" to either one of them. Triple H went to shake Bischoff\\'s hand, but pulled it away. He said he would rather go with the devil he knows, rather than the one he doesn\\'t know. Before he could go any further, though, Shawn Michaels came out to shake things up. HBK said the last thing he wanted to do was cause any trouble. He didn\\'t want to get involved, but he remembered pledging to bring Triple H to the nWo. HBK said there\\'s nobody in the world that Triple H is better friends with. HBK told his friend to imagine the two back together again, making Bischoff\\'s life a living hell. Triple H said that was a tempting offer. He then turned and hugged HBK, making official his switch to RAW! Triple H and HBK left, and Bischoff gloated over his victory. Bischoff said the difference between the two of them is that he\\'s got testicles and she doesn\\'t. Stephanie whacked Bischoff on the side of the head and left!<br /><br />Match 7: Tag Team Championship Match Christian and Lance Storm vs Hollywood Hogan and Edge The match started with loud \"USA\" chants and with Hogan shoving Christian through the ropes and out of the ring. The Canadians took over from there. But Edge scored a kick to Christian\\'s head and planted a facebuster on Storm to get the tag to Hogan. Hogan began to Hulk up and soon caught Christian with a big boot and a leg drop! Storm broke up the count and Christian tossed Hogan from the ring where Storm superkicked the icon. Edge tagged in soon after and dropped both opponents. He speared both of them into the corner turnbuckles, but missed a spear on Strom and hit the ref hard instead. Edge nailed a DDT, but the ref was down and could not count. Test raced down and took down Hogan then leveled Edge with a boot. Storm tried to get the pin, but Edge kicked out after two. Riksihi sprinted in to fend off Test, allowing Edge to recover and spear Storm. Christian distracted the ref, though, and Y2J dashed in and clocked Edge with the Tag Team Championship! Storm rolled over and got the pinfall to win the title! Winners and New Tag Team Champions: Christian and Lance Storm<br /><br />Match 8: WWE Undisputed Championship Triple Threat Match. The Rock vs Kurt Angle and the Undertaker Three of WWE\\'s most successful superstars lined up against each other in a Triple Threat Match with the Undisputed Championship hanging in the balance. Taker and The Rock got face to face with Kurt Angle begging for some attention off to the side. He got attention in the form of a beat down form the two other men. Soon after, Taker spilled out of the ring and The Rock brawled with Angle. Angle gave a series of suplexes that took down Rock, but the Great One countered with a DDT that managed a two-count. The fight continued outside the ring with Taker coming to life and clotheslining Angle and repeatedly smacking The Rock. Taker and Rock got into it back into the ring, and Taker dropped The Rock with a sidewalk slam to get a two-count. Rock rebounded, grabbed Taker by the throat and chokeslammed him! Angle broke up the pin attempt that likely would have given The Rock the title. The Rock retaliated by latching on the ankle lock to Kurt Angle. Angle reversed the move and Rock Bottomed the People\\'s Champion. Soon after, The Rock disposed of Angle and hit the People\\'s Elbow on the Undertaker. Angle tried to take advantage by disabling the Great One outside the ring and covering Taker, who kicked out after a two count. Outside the ring, Rock took a big swig from a nearby water bottle and spewed the liquid into Taker\\'s face to blind the champion. Taker didn\\'t stay disabled for long, and managed to overpower Rock and turn his attention to Angle. Taker landed a guillotine leg drop onto Angle, laying on the ring apron. The Rock picked himself up just in time to break up a pin attempt on Kurt Angle. Taker nailed Rock with a DDT and set him up for a chokeslam. ANgle tried sneaking up with a steel chair, but Taker caught on to that tomfoolery and smacked it out of his hands. The referee got caught in the ensuing fire and didn\\'t see Angle knock Taker silly with a steel chair. Angle went to cover Taker as The Rock lay prone, but the Dead Man somehow got his shoulder up. Angle tried to pin Rock, but he too kicked out. The Rock got up and landed Angle in the sharpshooter! Angle looked like he was about to tap, but Taker kicked The Rock out of the submission hold. Taker picked Rock up and crashed him with the Last Ride. While the Dead Man covered him for the win, Angle raced in and picked Taker up in the ankle lock! Taker went delirious with pain, but managed to counter. He picked Angle up for the last ride, but Angle put on a triangle choke! It looked like Taker was about to pass out, but The Rock broke Angle\\'s hold only to find himself caught in the ankle lock. Rock got out of the hold and watched Taker chokeslam Angle. Rocky hit the Rock Bottom, but Taker refused to go down and kicked out. Angle whirled Taker up into the Angle Slam but was Rock Bottomed by the Great One and pinned! Winner and New WWE Champion: The Rock<br /><br />~Finally there is a decent PPV! Lately the PPV weren\\'t very good, but this one was a winner. I give this PPV a A-<br /><br />'"
      ]
     },
     "execution_count": 12,
     "metadata": {},
     "output_type": "execute_result"
    }
   ],
   "source": [
    "train_text[np.argmax(seq_lens)]"
   ]
  },
  {
   "cell_type": "code",
   "execution_count": 10,
   "id": "04341085-6300-47b6-ac4e-d6f2a16e93df",
   "metadata": {},
   "outputs": [
    {
     "data": {
      "image/png": "[encoded data removed]",
      "text/plain": [
       "<Figure size 640x480 with 1 Axes>"
      ]
     },
     "metadata": {},
     "output_type": "display_data"
    }
   ],
   "source": [
    "import matplotlib.pyplot as plt\n",
    "import numpy as np\n",
    "\n",
    "\n",
    "plt.hist(seq_lens)\n",
    "plt.show() "
   ]
  },
  {
   "cell_type": "code",
   "execution_count": 4,
   "id": "24b1b4cf-4d98-46e8-88e4-cfb77ad71a8e",
   "metadata": {},
   "outputs": [
    {
     "data": {
      "text/plain": [
       "Dataset({\n",
       "    features: ['text', 'label'],\n",
       "    num_rows: 25000\n",
       "})"
      ]
     },
     "execution_count": 4,
     "metadata": {},
     "output_type": "execute_result"
    }
   ],
   "source": [
    "train_data"
   ]
  },
  {
   "cell_type": "code",
   "execution_count": 19,
   "id": "1ccea0e4-a8db-46b7-ab8a-1e7b3fb55acc",
   "metadata": {},
   "outputs": [
    {
     "name": "stderr",
     "output_type": "stream",
     "text": [
      "[nltk_data] Downloading package stopwords to\n",
      "[nltk_data]     /Users/nmadali/nltk_data...\n",
      "[nltk_data]   Package stopwords is already up-to-date!\n"
     ]
    },
    {
     "data": {
      "text/plain": [
       "True"
      ]
     },
     "execution_count": 19,
     "metadata": {},
     "output_type": "execute_result"
    }
   ],
   "source": [
    "import string\n",
    "\n",
    "import nltk\n",
    "from nltk.corpus import stopwords\n",
    " \n",
    "nltk.download('stopwords')\n",
    "\n"
   ]
  },
  {
   "cell_type": "code",
   "execution_count": 201,
   "id": "bc0d2bc8-39d6-4867-a161-b21a103ebf4a",
   "metadata": {},
   "outputs": [],
   "source": [
    "class Tokenizer:\n",
    "  def __init__(self, stop_words, puncts, truncation_size=256  ):\n",
    "      \n",
    "    self.stop_words=stop_words\n",
    "    self.puncts=puncts\n",
    "    self.df = {}\n",
    "    self.truncation_size=truncation_size\n",
    "  def format_string(self, text):\n",
    "      tokens=[ token for token  in text.lower().split() if not ((token in self.stop_words) or  (token in self.puncts))   ]\n",
    "      return tokens  \n",
    "      \n",
    "  def tokenize(self, text, truncation=False):\n",
    "      tokens=self.format_string(text)\n",
    "      tmp=[]\n",
    "      for token in tokens:\n",
    "          if token in self.w2i :\n",
    "              tmp.append(self.w2i[token])\n",
    "          else:\n",
    "              tmp.append(self.w2i['<unk>'])\n",
    "              \n",
    "      if truncation:\n",
    "          tmp=tmp[: self.truncation_size]\n",
    "          output= np.ones(self.truncation_size)*self.w2i['<pad>']\n",
    "          output[:len(tmp)]=tmp\n",
    "          return list(output)\n",
    "      else:\n",
    "          return tmp\n",
    "  def detokenize(self, idxs):\n",
    "      words=[self.i2w[idx] for idx in idxs]  \n",
    "      \n",
    "      return ''.join(word+' ' for word in words )\n",
    "  def fit(self, train_text):\n",
    "    for text in train_text:\n",
    "        tokens=set(self.format_string(text))\n",
    "        for token in tokens:\n",
    "            if token in self.df:\n",
    "                self.df[token]+=1\n",
    "            else: \n",
    "                self.df[token]=1\n",
    "    self.df['<unk>']=1\n",
    "    self.df['<pad>']=1\n",
    "\n",
    "    \n",
    "    \n",
    "    self.w2i = { k:idx for idx, (k,v) in enumerate(self.df.items())}\n",
    "    self.i2w = { v:k for (k,v) in  self.w2i .items() }\n",
    "\n",
    "    self.idf=np.zeros(len(self.df))\n",
    "    for (k,v) in self.w2i.items():\n",
    "        self.idf[v]=np.log((1+len(train_text))/(1+self.df[k]))  \n",
    "        "
   ]
  },
  {
   "cell_type": "code",
   "execution_count": null,
   "id": "1e4db959-c9e0-4241-a5e5-7343ba6f0b88",
   "metadata": {},
   "outputs": [],
   "source": []
  },
  {
   "cell_type": "code",
   "execution_count": 202,
   "id": "45176594-2820-4f9b-bf21-63d58f5bfd27",
   "metadata": {},
   "outputs": [],
   "source": [
    "stop_words= stopwords.words('english')\n",
    "puncts=  [punt for punt in string.punctuation]"
   ]
  },
  {
   "cell_type": "code",
   "execution_count": 203,
   "id": "d4e9e941-a3b0-46d2-9b98-4b59dd982cea",
   "metadata": {},
   "outputs": [],
   "source": [
    "tokenizer=Tokenizer(stop_words , puncts)"
   ]
  },
  {
   "cell_type": "code",
   "execution_count": 204,
   "id": "c84e4ace-17d9-4d59-8ef3-5b6b28a1d3f8",
   "metadata": {},
   "outputs": [],
   "source": [
    "tokenizer.fit(train_text)"
   ]
  },
  {
   "cell_type": "code",
   "execution_count": 205,
   "id": "efc5c43b-43bb-4dc6-9c94-6ce25265b36c",
   "metadata": {},
   "outputs": [
    {
     "data": {
      "text/plain": [
       "'oh, brother...after hearing ridiculous film umpteen years think old peggy lee song..<br /><br />\"is is??\" ...i early teen smoked fish hit u.s. young get theater (although manage sneak \"goodbye columbus\"). screening local film museum beckoned finally could see film, except old parents schlepped see it!!<br /><br />the reason film condemned anonymous sands time obscenity case sparked u.s. release. millions people flocked stinker, thinking going see sex film...instead, got lots closeups gnarly, repulsive swedes, on-street interviews bland shopping malls, asinie political pretension...and feeble who-cares simulated sex scenes saggy, pale actors.<br /><br />cultural icon, holy grail, historic artifact..whatever thing was, shred it, burn it, stuff ashes lead box!<br /><br />elite esthetes still scrape find value boring pseudo revolutionary political spewings..but censorship scandal, would ignored, forgotten.<br /><br />instead, \"i blank, blank\" rhythymed title repeated endlessly years titilation porno films (i curious, lavender gay films, curious, black blaxploitation films, etc..) every ten years thing rises dead, viewed new generation suckers want see \"naughty sex film\" \"revolutionized film industry\"...<br /><br />yeesh, avoid like plague..or must see rent video fast forward \"dirty\" parts, get with.<br /><br /> <pad> <pad> <pad> <pad> <pad> <pad> <pad> <pad> <pad> <pad> <pad> <pad> <pad> <pad> <pad> <pad> <pad> <pad> <pad> <pad> <pad> <pad> <pad> <pad> <pad> <pad> <pad> <pad> <pad> <pad> <pad> <pad> <pad> <pad> <pad> <pad> <pad> <pad> <pad> <pad> <pad> <pad> <pad> <pad> <pad> <pad> <pad> <pad> <pad> <pad> <pad> <pad> <pad> <pad> <pad> <pad> <pad> <pad> <pad> <pad> <pad> <pad> <pad> <pad> <pad> <pad> <pad> <pad> <pad> <pad> <pad> <pad> <pad> <pad> <pad> '"
      ]
     },
     "execution_count": 205,
     "metadata": {},
     "output_type": "execute_result"
    }
   ],
   "source": [
    "tokenizer.detokenize(tokenizer.tokenize(train_text[4], truncation=True))"
   ]
  },
  {
   "cell_type": "markdown",
   "id": "a983910e-3cd0-4a05-9839-9def7e65650b",
   "metadata": {},
   "source": [
    "\n",
    "## Understanding PyTorch `Dataset`\n",
    "\n",
    "The `Dataset` class is an abstract class that you need to subclass to load and preprocess your data. A `Dataset` object acts as a container for your data and provides two key methods:\n",
    "\n",
    "1. **`__len__`**: Returns the number of samples in the dataset.\n",
    "2. **`__getitem__`**: Fetches a single data point (input and target) by index.\n",
    "\n",
    "### Creating a Custom Dataset\n",
    "You can create a custom dataset by subclassing `torch.utils.data.Dataset` and overriding its methods.\n",
    "\n",
    "```python\n",
    "import torch\n",
    "from torch.utils.data import Dataset\n",
    "\n",
    "class CustomDataset(Dataset):\n",
    "    def __init__(self, data, targets):\n",
    "        \"\"\"\n",
    "        Initialize the dataset with data and targets.\n",
    "        Args:\n",
    "            data: The input data (e.g., features).\n",
    "            targets: The corresponding labels or targets.\n",
    "        \"\"\"\n",
    "        self.data = data\n",
    "        self.targets = targets\n",
    "\n",
    "    def __len__(self):\n",
    "        \"\"\"\n",
    "        Return the total number of samples.\n",
    "        \"\"\"\n",
    "        return len(self.data)\n",
    "\n",
    "    def __getitem__(self, idx):\n",
    "        \"\"\"\n",
    "        Retrieve a sample and its target at the given index.\n",
    "        \"\"\"\n",
    "        return self.data[idx], self.targets[idx]\n",
    "\n",
    "# Example usage\n",
    "data = torch.tensor([[1, 2], [3, 4], [5, 6]])\n",
    "targets = torch.tensor([0, 1, 0])\n",
    "dataset = CustomDataset(data, targets)\n",
    "\n",
    "print(\"Number of samples:\", len(dataset))\n",
    "print(\"First sample:\", dataset[0])\n"
   ]
  },
  {
   "cell_type": "code",
   "execution_count": 216,
   "id": "0a2ac76e-04bd-4476-a007-b08b97ba0c9b",
   "metadata": {},
   "outputs": [],
   "source": [
    "import torch\n",
    "from torch.utils.data import Dataset, DataLoader\n",
    "\n",
    "class CustomDataset(Dataset):\n",
    "    def __init__(self, train_data, tokenizer, return_type='BoG'):\n",
    "        \"\"\"\n",
    "        Initialize the dataset with data and targets.\n",
    "        Args:\n",
    "            data: The input data (e.g., features).\n",
    "            targets: The corresponding labels or targets.\n",
    "        \"\"\"\n",
    "        self.train_data = train_data\n",
    "        self.tokenizer = tokenizer\n",
    "        self. return_type=return_type # BoG, Tf-Idf Ids\n",
    "    def __len__(self):\n",
    "        \"\"\"\n",
    "        Return the total number of samples.\n",
    "        \"\"\"\n",
    "        return len(self.train_data)\n",
    "\n",
    "    def __getitem__(self, idx):\n",
    "        \"\"\"\n",
    "        Retrieve a sample and its target at the given index.\n",
    "        \"\"\"\n",
    "        text,label= self.train_data[idx]['text'], self.train_data[idx]['label']\n",
    "        if self.return_type=='Ids'  :       \n",
    "    \n",
    "            idxs= np.array(self.tokenizer.tokenize(text, truncation=True)).astype('int32')\n",
    "            return idxs, label\n",
    "        elif self.return_type=='BoG':\n",
    "            vec=np.zeros(len(self.tokenizer.w2i))\n",
    "            idxs= self.tokenizer.tokenize(text)\n",
    "            for idx in idxs:\n",
    "                vec[idx]+=1\n",
    "            return vec, label    \n",
    "        else:\n",
    "            tf=np.zeros(len(self.tokenizer.w2i))\n",
    "            idxs= self.tokenizer.tokenize(text)\n",
    "            for idx in idxs:\n",
    "                tf[idx]+=1\n",
    "            tf/=len(idxs) \n",
    "\n",
    "            for i in range(len(tf)):\n",
    "                tf[i]*=self.tokenizer.idf[i]\n",
    "            return tf, label"
   ]
  },
  {
   "cell_type": "code",
   "execution_count": 217,
   "id": "83437ff2-7fea-4989-947a-a2b46e6b0917",
   "metadata": {},
   "outputs": [],
   "source": [
    "train_dataset = CustomDataset(train_data, tokenizer,return_type='Tf-Idf' )\n",
    "test_dataset = CustomDataset(test_data, tokenizer)"
   ]
  },
  {
   "cell_type": "code",
   "execution_count": 219,
   "id": "79fd281c-1f12-480f-99e9-b0499f6afae9",
   "metadata": {},
   "outputs": [
    {
     "data": {
      "text/plain": [
       "(array([0.        , 0.01009761, 0.        , ..., 0.        , 0.        ,\n",
       "        0.        ]),\n",
       " 0)"
      ]
     },
     "execution_count": 219,
     "metadata": {},
     "output_type": "execute_result"
    }
   ],
   "source": [
    "train_dataset[1]"
   ]
  },
  {
   "cell_type": "code",
   "execution_count": 220,
   "id": "152377a4-0e52-43a8-b0f9-646708de6ad3",
   "metadata": {},
   "outputs": [
    {
     "data": {
      "text/plain": [
       "(251445,)"
      ]
     },
     "execution_count": 220,
     "metadata": {},
     "output_type": "execute_result"
    }
   ],
   "source": [
    "train_dataset[1][0].shape"
   ]
  },
  {
   "cell_type": "code",
   "execution_count": 221,
   "id": "88ed499f-2ee3-407f-81fe-b06db7d9715a",
   "metadata": {},
   "outputs": [
    {
     "data": {
      "text/plain": [
       "251445"
      ]
     },
     "execution_count": 221,
     "metadata": {},
     "output_type": "execute_result"
    }
   ],
   "source": [
    "len(tokenizer.w2i)"
   ]
  },
  {
   "cell_type": "markdown",
   "id": "fc1cf05a-7566-4f1c-8883-27d01a9b72ce",
   "metadata": {},
   "source": [
    "# Understanding PyTorch `DataLoader`\n",
    "\n",
    "The `DataLoader` in PyTorch is a utility that simplifies and optimizes the process of loading data during training and evaluation. It works in conjunction with a `Dataset` to provide batches of data, handle shuffling, and enable parallel loading for efficiency.\n",
    "\n",
    "---\n",
    "## Parameters of `DataLoader`\n",
    "\n",
    "- **`dataset`**: The dataset to load data from (must implement `__getitem__` and `__len__`).\n",
    "- **`batch_size`**: Number of samples in each batch.\n",
    "- **`shuffle`**: Boolean to indicate whether to shuffle the data at the start of each epoch.\n",
    "- **`num_workers`**: Number of subprocesses to use for data loading (set to `0` for no parallelism).\n",
    "- **`collate_fn`**: Function to merge samples into a batch. Useful for handling complex data formats.\n",
    "- **`drop_last`**: Drops the last incomplete batch if the dataset size is not divisible by `batch_size`.\n",
    "\n",
    "---\n",
    "### Define a DataLoader\n",
    "```python\n",
    "\n",
    "def custom_collate(batch):\n",
    "    inputs, targets = zip(*batch)\n",
    "    # Example: Convert to tensors or handle variable-length sequences\n",
    "    return torch.tensor(inputs), torch.tensor(targets)\n",
    "\n",
    "dataloader = DataLoader(dataset, batch_size=2, collate_fn=custom_collate)"
   ]
  },
  {
   "cell_type": "code",
   "execution_count": 222,
   "id": "f8e2b364-b7b6-441c-ba8f-bb9b18b5364b",
   "metadata": {},
   "outputs": [],
   "source": [
    "train_dataloader = DataLoader(train_dataset, batch_size=4, shuffle=True)\n",
    "\n",
    "test_dataloader = DataLoader(test_dataset, batch_size=4, shuffle=False)"
   ]
  },
  {
   "cell_type": "code",
   "execution_count": 223,
   "id": "854cb02e-fc17-4ff7-b4ff-49e311c027cf",
   "metadata": {},
   "outputs": [],
   "source": [
    "batch=next(iter(train_dataloader))"
   ]
  },
  {
   "cell_type": "code",
   "execution_count": 224,
   "id": "3b5bbb6a-18d0-4e27-bb0d-1f3abcdbe9b0",
   "metadata": {},
   "outputs": [
    {
     "ename": "AttributeError",
     "evalue": "'list' object has no attribute 'shape'",
     "output_type": "error",
     "traceback": [
      "\u001b[0;31m---------------------------------------------------------------------------\u001b[0m",
      "\u001b[0;31mAttributeError\u001b[0m                            Traceback (most recent call last)",
      "Cell \u001b[0;32mIn[224], line 1\u001b[0m\n\u001b[0;32m----> 1\u001b[0m \u001b[43mbatch\u001b[49m\u001b[38;5;241;43m.\u001b[39;49m\u001b[43mshape\u001b[49m\n",
      "\u001b[0;31mAttributeError\u001b[0m: 'list' object has no attribute 'shape'"
     ]
    }
   ],
   "source": [
    "batch.shape"
   ]
  },
  {
   "cell_type": "code",
   "execution_count": 225,
   "id": "09f091e6-2623-46fa-8a64-ce01e696ccc0",
   "metadata": {},
   "outputs": [
    {
     "data": {
      "text/plain": [
       "2"
      ]
     },
     "execution_count": 225,
     "metadata": {},
     "output_type": "execute_result"
    }
   ],
   "source": [
    "len(batch)"
   ]
  },
  {
   "cell_type": "code",
   "execution_count": 226,
   "id": "6db3bbcf-47d1-45b2-a1a4-562804bee0d4",
   "metadata": {},
   "outputs": [
    {
     "data": {
      "text/plain": [
       "torch.Size([4, 251445])"
      ]
     },
     "execution_count": 226,
     "metadata": {},
     "output_type": "execute_result"
    }
   ],
   "source": [
    "batch[0].shape"
   ]
  },
  {
   "cell_type": "code",
   "execution_count": 227,
   "id": "adbfc812-17b2-438b-8eb6-d00c3cbbf9b7",
   "metadata": {},
   "outputs": [
    {
     "data": {
      "text/plain": [
       "torch.Size([4])"
      ]
     },
     "execution_count": 227,
     "metadata": {},
     "output_type": "execute_result"
    }
   ],
   "source": [
    "batch[1].shape"
   ]
  },
  {
   "cell_type": "code",
   "execution_count": 159,
   "id": "85bb8002-f687-45ec-8ee6-dbbf1895b462",
   "metadata": {},
   "outputs": [
    {
     "data": {
      "text/plain": [
       "tensor([0, 0, 1, 0])"
      ]
     },
     "execution_count": 159,
     "metadata": {},
     "output_type": "execute_result"
    }
   ],
   "source": [
    "batch[1]"
   ]
  },
  {
   "cell_type": "code",
   "execution_count": null,
   "id": "c7eccb77-2f33-4912-a4d9-205869038001",
   "metadata": {},
   "outputs": [],
   "source": [
    "(0 1) (2, "
   ]
  }
 ],
 "metadata": {
  "kernelspec": {
   "display_name": "Python [conda env:base] *",
   "language": "python",
   "name": "conda-base-py"
  },
  "language_info": {
   "codemirror_mode": {
    "name": "ipython",
    "version": 3
   },
   "file_extension": ".py",
   "mimetype": "text/x-python",
   "name": "python",
   "nbconvert_exporter": "python",
   "pygments_lexer": "ipython3",
   "version": "3.12.2"
  }
 },
 "nbformat": 4,
 "nbformat_minor": 5
}
