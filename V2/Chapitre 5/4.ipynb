{
  "cells": [
    {
      "cell_type": "markdown",
      "id": "0eef18bf-9fd7-4e96-b67b-12b48caffc90",
      "metadata": {
        "id": "0eef18bf-9fd7-4e96-b67b-12b48caffc90"
      },
      "source": [
        "## Named Entity Recognition (NER) and Bidirectional LSTM\n",
        "\n",
        "**Named Entity Recognition (NER)** is a natural language processing (NLP) task that involves identifying and classifying entities in text into predefined categories, such as:\n",
        "- Person names (e.g., \"John Doe\")\n",
        "- Organizations (e.g., \"OpenAI\")\n",
        "- Locations (e.g., \"New York\")\n",
        "- Dates and time (e.g., \"January 1, 2023\")\n",
        "\n",
        "### NER with Bidirectional LSTM\n",
        "\n",
        "A Bidirectional Long Short-Term Memory (BiLSTM) network is an effective architecture for NER because it considers the context of words in both forward and backward directions. This enables the model to capture dependencies from both preceding and succeeding words in the sequence, which is crucial for understanding context in text.\n",
        "\n",
        "#### Key Components:\n",
        "1. **Input Representation**: Words are represented as word embeddings, such as Word2Vec, GloVe, or contextual embeddings like BERT.\n",
        "2. **Bidirectional LSTM**: Processes the sequence of embeddings in both forward and backward directions, producing context-aware representations for each word.\n",
        "3. **Output Layer**: A dense layer followed by a softmax activation is used to classify each word into its respective entity class.\n",
        "\n",
        "#### Mathematical Explanation\n",
        "\n",
        "Let $ x_t $ be the embedding of the word at position $ t $ in a sequence of length $ T $.\n",
        "\n",
        "1. **Forward LSTM**:\n",
        "   The hidden state at time $ t $ is computed as:\n",
        "   $$\n",
        "   \\overrightarrow{h_t} = \\text{LSTM}(x_t, \\overrightarrow{h_{t-1}})\n",
        "  $$\n",
        "2. **Backward LSTM**:\n",
        "   Similarly, the hidden state for the backward LSTM is:\n",
        "   $$\n",
        "   \\overleftarrow{h_t} = \\text{LSTM}(x_t, \\overleftarrow{h_{t+1}})\n",
        "  $$\n",
        "3. **Concatenation**:\n",
        "   The final hidden state for each word combines both directions:\n",
        "   $$\n",
        "   h_t = \\text{concat}(\\overrightarrow{h_t}, \\overleftarrow{h_t})\n",
        "  $$\n",
        "\n",
        "4. **Classification**:\n",
        "   The output for each word is computed by applying a dense layer with softmax activation:\n",
        "   $$\n",
        "   y_t = \\text{softmax}(W \\cdot h_t + b)\n",
        "  $$\n",
        "   where $ W $ and $ b $ are trainable parameters, and $ y_t $ represents the probabilities for each entity class.\n",
        "\n",
        "#### Workflow:\n",
        "1. Preprocess the text and tokenize it.\n",
        "2. Convert tokens into embeddings.\n",
        "3. Pass embeddings through the BiLSTM.\n",
        "4. Use the output states for each token to predict entity classes.\n",
        "\n",
        "By training the BiLSTM model on annotated datasets (e.g., CoNLL-2003), the model learns to effectively recognize entities in text based on context.\n"
      ]
    },
    {
      "cell_type": "code",
      "execution_count": null,
      "id": "eb97e013-9593-495e-b9f5-4f9cb66a5768",
      "metadata": {
        "id": "eb97e013-9593-495e-b9f5-4f9cb66a5768"
      },
      "outputs": [],
      "source": []
    },
    {
      "cell_type": "markdown",
      "id": "bdf79963-8d57-49c6-a7b7-252d15f4b2a6",
      "metadata": {
        "id": "bdf79963-8d57-49c6-a7b7-252d15f4b2a6"
      },
      "source": [
        "## CoNLL-2003\n",
        "The **CoNLL-2003 dataset** is one of the most widely used datasets for Named Entity Recognition (NER). It was introduced as part of the Conference on Natural Language Learning (CoNLL) shared task in 2003. This dataset is annotated for four types of entities:\n",
        "\n",
        "1. **PER**: Person names\n",
        "2. **ORG**: Organizations\n",
        "3. **LOC**: Locations\n",
        "4. **MISC**: Miscellaneous entities that do not fit into the other categories\n",
        "\n",
        "### Dataset Structure\n",
        "The dataset consists of text data in multiple languages (e.g., English, German), but the English portion is most commonly used. It contains:\n",
        "- **Tokens**: Words from sentences.\n",
        "- **Part-of-Speech (POS) tags**: POS tags for each word.\n",
        "- **Chunk tags**: Information about syntactic chunks.\n",
        "- **NER labels**: Entity labels in the BIO format (Begin-Inside-Outside).\n",
        "\n",
        "#### Example:\n",
        "| Token   | POS   | Chunk   | NER   |\n",
        "|---------|-------|---------|-------|\n",
        "| EU      | NNP   | I-NP    | B-ORG |\n",
        "| rejects | VBZ   | I-VP    | O     |\n",
        "| German  | JJ    | I-NP    | B-MISC|\n",
        "| call    | NN    | I-NP    | O     |\n",
        "| to      | TO    | I-VP    | O     |\n",
        "| boycott | VB    | I-VP    | O     |\n",
        "| British | JJ    | I-NP    | B-MISC|\n",
        "| lamb    | NN    | I-NP    | O     |\n",
        "| .       | .     | O       | O     |\n",
        "\n",
        "### BIO Format\n",
        "The dataset uses the **BIO tagging scheme**:\n",
        "- **B**: Beginning of an entity.\n",
        "- **I**: Inside an entity.\n",
        "- **O**: Outside of any entity.\n",
        "\n"
      ]
    },
    {
      "cell_type": "code",
      "execution_count": 1,
      "id": "844fdca4-8892-4cb5-b48e-245113c0e7c9",
      "metadata": {
        "id": "844fdca4-8892-4cb5-b48e-245113c0e7c9"
      },
      "outputs": [],
      "source": [
        "#!pip install datasets"
      ]
    },
    {
      "cell_type": "code",
      "source": [
        "import datasets\n",
        "data= datasets.load_dataset('eriktks/conll2003')"
      ],
      "metadata": {
        "colab": {
          "base_uri": "https://localhost:8080/"
        },
        "id": "w0L-u5KUODNT",
        "outputId": "55e1b67c-e3ea-4b9d-f685-c7282cacc999"
      },
      "id": "w0L-u5KUODNT",
      "execution_count": 2,
      "outputs": [
        {
          "output_type": "stream",
          "name": "stderr",
          "text": [
            "/usr/local/lib/python3.11/dist-packages/huggingface_hub/utils/_auth.py:94: UserWarning: \n",
            "The secret `HF_TOKEN` does not exist in your Colab secrets.\n",
            "To authenticate with the Hugging Face Hub, create a token in your settings tab (https://huggingface.co/settings/tokens), set it as secret in your Google Colab and restart your session.\n",
            "You will be able to reuse this secret in all of your notebooks.\n",
            "Please note that authentication is recommended but still optional to access public models or datasets.\n",
            "  warnings.warn(\n"
          ]
        }
      ]
    },
    {
      "cell_type": "code",
      "source": [
        "\n",
        "ner_idx={'O': 0, 'B-PER': 1, 'I-PER': 2, 'B-ORG': 3, 'I-ORG': 4, 'B-LOC': 5, 'I-LOC': 6, 'B-MISC': 7, 'I-MISC': 8}\n",
        "\n",
        "train_data, test_data, validation_data= data['train'], data['test'],data['validation']"
      ],
      "metadata": {
        "id": "QPa-JVHcPKbM"
      },
      "id": "QPa-JVHcPKbM",
      "execution_count": 3,
      "outputs": []
    },
    {
      "cell_type": "code",
      "source": [
        "import numpy as np\n",
        "from collections import Counter\n",
        "\n",
        "train_tokens=[token.lower() for sample in train_data for token in sample['tokens']]\n",
        "vocab=Counter(train_tokens)\n",
        "vocab['<pad>']=1\n"
      ],
      "metadata": {
        "id": "TchtCjmBSNRf"
      },
      "id": "TchtCjmBSNRf",
      "execution_count": 4,
      "outputs": []
    },
    {
      "cell_type": "code",
      "source": [
        "sent_lengths=[len(sample['tokens']) for sample in train_data ]\n",
        "\n",
        "np.min(sent_lengths),np.mean(sent_lengths),np.max(sent_lengths)"
      ],
      "metadata": {
        "colab": {
          "base_uri": "https://localhost:8080/"
        },
        "id": "f_193FLTSkjM",
        "outputId": "e902792d-e99e-4e27-eac2-9dd074ce37b5"
      },
      "id": "f_193FLTSkjM",
      "execution_count": 5,
      "outputs": [
        {
          "output_type": "execute_result",
          "data": {
            "text/plain": [
              "(1, 14.501887329962253, 113)"
            ]
          },
          "metadata": {},
          "execution_count": 5
        }
      ]
    },
    {
      "cell_type": "markdown",
      "id": "5c8e5712-3be2-47bd-8c73-f952c52d1ae0",
      "metadata": {
        "id": "5c8e5712-3be2-47bd-8c73-f952c52d1ae0"
      },
      "source": [
        "### 1. Dataset and Dataloader Creation"
      ]
    },
    {
      "cell_type": "code",
      "execution_count": 6,
      "id": "c4a394b8-4624-4a8d-b840-874823bdb52e",
      "metadata": {
        "id": "c4a394b8-4624-4a8d-b840-874823bdb52e"
      },
      "outputs": [],
      "source": [
        "from torch.utils.data import Dataset\n",
        "class CustomDataset(Dataset):\n",
        "    def __init__(self, train_data, vocab, ner_idx, max_length=128):\n",
        "\n",
        "        self.train_data = train_data\n",
        "        self. max_length= max_length\n",
        "        self.w2i={k:i for i, (k,v) in enumerate(vocab.items())}\n",
        "        self.i2w={v:k for (k,v) in enumerate(self.w2i.items())}\n",
        "\n",
        "        self.ner_idx=ner_idx\n",
        "        self.idx_ner={ v:k for (k,v) in self.ner_idx.items()}\n",
        "    def __len__(self):\n",
        "        return len(self.train_data)\n",
        "\n",
        "    def __getitem__(self, idx):\n",
        "         sample=train_data[idx]\n",
        "\n",
        "         idxs=[self.w2i[token.lower()] for token in sample['tokens']]\n",
        "         ner_tags=sample['ner_tags']\n",
        "\n",
        "         ner_tags_padded=np.zeros(self.max_length )\n",
        "         ner_tags_padded[:len(ner_tags)]=ner_tags\n",
        "\n",
        "         idxs_padded=np.ones(self.max_length )*self.w2i['<pad>']\n",
        "         idxs_padded[:len(ner_tags)]=idxs\n",
        "         return idxs_padded.astype('int32'), ner_tags_padded\n",
        "\n"
      ]
    },
    {
      "cell_type": "code",
      "source": [
        "train_dataset= CustomDataset(train_data, vocab, ner_idx, max_length=np.max(sent_lengths))\n",
        "test_dataset= CustomDataset(test_data, vocab, ner_idx, max_length=np.max(sent_lengths))"
      ],
      "metadata": {
        "id": "gtGcZUFaUpbC"
      },
      "id": "gtGcZUFaUpbC",
      "execution_count": 7,
      "outputs": []
    },
    {
      "cell_type": "code",
      "source": [
        "from torch.utils.data import DataLoader\n",
        "\n",
        "train_dataloader = DataLoader(train_dataset, batch_size=64, shuffle=True)\n",
        "test_dataloader = DataLoader(test_dataset, batch_size=64, shuffle=True)\n"
      ],
      "metadata": {
        "id": "G41ukdJCVZI-"
      },
      "id": "G41ukdJCVZI-",
      "execution_count": 8,
      "outputs": []
    },
    {
      "cell_type": "markdown",
      "id": "7a35c6a7-6cfc-40c3-9324-ee7ee1189a44",
      "metadata": {
        "id": "7a35c6a7-6cfc-40c3-9324-ee7ee1189a44"
      },
      "source": [
        "### 2. Model Creation\n",
        "\n",
        "We use a Bidirectional LSTM (BiLSTM) model with a CRF layer or a Transformer-based model like BERT for NER."
      ]
    },
    {
      "cell_type": "code",
      "execution_count": 9,
      "id": "95db4ed5-d3a2-4a65-bb7f-284a8981fa8f",
      "metadata": {
        "id": "95db4ed5-d3a2-4a65-bb7f-284a8981fa8f"
      },
      "outputs": [],
      "source": [
        "import torch\n",
        "\n",
        "class TinyModel(torch.nn.Module):\n",
        "\n",
        "    def __init__(self, num_embeddings, embedding_dim, hidden_size, num_layers, dropout_rate, output_dim):\n",
        "        super(TinyModel, self).__init__()\n",
        "\n",
        "        self.embedding= torch.nn.Embedding(num_embeddings, embedding_dim)\n",
        "        self.lstm = torch.nn.LSTM( embedding_dim, hidden_size, num_layers=num_layers, dropout=dropout_rate,  bidirectional=True, batch_first=True)\n",
        "        self.linear1 = torch.nn.Linear(2* hidden_size, output_dim)\n",
        "\n",
        "\n",
        "    def forward(self, x):\n",
        "\n",
        "        x = self.embedding(x)\n",
        "        x,(hn,cn) = self.lstm(x)\n",
        "        x = self.linear1(x)\n",
        "\n",
        "        return x\n"
      ]
    },
    {
      "cell_type": "code",
      "source": [
        "\n",
        "device = torch.device(\"cuda:0\" if torch.cuda.is_available() else \"cpu\")\n",
        "\n",
        "num_embeddings=len(vocab)\n",
        "embedding_dim= 300\n",
        "hidden_size = 256\n",
        "num_layers =3\n",
        "dropout_rate=0.25\n",
        "output_dim=len(ner_idx)\n",
        "\n",
        "model = TinyModel(num_embeddings, embedding_dim, hidden_size, num_layers, dropout_rate, output_dim).to(device)\n",
        ""
      ],
      "metadata": {
        "id": "6lf3lftpXfVV"
      },
      "id": "6lf3lftpXfVV",
      "execution_count": 10,
      "outputs": []
    },
    {
      "cell_type": "code",
      "source": [],
      "metadata": {
        "id": "I2bPZlBaXtO4"
      },
      "id": "I2bPZlBaXtO4",
      "execution_count": 10,
      "outputs": []
    },
    {
      "cell_type": "code",
      "source": [
        "\n",
        "optimizer= torch.optim.Adam(model.parameters())\n",
        "\n",
        "loss_fn = torch.nn.CrossEntropyLoss(reduction='none')"
      ],
      "metadata": {
        "id": "enyJD2ixYebx"
      },
      "id": "enyJD2ixYebx",
      "execution_count": 11,
      "outputs": []
    },
    {
      "cell_type": "markdown",
      "id": "bc1be129-803e-43dc-8302-3f88ff3145a7",
      "metadata": {
        "id": "bc1be129-803e-43dc-8302-3f88ff3145a7"
      },
      "source": [
        "### 3. Training Loop\n",
        "\n",
        "The training loop involves forward propagation, loss computation, and backpropagation. Use `CrossEntropyLoss` for classification tasks."
      ]
    },
    {
      "cell_type": "code",
      "execution_count": 12,
      "id": "752034c8-9747-4bdb-9906-cbd765f6b400",
      "metadata": {
        "colab": {
          "base_uri": "https://localhost:8080/"
        },
        "id": "752034c8-9747-4bdb-9906-cbd765f6b400",
        "outputId": "0ea1d559-ac8d-4244-9653-88a7ef240195"
      },
      "outputs": [
        {
          "output_type": "stream",
          "name": "stderr",
          "text": [
            "100%|██████████| 220/220 [00:19<00:00, 11.58it/s]\n"
          ]
        },
        {
          "output_type": "stream",
          "name": "stdout",
          "text": [
            "Train Epoch 0 Loss  0.5060301599177447\n"
          ]
        },
        {
          "output_type": "stream",
          "name": "stderr",
          "text": [
            "100%|██████████| 54/54 [00:01<00:00, 27.82it/s]\n"
          ]
        },
        {
          "output_type": "stream",
          "name": "stdout",
          "text": [
            "Test Epoch 0 Loss  0.18800431986649832\n"
          ]
        },
        {
          "output_type": "stream",
          "name": "stderr",
          "text": [
            "100%|██████████| 220/220 [00:18<00:00, 11.86it/s]\n"
          ]
        },
        {
          "output_type": "stream",
          "name": "stdout",
          "text": [
            "Train Epoch 1 Loss  0.14990165137093175\n"
          ]
        },
        {
          "output_type": "stream",
          "name": "stderr",
          "text": [
            "100%|██████████| 54/54 [00:01<00:00, 29.33it/s]\n"
          ]
        },
        {
          "output_type": "stream",
          "name": "stdout",
          "text": [
            "Test Epoch 1 Loss  0.06364694503308446\n"
          ]
        },
        {
          "output_type": "stream",
          "name": "stderr",
          "text": [
            "100%|██████████| 220/220 [00:19<00:00, 11.43it/s]\n"
          ]
        },
        {
          "output_type": "stream",
          "name": "stdout",
          "text": [
            "Train Epoch 2 Loss  0.06425425967370922\n"
          ]
        },
        {
          "output_type": "stream",
          "name": "stderr",
          "text": [
            "100%|██████████| 54/54 [00:01<00:00, 29.15it/s]\n"
          ]
        },
        {
          "output_type": "stream",
          "name": "stdout",
          "text": [
            "Test Epoch 2 Loss  0.029923102749442612\n"
          ]
        },
        {
          "output_type": "stream",
          "name": "stderr",
          "text": [
            "100%|██████████| 220/220 [00:18<00:00, 11.60it/s]\n"
          ]
        },
        {
          "output_type": "stream",
          "name": "stdout",
          "text": [
            "Train Epoch 3 Loss  0.030388006678020413\n"
          ]
        },
        {
          "output_type": "stream",
          "name": "stderr",
          "text": [
            "100%|██████████| 54/54 [00:01<00:00, 27.41it/s]\n"
          ]
        },
        {
          "output_type": "stream",
          "name": "stdout",
          "text": [
            "Test Epoch 3 Loss  0.013439030386507511\n"
          ]
        },
        {
          "output_type": "stream",
          "name": "stderr",
          "text": [
            "100%|██████████| 220/220 [00:18<00:00, 11.68it/s]\n"
          ]
        },
        {
          "output_type": "stream",
          "name": "stdout",
          "text": [
            "Train Epoch 4 Loss  0.017034032619134946\n"
          ]
        },
        {
          "output_type": "stream",
          "name": "stderr",
          "text": [
            "100%|██████████| 54/54 [00:01<00:00, 29.57it/s]\n"
          ]
        },
        {
          "output_type": "stream",
          "name": "stdout",
          "text": [
            "Test Epoch 4 Loss  0.008879449779029798\n"
          ]
        },
        {
          "output_type": "stream",
          "name": "stderr",
          "text": [
            "100%|██████████| 220/220 [00:18<00:00, 11.61it/s]\n"
          ]
        },
        {
          "output_type": "stream",
          "name": "stdout",
          "text": [
            "Train Epoch 5 Loss  0.012619216278174215\n"
          ]
        },
        {
          "output_type": "stream",
          "name": "stderr",
          "text": [
            "100%|██████████| 54/54 [00:01<00:00, 29.26it/s]\n"
          ]
        },
        {
          "output_type": "stream",
          "name": "stdout",
          "text": [
            "Test Epoch 5 Loss  0.005821500620287325\n"
          ]
        },
        {
          "output_type": "stream",
          "name": "stderr",
          "text": [
            "100%|██████████| 220/220 [00:18<00:00, 11.73it/s]\n"
          ]
        },
        {
          "output_type": "stream",
          "name": "stdout",
          "text": [
            "Train Epoch 6 Loss  0.008921975876860829\n"
          ]
        },
        {
          "output_type": "stream",
          "name": "stderr",
          "text": [
            "100%|██████████| 54/54 [00:01<00:00, 28.19it/s]\n"
          ]
        },
        {
          "output_type": "stream",
          "name": "stdout",
          "text": [
            "Test Epoch 6 Loss  0.005159369421933123\n"
          ]
        },
        {
          "output_type": "stream",
          "name": "stderr",
          "text": [
            "100%|██████████| 220/220 [00:18<00:00, 11.64it/s]\n"
          ]
        },
        {
          "output_type": "stream",
          "name": "stdout",
          "text": [
            "Train Epoch 7 Loss  0.0073117122109661896\n"
          ]
        },
        {
          "output_type": "stream",
          "name": "stderr",
          "text": [
            "100%|██████████| 54/54 [00:01<00:00, 29.27it/s]\n"
          ]
        },
        {
          "output_type": "stream",
          "name": "stdout",
          "text": [
            "Test Epoch 7 Loss  0.004243854202084347\n"
          ]
        },
        {
          "output_type": "stream",
          "name": "stderr",
          "text": [
            "100%|██████████| 220/220 [00:18<00:00, 11.60it/s]\n"
          ]
        },
        {
          "output_type": "stream",
          "name": "stdout",
          "text": [
            "Train Epoch 8 Loss  0.006388760895193131\n"
          ]
        },
        {
          "output_type": "stream",
          "name": "stderr",
          "text": [
            "100%|██████████| 54/54 [00:01<00:00, 28.83it/s]\n"
          ]
        },
        {
          "output_type": "stream",
          "name": "stdout",
          "text": [
            "Test Epoch 8 Loss  0.0041022900463926985\n"
          ]
        },
        {
          "output_type": "stream",
          "name": "stderr",
          "text": [
            "100%|██████████| 220/220 [00:18<00:00, 11.73it/s]\n"
          ]
        },
        {
          "output_type": "stream",
          "name": "stdout",
          "text": [
            "Train Epoch 9 Loss  0.005114065671064468\n"
          ]
        },
        {
          "output_type": "stream",
          "name": "stderr",
          "text": [
            "100%|██████████| 54/54 [00:01<00:00, 28.87it/s]\n"
          ]
        },
        {
          "output_type": "stream",
          "name": "stdout",
          "text": [
            "Test Epoch 9 Loss  0.0025302674430012877\n"
          ]
        }
      ],
      "source": [
        "from tqdm import tqdm\n",
        "n_epochs=10\n",
        "train_loss=[]\n",
        "test_loss=[]\n",
        "\n",
        "best_test_loss=np.inf\n",
        "for epoch in range(n_epochs):\n",
        "  model.train()\n",
        "  running_loss=[]\n",
        "  for batch in tqdm(train_dataloader):\n",
        "\n",
        "    inputs, targets= batch\n",
        "\n",
        "    inputs, targets= inputs.to(device).long(), targets.to(device).long().reshape(-1)\n",
        "\n",
        "    mask=(inputs.reshape(-1)!=train_dataset.w2i['<pad>'])\n",
        "\n",
        "    optimizer.zero_grad()\n",
        "    outputs= model(inputs).reshape(-1, output_dim)\n",
        "    loss=torch.sum(loss_fn(outputs,targets )*mask)/torch.sum(mask)\n",
        "    loss.backward()\n",
        "    optimizer.step()\n",
        "\n",
        "    running_loss.append(loss.item())\n",
        "  train_loss.append(np.mean(running_loss))\n",
        "  print('Train Epoch {} Loss  {}'.format(epoch, train_loss[-1]))\n",
        "  model.eval()\n",
        "  running_loss=[]\n",
        "  for batch in tqdm(test_dataloader):\n",
        "\n",
        "    inputs, targets= batch\n",
        "\n",
        "    inputs, targets= inputs.to(device).long(), targets.to(device).long().reshape(-1)\n",
        "\n",
        "    mask=(inputs.reshape(-1)!=train_dataset.w2i['<pad>'])\n",
        "\n",
        "    with torch.no_grad():\n",
        "      outputs= model(inputs).reshape(-1, output_dim)\n",
        "    loss=torch.sum(loss_fn(outputs,targets )*mask)/torch.sum(mask)\n",
        "    running_loss.append(loss.item())\n",
        "\n",
        "  test_loss.append(np.mean(running_loss))\n",
        "  print('Test Epoch {} Loss  {}'.format(epoch, test_loss[-1]))\n",
        "\n",
        "  if test_loss[-1] < best_test_loss:\n",
        "    best_test_loss=test_loss[-1]\n",
        "    torch.save(model.state_dict(),'best_model.pth')"
      ]
    },
    {
      "cell_type": "code",
      "source": [
        "import matplotlib.pyplot as plt\n",
        "plt.plot(train_loss, label='Train')\n",
        "plt.plot(test_loss, label='Test')\n",
        "plt.legend()"
      ],
      "metadata": {
        "colab": {
          "base_uri": "https://localhost:8080/",
          "height": 447
        },
        "id": "5qhCFZqYeRr4",
        "outputId": "09856a8d-4689-4771-a593-5144ae3e1438"
      },
      "id": "5qhCFZqYeRr4",
      "execution_count": 14,
      "outputs": [
        {
          "output_type": "execute_result",
          "data": {
            "text/plain": [
              "<matplotlib.legend.Legend at 0x7a49f03f7410>"
            ]
          },
          "metadata": {},
          "execution_count": 14
        },
        {
          "output_type": "display_data",
          "data": {
            "text/plain": [
              "<Figure size 640x480 with 1 Axes>"
            ],
            "image/png": "[encoded data removed]"
          },
          "metadata": {}
        }
      ]
    },
    {
      "cell_type": "markdown",
      "id": "60458675-5e73-47da-9d2f-a384f05f0251",
      "metadata": {
        "id": "60458675-5e73-47da-9d2f-a384f05f0251"
      },
      "source": [
        "### 4. Evaluation Process\n",
        "\n",
        "Evaluate the model on the test set using metrics like accuracy, precision, recall, and F1-score.\n"
      ]
    },
    {
      "cell_type": "code",
      "source": [
        "y_true, y_pred=[],[]\n",
        "model.eval()\n",
        "\n",
        "for batch in tqdm(test_dataloader):\n",
        "\n",
        "    inputs, targets= batch\n",
        "\n",
        "    inputs, targets= inputs.to(device).long(), targets.numpy().reshape(-1)\n",
        "\n",
        "    mask=(inputs.reshape(-1)!=train_dataset.w2i['<pad>']).cpu().numpy()\n",
        "    with torch.no_grad():\n",
        "      outputs= np.argmax(model(inputs).reshape(-1, output_dim).detach().cpu().numpy(), 1)\n",
        "    y_true.extend(targets[mask])\n",
        "    y_pred.extend( outputs[mask])\n"
      ],
      "metadata": {
        "colab": {
          "base_uri": "https://localhost:8080/"
        },
        "id": "lpRnQTTteRNS",
        "outputId": "7370646a-3b13-421e-f188-4291420cf60b"
      },
      "id": "lpRnQTTteRNS",
      "execution_count": 21,
      "outputs": [
        {
          "output_type": "stream",
          "name": "stderr",
          "text": [
            "100%|██████████| 54/54 [00:02<00:00, 24.73it/s]\n"
          ]
        }
      ]
    },
    {
      "cell_type": "code",
      "source": [
        "y_true[:10]"
      ],
      "metadata": {
        "colab": {
          "base_uri": "https://localhost:8080/"
        },
        "id": "PM0Y571EfpQ3",
        "outputId": "4369abd0-04be-44d7-b290-102bac3e2e4e"
      },
      "id": "PM0Y571EfpQ3",
      "execution_count": 24,
      "outputs": [
        {
          "output_type": "execute_result",
          "data": {
            "text/plain": [
              "[0.0, 0.0, 3.0, 4.0, 4.0, 4.0, 4.0, 4.0, 0.0, 0.0]"
            ]
          },
          "metadata": {},
          "execution_count": 24
        }
      ]
    },
    {
      "cell_type": "code",
      "source": [
        "np.mean(np.array(y_pred)== np.array(y_true))"
      ],
      "metadata": {
        "colab": {
          "base_uri": "https://localhost:8080/"
        },
        "id": "TGTMTVs2ftXW",
        "outputId": "3b791153-39a3-4037-d6b3-7e96ee975b74"
      },
      "id": "TGTMTVs2ftXW",
      "execution_count": 27,
      "outputs": [
        {
          "output_type": "execute_result",
          "data": {
            "text/plain": [
              "0.9992694821220557"
            ]
          },
          "metadata": {},
          "execution_count": 27
        }
      ]
    },
    {
      "cell_type": "code",
      "source": [
        "from sklearn.metrics import classification_report\n",
        "target_names = ner_idx.keys()\n",
        "print(classification_report(y_true, y_pred, target_names=target_names))"
      ],
      "metadata": {
        "colab": {
          "base_uri": "https://localhost:8080/"
        },
        "id": "6XAW7t57fHiw",
        "outputId": "6c72ce37-05e9-4e83-8587-2b51c9b54c00"
      },
      "id": "6XAW7t57fHiw",
      "execution_count": 28,
      "outputs": [
        {
          "output_type": "stream",
          "name": "stdout",
          "text": [
            "              precision    recall  f1-score   support\n",
            "\n",
            "           O       1.00      1.00      1.00     41744\n",
            "       B-PER       1.00      1.00      1.00      1806\n",
            "       I-PER       1.00      1.00      1.00      1358\n",
            "       B-ORG       1.00      1.00      1.00      1237\n",
            "       I-ORG       1.00      0.99      0.99       812\n",
            "       B-LOC       1.00      1.00      1.00      2128\n",
            "       I-LOC       1.00      1.00      1.00       279\n",
            "      B-MISC       0.99      1.00      0.99       952\n",
            "      I-MISC       1.00      1.00      1.00       333\n",
            "\n",
            "    accuracy                           1.00     50649\n",
            "   macro avg       1.00      1.00      1.00     50649\n",
            "weighted avg       1.00      1.00      1.00     50649\n",
            "\n"
          ]
        }
      ]
    },
    {
      "cell_type": "code",
      "execution_count": 29,
      "id": "20364c87-24ea-4471-b92a-305573b47eb2",
      "metadata": {
        "id": "20364c87-24ea-4471-b92a-305573b47eb2"
      },
      "outputs": [],
      "source": [
        "sample=test_data[0]"
      ]
    },
    {
      "cell_type": "code",
      "source": [
        "tokens=sample['tokens']\n",
        "gt=sample['ner_tags']"
      ],
      "metadata": {
        "id": "6h_R0t7egKyB"
      },
      "id": "6h_R0t7egKyB",
      "execution_count": 60,
      "outputs": []
    },
    {
      "cell_type": "code",
      "source": [
        "list(zip(tokens,gt))"
      ],
      "metadata": {
        "colab": {
          "base_uri": "https://localhost:8080/"
        },
        "id": "fepvgcNIgPRR",
        "outputId": "dd4b68b7-9d79-4935-de01-6e23e7a3362e"
      },
      "id": "fepvgcNIgPRR",
      "execution_count": 61,
      "outputs": [
        {
          "output_type": "execute_result",
          "data": {
            "text/plain": [
              "[('SOCCER', 0),\n",
              " ('-', 0),\n",
              " ('JAPAN', 5),\n",
              " ('GET', 0),\n",
              " ('LUCKY', 0),\n",
              " ('WIN', 0),\n",
              " (',', 0),\n",
              " ('CHINA', 1),\n",
              " ('IN', 0),\n",
              " ('SURPRISE', 0),\n",
              " ('DEFEAT', 0),\n",
              " ('.', 0)]"
            ]
          },
          "metadata": {},
          "execution_count": 61
        }
      ]
    },
    {
      "cell_type": "code",
      "source": [],
      "metadata": {
        "id": "VFwDu3VzhPig"
      },
      "id": "VFwDu3VzhPig",
      "execution_count": null,
      "outputs": []
    },
    {
      "cell_type": "code",
      "source": [
        "idxs=[train_dataset.w2i[token.lower()] for token in tokens]"
      ],
      "metadata": {
        "id": "NFYK3nrAgQS3"
      },
      "id": "NFYK3nrAgQS3",
      "execution_count": 84,
      "outputs": []
    },
    {
      "cell_type": "code",
      "source": [
        "idxs"
      ],
      "metadata": {
        "colab": {
          "base_uri": "https://localhost:8080/"
        },
        "id": "LIRfGneXgW5u",
        "outputId": "4ee5d167-012b-4dda-b376-503a67786cb3"
      },
      "id": "LIRfGneXgW5u",
      "execution_count": 85,
      "outputs": [
        {
          "output_type": "execute_result",
          "data": {
            "text/plain": [
              "[1754, 635, 1672, 1992, 6417, 2301, 68, 340, 228, 3800, 3773, 8]"
            ]
          },
          "metadata": {},
          "execution_count": 85
        }
      ]
    },
    {
      "cell_type": "code",
      "source": [
        "inputs=np.ones(113)*train_dataset.w2i['<pad>']\n",
        "inputs[:len(idxs)]=idxs"
      ],
      "metadata": {
        "id": "gKRlEqqPinY4"
      },
      "id": "gKRlEqqPinY4",
      "execution_count": 90,
      "outputs": []
    },
    {
      "cell_type": "code",
      "source": [
        "inputs=torch.from_numpy(inputs).unsqueeze(0).to(device).long()"
      ],
      "metadata": {
        "id": "HdRVTZFOgXow"
      },
      "id": "HdRVTZFOgXow",
      "execution_count": 91,
      "outputs": []
    },
    {
      "cell_type": "code",
      "source": [
        "inputs.shape"
      ],
      "metadata": {
        "colab": {
          "base_uri": "https://localhost:8080/"
        },
        "id": "LAhqiJg4jF14",
        "outputId": "eb448ed8-cd78-4002-d5c2-ecea52ce1ab4"
      },
      "id": "LAhqiJg4jF14",
      "execution_count": 92,
      "outputs": [
        {
          "output_type": "execute_result",
          "data": {
            "text/plain": [
              "torch.Size([1, 113])"
            ]
          },
          "metadata": {},
          "execution_count": 92
        }
      ]
    },
    {
      "cell_type": "code",
      "source": [
        "with torch.no_grad():\n",
        "      outputs= torch.nn.functional.softmax(model(inputs),-1).detach().cpu().numpy()[:,:len(idxs)]"
      ],
      "metadata": {
        "id": "ouoJ29YLggHi"
      },
      "id": "ouoJ29YLggHi",
      "execution_count": 93,
      "outputs": []
    },
    {
      "cell_type": "code",
      "source": [
        "outputs.shape"
      ],
      "metadata": {
        "colab": {
          "base_uri": "https://localhost:8080/"
        },
        "id": "WZA8nSAIg2-h",
        "outputId": "c2f41dc1-715b-4ea8-b9dd-24169d1e6698"
      },
      "id": "WZA8nSAIg2-h",
      "execution_count": 94,
      "outputs": [
        {
          "output_type": "execute_result",
          "data": {
            "text/plain": [
              "(1, 12, 9)"
            ]
          },
          "metadata": {},
          "execution_count": 94
        }
      ]
    },
    {
      "cell_type": "code",
      "source": [
        "plt.plot(outputs[0][0])"
      ],
      "metadata": {
        "colab": {
          "base_uri": "https://localhost:8080/",
          "height": 447
        },
        "id": "LNkH8alXhDzK",
        "outputId": "56ff8570-b62c-4c31-f43f-aed0ec85f07d"
      },
      "id": "LNkH8alXhDzK",
      "execution_count": 95,
      "outputs": [
        {
          "output_type": "execute_result",
          "data": {
            "text/plain": [
              "[<matplotlib.lines.Line2D at 0x7a497a1c7510>]"
            ]
          },
          "metadata": {},
          "execution_count": 95
        },
        {
          "output_type": "display_data",
          "data": {
            "text/plain": [
              "<Figure size 640x480 with 1 Axes>"
            ],
            "image/png": "[encoded data removed]"
          },
          "metadata": {}
        }
      ]
    },
    {
      "cell_type": "code",
      "source": [
        "outputs.shape"
      ],
      "metadata": {
        "colab": {
          "base_uri": "https://localhost:8080/"
        },
        "id": "Tp80g-06i-Ss",
        "outputId": "67890675-50db-457c-9394-5ce72ce08bc2"
      },
      "id": "Tp80g-06i-Ss",
      "execution_count": 96,
      "outputs": [
        {
          "output_type": "execute_result",
          "data": {
            "text/plain": [
              "(1, 12, 9)"
            ]
          },
          "metadata": {},
          "execution_count": 96
        }
      ]
    },
    {
      "cell_type": "code",
      "source": [
        "np.argmax(outputs, -1), gt"
      ],
      "metadata": {
        "colab": {
          "base_uri": "https://localhost:8080/"
        },
        "id": "s1HWAI6VgwKx",
        "outputId": "cfd9eea6-c5d2-4cf7-a3a7-2711125ca374"
      },
      "id": "s1HWAI6VgwKx",
      "execution_count": 97,
      "outputs": [
        {
          "output_type": "execute_result",
          "data": {
            "text/plain": [
              "(array([[0, 0, 5, 0, 0, 0, 0, 5, 0, 0, 0, 0]]),\n",
              " [0, 0, 5, 0, 0, 0, 0, 1, 0, 0, 0, 0])"
            ]
          },
          "metadata": {},
          "execution_count": 97
        }
      ]
    },
    {
      "cell_type": "code",
      "source": [
        "train_dataset.idx_ner"
      ],
      "metadata": {
        "colab": {
          "base_uri": "https://localhost:8080/"
        },
        "id": "O6foAkkFiXWo",
        "outputId": "e28eb53d-8689-4207-d2a1-45f0761cb2ec"
      },
      "id": "O6foAkkFiXWo",
      "execution_count": 69,
      "outputs": [
        {
          "output_type": "execute_result",
          "data": {
            "text/plain": [
              "{0: 'O',\n",
              " 1: 'B-PER',\n",
              " 2: 'I-PER',\n",
              " 3: 'B-ORG',\n",
              " 4: 'I-ORG',\n",
              " 5: 'B-LOC',\n",
              " 6: 'I-LOC',\n",
              " 7: 'B-MISC',\n",
              " 8: 'I-MISC'}"
            ]
          },
          "metadata": {},
          "execution_count": 69
        }
      ]
    },
    {
      "cell_type": "code",
      "source": [
        "[train_dataset.idx_ner[idx] for idx in list(np.argmax(outputs, -1))[0]]"
      ],
      "metadata": {
        "colab": {
          "base_uri": "https://localhost:8080/"
        },
        "id": "H8PMQqhMiKnX",
        "outputId": "3024e9c8-ddeb-4262-ddf8-36579aa0bbd6"
      },
      "id": "H8PMQqhMiKnX",
      "execution_count": 73,
      "outputs": [
        {
          "output_type": "execute_result",
          "data": {
            "text/plain": [
              "['O', 'O', 'B-LOC', 'O', 'O', 'O', 'O', 'B-LOC', 'O', 'O', 'O', 'O']"
            ]
          },
          "metadata": {},
          "execution_count": 73
        }
      ]
    },
    {
      "cell_type": "code",
      "source": [
        "np.mean(np.argmax(outputs, -1)==np.array(gt))"
      ],
      "metadata": {
        "colab": {
          "base_uri": "https://localhost:8080/"
        },
        "id": "o2ljIKLkh4fD",
        "outputId": "19cf62d6-e85f-4d68-c261-9cc105d09e7b"
      },
      "id": "o2ljIKLkh4fD",
      "execution_count": 63,
      "outputs": [
        {
          "output_type": "execute_result",
          "data": {
            "text/plain": [
              "0.9166666666666666"
            ]
          },
          "metadata": {},
          "execution_count": 63
        }
      ]
    },
    {
      "cell_type": "code",
      "source": [
        "1/12"
      ],
      "metadata": {
        "colab": {
          "base_uri": "https://localhost:8080/"
        },
        "id": "pxZyV_8diBHQ",
        "outputId": "6de80b37-0200-44e8-f6a6-b94a43b568d2"
      },
      "id": "pxZyV_8diBHQ",
      "execution_count": 64,
      "outputs": [
        {
          "output_type": "execute_result",
          "data": {
            "text/plain": [
              "0.08333333333333333"
            ]
          },
          "metadata": {},
          "execution_count": 64
        }
      ]
    }
  ],
  "metadata": {
    "kernelspec": {
      "display_name": "Python [conda env:base] *",
      "language": "python",
      "name": "conda-base-py"
    },
    "language_info": {
      "codemirror_mode": {
        "name": "ipython",
        "version": 3
      },
      "file_extension": ".py",
      "mimetype": "text/x-python",
      "name": "python",
      "nbconvert_exporter": "python",
      "pygments_lexer": "ipython3",
      "version": "3.12.2"
    },
    "colab": {
      "provenance": [],
      "gpuType": "T4"
    },
    "accelerator": "GPU"
  },
  "nbformat": 4,
  "nbformat_minor": 5
}