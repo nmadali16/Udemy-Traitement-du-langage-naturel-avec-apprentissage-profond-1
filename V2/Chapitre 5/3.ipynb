{
  "cells": [
    {
      "cell_type": "markdown",
      "id": "96da7dce-d793-431e-b422-4c5ccb07b3f5",
      "metadata": {
        "id": "96da7dce-d793-431e-b422-4c5ccb07b3f5"
      },
      "source": [
        "## Sentiment Classification using Pretrained LSTM\n",
        "In this notebook, we will leverage a pretrained LSTM model trained on language modeling on the IMDB dataset.\n",
        "We will fine-tune this model for sentiment classification, a supervised learning task.\n",
        "\n",
        "### **Why Pretraining is Important:**\n",
        "Pretraining allows the model to learn general language representations from a large amount of unlabeled text data. These representations can then be adapted to specific downstream tasks (like sentiment classification) with less labeled data and training time. Pretraining provides:\n",
        "- A better initialization for the model parameters.\n",
        "- Faster convergence during fine-tuning.\n",
        "- Improved performance on downstream tasks.\n",
        "\n",
        "\n"
      ]
    },
    {
      "cell_type": "code",
      "source": [
        "#!pip install datasets"
      ],
      "metadata": {
        "id": "c5MLuXFMveGm"
      },
      "id": "c5MLuXFMveGm",
      "execution_count": null,
      "outputs": []
    },
    {
      "cell_type": "markdown",
      "id": "41d6e3f5-4800-44ca-be62-aae8319c6f7e",
      "metadata": {
        "id": "41d6e3f5-4800-44ca-be62-aae8319c6f7e"
      },
      "source": [
        "### Dataset Loading\n",
        "\n",
        "For this task, we use the IMDB dataset, which is a collection of movie reviews labeled as positive or negative.\n",
        "\n"
      ]
    },
    {
      "cell_type": "code",
      "execution_count": null,
      "id": "ff2c6675-93ab-4206-a0c8-54756ed5e099",
      "metadata": {
        "colab": {
          "base_uri": "https://localhost:8080/"
        },
        "id": "ff2c6675-93ab-4206-a0c8-54756ed5e099",
        "outputId": "12992202-76cd-408e-e6cb-2da9e8c18290"
      },
      "outputs": [
        {
          "output_type": "stream",
          "name": "stderr",
          "text": [
            "/usr/local/lib/python3.11/dist-packages/huggingface_hub/utils/_auth.py:94: UserWarning: \n",
            "The secret `HF_TOKEN` does not exist in your Colab secrets.\n",
            "To authenticate with the Hugging Face Hub, create a token in your settings tab (https://huggingface.co/settings/tokens), set it as secret in your Google Colab and restart your session.\n",
            "You will be able to reuse this secret in all of your notebooks.\n",
            "Please note that authentication is recommended but still optional to access public models or datasets.\n",
            "  warnings.warn(\n"
          ]
        }
      ],
      "source": [
        "import torch\n",
        "import torch.nn as nn\n",
        "import tqdm\n",
        "from torch.utils.data import Dataset, DataLoader\n",
        "import numpy as np\n",
        "import datasets\n",
        "\n",
        "train_data, test_data = datasets.load_dataset(\"imdb\", split=[\"train\", \"test\"])"
      ]
    },
    {
      "cell_type": "code",
      "execution_count": null,
      "id": "8ae9827a-7bbd-4e80-b7a5-7ed522240591",
      "metadata": {
        "id": "8ae9827a-7bbd-4e80-b7a5-7ed522240591"
      },
      "outputs": [],
      "source": [
        "train_text=[sample['text'] for sample in train_data]"
      ]
    },
    {
      "cell_type": "markdown",
      "id": "d2ab0602-5cc6-42ca-9e63-71679da8998a",
      "metadata": {
        "id": "d2ab0602-5cc6-42ca-9e63-71679da8998a"
      },
      "source": [
        "### Tokenization and Vocabulary Creation\n",
        "Tokenization is the process of splitting text into smaller units, such as words or subwords.\n",
        "\n",
        "After tokenization, we build a vocabulary. The vocabulary maps tokens to unique indices, which will be used as input to the model."
      ]
    },
    {
      "cell_type": "code",
      "execution_count": null,
      "id": "9631cd57-3e3b-4edd-8fa1-c0a287fb252e",
      "metadata": {
        "id": "9631cd57-3e3b-4edd-8fa1-c0a287fb252e"
      },
      "outputs": [],
      "source": [
        "from collections import Counter\n",
        "class Tokenizer:\n",
        "  def __init__(self, stop_words, puncts, truncation_size=256  ):\n",
        "\n",
        "    self.stop_words=stop_words\n",
        "    self.puncts=puncts\n",
        "    self.df = {}\n",
        "    self.truncation_size=truncation_size\n",
        "  def format_string(self, text):\n",
        "      tokens=[ token for token  in text.lower().split() if not ((token in self.stop_words) or  (token in self.puncts))   ]\n",
        "      return tokens\n",
        "\n",
        "  def tokenize(self, text, truncation=False):\n",
        "      tokens=self.format_string(text)\n",
        "      tmp=[]\n",
        "      for token in tokens:\n",
        "          if token in self.w2i :\n",
        "              tmp.append(self.w2i[token])\n",
        "          else:\n",
        "              tmp.append(self.w2i['<unk>'])\n",
        "\n",
        "      if truncation:\n",
        "          tmp=tmp[: self.truncation_size]\n",
        "          output= np.ones(self.truncation_size )*self.w2i['<pad>']\n",
        "          #output[0]=self.w2i['<bos>']\n",
        "          #output[-1]=self.w2i['<eos>']\n",
        "          output[: len(tmp)]=tmp\n",
        "          return list(output), len(tmp)\n",
        "      else:\n",
        "          return tmp, len(tmp)\n",
        "  def detokenize(self, idxs):\n",
        "      words=[self.i2w[idx] for idx in idxs]\n",
        "\n",
        "      return ''.join(word+' ' for word in words )\n",
        "  def fit(self, train_text):\n",
        "    for text in train_text:\n",
        "        tokens=self.format_string(text)\n",
        "        for token, count in Counter(tokens).items():\n",
        "            if token in self.df:\n",
        "                self.df[token]+=count\n",
        "            else:\n",
        "                self.df[token]=count\n",
        "    self.w2i={}\n",
        "    idx_count=0\n",
        "    for  (k,v) in  self.df.items():\n",
        "        if v>5:\n",
        "          self.w2i[k]=idx_count\n",
        "          idx_count+=1\n",
        "\n",
        "    for k in ['<unk>', '<pad>', '<bos>', '<eos>']:\n",
        "      self.w2i[k]=idx_count\n",
        "      idx_count+=1\n",
        "\n",
        "\n",
        "    self.i2w = { v:k for (k,v) in  self.w2i .items() }\n"
      ]
    },
    {
      "cell_type": "code",
      "source": [
        "stop_words= []\n",
        "puncts=  []"
      ],
      "metadata": {
        "id": "oNK5fZhsvmNx"
      },
      "id": "oNK5fZhsvmNx",
      "execution_count": null,
      "outputs": []
    },
    {
      "cell_type": "code",
      "source": [
        "tokenizer=Tokenizer(stop_words , puncts)\n",
        "tokenizer.fit(train_text)"
      ],
      "metadata": {
        "id": "xd041XyXvmVQ"
      },
      "id": "xd041XyXvmVQ",
      "execution_count": null,
      "outputs": []
    },
    {
      "cell_type": "markdown",
      "id": "3dca6d1b-8e81-407c-8da3-bdbea5654497",
      "metadata": {
        "id": "3dca6d1b-8e81-407c-8da3-bdbea5654497"
      },
      "source": [
        "### Dataset Creation\n",
        "We create a PyTorch dataset by converting tokenized text into sequences of token indices.\n",
        "Padding ensures that all sequences in a batch have the same length."
      ]
    },
    {
      "cell_type": "code",
      "execution_count": null,
      "id": "ae4b3808-aea4-43e9-8c1a-40ee97f73c38",
      "metadata": {
        "id": "ae4b3808-aea4-43e9-8c1a-40ee97f73c38"
      },
      "outputs": [],
      "source": [
        "class CustomDataset(Dataset):\n",
        "    def __init__(self, train_data, tokenizer, return_type='Ids'):\n",
        "        \"\"\"\n",
        "        Initialize the dataset with data and targets.\n",
        "        Args:\n",
        "            data: The input data (e.g., features).\n",
        "            targets: The corresponding labels or targets.\n",
        "        \"\"\"\n",
        "        self.train_data = train_data\n",
        "        self.tokenizer = tokenizer\n",
        "        self. return_type=return_type # BoG, Tf-Idf Ids\n",
        "    def __len__(self):\n",
        "        \"\"\"\n",
        "        Return the total number of samples.\n",
        "        \"\"\"\n",
        "        return len(self.train_data)\n",
        "\n",
        "    def __getitem__(self, idx):\n",
        "        \"\"\"\n",
        "        Retrieve a sample and its target at the given index.\n",
        "        \"\"\"\n",
        "        text,label= self.train_data[idx]['text'], self.train_data[idx]['label']\n",
        "\n",
        "        if self.return_type=='Ids'  :\n",
        "            idxs, length=self.tokenizer.tokenize(text, truncation=True)\n",
        "            idxs= np.array(idxs).astype('int32')\n",
        "            return idxs, length, label\n",
        "        elif self.return_type=='BoG':\n",
        "            vec=np.zeros(len(self.tokenizer.w2i))\n",
        "            idxs= self.tokenizer.tokenize(text)\n",
        "            for idx in idxs:\n",
        "                vec[idx]+=1\n",
        "            return vec, label\n",
        "        else:\n",
        "            tf=np.zeros(len(self.tokenizer.w2i))\n",
        "            idxs= self.tokenizer.tokenize(text)\n",
        "            for idx in idxs:\n",
        "                tf[idx]+=1\n",
        "            tf/=len(idxs)\n",
        "\n",
        "            for i in range(len(tf)):\n",
        "                tf[i]*=self.tokenizer.idf[i]\n",
        "            return tf, label"
      ]
    },
    {
      "cell_type": "code",
      "source": [
        "train_dataset = CustomDataset(train_data, tokenizer)\n",
        "test_dataset = CustomDataset(test_data, tokenizer)"
      ],
      "metadata": {
        "id": "ao_rwVJkvrzn"
      },
      "id": "ao_rwVJkvrzn",
      "execution_count": null,
      "outputs": []
    },
    {
      "cell_type": "code",
      "source": [
        "train_dataset[3]"
      ],
      "metadata": {
        "colab": {
          "base_uri": "https://localhost:8080/"
        },
        "id": "60gCjkgkycUd",
        "outputId": "c0036df0-2fad-497f-b032-0c5e79295feb"
      },
      "id": "60gCjkgkycUd",
      "execution_count": null,
      "outputs": [
        {
          "output_type": "execute_result",
          "data": {
            "text/plain": [
              "(array([   33,   153,    16,   329,   330,    25,   331, 40131, 40131,\n",
              "           85,     0,   332,   265,    31,    43,    12,   153,   333,\n",
              "           46,    47,   153,    98,   334,   335,   336,    85,   217,\n",
              "          337,   338,    10,   339,   340,   341,    10,   342,   343,\n",
              "          344, 40131,   345,     3,   346,    75,   347,   106,   348,\n",
              "           49,    10,   349,   350,     8,   351,    57, 40131,    98,\n",
              "           31,   163,   348,   352,   353,    19,    10,   354,    62,\n",
              "          355,   303,   356,    85,   100,     9,    10,   111,    19,\n",
              "           33, 40131, 40131,   357,    31,   331,   358, 40131,    98,\n",
              "          359,   360,   100,   361,   307,   362,   363,   115,    74,\n",
              "           33,   364,     0,   365,   366,    12,   367,     3,    10,\n",
              "          252,    19,   368,    89,    10,   369,    85,    10,    53,\n",
              "          370,    46,   371,   372,     8,   373,   374,    85,   375,\n",
              "          376, 40132, 40132, 40132, 40132, 40132, 40132, 40132, 40132,\n",
              "        40132, 40132, 40132, 40132, 40132, 40132, 40132, 40132, 40132,\n",
              "        40132, 40132, 40132, 40132, 40132, 40132, 40132, 40132, 40132,\n",
              "        40132, 40132, 40132, 40132, 40132, 40132, 40132, 40132, 40132,\n",
              "        40132, 40132, 40132, 40132, 40132, 40132, 40132, 40132, 40132,\n",
              "        40132, 40132, 40132, 40132, 40132, 40132, 40132, 40132, 40132,\n",
              "        40132, 40132, 40132, 40132, 40132, 40132, 40132, 40132, 40132,\n",
              "        40132, 40132, 40132, 40132, 40132, 40132, 40132, 40132, 40132,\n",
              "        40132, 40132, 40132, 40132, 40132, 40132, 40132, 40132, 40132,\n",
              "        40132, 40132, 40132, 40132, 40132, 40132, 40132, 40132, 40132,\n",
              "        40132, 40132, 40132, 40132, 40132, 40132, 40132, 40132, 40132,\n",
              "        40132, 40132, 40132, 40132, 40132, 40132, 40132, 40132, 40132,\n",
              "        40132, 40132, 40132, 40132, 40132, 40132, 40132, 40132, 40132,\n",
              "        40132, 40132, 40132, 40132, 40132, 40132, 40132, 40132, 40132,\n",
              "        40132, 40132, 40132, 40132, 40132, 40132, 40132, 40132, 40132,\n",
              "        40132, 40132, 40132, 40132], dtype=int32),\n",
              " 118,\n",
              " 0)"
            ]
          },
          "metadata": {},
          "execution_count": 9
        }
      ]
    },
    {
      "cell_type": "code",
      "source": [
        "train_dataset[3][0][:10]"
      ],
      "metadata": {
        "colab": {
          "base_uri": "https://localhost:8080/"
        },
        "id": "Y0dQRDBrwiPN",
        "outputId": "dec7645b-7a0a-4217-8dec-0f0ca673146c"
      },
      "id": "Y0dQRDBrwiPN",
      "execution_count": null,
      "outputs": [
        {
          "output_type": "execute_result",
          "data": {
            "text/plain": [
              "array([   33,   153,    16,   329,   330,    25,   331, 40131, 40131,\n",
              "          85], dtype=int32)"
            ]
          },
          "metadata": {},
          "execution_count": 10
        }
      ]
    },
    {
      "cell_type": "code",
      "source": [
        "\n",
        "\n",
        "tokenizer.detokenize(train_dataset[3][0])"
      ],
      "metadata": {
        "colab": {
          "base_uri": "https://localhost:8080/",
          "height": 105
        },
        "id": "-oBgKT2Vwj8_",
        "outputId": "e4d0156b-56a9-4562-db27-247584780475"
      },
      "id": "-oBgKT2Vwj8_",
      "execution_count": null,
      "outputs": [
        {
          "output_type": "execute_result",
          "data": {
            "text/plain": [
              "\"this film was probably inspired by godard's <unk> <unk> and i urge you to see that film instead.<br /><br />the film has two strong elements and those are, (1) the realistic acting (2) the impressive, undeservedly good, <unk> apart from that, what strikes me most is the endless stream of silliness. lena <unk> has to be most annoying actress in the world. she acts so stupid and with all the nudity in this <unk> <unk> comparing to godard's film, <unk> has been replaced with stupidity. without going too far on this subject, i would say that follows from the difference in ideals between the french and the swedish society.<br /><br />a movie of its time, and place. 2/10. <pad> <pad> <pad> <pad> <pad> <pad> <pad> <pad> <pad> <pad> <pad> <pad> <pad> <pad> <pad> <pad> <pad> <pad> <pad> <pad> <pad> <pad> <pad> <pad> <pad> <pad> <pad> <pad> <pad> <pad> <pad> <pad> <pad> <pad> <pad> <pad> <pad> <pad> <pad> <pad> <pad> <pad> <pad> <pad> <pad> <pad> <pad> <pad> <pad> <pad> <pad> <pad> <pad> <pad> <pad> <pad> <pad> <pad> <pad> <pad> <pad> <pad> <pad> <pad> <pad> <pad> <pad> <pad> <pad> <pad> <pad> <pad> <pad> <pad> <pad> <pad> <pad> <pad> <pad> <pad> <pad> <pad> <pad> <pad> <pad> <pad> <pad> <pad> <pad> <pad> <pad> <pad> <pad> <pad> <pad> <pad> <pad> <pad> <pad> <pad> <pad> <pad> <pad> <pad> <pad> <pad> <pad> <pad> <pad> <pad> <pad> <pad> <pad> <pad> <pad> <pad> <pad> <pad> <pad> <pad> <pad> <pad> <pad> <pad> <pad> <pad> <pad> <pad> <pad> <pad> <pad> <pad> <pad> <pad> <pad> <pad> <pad> <pad> \""
            ],
            "application/vnd.google.colaboratory.intrinsic+json": {
              "type": "string"
            }
          },
          "metadata": {},
          "execution_count": 11
        }
      ]
    },
    {
      "cell_type": "markdown",
      "id": "68d0516d-2e4e-42b4-8965-d8f22fcdb524",
      "metadata": {
        "id": "68d0516d-2e4e-42b4-8965-d8f22fcdb524"
      },
      "source": [
        "### DataLoader Creation\n",
        "DataLoaders in PyTorch help in batching and shuffling the data for training and evaluation."
      ]
    },
    {
      "cell_type": "code",
      "execution_count": null,
      "id": "fdf1319f-0e99-4c66-befd-7d9f024bb9ba",
      "metadata": {
        "id": "fdf1319f-0e99-4c66-befd-7d9f024bb9ba"
      },
      "outputs": [],
      "source": [
        "train_dataloader = DataLoader(train_dataset, batch_size=32, shuffle=True)\n",
        "\n",
        "test_dataloader = DataLoader(test_dataset, batch_size=32, shuffle=False)"
      ]
    },
    {
      "cell_type": "markdown",
      "id": "9524028b-ba22-4179-9485-041fa63b23c8",
      "metadata": {
        "id": "9524028b-ba22-4179-9485-041fa63b23c8"
      },
      "source": [
        "### PyTorch Model Creation\n",
        "We define an LSTM-based model for text classification. The model consists of:\n",
        "- An Embedding layer to convert token indices to dense vectors.\n",
        "- An LSTM layer to capture sequential patterns in the text.\n",
        "- A fully connected layer for classification."
      ]
    },
    {
      "cell_type": "code",
      "execution_count": null,
      "id": "37e8fc6c-dca4-4eb0-a039-71b5367f0c62",
      "metadata": {
        "id": "37e8fc6c-dca4-4eb0-a039-71b5367f0c62"
      },
      "outputs": [],
      "source": [
        "class LM(torch.nn.Module):\n",
        "\n",
        "    def __init__(self, embedding_size, vocab_size, hidden_size, pad_index):\n",
        "        super(LM, self).__init__()\n",
        "\n",
        "        self.embedding = nn.Embedding(num_embeddings=vocab_size, embedding_dim=embedding_size, padding_idx=pad_index)\n",
        "        self.lstm= nn.LSTM(embedding_size, hidden_size, num_layers=1, dropout=0.25, batch_first=True)\n",
        "\n",
        "        self.cls= nn.Linear(hidden_size, vocab_size)\n",
        "\n",
        "\n",
        "    def forward(self, idxs):\n",
        "        x = self.embedding (idxs)\n",
        "        hidden_states, (hn, cn)= self.lstm(x)\n",
        "        predictions= self.cls(hidden_states)\n",
        "        return predictions\n",
        "    def sent_ebedding(self, idxs, lengths, pooling_type='mean'):\n",
        "\n",
        "      bs,seq_len =idxs.shape\n",
        "      x = self.embedding (idxs)\n",
        "      hidden_states, (hn, cn)= self.lstm(x)\n",
        "\n",
        "      if pooling_type=='none':\n",
        "        ret=[]\n",
        "        for i in range(bs):\n",
        "              ret.append(hidden_states[i, lengths[i]-1,])\n",
        "      else:\n",
        "        ret = [\n",
        "        torch.sum(hidden_states[i, :l, :], dim=0) / l for i, l in enumerate(lengths)\n",
        "       ]\n",
        "      return torch.stack(ret)\n",
        "\n"
      ]
    },
    {
      "cell_type": "code",
      "source": [
        "class Classifier(torch.nn.Module):\n",
        "\n",
        "    def __init__(self, output_dim, embedding_size, vocab_size, hidden_size, pad_index, dropout_rate=0.25):\n",
        "        super(Classifier, self).__init__()\n",
        "\n",
        "        self.lm = LM(embedding_size, vocab_size, hidden_size, pad_index)\n",
        "        self.dropout = nn.Dropout(dropout_rate)\n",
        "        self.cls= nn.Linear(hidden_size, output_dim)\n",
        "\n",
        "\n",
        "    def forward(self, idxs, lengths):\n",
        "\n",
        "        sent_emb =self.dropout(self.lm.sent_ebedding(idxs, lengths))\n",
        "\n",
        "        predictions= self.cls(sent_emb)\n",
        "        return predictions"
      ],
      "metadata": {
        "id": "vyiPHG4P1V8E"
      },
      "id": "vyiPHG4P1V8E",
      "execution_count": null,
      "outputs": []
    },
    {
      "cell_type": "code",
      "source": [
        "\n",
        "hidden_size=256\n",
        "embedding_size=300\n",
        "vocab_size=len(tokenizer.w2i)\n",
        "pad_index=tokenizer.w2i['<pad>']\n",
        "\n",
        "\n",
        "device = torch.device(\"cuda\" if torch.cuda.is_available() else \"cpu\")\n",
        "model=Classifier(1, embedding_size, vocab_size, hidden_size, pad_index).to(device)\n"
      ],
      "metadata": {
        "colab": {
          "base_uri": "https://localhost:8080/"
        },
        "id": "vMtOuvrpzqNs",
        "outputId": "ac0e45b0-fc0d-4e0c-998f-2df5ea336db8"
      },
      "id": "vMtOuvrpzqNs",
      "execution_count": null,
      "outputs": [
        {
          "output_type": "stream",
          "name": "stderr",
          "text": [
            "/usr/local/lib/python3.11/dist-packages/torch/nn/modules/rnn.py:123: UserWarning: dropout option adds dropout after all but last recurrent layer, so non-zero dropout expects num_layers greater than 1, but got dropout=0.25 and num_layers=1\n",
            "  warnings.warn(\n"
          ]
        }
      ]
    },
    {
      "cell_type": "code",
      "source": [
        "#!gdown --id 1xe0oDV5TNml_3XonkrhLzRZ1QO4XAw9A"
      ],
      "metadata": {
        "id": "ExO-jewf2L6j"
      },
      "id": "ExO-jewf2L6j",
      "execution_count": null,
      "outputs": []
    },
    {
      "cell_type": "markdown",
      "id": "4cd86607-c310-4a4d-ba29-3a42aaf40640",
      "metadata": {
        "id": "4cd86607-c310-4a4d-ba29-3a42aaf40640"
      },
      "source": [
        "### Loading Pretrained Model\n",
        "We load the pretrained LSTM weights into the current model to leverage the knowledge gained from language modeling."
      ]
    },
    {
      "cell_type": "code",
      "source": [
        "import os\n",
        "if os.path.isfile('pretrained_lstm.pth'):\n",
        "  model.lm.load_state_dict(torch.load('pretrained_lstm.pth'))"
      ],
      "metadata": {
        "colab": {
          "base_uri": "https://localhost:8080/"
        },
        "id": "fM-NoOL2wufR",
        "outputId": "f6cef2dd-b228-41b3-bfa7-4ece8804b603"
      },
      "id": "fM-NoOL2wufR",
      "execution_count": null,
      "outputs": [
        {
          "output_type": "stream",
          "name": "stderr",
          "text": [
            "<ipython-input-17-19fd2cbe0c71>:3: FutureWarning: You are using `torch.load` with `weights_only=False` (the current default value), which uses the default pickle module implicitly. It is possible to construct malicious pickle data which will execute arbitrary code during unpickling (See https://github.com/pytorch/pytorch/blob/main/SECURITY.md#untrusted-models for more details). In a future release, the default value for `weights_only` will be flipped to `True`. This limits the functions that could be executed during unpickling. Arbitrary objects will no longer be allowed to be loaded via this mode unless they are explicitly allowlisted by the user via `torch.serialization.add_safe_globals`. We recommend you start setting `weights_only=True` for any use case where you don't have full control of the loaded file. Please open an issue on GitHub for any issues related to this experimental feature.\n",
            "  model.lm.load_state_dict(torch.load('pretrained_lstm.pth'))\n"
          ]
        }
      ]
    },
    {
      "cell_type": "markdown",
      "id": "6c5475f8-77d7-47c2-bcd2-b6be2d7ae01d",
      "metadata": {
        "id": "6c5475f8-77d7-47c2-bcd2-b6be2d7ae01d"
      },
      "source": [
        "### Optimizer and Loss Creation\n",
        "We use:\n",
        " - CrossEntropyLoss for classification.\n",
        " - Adam optimizer for faster convergence."
      ]
    },
    {
      "cell_type": "code",
      "execution_count": null,
      "id": "d6cd1472-65e6-4772-a65e-cfe97bf4d5fa",
      "metadata": {
        "id": "d6cd1472-65e6-4772-a65e-cfe97bf4d5fa"
      },
      "outputs": [],
      "source": [
        "criterion = torch.nn.BCEWithLogitsLoss()\n",
        "# Optimizers specified in the torch.optim package\n",
        "optimizer = torch.optim.Adam(model.parameters())"
      ]
    },
    {
      "cell_type": "markdown",
      "id": "5e91441b-6f4f-4c3a-85b1-815946b79028",
      "metadata": {
        "id": "5e91441b-6f4f-4c3a-85b1-815946b79028"
      },
      "source": [
        "\n",
        "### Training the Model\n",
        "We fine-tune the pretrained model on the sentiment classification task.\n",
        "The training loop includes:\n",
        "- Forward pass: Compute predictions.\n",
        "- Loss computation: Calculate the difference between predictions and ground truth.\n",
        "- Backward pass: Update model parameters using gradients."
      ]
    },
    {
      "cell_type": "code",
      "source": [
        "def train_one_epoch(epoch_index, training_loader, loss_fn, print_every=100):\n",
        "\n",
        "    running_loss = []\n",
        "\n",
        "    # Here, we use enumerate(training_loader) instead of\n",
        "    # iter(training_loader) so that we can track the batch\n",
        "    # index and do some intra-epoch reporting\n",
        "    for i, batch in enumerate(training_loader):\n",
        "        # Every data instance is an input + label pair\n",
        "        inputs, lengths, labels=batch\n",
        "        inputs, labels=inputs.to(device).long(), labels.to(device).float()\n",
        "\n",
        "        # Zero your gradients for every batch!\n",
        "        optimizer.zero_grad()\n",
        "\n",
        "        # Make predictions for this batch\n",
        "        outputs = model(inputs, lengths)\n",
        "\n",
        "        # Compute the loss and its gradients\n",
        "        loss = loss_fn(outputs.reshape(-1), labels.reshape(-1))\n",
        "        loss.backward()\n",
        "\n",
        "        # Adjust learning weights\n",
        "        optimizer.step()\n",
        "\n",
        "        # Gather data and report\n",
        "        running_loss.append(loss.item())\n",
        "        if i % print_every == (print_every-1):\n",
        "            last_loss =  np.mean(running_loss) # loss per batch\n",
        "            print('Train {}  batch {} / {} loss: {}'.format(epoch_index, i + 1, len(training_loader), last_loss))\n",
        "\n",
        "\n",
        "\n",
        "    return np.mean(running_loss)"
      ],
      "metadata": {
        "id": "L2dxZZvR3bzP"
      },
      "id": "L2dxZZvR3bzP",
      "execution_count": null,
      "outputs": []
    },
    {
      "cell_type": "code",
      "source": [
        "def test_one_epoch(epoch_index, testing_loader, loss_fn, print_every=100):\n",
        "    running_loss = []\n",
        "\n",
        "\n",
        "    # Here, we use enumerate(training_loader) instead of\n",
        "    # iter(training_loader) so that we can track the batch\n",
        "    # index and do some intra-epoch reporting\n",
        "    for i, batch in enumerate(testing_loader):\n",
        "        # Every data instance is an input + label pair\n",
        "        inputs, lengths, labels=batch\n",
        "        inputs, labels=inputs.to(device).long(), labels.to(device).float()\n",
        "\n",
        "\n",
        "\n",
        "        # Make predictions for this batch\n",
        "        with torch.no_grad():\n",
        "          outputs = model(inputs, lengths)\n",
        "\n",
        "        # Compute the loss and its gradients\n",
        "        loss = loss_fn(outputs.reshape(-1), labels.reshape(-1))\n",
        "\n",
        "        # Gather data and report\n",
        "        running_loss.append(loss.item())\n",
        "        if i % print_every == (print_every-1):\n",
        "            last_loss = np.mean(running_loss) # loss per batch\n",
        "            print('Test epoch {} batch {} / {} loss: {}'.format(epoch_index, i + 1, len(testing_loader), last_loss))\n",
        "\n",
        "\n",
        "    return np.mean(running_loss)"
      ],
      "metadata": {
        "id": "33a4ulIE4IFO"
      },
      "id": "33a4ulIE4IFO",
      "execution_count": null,
      "outputs": []
    },
    {
      "cell_type": "code",
      "source": [],
      "metadata": {
        "id": "pT2WS3595tvf"
      },
      "id": "pT2WS3595tvf",
      "execution_count": null,
      "outputs": []
    },
    {
      "cell_type": "code",
      "execution_count": null,
      "id": "c0375317-2850-4ea3-98dd-3c83705ce120",
      "metadata": {
        "colab": {
          "base_uri": "https://localhost:8080/"
        },
        "id": "c0375317-2850-4ea3-98dd-3c83705ce120",
        "outputId": "7b986098-8625-4fd4-a7b8-582d0dddcaf8"
      },
      "outputs": [
        {
          "output_type": "stream",
          "name": "stdout",
          "text": [
            "Train 0  batch 100 / 782 loss: 0.6416792878508568\n",
            "Train 0  batch 200 / 782 loss: 0.5822418129444122\n",
            "Train 0  batch 300 / 782 loss: 0.5452302766839663\n",
            "Train 0  batch 400 / 782 loss: 0.5167510155588388\n",
            "Train 0  batch 500 / 782 loss: 0.4934422794878483\n",
            "Train 0  batch 600 / 782 loss: 0.4760333736240864\n",
            "Train 0  batch 700 / 782 loss: 0.4595988820280347\n",
            "Test epoch 0 batch 100 / 782 loss: 0.1881713183969259\n",
            "Test epoch 0 batch 200 / 782 loss: 0.18451315313577651\n",
            "Test epoch 0 batch 300 / 782 loss: 0.18785597026348114\n",
            "Test epoch 0 batch 400 / 782 loss: 0.19348619299009442\n",
            "Test epoch 0 batch 500 / 782 loss: 0.27770273126661776\n",
            "Test epoch 0 batch 600 / 782 loss: 0.3337167793139815\n",
            "Test epoch 0 batch 700 / 782 loss: 0.37746976840708935\n",
            "Train 1  batch 100 / 782 loss: 0.20145737785845996\n",
            "Train 1  batch 200 / 782 loss: 0.20464295823127032\n",
            "Train 1  batch 300 / 782 loss: 0.20620900765061378\n",
            "Train 1  batch 400 / 782 loss: 0.2084718249551952\n",
            "Train 1  batch 500 / 782 loss: 0.2109356636106968\n",
            "Train 1  batch 600 / 782 loss: 0.20847775877763827\n",
            "Train 1  batch 700 / 782 loss: 0.20748687624931336\n",
            "Test epoch 1 batch 100 / 782 loss: 0.5106727923452854\n",
            "Test epoch 1 batch 200 / 782 loss: 0.507845390662551\n",
            "Test epoch 1 batch 300 / 782 loss: 0.519294434885184\n",
            "Test epoch 1 batch 400 / 782 loss: 0.5034166124835611\n",
            "Test epoch 1 batch 500 / 782 loss: 0.44958827161043885\n",
            "Test epoch 1 batch 600 / 782 loss: 0.412880330880483\n",
            "Test epoch 1 batch 700 / 782 loss: 0.38725281413112367\n",
            "Train 2  batch 100 / 782 loss: 0.0793692811857909\n",
            "Train 2  batch 200 / 782 loss: 0.06939774547936395\n",
            "Train 2  batch 300 / 782 loss: 0.07236462039795394\n",
            "Train 2  batch 400 / 782 loss: 0.07112087602901739\n",
            "Train 2  batch 500 / 782 loss: 0.07338078127335756\n",
            "Train 2  batch 600 / 782 loss: 0.07280200468609109\n",
            "Train 2  batch 700 / 782 loss: 0.07333825478795916\n",
            "Test epoch 2 batch 100 / 782 loss: 0.5346395253390074\n",
            "Test epoch 2 batch 200 / 782 loss: 0.5318377139419317\n",
            "Test epoch 2 batch 300 / 782 loss: 0.5479592348138491\n",
            "Test epoch 2 batch 400 / 782 loss: 0.5334529640525579\n",
            "Test epoch 2 batch 500 / 782 loss: 0.5122033546492457\n",
            "Test epoch 2 batch 600 / 782 loss: 0.49481929414905607\n",
            "Test epoch 2 batch 700 / 782 loss: 0.4873181976989976\n",
            "Train 3  batch 100 / 782 loss: 0.016548815798014403\n",
            "Train 3  batch 200 / 782 loss: 0.017954553536255843\n",
            "Train 3  batch 300 / 782 loss: 0.02029761879122816\n",
            "Train 3  batch 400 / 782 loss: 0.021848012736445526\n",
            "Train 3  batch 500 / 782 loss: 0.02294486432627309\n",
            "Train 3  batch 600 / 782 loss: 0.023420805447676683\n",
            "Train 3  batch 700 / 782 loss: 0.02409394452489713\n",
            "Test epoch 3 batch 100 / 782 loss: 0.9294710314273834\n",
            "Test epoch 3 batch 200 / 782 loss: 0.9255106313526631\n",
            "Test epoch 3 batch 300 / 782 loss: 0.9433514964580536\n",
            "Test epoch 3 batch 400 / 782 loss: 0.9071458723791875\n",
            "Test epoch 3 batch 500 / 782 loss: 0.7870415109507739\n",
            "Test epoch 3 batch 600 / 782 loss: 0.703886128628316\n",
            "Test epoch 3 batch 700 / 782 loss: 0.6467793076911142\n",
            "Train 4  batch 100 / 782 loss: 0.012001048522943165\n",
            "Train 4  batch 200 / 782 loss: 0.014485430610147888\n",
            "Train 4  batch 300 / 782 loss: 0.014256335820294529\n",
            "Train 4  batch 400 / 782 loss: 0.016042036424041724\n",
            "Train 4  batch 500 / 782 loss: 0.019804604712000583\n",
            "Train 4  batch 600 / 782 loss: 0.01986424807696797\n",
            "Train 4  batch 700 / 782 loss: 0.019886850017646795\n",
            "Test epoch 4 batch 100 / 782 loss: 0.2879450507834554\n",
            "Test epoch 4 batch 200 / 782 loss: 0.2887092008627951\n",
            "Test epoch 4 batch 300 / 782 loss: 0.30513125701496996\n",
            "Test epoch 4 batch 400 / 782 loss: 0.30653950972482563\n",
            "Test epoch 4 batch 500 / 782 loss: 0.4311819427460432\n",
            "Test epoch 4 batch 600 / 782 loss: 0.5069256271794438\n",
            "Test epoch 4 batch 700 / 782 loss: 0.5697743712046317\n",
            "Train 5  batch 100 / 782 loss: 0.011803217379783746\n",
            "Train 5  batch 200 / 782 loss: 0.012261262969259406\n",
            "Train 5  batch 300 / 782 loss: 0.014709483577607898\n",
            "Train 5  batch 400 / 782 loss: 0.01731674538783409\n",
            "Train 5  batch 500 / 782 loss: 0.0178808699362271\n",
            "Train 5  batch 600 / 782 loss: 0.0177844876240124\n",
            "Train 5  batch 700 / 782 loss: 0.017100918658086033\n",
            "Test epoch 5 batch 100 / 782 loss: 0.8703387659043074\n",
            "Test epoch 5 batch 200 / 782 loss: 0.8664172565564513\n",
            "Test epoch 5 batch 300 / 782 loss: 0.8996508633345366\n",
            "Test epoch 5 batch 400 / 782 loss: 0.8672002595383674\n",
            "Test epoch 5 batch 500 / 782 loss: 0.8158944297358394\n",
            "Test epoch 5 batch 600 / 782 loss: 0.7814693008673688\n",
            "Test epoch 5 batch 700 / 782 loss: 0.7606412534681815\n",
            "Train 6  batch 100 / 782 loss: 0.0051158238695643374\n",
            "Train 6  batch 200 / 782 loss: 0.0060437120876304104\n",
            "Train 6  batch 300 / 782 loss: 0.00647581431857058\n",
            "Train 6  batch 400 / 782 loss: 0.006208068785717842\n",
            "Train 6  batch 500 / 782 loss: 0.006028193279904372\n",
            "Train 6  batch 600 / 782 loss: 0.008344959176016952\n",
            "Train 6  batch 700 / 782 loss: 0.009525963521518861\n",
            "Test epoch 6 batch 100 / 782 loss: 0.5828134975396096\n",
            "Test epoch 6 batch 200 / 782 loss: 0.5798155223298818\n",
            "Test epoch 6 batch 300 / 782 loss: 0.6174735005758702\n",
            "Test epoch 6 batch 400 / 782 loss: 0.6074977262644097\n",
            "Test epoch 6 batch 500 / 782 loss: 0.6831189484260977\n",
            "Test epoch 6 batch 600 / 782 loss: 0.7346207482833416\n",
            "Test epoch 6 batch 700 / 782 loss: 0.7755271754067923\n",
            "Train 7  batch 100 / 782 loss: 0.005931109295488568\n",
            "Train 7  batch 200 / 782 loss: 0.006331144119467353\n",
            "Train 7  batch 300 / 782 loss: 0.006427915638887498\n",
            "Train 7  batch 400 / 782 loss: 0.007133714059241356\n",
            "Train 7  batch 500 / 782 loss: 0.007281602114500857\n",
            "Train 7  batch 600 / 782 loss: 0.008099625546750151\n",
            "Train 7  batch 700 / 782 loss: 0.008295202608530547\n",
            "Test epoch 7 batch 100 / 782 loss: 0.7276388935744762\n",
            "Test epoch 7 batch 200 / 782 loss: 0.7123224638402462\n",
            "Test epoch 7 batch 300 / 782 loss: 0.738320154696703\n",
            "Test epoch 7 batch 400 / 782 loss: 0.7251548172207549\n",
            "Test epoch 7 batch 500 / 782 loss: 0.7945180674679577\n",
            "Test epoch 7 batch 600 / 782 loss: 0.8418059194367379\n",
            "Test epoch 7 batch 700 / 782 loss: 0.8807525878705617\n",
            "Train 8  batch 100 / 782 loss: 0.004989882767695235\n",
            "Train 8  batch 200 / 782 loss: 0.005880243520227851\n",
            "Train 8  batch 300 / 782 loss: 0.006245366801016038\n",
            "Train 8  batch 400 / 782 loss: 0.006883461421227821\n",
            "Train 8  batch 500 / 782 loss: 0.006446297988577499\n",
            "Train 8  batch 600 / 782 loss: 0.006361355863299043\n",
            "Train 8  batch 700 / 782 loss: 0.006096464831154143\n",
            "Test epoch 8 batch 100 / 782 loss: 0.48983510488644244\n",
            "Test epoch 8 batch 200 / 782 loss: 0.49422044042497876\n",
            "Test epoch 8 batch 300 / 782 loss: 0.5161874735355377\n",
            "Test epoch 8 batch 400 / 782 loss: 0.5206696697184816\n",
            "Test epoch 8 batch 500 / 782 loss: 0.7124918475039304\n",
            "Test epoch 8 batch 600 / 782 loss: 0.8303463362064213\n",
            "Test epoch 8 batch 700 / 782 loss: 0.9311672821135393\n",
            "Train 9  batch 100 / 782 loss: 0.0039729008293670634\n",
            "Train 9  batch 200 / 782 loss: 0.0039198200156351955\n",
            "Train 9  batch 300 / 782 loss: 0.004626475326530226\n",
            "Train 9  batch 400 / 782 loss: 0.006295113067712066\n",
            "Train 9  batch 500 / 782 loss: 0.006769315775304903\n",
            "Train 9  batch 600 / 782 loss: 0.007634758549765479\n",
            "Train 9  batch 700 / 782 loss: 0.008127670611265297\n",
            "Test epoch 9 batch 100 / 782 loss: 0.7777669502794743\n",
            "Test epoch 9 batch 200 / 782 loss: 0.763269541412592\n",
            "Test epoch 9 batch 300 / 782 loss: 0.793641371143361\n",
            "Test epoch 9 batch 400 / 782 loss: 0.7695031533204019\n",
            "Test epoch 9 batch 500 / 782 loss: 0.845605695143342\n",
            "Test epoch 9 batch 600 / 782 loss: 0.886868506881098\n",
            "Test epoch 9 batch 700 / 782 loss: 0.9302859866166754\n"
          ]
        }
      ],
      "source": [
        "from tqdm.notebook import tqdm\n",
        "\n",
        "best_test_loss=np.inf\n",
        "train_loss=[]\n",
        "test_loss=[]\n",
        "n_epochs=10\n",
        "for epoch in range(n_epochs):\n",
        "\n",
        "  model.train()\n",
        "\n",
        "  last_loss= train_one_epoch(epoch, train_dataloader, criterion)\n",
        "  train_loss.append(last_loss)\n",
        "\n",
        "  model.eval()\n",
        "  last_loss= test_one_epoch(epoch, test_dataloader, criterion)\n",
        "  test_loss.append(last_loss)\n",
        "  if last_loss < best_test_loss:\n",
        "    best_test_loss=last_loss\n",
        "    torch.save(model.state_dict(), 'best_model.pth')\n"
      ]
    },
    {
      "cell_type": "code",
      "source": [
        "plt.plot(train_loss, label='Train Loss')\n",
        "plt.plot(test_loss, label='Test Loss')\n",
        "plt.legend()"
      ],
      "metadata": {
        "colab": {
          "base_uri": "https://localhost:8080/",
          "height": 447
        },
        "id": "NIii8lXGExAn",
        "outputId": "40eb1293-4d61-49ab-bef0-2ada46930612"
      },
      "id": "NIii8lXGExAn",
      "execution_count": null,
      "outputs": [
        {
          "output_type": "execute_result",
          "data": {
            "text/plain": [
              "<matplotlib.legend.Legend at 0x7eb37a3ec710>"
            ]
          },
          "metadata": {},
          "execution_count": 31
        },
        {
          "output_type": "display_data",
          "data": {
            "text/plain": [
              "<Figure size 640x480 with 1 Axes>"
            ],
            "image/png": "[encoded data removed]"
          },
          "metadata": {}
        }
      ]
    },
    {
      "cell_type": "code",
      "source": [
        "model.load_state_dict(torch.load('best_model.pth'))"
      ],
      "metadata": {
        "colab": {
          "base_uri": "https://localhost:8080/"
        },
        "id": "VBibrgolEi4W",
        "outputId": "355428d0-3af6-427a-8c92-ab117b6e560f"
      },
      "id": "VBibrgolEi4W",
      "execution_count": null,
      "outputs": [
        {
          "output_type": "stream",
          "name": "stderr",
          "text": [
            "<ipython-input-32-97ca0473330f>:1: FutureWarning: You are using `torch.load` with `weights_only=False` (the current default value), which uses the default pickle module implicitly. It is possible to construct malicious pickle data which will execute arbitrary code during unpickling (See https://github.com/pytorch/pytorch/blob/main/SECURITY.md#untrusted-models for more details). In a future release, the default value for `weights_only` will be flipped to `True`. This limits the functions that could be executed during unpickling. Arbitrary objects will no longer be allowed to be loaded via this mode unless they are explicitly allowlisted by the user via `torch.serialization.add_safe_globals`. We recommend you start setting `weights_only=True` for any use case where you don't have full control of the loaded file. Please open an issue on GitHub for any issues related to this experimental feature.\n",
            "  model.load_state_dict(torch.load('best_model.pth'))\n"
          ]
        },
        {
          "output_type": "execute_result",
          "data": {
            "text/plain": [
              "<All keys matched successfully>"
            ]
          },
          "metadata": {},
          "execution_count": 32
        }
      ]
    },
    {
      "cell_type": "markdown",
      "id": "c9141e97-5eaa-492c-b54e-d2711f0a8e8d",
      "metadata": {
        "id": "c9141e97-5eaa-492c-b54e-d2711f0a8e8d"
      },
      "source": [
        "### Model Evaluation\n",
        "After training, we evaluate the model on the test dataset to measure its accuracy on unseen data."
      ]
    },
    {
      "cell_type": "code",
      "source": [
        "gt, preditions=[] , []\n",
        "for   batch in tqdm(test_dataloader):\n",
        "        # Every data instance is an input + label pair\n",
        "        inputs, lengths, labels=batch\n",
        "        inputs, labels=inputs.to(device).long(), labels\n",
        "\n",
        "\n",
        "\n",
        "        # Make predictions for this batch\n",
        "        with torch.no_grad():\n",
        "          outputs = (torch.sigmoid(model(inputs, lengths).reshape(-1))>=0.5).detach().cpu().numpy()\n",
        "\n",
        "        gt.extend(labels.numpy())\n",
        "        preditions.extend(outputs*1)"
      ],
      "metadata": {
        "colab": {
          "base_uri": "https://localhost:8080/",
          "height": 49,
          "referenced_widgets": [
            "80a89135f4794756a6979a284c8416d4",
            "b6cd0cb17640401fb40d883240c558db",
            "7f9d3512c3f247dca880139d06b1488c",
            "d1bde9801a644c0097bf7b24977d32f4",
            "036925fa4ec14f1e8a74752872a9d63c",
            "184a981ec2ff4fc4a9cddd0c15f357da",
            "0ab1f778c98549ec9a0232d0fb93446d",
            "33a438ce22c54be09b9fc099dbb81de8",
            "da5163d184194919af86df582f4c6ce7",
            "1af42655dc3844d6a64f42aadc375433",
            "b68c6c64cacd4d1488da40d3d3633384"
          ]
        },
        "id": "aJ8874E9Fk69",
        "outputId": "7a99d198-cec0-4535-cc0b-50d603fe9b4d"
      },
      "id": "aJ8874E9Fk69",
      "execution_count": null,
      "outputs": [
        {
          "output_type": "display_data",
          "data": {
            "text/plain": [
              "  0%|          | 0/782 [00:00<?, ?it/s]"
            ],
            "application/vnd.jupyter.widget-view+json": {
              "version_major": 2,
              "version_minor": 0,
              "model_id": "80a89135f4794756a6979a284c8416d4"
            }
          },
          "metadata": {}
        }
      ]
    },
    {
      "cell_type": "code",
      "source": [
        "gt, predition=np.array(gt), np.array(preditions)"
      ],
      "metadata": {
        "id": "_6nu2ZbzGbAk"
      },
      "id": "_6nu2ZbzGbAk",
      "execution_count": null,
      "outputs": []
    },
    {
      "cell_type": "code",
      "source": [
        "from sklearn.metrics import confusion_matrix"
      ],
      "metadata": {
        "id": "hiBospxmGNx6"
      },
      "id": "hiBospxmGNx6",
      "execution_count": null,
      "outputs": []
    },
    {
      "cell_type": "code",
      "source": [
        "confusion_matrix(gt,predition )"
      ],
      "metadata": {
        "colab": {
          "base_uri": "https://localhost:8080/"
        },
        "id": "N6TSablqGgfa",
        "outputId": "2ca0e185-7041-4120-835e-24a9bd0b716e"
      },
      "id": "N6TSablqGgfa",
      "execution_count": null,
      "outputs": [
        {
          "output_type": "execute_result",
          "data": {
            "text/plain": [
              "array([[ 9739,  2761],\n",
              "       [ 1157, 11343]])"
            ]
          },
          "metadata": {},
          "execution_count": 36
        }
      ]
    },
    {
      "cell_type": "code",
      "source": [
        "from sklearn.metrics import classification_report\n",
        "print(classification_report(gt, predition, target_names=['Pos','Neg']))"
      ],
      "metadata": {
        "colab": {
          "base_uri": "https://localhost:8080/"
        },
        "id": "EP-0P-CiGqgW",
        "outputId": "f5624c09-7be5-41af-cd9f-ec3d45ce2e5f"
      },
      "id": "EP-0P-CiGqgW",
      "execution_count": null,
      "outputs": [
        {
          "output_type": "stream",
          "name": "stdout",
          "text": [
            "              precision    recall  f1-score   support\n",
            "\n",
            "         Pos       0.89      0.78      0.83     12500\n",
            "         Neg       0.80      0.91      0.85     12500\n",
            "\n",
            "    accuracy                           0.84     25000\n",
            "   macro avg       0.85      0.84      0.84     25000\n",
            "weighted avg       0.85      0.84      0.84     25000\n",
            "\n"
          ]
        }
      ]
    }
  ],
  "metadata": {
    "kernelspec": {
      "display_name": "Python [conda env:base] *",
      "language": "python",
      "name": "conda-base-py"
    },
    "language_info": {
      "codemirror_mode": {
        "name": "ipython",
        "version": 3
      },
      "file_extension": ".py",
      "mimetype": "text/x-python",
      "name": "python",
      "nbconvert_exporter": "python",
      "pygments_lexer": "ipython3",
      "version": "3.12.2"
    },
    "colab": {
      "provenance": [],
      "gpuType": "T4"
    },
    "accelerator": "GPU",
    "widgets": {
      "application/vnd.jupyter.widget-state+json": {
        "80a89135f4794756a6979a284c8416d4": {
          "model_module": "@jupyter-widgets/controls",
          "model_name": "HBoxModel",
          "model_module_version": "1.5.0",
          "state": {
            "_dom_classes": [],
            "_model_module": "@jupyter-widgets/controls",
            "_model_module_version": "1.5.0",
            "_model_name": "HBoxModel",
            "_view_count": null,
            "_view_module": "@jupyter-widgets/controls",
            "_view_module_version": "1.5.0",
            "_view_name": "HBoxView",
            "box_style": "",
            "children": [
              "IPY_MODEL_b6cd0cb17640401fb40d883240c558db",
              "IPY_MODEL_7f9d3512c3f247dca880139d06b1488c",
              "IPY_MODEL_d1bde9801a644c0097bf7b24977d32f4"
            ],
            "layout": "IPY_MODEL_036925fa4ec14f1e8a74752872a9d63c"
          }
        },
        "b6cd0cb17640401fb40d883240c558db": {
          "model_module": "@jupyter-widgets/controls",
          "model_name": "HTMLModel",
          "model_module_version": "1.5.0",
          "state": {
            "_dom_classes": [],
            "_model_module": "@jupyter-widgets/controls",
            "_model_module_version": "1.5.0",
            "_model_name": "HTMLModel",
            "_view_count": null,
            "_view_module": "@jupyter-widgets/controls",
            "_view_module_version": "1.5.0",
            "_view_name": "HTMLView",
            "description": "",
            "description_tooltip": null,
            "layout": "IPY_MODEL_184a981ec2ff4fc4a9cddd0c15f357da",
            "placeholder": "​",
            "style": "IPY_MODEL_0ab1f778c98549ec9a0232d0fb93446d",
            "value": "100%"
          }
        },
        "7f9d3512c3f247dca880139d06b1488c": {
          "model_module": "@jupyter-widgets/controls",
          "model_name": "FloatProgressModel",
          "model_module_version": "1.5.0",
          "state": {
            "_dom_classes": [],
            "_model_module": "@jupyter-widgets/controls",
            "_model_module_version": "1.5.0",
            "_model_name": "FloatProgressModel",
            "_view_count": null,
            "_view_module": "@jupyter-widgets/controls",
            "_view_module_version": "1.5.0",
            "_view_name": "ProgressView",
            "bar_style": "success",
            "description": "",
            "description_tooltip": null,
            "layout": "IPY_MODEL_33a438ce22c54be09b9fc099dbb81de8",
            "max": 782,
            "min": 0,
            "orientation": "horizontal",
            "style": "IPY_MODEL_da5163d184194919af86df582f4c6ce7",
            "value": 782
          }
        },
        "d1bde9801a644c0097bf7b24977d32f4": {
          "model_module": "@jupyter-widgets/controls",
          "model_name": "HTMLModel",
          "model_module_version": "1.5.0",
          "state": {
            "_dom_classes": [],
            "_model_module": "@jupyter-widgets/controls",
            "_model_module_version": "1.5.0",
            "_model_name": "HTMLModel",
            "_view_count": null,
            "_view_module": "@jupyter-widgets/controls",
            "_view_module_version": "1.5.0",
            "_view_name": "HTMLView",
            "description": "",
            "description_tooltip": null,
            "layout": "IPY_MODEL_1af42655dc3844d6a64f42aadc375433",
            "placeholder": "​",
            "style": "IPY_MODEL_b68c6c64cacd4d1488da40d3d3633384",
            "value": " 782/782 [00:16&lt;00:00, 49.00it/s]"
          }
        },
        "036925fa4ec14f1e8a74752872a9d63c": {
          "model_module": "@jupyter-widgets/base",
          "model_name": "LayoutModel",
          "model_module_version": "1.2.0",
          "state": {
            "_model_module": "@jupyter-widgets/base",
            "_model_module_version": "1.2.0",
            "_model_name": "LayoutModel",
            "_view_count": null,
            "_view_module": "@jupyter-widgets/base",
            "_view_module_version": "1.2.0",
            "_view_name": "LayoutView",
            "align_content": null,
            "align_items": null,
            "align_self": null,
            "border": null,
            "bottom": null,
            "display": null,
            "flex": null,
            "flex_flow": null,
            "grid_area": null,
            "grid_auto_columns": null,
            "grid_auto_flow": null,
            "grid_auto_rows": null,
            "grid_column": null,
            "grid_gap": null,
            "grid_row": null,
            "grid_template_areas": null,
            "grid_template_columns": null,
            "grid_template_rows": null,
            "height": null,
            "justify_content": null,
            "justify_items": null,
            "left": null,
            "margin": null,
            "max_height": null,
            "max_width": null,
            "min_height": null,
            "min_width": null,
            "object_fit": null,
            "object_position": null,
            "order": null,
            "overflow": null,
            "overflow_x": null,
            "overflow_y": null,
            "padding": null,
            "right": null,
            "top": null,
            "visibility": null,
            "width": null
          }
        },
        "184a981ec2ff4fc4a9cddd0c15f357da": {
          "model_module": "@jupyter-widgets/base",
          "model_name": "LayoutModel",
          "model_module_version": "1.2.0",
          "state": {
            "_model_module": "@jupyter-widgets/base",
            "_model_module_version": "1.2.0",
            "_model_name": "LayoutModel",
            "_view_count": null,
            "_view_module": "@jupyter-widgets/base",
            "_view_module_version": "1.2.0",
            "_view_name": "LayoutView",
            "align_content": null,
            "align_items": null,
            "align_self": null,
            "border": null,
            "bottom": null,
            "display": null,
            "flex": null,
            "flex_flow": null,
            "grid_area": null,
            "grid_auto_columns": null,
            "grid_auto_flow": null,
            "grid_auto_rows": null,
            "grid_column": null,
            "grid_gap": null,
            "grid_row": null,
            "grid_template_areas": null,
            "grid_template_columns": null,
            "grid_template_rows": null,
            "height": null,
            "justify_content": null,
            "justify_items": null,
            "left": null,
            "margin": null,
            "max_height": null,
            "max_width": null,
            "min_height": null,
            "min_width": null,
            "object_fit": null,
            "object_position": null,
            "order": null,
            "overflow": null,
            "overflow_x": null,
            "overflow_y": null,
            "padding": null,
            "right": null,
            "top": null,
            "visibility": null,
            "width": null
          }
        },
        "0ab1f778c98549ec9a0232d0fb93446d": {
          "model_module": "@jupyter-widgets/controls",
          "model_name": "DescriptionStyleModel",
          "model_module_version": "1.5.0",
          "state": {
            "_model_module": "@jupyter-widgets/controls",
            "_model_module_version": "1.5.0",
            "_model_name": "DescriptionStyleModel",
            "_view_count": null,
            "_view_module": "@jupyter-widgets/base",
            "_view_module_version": "1.2.0",
            "_view_name": "StyleView",
            "description_width": ""
          }
        },
        "33a438ce22c54be09b9fc099dbb81de8": {
          "model_module": "@jupyter-widgets/base",
          "model_name": "LayoutModel",
          "model_module_version": "1.2.0",
          "state": {
            "_model_module": "@jupyter-widgets/base",
            "_model_module_version": "1.2.0",
            "_model_name": "LayoutModel",
            "_view_count": null,
            "_view_module": "@jupyter-widgets/base",
            "_view_module_version": "1.2.0",
            "_view_name": "LayoutView",
            "align_content": null,
            "align_items": null,
            "align_self": null,
            "border": null,
            "bottom": null,
            "display": null,
            "flex": null,
            "flex_flow": null,
            "grid_area": null,
            "grid_auto_columns": null,
            "grid_auto_flow": null,
            "grid_auto_rows": null,
            "grid_column": null,
            "grid_gap": null,
            "grid_row": null,
            "grid_template_areas": null,
            "grid_template_columns": null,
            "grid_template_rows": null,
            "height": null,
            "justify_content": null,
            "justify_items": null,
            "left": null,
            "margin": null,
            "max_height": null,
            "max_width": null,
            "min_height": null,
            "min_width": null,
            "object_fit": null,
            "object_position": null,
            "order": null,
            "overflow": null,
            "overflow_x": null,
            "overflow_y": null,
            "padding": null,
            "right": null,
            "top": null,
            "visibility": null,
            "width": null
          }
        },
        "da5163d184194919af86df582f4c6ce7": {
          "model_module": "@jupyter-widgets/controls",
          "model_name": "ProgressStyleModel",
          "model_module_version": "1.5.0",
          "state": {
            "_model_module": "@jupyter-widgets/controls",
            "_model_module_version": "1.5.0",
            "_model_name": "ProgressStyleModel",
            "_view_count": null,
            "_view_module": "@jupyter-widgets/base",
            "_view_module_version": "1.2.0",
            "_view_name": "StyleView",
            "bar_color": null,
            "description_width": ""
          }
        },
        "1af42655dc3844d6a64f42aadc375433": {
          "model_module": "@jupyter-widgets/base",
          "model_name": "LayoutModel",
          "model_module_version": "1.2.0",
          "state": {
            "_model_module": "@jupyter-widgets/base",
            "_model_module_version": "1.2.0",
            "_model_name": "LayoutModel",
            "_view_count": null,
            "_view_module": "@jupyter-widgets/base",
            "_view_module_version": "1.2.0",
            "_view_name": "LayoutView",
            "align_content": null,
            "align_items": null,
            "align_self": null,
            "border": null,
            "bottom": null,
            "display": null,
            "flex": null,
            "flex_flow": null,
            "grid_area": null,
            "grid_auto_columns": null,
            "grid_auto_flow": null,
            "grid_auto_rows": null,
            "grid_column": null,
            "grid_gap": null,
            "grid_row": null,
            "grid_template_areas": null,
            "grid_template_columns": null,
            "grid_template_rows": null,
            "height": null,
            "justify_content": null,
            "justify_items": null,
            "left": null,
            "margin": null,
            "max_height": null,
            "max_width": null,
            "min_height": null,
            "min_width": null,
            "object_fit": null,
            "object_position": null,
            "order": null,
            "overflow": null,
            "overflow_x": null,
            "overflow_y": null,
            "padding": null,
            "right": null,
            "top": null,
            "visibility": null,
            "width": null
          }
        },
        "b68c6c64cacd4d1488da40d3d3633384": {
          "model_module": "@jupyter-widgets/controls",
          "model_name": "DescriptionStyleModel",
          "model_module_version": "1.5.0",
          "state": {
            "_model_module": "@jupyter-widgets/controls",
            "_model_module_version": "1.5.0",
            "_model_name": "DescriptionStyleModel",
            "_view_count": null,
            "_view_module": "@jupyter-widgets/base",
            "_view_module_version": "1.2.0",
            "_view_name": "StyleView",
            "description_width": ""
          }
        }
      }
    }
  },
  "nbformat": 4,
  "nbformat_minor": 5
}